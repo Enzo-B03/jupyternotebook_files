{
 "cells": [
  {
   "cell_type": "code",
   "execution_count": 1,
   "metadata": {},
   "outputs": [],
   "source": [
    "#import libraries\n",
    "import pandas as pd\n",
    "import numpy as np\n",
    "import matplotlib.pyplot as plt\n",
    "%matplotlib inline\n",
    "from dateutil.parser import parse\n",
    "from itertools import compress\n",
    "from collections import OrderedDict\n",
    "from datetime import date\n",
    "import datetime\n",
    "import re\n",
    "from datetime import timedelta\n",
    "import openpyxl\n",
    "from sklearn.metrics import mean_squared_error\n",
    "import plotly.express as px\n",
    "\n",
    "import os\n",
    "import re"
   ]
  },
  {
   "cell_type": "code",
   "execution_count": 2,
   "metadata": {},
   "outputs": [],
   "source": [
    "df_PI_zndrop_proj = pd.read_excel(r'C:\\Users\\v.t.flores\\Documents\\ZnDrop_Project_Pi_DeZn_values.xlsx')"
   ]
  },
  {
   "cell_type": "code",
   "execution_count": 3,
   "metadata": {},
   "outputs": [
    {
     "data": {
      "text/html": [
       "<div>\n",
       "<style scoped>\n",
       "    .dataframe tbody tr th:only-of-type {\n",
       "        vertical-align: middle;\n",
       "    }\n",
       "\n",
       "    .dataframe tbody tr th {\n",
       "        vertical-align: top;\n",
       "    }\n",
       "\n",
       "    .dataframe thead th {\n",
       "        text-align: right;\n",
       "    }\n",
       "</style>\n",
       "<table border=\"1\" class=\"dataframe\">\n",
       "  <thead>\n",
       "    <tr style=\"text-align: right;\">\n",
       "      <th></th>\n",
       "      <th>DATETIME</th>\n",
       "      <th>DeZn_Feed_Flow</th>\n",
       "      <th>DeZn_Feed_T</th>\n",
       "      <th>H2S_FT_TK01_A</th>\n",
       "      <th>H2S_FT_TK01_B</th>\n",
       "      <th>H2S_FT_TK02_A</th>\n",
       "      <th>H2S_FT_TK02_B</th>\n",
       "      <th>DeZn_Seed_Flow</th>\n",
       "      <th>DeZn_TK05_T</th>\n",
       "    </tr>\n",
       "  </thead>\n",
       "  <tbody>\n",
       "    <tr>\n",
       "      <td>0</td>\n",
       "      <td>NaT</td>\n",
       "      <td>\\\\THPAL-PI\\104FI006A@PV</td>\n",
       "      <td>\\\\THPAL-PI\\104TIC021@PV</td>\n",
       "      <td>\\\\THPAL-PI\\105FIC002A@PV</td>\n",
       "      <td>\\\\THPAL-PI\\105FIC002B@PV</td>\n",
       "      <td>\\\\THPAL-PI\\105FIC003A@PV</td>\n",
       "      <td>\\\\THPAL-PI\\105FIC003B@PV</td>\n",
       "      <td>\\\\THPAL-PI\\105FT047@PV</td>\n",
       "      <td>\\\\THPAL-PI\\105TIC001@PV</td>\n",
       "    </tr>\n",
       "    <tr>\n",
       "      <td>1</td>\n",
       "      <td>2017-01-01 00:00:00</td>\n",
       "      <td>1160</td>\n",
       "      <td>56.1893</td>\n",
       "      <td>28.2592</td>\n",
       "      <td>7.6035</td>\n",
       "      <td>65.2768</td>\n",
       "      <td>0</td>\n",
       "      <td>1.70006</td>\n",
       "      <td>67.2727</td>\n",
       "    </tr>\n",
       "    <tr>\n",
       "      <td>2</td>\n",
       "      <td>2017-01-01 01:00:00</td>\n",
       "      <td>1205.73</td>\n",
       "      <td>56.1107</td>\n",
       "      <td>28.1092</td>\n",
       "      <td>7.40175</td>\n",
       "      <td>65.2027</td>\n",
       "      <td>0</td>\n",
       "      <td>3.04233</td>\n",
       "      <td>67.3613</td>\n",
       "    </tr>\n",
       "    <tr>\n",
       "      <td>3</td>\n",
       "      <td>2017-01-01 02:00:00</td>\n",
       "      <td>1275.56</td>\n",
       "      <td>56.1082</td>\n",
       "      <td>28.6807</td>\n",
       "      <td>7.41975</td>\n",
       "      <td>66.8242</td>\n",
       "      <td>0</td>\n",
       "      <td>5.53797</td>\n",
       "      <td>67.2127</td>\n",
       "    </tr>\n",
       "    <tr>\n",
       "      <td>4</td>\n",
       "      <td>2017-01-01 03:00:00</td>\n",
       "      <td>1301.96</td>\n",
       "      <td>56.2543</td>\n",
       "      <td>29.1127</td>\n",
       "      <td>7.4085</td>\n",
       "      <td>68.1018</td>\n",
       "      <td>0</td>\n",
       "      <td>6.09117</td>\n",
       "      <td>66.9313</td>\n",
       "    </tr>\n",
       "  </tbody>\n",
       "</table>\n",
       "</div>"
      ],
      "text/plain": [
       "             DATETIME           DeZn_Feed_Flow              DeZn_Feed_T  \\\n",
       "0                 NaT  \\\\THPAL-PI\\104FI006A@PV  \\\\THPAL-PI\\104TIC021@PV   \n",
       "1 2017-01-01 00:00:00                     1160                  56.1893   \n",
       "2 2017-01-01 01:00:00                  1205.73                  56.1107   \n",
       "3 2017-01-01 02:00:00                  1275.56                  56.1082   \n",
       "4 2017-01-01 03:00:00                  1301.96                  56.2543   \n",
       "\n",
       "              H2S_FT_TK01_A             H2S_FT_TK01_B  \\\n",
       "0  \\\\THPAL-PI\\105FIC002A@PV  \\\\THPAL-PI\\105FIC002B@PV   \n",
       "1                   28.2592                    7.6035   \n",
       "2                   28.1092                   7.40175   \n",
       "3                   28.6807                   7.41975   \n",
       "4                   29.1127                    7.4085   \n",
       "\n",
       "              H2S_FT_TK02_A             H2S_FT_TK02_B          DeZn_Seed_Flow  \\\n",
       "0  \\\\THPAL-PI\\105FIC003A@PV  \\\\THPAL-PI\\105FIC003B@PV  \\\\THPAL-PI\\105FT047@PV   \n",
       "1                   65.2768                         0                 1.70006   \n",
       "2                   65.2027                         0                 3.04233   \n",
       "3                   66.8242                         0                 5.53797   \n",
       "4                   68.1018                         0                 6.09117   \n",
       "\n",
       "               DeZn_TK05_T  \n",
       "0  \\\\THPAL-PI\\105TIC001@PV  \n",
       "1                  67.2727  \n",
       "2                  67.3613  \n",
       "3                  67.2127  \n",
       "4                  66.9313  "
      ]
     },
     "execution_count": 3,
     "metadata": {},
     "output_type": "execute_result"
    }
   ],
   "source": [
    "df_PI_zndrop_proj.head()"
   ]
  },
  {
   "cell_type": "code",
   "execution_count": 5,
   "metadata": {},
   "outputs": [],
   "source": [
    "df_PI_zndrop_proj_1 = df_PI_zndrop_proj.drop(df_PI_zndrop_proj.index[0], axis=0)"
   ]
  },
  {
   "cell_type": "code",
   "execution_count": 7,
   "metadata": {},
   "outputs": [],
   "source": [
    "df_PI_zndrop_proj_2 = df_PI_zndrop_proj_1.set_index('DATETIME')"
   ]
  },
  {
   "cell_type": "code",
   "execution_count": 11,
   "metadata": {},
   "outputs": [],
   "source": [
    "#Convert each column to numeric to handle nan values and other comments like 'No data...'. Convering to numeric\n",
    "#------ converts them into a NaN value that pandas understands.\n",
    "for i in df_PI_zndrop_proj_2.columns:\n",
    "    df_PI_zndrop_proj_2[i] = pd.to_numeric(df_PI_zndrop_proj_2[i], errors='coerce')"
   ]
  },
  {
   "cell_type": "code",
   "execution_count": 13,
   "metadata": {},
   "outputs": [],
   "source": [
    "#Creating a column for the correct H2S flowrate\n",
    "df_PI_zndrop_proj_2['H2S_tk01'] = np.where(df_PI_zndrop_proj_2['H2S_FT_TK01_A']>df_PI_zndrop_proj_2['H2S_FT_TK01_B'],\\\n",
    "                                    df_PI_zndrop_proj_2['H2S_FT_TK01_A'], df_PI_zndrop_proj_2['H2S_FT_TK01_B'])\n",
    "\n",
    "df_PI_zndrop_proj_2['H2S_tk02'] = np.where(df_PI_zndrop_proj_2['H2S_FT_TK02_A']>df_PI_zndrop_proj_2['H2S_FT_TK02_B'],\\\n",
    "                                    df_PI_zndrop_proj_2['H2S_FT_TK02_A'], df_PI_zndrop_proj_2['H2S_FT_TK02_B'])"
   ]
  },
  {
   "cell_type": "code",
   "execution_count": null,
   "metadata": {},
   "outputs": [],
   "source": []
  }
 ],
 "metadata": {
  "kernelspec": {
   "display_name": "Python 3",
   "language": "python",
   "name": "python3"
  },
  "language_info": {
   "codemirror_mode": {
    "name": "ipython",
    "version": 3
   },
   "file_extension": ".py",
   "mimetype": "text/x-python",
   "name": "python",
   "nbconvert_exporter": "python",
   "pygments_lexer": "ipython3",
   "version": "3.7.4"
  }
 },
 "nbformat": 4,
 "nbformat_minor": 2
}
