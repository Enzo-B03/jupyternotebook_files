{
 "cells": [
  {
   "cell_type": "code",
   "execution_count": 1,
   "metadata": {},
   "outputs": [],
   "source": [
    "#import libraries\n",
    "import pandas as pd\n",
    "import numpy as np\n",
    "import matplotlib.pyplot as plt\n",
    "%matplotlib inline\n",
    "from dateutil.parser import parse\n",
    "from itertools import compress\n",
    "from collections import OrderedDict\n",
    "from datetime import date\n",
    "import datetime\n",
    "import re\n",
    "from datetime import timedelta\n",
    "import openpyxl\n",
    "from sklearn.metrics import mean_squared_error\n",
    "import plotly.express as px"
   ]
  },
  {
   "cell_type": "code",
   "execution_count": 2,
   "metadata": {},
   "outputs": [],
   "source": [
    "import openpyxl\n",
    "import os\n",
    "import re\n",
    "from datetime import date\n",
    "import datetime"
   ]
  },
  {
   "cell_type": "code",
   "execution_count": 3,
   "metadata": {},
   "outputs": [],
   "source": [
    "filepath_TO = r'\\\\THGOBNA002\\thpal\\05 Production\\302 Management - Report\\TNH-302-101 Shift Turnover (THPAL)\\Production Daily Report\\Process B\\2020\\07 July\\000 Shift Turnover'"
   ]
  },
  {
   "cell_type": "code",
   "execution_count": 26,
   "metadata": {},
   "outputs": [],
   "source": [
    "columns = ['I','J']\n",
    "def find_specific_cellMech(theFile, sheetname, keyword, filename):\n",
    "    for row in range(4, 21):\n",
    "        for column in columns:  # Here you can add or reduce the columns\n",
    "            cell_name = \"{}{}\".format(column, row)\n",
    "            #regex block. cellkeywords_regex contains the rules on which characters to match.\n",
    "            #------------ keyword contains the word in string that we want to find in the excel file\n",
    "            #------------ cellvalue contains the word in string from the cell in the excel file\n",
    "            #------------ keywordLike is a list of all the individual character that matches the rules set in cellkeywords_regex\n",
    "            #------------ newpumplike is the resulting string from the combined characters of keywordLike\n",
    "            \n",
    "            cellkeywords_regex = re.compile(r'[0-5fputFTPU]', re.IGNORECASE| re.VERBOSE|re.DOTALL)\n",
    "            keyword = keyword\n",
    "            cell_value = str(theFile[sheetname][cell_name].value)\n",
    "            keywordLike = cellkeywords_regex.findall(cell_value)\n",
    "            newpumpLike = ''.join(keywordLike)\n",
    "            if keyword in newpumpLike:\n",
    "                print(\"{} : {} has value {}\".format(filename, cell_name, theFile[sheetname][cell_name].value))\n",
    "            \n",
    "def find_IN_xlsx_files(filepathfolder):\n",
    "    #filepath is the folder where we will do the search. example r'D:\\Data Science Training\\spreadsheets'\n",
    "    #keywordtoFind is the string regex pattern of the word we want to find\n",
    "    for root, dirs, files in os.walk(filepathfolder): #input the folder filepath here\n",
    "        for filename in files:\n",
    "            try:\n",
    "                if filename.endswith('.xlsx') or filename.endswith('.xlsm'): #if statement checking if the file type is excel\n",
    "                    #print (os.path.join(root, filename))\n",
    "                    theFile = openpyxl.load_workbook(os.path.join(root, filename), read_only=True) \n",
    "                    #os.path.join(root, filename) means the complete path to the file including the excel file\n",
    "                    #-------------------------------------------------allSheetNames = theFile.sheetnames\n",
    "                    #print(str(filename))\n",
    "                    #-------------------------------------------------for sheetName in theFile.sheetnames:\n",
    "                    find_specific_cellMech(theFile, 'MS', '105PU01', filename)\n",
    "                    #print(\"All sheet names {} \" .format(theFile.sheetnames))\n",
    "            except:\n",
    "                print('Error found')\n",
    "                pass"
   ]
  },
  {
   "cell_type": "code",
   "execution_count": 27,
   "metadata": {},
   "outputs": [
    {
     "name": "stdout",
     "output_type": "stream",
     "text": [
      "2020-08-03 11:31:37.033047\n",
      "June 15, 2020.xlsx : I8 has value Continue rectification of pointed items for MsDezn sasmpling boxes,for 105PU01A-F conducted cutting of SS plate for base plate and will be installed between ground and sampling box base plate gaps,also for 106PU28&29 area conducted we rectified the deformed rods on sampling windows,this is still on-progress\n",
      "June 17, 2020.xlsx : I7 has value Conducted acid lining activity to 106PU28&29AB sampling box vent lines stanchion supports 6PCS,completed 1st and 2nd also at 106PU04AB 2pcs stanchion and at 105PU01A-F,activity still on-progress aand subject for final coating\n",
      "June 27, 2020.xlsx : I5 has value Around 1000H,conducted scaffolding erection for lifting frame of 105PU01D due to unavailability of crane, scaffolding activity finished at around 1330H. Conducted installation of reconditioned spare with new sets of O-rings, then installation of impeller and cover plate. Conducted reinstatement of seal water line and intiated leak test with seal pressure of 650kpag,so far no leak was found. Conducted reinstatement of suction reducer and leak test with discharge pressure of 300kpag, so far no leak. Handed over to production.\n",
      "June 4, 2020.xlsx : I9 has value 1.) completed rectification of hard to actuate 4\" UPVC butterfly of sampling box near 105PU01G\n",
      "2.) completed replacement of damage rubber gasket 1 1/2\" connected to sampling box near 105PU01D\n",
      "3.) On-going rectification of sampling box lock due to hard to operate manually\n",
      "Error found\n",
      "Error found\n",
      "Error found\n",
      "2020-08-03 11:31:47.376482\n"
     ]
    }
   ],
   "source": [
    "print(datetime.datetime.now())\n",
    "find_IN_xlsx_files(filepath_TO)\n",
    "print(datetime.datetime.now())"
   ]
  },
  {
   "cell_type": "code",
   "execution_count": null,
   "metadata": {},
   "outputs": [],
   "source": []
  }
 ],
 "metadata": {
  "kernelspec": {
   "display_name": "Python 3",
   "language": "python",
   "name": "python3"
  },
  "language_info": {
   "codemirror_mode": {
    "name": "ipython",
    "version": 3
   },
   "file_extension": ".py",
   "mimetype": "text/x-python",
   "name": "python",
   "nbconvert_exporter": "python",
   "pygments_lexer": "ipython3",
   "version": "3.7.4"
  }
 },
 "nbformat": 4,
 "nbformat_minor": 2
}
