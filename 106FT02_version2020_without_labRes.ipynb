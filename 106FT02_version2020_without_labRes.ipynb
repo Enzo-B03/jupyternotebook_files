{
 "cells": [
  {
   "cell_type": "markdown",
   "metadata": {},
   "source": [
    "# IMPORT THE LIBRARIES"
   ]
  },
  {
   "cell_type": "code",
   "execution_count": 198,
   "metadata": {},
   "outputs": [],
   "source": [
    "#exc1\n",
    "import pandas as pd\n",
    "import numpy as np\n",
    "import matplotlib.pyplot as plt\n",
    "%matplotlib inline\n",
    "from dateutil.parser import parse\n",
    "from itertools import compress\n",
    "from collections import OrderedDict\n",
    "from datetime import date\n",
    "import datetime\n",
    "from datetime import timedelta\n",
    "import re"
   ]
  },
  {
   "cell_type": "markdown",
   "metadata": {},
   "source": [
    "# LOAD THE PI DATA and LABORATORY ANALYSIS RESULTS"
   ]
  },
  {
   "cell_type": "code",
   "execution_count": 199,
   "metadata": {},
   "outputs": [],
   "source": [
    "#Sheet From Pi\n",
    "#Step1: Load the Data for the month\n",
    "df_Pi = pd.read_excel(r'C:\\Users\\v.t.flores\\Documents\\Pressure Filter Inv_2020_PF_stagecheck.xlsx', sheet_name='PiData_PressureFilter', index_col=False)\n",
    "\n",
    "#Drop the row[1]\n",
    "df_Pi = df_Pi.drop(df_Pi.index[0])\n",
    "\n",
    "#Step2: Parse the DATETIME column\n",
    "df_Pi['DATETIME'] = df_Pi['DATETIME'].apply(lambda x: parse(str(x)))\n",
    "\n",
    "df_Pi.set_index('DATETIME', inplace=True)\n",
    "df_comb = df_Pi"
   ]
  },
  {
   "cell_type": "code",
   "execution_count": 235,
   "metadata": {},
   "outputs": [],
   "source": [
    "def getTheLocalMinMaxRev(df_col1, df_col2):\n",
    "    df_col1 = pd.to_numeric(df_col1, errors='coerce')\n",
    "    b = (np.diff(np.sign(np.diff(df_col1))) > 0).nonzero()[0] + 1         # local min\n",
    "    #Variable b contains the list of indices for where there are minimum values detected from the rows\n",
    "    \n",
    "    df_col2 = pd.to_numeric(df_col2, errors='coerce')\n",
    "    f = (np.diff(np.sign(np.diff(df_col2))) < 0).nonzero()[0] + 1         # local max\n",
    "    \n",
    "    #Variable f contains the list of indices for where there are maximum values detected from the rows\n",
    "    \n",
    "    try:\n",
    "        ft_cyc_lim = {}\n",
    "        for i in range(0, len(b)):\n",
    "            for j in range(0, len(f)):\n",
    "                if b[i] < f[j]:\n",
    "                    cyc_start = b[i]\n",
    "                    cyc_end = f[j]\n",
    "                    ft_cyc_lim.setdefault(cyc_start,cyc_end) #The ft_cyc_lim is the dictionary of the local min, max pair\n",
    "                    pass\n",
    "    except IndexError:\n",
    "        print('IndexError')\n",
    "    return ft_cyc_lim\n",
    "\n",
    "\n"
   ]
  },
  {
   "cell_type": "code",
   "execution_count": 236,
   "metadata": {},
   "outputs": [],
   "source": [
    "def generate_DF(df, str_colname, dictParameter):\n",
    "    # Prepare the df_coltitle as df_comb['filtration']\n",
    "    #-------------str_colname as 'A_t_feed'\n",
    "    #-------------dict_FT as the dictionary containing the local min and local max filtration time indices\n",
    "    #---the key is the local mininmum filtration time\n",
    "    #---the key element is the local maximum filtration time which signifies the end of the filtration time\n",
    "    \n",
    "    A_Filt_MaxList= list()\n",
    "    A_Filt_MaxList[:] = []\n",
    "    A_feedt_Val_List = list()\n",
    "    A_feedt_Val_List[:] = []\n",
    "    A_feedt_index_List = list()\n",
    "    A_feedt_index_List[:] = []\n",
    "    A_Pair_Filt_List = list()\n",
    "    A_Pair_Filt_List[:] = []\n",
    "    try:\n",
    "        for i in dictParameter.keys():\n",
    "            A_feedt = df[str_colname][dictParameter[i]]\n",
    "            A_feedt_Val_List.append(A_feedt)\n",
    "            A_feedt_index_List.append(df.index[dictParameter[i]])\n",
    "        A_Pair_Filt_List = list(zip(A_feedt_Val_List, A_feedt_index_List[0:]))\n",
    "    except:\n",
    "        pass\n",
    "    df_A_Pair_Filt_t = pd.DataFrame(A_Pair_Filt_List)\n",
    "    \n",
    "    df_A_Pair_Filt_t.columns = [str_colname, 'DATETIME']\n",
    "    df_A_Pair_Filt_t.set_index('DATETIME', inplace=True)  \n",
    "    return df_A_Pair_Filt_t\n",
    "#--------------------------------------------"
   ]
  },
  {
   "cell_type": "code",
   "execution_count": 238,
   "metadata": {},
   "outputs": [],
   "source": [
    "#create a dictionary of the local minimum and local maximum values for each parameter\n",
    "#Use the function getTheLocalMinMaxRev()\n",
    "\n",
    "dict_AT =  getTheLocalMinMaxRev(df_comb['A_t_FEED'], df_comb['A_t_FEED'])\n",
    "dict_N2_AT = getTheLocalMinMaxRev(df_comb['A_t_DRY'], df_comb['A_t_DRY'])\n",
    "dict_CWSH1_AT = getTheLocalMinMaxRev(df_comb['A_t_CWSH1'], df_comb['A_t_CWSH1'])\n",
    "dict_CWSH2_AT = getTheLocalMinMaxRev(df_comb['A_t_CWSH2'], df_comb['A_t_CWSH2'])\n",
    "dict_P1_AT = getTheLocalMinMaxRev(df_comb['A_t_PRESS1'], df_comb['A_t_PRESS1'])\n",
    "dict_P2_AT = getTheLocalMinMaxRev(df_comb['A_t_PRESS2'], df_comb['A_t_PRESS2'])\n",
    "\n",
    "\n",
    "dict_BT =  getTheLocalMinMaxRev(df_comb['B_t_FEED'], df_comb['B_t_FEED'])\n",
    "dict_N2_BT = getTheLocalMinMaxRev(df_comb['B_t_DRY'], df_comb['B_t_DRY'])\n",
    "dict_CWSH1_BT = getTheLocalMinMaxRev(df_comb['B_t_CWSH1'], df_comb['B_t_CWSH1'])\n",
    "dict_CWSH2_BT = getTheLocalMinMaxRev(df_comb['B_t_CWSH2'], df_comb['B_t_CWSH2'])\n",
    "dict_P1_BT = getTheLocalMinMaxRev(df_comb['B_t_PRESS1'], df_comb['B_t_PRESS1'])\n",
    "dict_P2_BT = getTheLocalMinMaxRev(df_comb['B_t_PRESS2'], df_comb['B_t_PRESS2'])\n",
    "\n",
    "#Create a dataframe from the actual parameter values using the dictionary created previously\n",
    "\n",
    "df_FT_feed_t =  generate_DF(df_comb, 'A_t_FEED', dict_AT)\n",
    "df_FT_N2_t =  generate_DF(df_comb, 'A_t_DRY', dict_N2_AT)\n",
    "df_FT_CWSH1_t =  generate_DF(df_comb, 'A_t_CWSH1', dict_CWSH1_AT)\n",
    "df_FT_CWSH2_t =  generate_DF(df_comb, 'A_t_CWSH2', dict_CWSH2_AT)\n",
    "df_FT_P1_t =  generate_DF(df_comb, 'A_t_PRESS1', dict_P1_AT)\n",
    "df_FT_P2_t =  generate_DF(df_comb, 'A_t_PRESS2', dict_P2_AT)\n",
    "\n",
    "#Generate the dataframes for A\n",
    "df_A_N2DRY = generate_DF(df_comb, 'A_t_DRY', dict_AT)\n",
    "df_A_t_FEED = generate_DF(df_comb, 'A_t_FEED', dict_N2_AT)\n",
    "df_A_t_CWSH1 = generate_DF(df_comb, 'A_t_CWSH1', dict_CWSH1_AT)\n",
    "df_A_t_CWSH2 = generate_DF(df_comb, 'A_t_CWSH2', dict_CWSH2_AT)\n",
    "df_A_t_PRESS1 = generate_DF(df_comb, 'A_t_PRESS1', dict_P1_AT)\n",
    "df_A_t_PRESS2 = generate_DF(df_comb, 'B_t_PRESS2', dict_P2_AT)\n",
    "\n",
    "#Generate the dataframes for B\n",
    "df_B_N2DRY = generate_DF(df_comb, 'B_t_DRY', dict_BT)\n",
    "df_B_t_FEED = generate_DF(df_comb, 'B_t_FEED', dict_N2_BT)\n",
    "df_B_t_CWSH1 = generate_DF(df_comb, 'B_t_CWSH1', dict_CWSH1_BT)\n",
    "df_B_t_CWSH2 = generate_DF(df_comb, 'B_t_CWSH2', dict_CWSH2_BT)\n",
    "df_B_t_PRESS1 = generate_DF(df_comb, 'B_t_PRESS1', dict_P1_BT)\n",
    "df_B_t_PRESS2 = generate_DF(df_comb, 'B_t_PRESS2', dict_P2_BT)"
   ]
  },
  {
   "cell_type": "code",
   "execution_count": 237,
   "metadata": {},
   "outputs": [],
   "source": []
  },
  {
   "cell_type": "code",
   "execution_count": 242,
   "metadata": {},
   "outputs": [
    {
     "name": "stdout",
     "output_type": "stream",
     "text": [
      "Done. Generated dataframes of each parameter for pressure filter alpha. 2020-07-21 11:51:23.713970\n"
     ]
    }
   ],
   "source": [
    "\n",
    "\n",
    "\n",
    "\n",
    "\n",
    "#-----\n",
    "print('Done. Generated dataframes of each parameter for pressure filter alpha.', datetime.datetime.now())\n",
    "\n",
    "\n",
    "\n"
   ]
  },
  {
   "cell_type": "code",
   "execution_count": 243,
   "metadata": {},
   "outputs": [
    {
     "data": {
      "text/html": [
       "<div>\n",
       "<style scoped>\n",
       "    .dataframe tbody tr th:only-of-type {\n",
       "        vertical-align: middle;\n",
       "    }\n",
       "\n",
       "    .dataframe tbody tr th {\n",
       "        vertical-align: top;\n",
       "    }\n",
       "\n",
       "    .dataframe thead th {\n",
       "        text-align: right;\n",
       "    }\n",
       "</style>\n",
       "<table border=\"1\" class=\"dataframe\">\n",
       "  <thead>\n",
       "    <tr style=\"text-align: right;\">\n",
       "      <th></th>\n",
       "      <th>B_t_PRESS2</th>\n",
       "    </tr>\n",
       "    <tr>\n",
       "      <th>DATETIME</th>\n",
       "      <th></th>\n",
       "    </tr>\n",
       "  </thead>\n",
       "  <tbody>\n",
       "    <tr>\n",
       "      <td>2020-07-21 07:32:37.260</td>\n",
       "      <td>130</td>\n",
       "    </tr>\n",
       "    <tr>\n",
       "      <td>2020-07-21 08:01:37.260</td>\n",
       "      <td>130</td>\n",
       "    </tr>\n",
       "  </tbody>\n",
       "</table>\n",
       "</div>"
      ],
      "text/plain": [
       "                         B_t_PRESS2\n",
       "DATETIME                           \n",
       "2020-07-21 07:32:37.260         130\n",
       "2020-07-21 08:01:37.260         130"
      ]
     },
     "execution_count": 243,
     "metadata": {},
     "output_type": "execute_result"
    }
   ],
   "source": [
    "df_B_t_PRESS2"
   ]
  },
  {
   "cell_type": "code",
   "execution_count": null,
   "metadata": {},
   "outputs": [],
   "source": []
  },
  {
   "cell_type": "code",
   "execution_count": null,
   "metadata": {},
   "outputs": [],
   "source": []
  },
  {
   "cell_type": "code",
   "execution_count": null,
   "metadata": {},
   "outputs": [],
   "source": []
  },
  {
   "cell_type": "code",
   "execution_count": null,
   "metadata": {},
   "outputs": [],
   "source": []
  },
  {
   "cell_type": "code",
   "execution_count": null,
   "metadata": {},
   "outputs": [],
   "source": []
  },
  {
   "cell_type": "code",
   "execution_count": null,
   "metadata": {},
   "outputs": [],
   "source": []
  },
  {
   "cell_type": "code",
   "execution_count": null,
   "metadata": {},
   "outputs": [],
   "source": []
  },
  {
   "cell_type": "code",
   "execution_count": null,
   "metadata": {},
   "outputs": [],
   "source": []
  },
  {
   "cell_type": "code",
   "execution_count": null,
   "metadata": {},
   "outputs": [],
   "source": []
  },
  {
   "cell_type": "code",
   "execution_count": null,
   "metadata": {},
   "outputs": [],
   "source": []
  }
 ],
 "metadata": {
  "kernelspec": {
   "display_name": "Python 3",
   "language": "python",
   "name": "python3"
  },
  "language_info": {
   "codemirror_mode": {
    "name": "ipython",
    "version": 3
   },
   "file_extension": ".py",
   "mimetype": "text/x-python",
   "name": "python",
   "nbconvert_exporter": "python",
   "pygments_lexer": "ipython3",
   "version": "3.7.4"
  }
 },
 "nbformat": 4,
 "nbformat_minor": 2
}
