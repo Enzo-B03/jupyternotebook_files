{
 "cells": [
  {
   "cell_type": "code",
   "execution_count": 23,
   "metadata": {},
   "outputs": [],
   "source": [
    "import openpyxl\n",
    "import os"
   ]
  },
  {
   "cell_type": "markdown",
   "metadata": {},
   "source": [
    "#### This block of code  goes through the given folder and extracts the filepath and filename of all excel files in it"
   ]
  },
  {
   "cell_type": "code",
   "execution_count": 31,
   "metadata": {},
   "outputs": [
    {
     "name": "stdout",
     "output_type": "stream",
     "text": [
      "D:\\Data Science Training\\spreadsheets\\example.xlsx\n",
      "D:\\Data Science Training\\spreadsheets\\MS rxtr backflow calc homework_xl.xlsx\n",
      "D:\\Data Science Training\\spreadsheets\\Practice Timelog Raw Data - August 13-14.xlsx\n",
      "D:\\Data Science Training\\spreadsheets\\Practice Timelog Raw Data - August 13-14_NEW.xlsx\n",
      "D:\\Data Science Training\\spreadsheets\\Practice Timelog Raw Data - August 13-14_NEWF.xlsx\n",
      "D:\\Data Science Training\\spreadsheets\\~$Practice Timelog Raw Data - August 13-14.xlsx\n"
     ]
    }
   ],
   "source": [
    "\n",
    "for root, dirs, files in os.walk(r'D:\\Data Science Training\\spreadsheets'):\n",
    "    for filename in files:\n",
    "        if filename.endswith('.xlsx'):\n",
    "            print (os.path.join(root, filename))"
   ]
  },
  {
   "cell_type": "markdown",
   "metadata": {},
   "source": [
    "#### This block of code goes through the given folder and finds the cell location and filename that contains a given text to find"
   ]
  },
  {
   "cell_type": "code",
   "execution_count": 46,
   "metadata": {},
   "outputs": [
    {
     "name": "stdout",
     "output_type": "stream",
     "text": [
      "D:\\Data Science Training\\spreadsheets\\example.xlsx\n",
      "D:\\Data Science Training\\spreadsheets\\MS rxtr backflow calc homework_xl.xlsx\n",
      "D:\\Data Science Training\\spreadsheets\\Practice Timelog Raw Data - August 13-14.xlsx\n",
      "cell position A1 has value Timelog Raw Data\n",
      "D:\\Data Science Training\\spreadsheets\\Practice Timelog Raw Data - August 13-14_NEW.xlsx\n",
      "cell position A1 has value Timelog Raw Data\n",
      "D:\\Data Science Training\\spreadsheets\\Practice Timelog Raw Data - August 13-14_NEWF.xlsx\n",
      "cell position A1 has value Timelog Raw Data\n"
     ]
    }
   ],
   "source": [
    "def find_specific_cell(sheetname, text_to_find):\n",
    "    for row in range(1, theFile[sheetname].max_row + 1):\n",
    "        for column in \"ABCDEFGHIJKLMNOPQRST\":  # Here you can add or reduce the columns\n",
    "            cell_name = \"{}{}\".format(column, row)\n",
    "            if theFile[sheetname][cell_name].value == text_to_find:\n",
    "                #print(\"{1} cell is located on {0}\" .format(cell_name, currentSheet[cell_name].value))\n",
    "                print(\"cell position {} has value {}\".format(cell_name, theFile[sheetname][cell_name].value))\n",
    "                return cell_name\n",
    "\n",
    "\n",
    "for root, dirs, files in os.walk(r'D:\\Data Science Training\\spreadsheets'): #input the folder filepath here\n",
    "    for filename in files:\n",
    "        if filename.endswith('.xlsx'): #if statement checking if the file type is excel\n",
    "            print (os.path.join(root, filename))\n",
    "            theFile = openpyxl.load_workbook(os.path.join(root, filename)) \n",
    "            #os.path.join(root, filename) means the complete path to the file including the excel file\n",
    "            allSheetNames = theFile.sheetnames\n",
    "            #print(\"All sheet names {} \" .format(theFile.sheetnames))\n",
    "            for sheetName in theFile.sheetnames:\n",
    "                find_specific_cell(sheetName, 'Timelog Raw Data')\n",
    "                #print(\"All sheet names {} \" .format(theFile.sheetnames))           "
   ]
  },
  {
   "cell_type": "code",
   "execution_count": 45,
   "metadata": {},
   "outputs": [
    {
     "name": "stdout",
     "output_type": "stream",
     "text": [
      "All sheet names ['Sheet1', 'Sheet3'] \n"
     ]
    }
   ],
   "source": [
    "theFile = openpyxl.load_workbook(r'D:\\Data Science Training\\spreadsheets\\Practice Timelog Raw Data - August 13-14.xlsx')\n",
    "allSheetNames = theFile.sheetnames\n",
    "\n",
    "print(\"All sheet names {} \" .format(theFile.sheetnames))\n",
    "def find_specific_cell(sheetname, text_to_find):\n",
    "    for row in range(1, theFile[sheetname].max_row + 1):\n",
    "        for column in \"ABCDEFGHIJKLMNOPQRST\":  # Here you can add or reduce the columns\n",
    "            cell_name = \"{}{}\".format(column, row)\n",
    "            if theFile[sheetname][cell_name].value == text_to_find:\n",
    "                #print(\"{1} cell is located on {0}\" .format(cell_name, currentSheet[cell_name].value))\n",
    "                print(\"cell position {} has value {}\".format(cell_name, theFile[sheetname][cell_name].value))\n",
    "                return cell_name\n",
    "           "
   ]
  },
  {
   "cell_type": "code",
   "execution_count": null,
   "metadata": {},
   "outputs": [],
   "source": []
  },
  {
   "cell_type": "code",
   "execution_count": null,
   "metadata": {},
   "outputs": [],
   "source": []
  }
 ],
 "metadata": {
  "kernelspec": {
   "display_name": "Python 3",
   "language": "python",
   "name": "python3"
  },
  "language_info": {
   "codemirror_mode": {
    "name": "ipython",
    "version": 3
   },
   "file_extension": ".py",
   "mimetype": "text/x-python",
   "name": "python",
   "nbconvert_exporter": "python",
   "pygments_lexer": "ipython3",
   "version": "3.7.6"
  }
 },
 "nbformat": 4,
 "nbformat_minor": 4
}
