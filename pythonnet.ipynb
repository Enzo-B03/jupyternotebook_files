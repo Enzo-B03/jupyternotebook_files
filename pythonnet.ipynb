{
 "cells": [
  {
   "cell_type": "code",
   "execution_count": 7,
   "metadata": {},
   "outputs": [
    {
     "name": "stdout",
     "output_type": "stream",
     "text": [
      "Requirement already satisfied: pythonnet in c:\\programdata\\anaconda3\\lib\\site-packages (2.4.0)\n",
      "Note: you may need to restart the kernel to use updated packages.\n"
     ]
    }
   ],
   "source": [
    "pip install pythonnet "
   ]
  },
  {
   "cell_type": "code",
   "execution_count": 17,
   "metadata": {},
   "outputs": [
    {
     "name": "stdout",
     "output_type": "stream",
     "text": [
      "Welcome to PIthon!!\n"
     ]
    }
   ],
   "source": [
    "import sys\n",
    "import clr\n",
    "\n",
    "sys.path.append(r'C:\\Program Files (x86)\\PIPC\\AF\\PublicAssemblies\\4.0')  \n",
    "clr.AddReference('OSIsoft.AFSDK')\n",
    "\n",
    "from OSIsoft.AF import *\n",
    "from OSIsoft.AF.PI import *\n",
    "from OSIsoft.AF.Asset import *\n",
    "from OSIsoft.AF.Data import *\n",
    "from OSIsoft.AF.Time import *\n",
    "from OSIsoft.AF.UnitsOfMeasure import *\n",
    "\n",
    "print(\"Welcome to PIthon!!\")\n",
    "# PI Data Archive\n",
    "piServers = PIServers()  \n",
    "piServer = piServers.DefaultPIServer;"
   ]
  },
  {
   "cell_type": "code",
   "execution_count": 21,
   "metadata": {},
   "outputs": [
    {
     "name": "stdout",
     "output_type": "stream",
     "text": [
      "THPAL-PI\n"
     ]
    }
   ],
   "source": [
    "print(piServer)"
   ]
  },
  {
   "cell_type": "code",
   "execution_count": 25,
   "metadata": {},
   "outputs": [
    {
     "ename": "PIAuthenticationException",
     "evalue": "Cannot connect to the PI Server. Trust authentication trial failed because insufficient privilege to access the PI Server. Windows authentication trial failed because the authentication method was not tried. \n   at OSIsoft.AF.PI.PIServer.CheckFailedServer(PIServerError& serverError)\r\n   at OSIsoft.AF.PI.PIServer.AutoConnect(Boolean allowDirectConnect, Boolean force)\r\n   at OSIsoft.AF.PI.PIPoint.FindPIPoint(PIServer piServer, String pointName)",
     "output_type": "error",
     "traceback": [
      "\u001b[1;31m---------------------------------------------------------------------------\u001b[0m",
      "\u001b[1;31mPIAuthenticationException\u001b[0m                 Traceback (most recent call last)",
      "\u001b[1;31mPIAuthenticationException\u001b[0m: Cannot connect to the PI Server. Trust authentication trial failed because insufficient privilege to access the PI Server. Windows authentication trial failed because the authentication method was not tried. ",
      "\nThe above exception was the direct cause of the following exception:\n",
      "\u001b[1;31mAggregateException\u001b[0m                        Traceback (most recent call last)",
      "\u001b[1;31mAggregateException\u001b[0m: One or more errors occurred.",
      "\nThe above exception was the direct cause of the following exception:\n",
      "\u001b[1;31mPIAuthenticationException\u001b[0m                 Traceback (most recent call last)",
      "\u001b[1;32m<ipython-input-25-ba29c0e19ab3>\u001b[0m in \u001b[0;36m<module>\u001b[1;34m\u001b[0m\n\u001b[1;32m----> 1\u001b[1;33m \u001b[0mpt\u001b[0m \u001b[1;33m=\u001b[0m \u001b[0mPIPoint\u001b[0m\u001b[1;33m.\u001b[0m\u001b[0mFindPIPoint\u001b[0m\u001b[1;33m(\u001b[0m\u001b[0mpiServer\u001b[0m\u001b[1;33m,\u001b[0m \u001b[1;34m\"THPAL-PI\"\u001b[0m\u001b[1;33m)\u001b[0m\u001b[1;33m\u001b[0m\u001b[1;33m\u001b[0m\u001b[0m\n\u001b[0m",
      "\u001b[1;31mPIAuthenticationException\u001b[0m: Cannot connect to the PI Server. Trust authentication trial failed because insufficient privilege to access the PI Server. Windows authentication trial failed because the authentication method was not tried. \n   at OSIsoft.AF.PI.PIServer.CheckFailedServer(PIServerError& serverError)\r\n   at OSIsoft.AF.PI.PIServer.AutoConnect(Boolean allowDirectConnect, Boolean force)\r\n   at OSIsoft.AF.PI.PIPoint.FindPIPoint(PIServer piServer, String pointName)"
     ]
    }
   ],
   "source": [
    "pt = PIPoint.FindPIPoint(piServer, \"THPAL-PI\")"
   ]
  },
  {
   "cell_type": "code",
   "execution_count": 22,
   "metadata": {},
   "outputs": [
    {
     "ename": "PIAuthenticationException",
     "evalue": "Cannot connect to the PI Server. Trust authentication trial failed because insufficient privilege to access the PI Server. Windows authentication trial failed because the authentication method was not tried. \n   at OSIsoft.AF.PI.PIException.ConvertAndThrowException(PIServer piServer, Exception ex, String message)\r\n   at OSIsoft.AF.PI.PIServer.RemoteConnect(AFConnectionPreference preference, NetworkCredential credential, PIAuthenticationMode authenticationMode)\r\n   at OSIsoft.AF.PI.PIServer.InternalConnect(Int32 numRetries, IWin32Window owner, AFConnectionPreference preference, NetworkCredential credential, PIAuthenticationMode authenticationMode)\r\n   at OSIsoft.AF.PI.PIServer.AutoConnect(Boolean allowDirectConnect, Boolean force)\r\n   at OSIsoft.AF.PI.PIPoint.FindPIPoint(PIServer piServer, String pointName)",
     "output_type": "error",
     "traceback": [
      "\u001b[1;31m---------------------------------------------------------------------------\u001b[0m",
      "\u001b[1;31mPIAuthenticationException\u001b[0m                 Traceback (most recent call last)",
      "\u001b[1;31mPIAuthenticationException\u001b[0m: Cannot connect to the PI Server. Trust authentication trial failed because insufficient privilege to access the PI Server. Windows authentication trial failed because the authentication method was not tried. ",
      "\nThe above exception was the direct cause of the following exception:\n",
      "\u001b[1;31mAggregateException\u001b[0m                        Traceback (most recent call last)",
      "\u001b[1;31mAggregateException\u001b[0m: One or more errors occurred.",
      "\nThe above exception was the direct cause of the following exception:\n",
      "\u001b[1;31mPIAuthenticationException\u001b[0m                 Traceback (most recent call last)",
      "\u001b[1;32m<ipython-input-22-c49359749d7e>\u001b[0m in \u001b[0;36m<module>\u001b[1;34m\u001b[0m\n\u001b[1;32m----> 1\u001b[1;33m \u001b[0mpt\u001b[0m \u001b[1;33m=\u001b[0m \u001b[0mPIPoint\u001b[0m\u001b[1;33m.\u001b[0m\u001b[0mFindPIPoint\u001b[0m\u001b[1;33m(\u001b[0m\u001b[0mpiServer\u001b[0m\u001b[1;33m,\u001b[0m \u001b[1;34m'THPAL-PI'\u001b[0m\u001b[1;33m)\u001b[0m\u001b[1;33m\u001b[0m\u001b[1;33m\u001b[0m\u001b[0m\n\u001b[0m\u001b[0;32m      2\u001b[0m \u001b[1;31m#name = pt.Name.lower()\u001b[0m\u001b[1;33m\u001b[0m\u001b[1;33m\u001b[0m\u001b[1;33m\u001b[0m\u001b[0m\n",
      "\u001b[1;31mPIAuthenticationException\u001b[0m: Cannot connect to the PI Server. Trust authentication trial failed because insufficient privilege to access the PI Server. Windows authentication trial failed because the authentication method was not tried. \n   at OSIsoft.AF.PI.PIException.ConvertAndThrowException(PIServer piServer, Exception ex, String message)\r\n   at OSIsoft.AF.PI.PIServer.RemoteConnect(AFConnectionPreference preference, NetworkCredential credential, PIAuthenticationMode authenticationMode)\r\n   at OSIsoft.AF.PI.PIServer.InternalConnect(Int32 numRetries, IWin32Window owner, AFConnectionPreference preference, NetworkCredential credential, PIAuthenticationMode authenticationMode)\r\n   at OSIsoft.AF.PI.PIServer.AutoConnect(Boolean allowDirectConnect, Boolean force)\r\n   at OSIsoft.AF.PI.PIPoint.FindPIPoint(PIServer piServer, String pointName)"
     ]
    }
   ],
   "source": [
    "pt = PIPoint.FindPIPoint(piServer, 'THPAL-PI')\n",
    "#name = pt.Name.lower()"
   ]
  },
  {
   "cell_type": "code",
   "execution_count": 5,
   "metadata": {},
   "outputs": [
    {
     "ename": "PIAuthenticationException",
     "evalue": "Cannot connect to the PI Server. Trust authentication trial failed because insufficient privilege to access the PI Server. Windows authentication trial failed because the authentication method was not tried. \n   at OSIsoft.AF.PI.PIException.ConvertAndThrowException(PIServer piServer, Exception ex, String message)\r\n   at OSIsoft.AF.PI.PIServer.RemoteConnect(AFConnectionPreference preference, NetworkCredential credential, PIAuthenticationMode authenticationMode)\r\n   at OSIsoft.AF.PI.PIServer.InternalConnect(Int32 numRetries, IWin32Window owner, AFConnectionPreference preference, NetworkCredential credential, PIAuthenticationMode authenticationMode)\r\n   at OSIsoft.AF.PI.PIServer.AutoConnect(Boolean allowDirectConnect, Boolean force)\r\n   at OSIsoft.AF.PI.PIPoint.FindPIPoint(PIServer piServer, String pointName)",
     "output_type": "error",
     "traceback": [
      "\u001b[1;31m---------------------------------------------------------------------------\u001b[0m",
      "\u001b[1;31mPIAuthenticationException\u001b[0m                 Traceback (most recent call last)",
      "\u001b[1;31mPIAuthenticationException\u001b[0m: Cannot connect to the PI Server. Trust authentication trial failed because insufficient privilege to access the PI Server. Windows authentication trial failed because the authentication method was not tried. ",
      "\nThe above exception was the direct cause of the following exception:\n",
      "\u001b[1;31mAggregateException\u001b[0m                        Traceback (most recent call last)",
      "\u001b[1;31mAggregateException\u001b[0m: One or more errors occurred.",
      "\nThe above exception was the direct cause of the following exception:\n",
      "\u001b[1;31mPIAuthenticationException\u001b[0m                 Traceback (most recent call last)",
      "\u001b[1;32m<ipython-input-5-a1731df2632b>\u001b[0m in \u001b[0;36m<module>\u001b[1;34m\u001b[0m\n\u001b[1;32m----> 1\u001b[1;33m \u001b[0mpt\u001b[0m \u001b[1;33m=\u001b[0m \u001b[0mPIPoint\u001b[0m\u001b[1;33m.\u001b[0m\u001b[0mFindPIPoint\u001b[0m\u001b[1;33m(\u001b[0m\u001b[0mpiServer\u001b[0m\u001b[1;33m,\u001b[0m \u001b[1;34m\"sinusoid\"\u001b[0m\u001b[1;33m)\u001b[0m\u001b[1;33m\u001b[0m\u001b[1;33m\u001b[0m\u001b[0m\n\u001b[0m\u001b[0;32m      2\u001b[0m \u001b[0mname\u001b[0m \u001b[1;33m=\u001b[0m \u001b[0mpt\u001b[0m\u001b[1;33m.\u001b[0m\u001b[0mName\u001b[0m\u001b[1;33m.\u001b[0m\u001b[0mlower\u001b[0m\u001b[1;33m(\u001b[0m\u001b[1;33m)\u001b[0m\u001b[1;33m\u001b[0m\u001b[1;33m\u001b[0m\u001b[0m\n",
      "\u001b[1;31mPIAuthenticationException\u001b[0m: Cannot connect to the PI Server. Trust authentication trial failed because insufficient privilege to access the PI Server. Windows authentication trial failed because the authentication method was not tried. \n   at OSIsoft.AF.PI.PIException.ConvertAndThrowException(PIServer piServer, Exception ex, String message)\r\n   at OSIsoft.AF.PI.PIServer.RemoteConnect(AFConnectionPreference preference, NetworkCredential credential, PIAuthenticationMode authenticationMode)\r\n   at OSIsoft.AF.PI.PIServer.InternalConnect(Int32 numRetries, IWin32Window owner, AFConnectionPreference preference, NetworkCredential credential, PIAuthenticationMode authenticationMode)\r\n   at OSIsoft.AF.PI.PIServer.AutoConnect(Boolean allowDirectConnect, Boolean force)\r\n   at OSIsoft.AF.PI.PIPoint.FindPIPoint(PIServer piServer, String pointName)"
     ]
    }
   ],
   "source": [
    "pt = PIPoint.FindPIPoint(piServer, \"sinusoid\")\n",
    "name = pt.Name.lower()\n",
    "pt = PIPoint.FindPIPoint(piServer, \"sinusoid\")\n",
    "name = pt.Name.lower()\n",
    "# CurrentValue\n",
    "print('\\nShowing PI Tag CurrentValue from {0}'.format(name))\n",
    "current_value = pt.CurrentValue()\n",
    "print( '{0}\\'s Current Value: {1}'.format(name, current_value.Value))"
   ]
  },
  {
   "cell_type": "code",
   "execution_count": null,
   "metadata": {},
   "outputs": [],
   "source": [
    "\n",
    "#recordedvalues\n",
    "timerange = AFTimeRange(\"*-3h\", \"*\")\n",
    "recorded = pt.RecordedValues(timerange, AFBoundaryType.Inside, \"\", False)\n",
    "print('\\nShowing PI Tag RecordedValues from {0}'.format(name))\n",
    "for event in recorded:\n",
    "    print('{0} value: {1}'.format(event.Timestamp.LocalTime, event.Value))\n",
    "\n",
    "#plotValues\n",
    "plotvalues = pt.PlotValues(timerange, 100)\n",
    "print('\\nShowing PI Tag PlotValues from {0}'.format(name))\n",
    "for event in plotvalues:\n",
    "    print('{0} value: {1}'.format(event.Timestamp.LocalTime, event.Value))\n",
    "\n",
    "#interpolatedvalues\n",
    "span = AFTimeSpan.Parse(\"1h\")\n",
    "interpolated = pt.InterpolatedValues(timerange, span, \"\", False)\n",
    "print('\\nShowing PI Tag InterpolatedValues from {0}'.format(name))\n",
    "for event in interpolated:\n",
    "    print('{0} value: {1}'.format(event.Timestamp.LocalTime, event.Value))\n",
    "\n",
    "#summariesvalues\n",
    "summaries = pt.Summaries(timerange, span, AFSummaryTypes.Average, AFCalculationBasis.TimeWeighted, AFTimestampCalculation.Auto)\n",
    "print('\\nShowing PI Tag SummariesValues(Average) from {0}'.format(name))\n",
    "for summary in summaries:\n",
    "    for event in summary.Value:\n",
    "        print('{0} value: {1}'.format(event.Timestamp.LocalTime, event.Value))\n",
    "\n",
    "#writeValue\n",
    "writept = PIPoint.FindPIPoint(piServer,\"PleaseEnterWriteTagName\")\n",
    "writeptname = writept.Name.lower()\n",
    "val = AFValue()\n",
    "val.Value = 20\n",
    "#val.Timestamp = AFTime(\"t+9h\")\n",
    "\n",
    "print('\\nWrite value to {0} value: {1}'.format(writeptname, val.Value))\n",
    "writept.UpdateValue(val, AFUpdateOption.Replace, AFBufferOption.BufferIfPossible)\n",
    "\n",
    "#Connect to AF\n",
    "print ('\\nConnect to AF')\n",
    "afServers = PISystems()\n",
    "afServer = afServers.DefaultPISystem\n",
    "DB = afServer.Databases.DefaultDatabase\n",
    "#DB = afServer.Databases.get_Item(\"NuGreen\")\n",
    "element = DB.Elements.get_Item(\"NuGreen\").Elements.get_Item(\"Little Rock\").Elements.get_Item(\"Extruding Process\").Elements.get_Item(\"Equipment\").Elements.get_Item(\"K-435\")\n",
    "\n",
    "attribute = element.Attributes.get_Item(\"Steam Flow\")\n",
    "attval = attribute.GetValue()\n",
    "\n",
    "print ('Element Name: {0}'.format(element.Name))\n",
    "print ('Attribute Name: {0} | Value : {1} {2}'.format(attribute.Name, attval.Value, attribute.DefaultUOM))\n",
    "\n",
    "#create element with attribute\n",
    "print('\\nCreate Element with Attribute')\n",
    "if DB.Elements.get_Item(\"Test New Element\") is not None:\n",
    "    print(\"Already Existing Element: Test New Element\")\n",
    "else:\n",
    "    newelement = DB.Elements.Add(\"Test New Element\")\n",
    "    newelement.Description = \"Created element from PIthon\"\n",
    "    newattribute = newelement.Attributes.Add(\"Test Attribute\")\n",
    "    newattribute.DataReferencePlugIn = afServer.DataReferencePlugIns.get_Item(\"PI Point\")\n",
    "    newattribute.DataReference.ConfigString = \"cdt158\"\n",
    "    DB.CheckIn()\n",
    "    print(\"Created new Element : Test New Element\")"
   ]
  },
  {
   "cell_type": "code",
   "execution_count": 16,
   "metadata": {},
   "outputs": [
    {
     "ename": "PIAuthenticationException",
     "evalue": "Cannot connect to the PI Server. Trust authentication trial failed because insufficient privilege to access the PI Server. Windows authentication trial failed because the authentication method was not tried. \n   at OSIsoft.AF.PI.PIException.ConvertAndThrowException(PIServer piServer, Exception ex, String message)\r\n   at OSIsoft.AF.PI.PIServer.RemoteConnect(AFConnectionPreference preference, NetworkCredential credential, PIAuthenticationMode authenticationMode)\r\n   at OSIsoft.AF.PI.PIServer.InternalConnect(Int32 numRetries, IWin32Window owner, AFConnectionPreference preference, NetworkCredential credential, PIAuthenticationMode authenticationMode)\r\n   at OSIsoft.AF.PI.PIServer.AutoConnect(Boolean allowDirectConnect, Boolean force)\r\n   at OSIsoft.AF.PI.PIPoint.FindPIPoint(PIServer piServer, String pointName)",
     "output_type": "error",
     "traceback": [
      "\u001b[1;31m---------------------------------------------------------------------------\u001b[0m",
      "\u001b[1;31mPIAuthenticationException\u001b[0m                 Traceback (most recent call last)",
      "\u001b[1;31mPIAuthenticationException\u001b[0m: Cannot connect to the PI Server. Trust authentication trial failed because insufficient privilege to access the PI Server. Windows authentication trial failed because the authentication method was not tried. ",
      "\nThe above exception was the direct cause of the following exception:\n",
      "\u001b[1;31mAggregateException\u001b[0m                        Traceback (most recent call last)",
      "\u001b[1;31mAggregateException\u001b[0m: One or more errors occurred.",
      "\nThe above exception was the direct cause of the following exception:\n",
      "\u001b[1;31mPIAuthenticationException\u001b[0m                 Traceback (most recent call last)",
      "\u001b[1;32m<ipython-input-16-5f1752dfea14>\u001b[0m in \u001b[0;36m<module>\u001b[1;34m\u001b[0m\n\u001b[1;32m----> 1\u001b[1;33m \u001b[0mpt\u001b[0m \u001b[1;33m=\u001b[0m \u001b[0mPIPoint\u001b[0m\u001b[1;33m.\u001b[0m\u001b[0mFindPIPoint\u001b[0m\u001b[1;33m(\u001b[0m\u001b[0mpiServer\u001b[0m\u001b[1;33m,\u001b[0m \u001b[1;34m'THPAL-PI'\u001b[0m\u001b[1;33m)\u001b[0m\u001b[1;33m\u001b[0m\u001b[1;33m\u001b[0m\u001b[0m\n\u001b[0m\u001b[0;32m      2\u001b[0m \u001b[0mname\u001b[0m \u001b[1;33m=\u001b[0m \u001b[0mpt\u001b[0m\u001b[1;33m.\u001b[0m\u001b[0mName\u001b[0m\u001b[1;33m.\u001b[0m\u001b[0mlower\u001b[0m\u001b[1;33m(\u001b[0m\u001b[1;33m)\u001b[0m\u001b[1;33m\u001b[0m\u001b[1;33m\u001b[0m\u001b[0m\n",
      "\u001b[1;31mPIAuthenticationException\u001b[0m: Cannot connect to the PI Server. Trust authentication trial failed because insufficient privilege to access the PI Server. Windows authentication trial failed because the authentication method was not tried. \n   at OSIsoft.AF.PI.PIException.ConvertAndThrowException(PIServer piServer, Exception ex, String message)\r\n   at OSIsoft.AF.PI.PIServer.RemoteConnect(AFConnectionPreference preference, NetworkCredential credential, PIAuthenticationMode authenticationMode)\r\n   at OSIsoft.AF.PI.PIServer.InternalConnect(Int32 numRetries, IWin32Window owner, AFConnectionPreference preference, NetworkCredential credential, PIAuthenticationMode authenticationMode)\r\n   at OSIsoft.AF.PI.PIServer.AutoConnect(Boolean allowDirectConnect, Boolean force)\r\n   at OSIsoft.AF.PI.PIPoint.FindPIPoint(PIServer piServer, String pointName)"
     ]
    }
   ],
   "source": []
  }
 ],
 "metadata": {
  "kernelspec": {
   "display_name": "Python 3",
   "language": "python",
   "name": "python3"
  },
  "language_info": {
   "codemirror_mode": {
    "name": "ipython",
    "version": 3
   },
   "file_extension": ".py",
   "mimetype": "text/x-python",
   "name": "python",
   "nbconvert_exporter": "python",
   "pygments_lexer": "ipython3",
   "version": "3.7.4"
  }
 },
 "nbformat": 4,
 "nbformat_minor": 2
}
