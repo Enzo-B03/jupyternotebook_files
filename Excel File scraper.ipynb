{
 "cells": [
  {
   "cell_type": "code",
   "execution_count": 6,
   "metadata": {},
   "outputs": [],
   "source": [
    "import openpyxl\n",
    "import os\n",
    "import re"
   ]
  },
  {
   "cell_type": "markdown",
   "metadata": {},
   "source": [
    "#### This block of code  goes through the given folder and extracts the filepath and filename of all excel files in it"
   ]
  },
  {
   "cell_type": "code",
   "execution_count": 3,
   "metadata": {},
   "outputs": [
    {
     "name": "stdout",
     "output_type": "stream",
     "text": [
      "D:Applications\\Installers\\blend4web_ce\\tools\\node\\node-v8.9.4-win-x86\\node_modules\\npm\\node_modules\\tar\\node_modules\\minipass\\minipass-benchmarks.xlsx\n",
      "D:Data Science Training\\spreadsheets\\example.xlsx\n",
      "D:Data Science Training\\spreadsheets\\MS rxtr backflow calc homework_xl.xlsx\n",
      "D:Data Science Training\\spreadsheets\\Practice Timelog Raw Data - August 13-14.xlsx\n",
      "D:Data Science Training\\spreadsheets\\Practice Timelog Raw Data - August 13-14_NEW.xlsx\n",
      "D:Data Science Training\\spreadsheets\\Practice Timelog Raw Data - August 13-14_NEWF.xlsx\n",
      "D:Github Downloads\\Laboratory Analysis Results\\1.) January 2018.xlsx\n",
      "D:Programming Books\\python books\\automate_online-materials\\censuspopdata.xlsx\n",
      "D:Programming Books\\python books\\automate_online-materials\\dimensions.xlsx\n",
      "D:Programming Books\\python books\\automate_online-materials\\duesRecords.xlsx\n",
      "D:Programming Books\\python books\\automate_online-materials\\example.xlsx\n",
      "D:Programming Books\\python books\\automate_online-materials\\example_copy.xlsx\n",
      "D:Programming Books\\python books\\automate_online-materials\\freezeExample.xlsx\n",
      "D:Programming Books\\python books\\automate_online-materials\\merged.xlsx\n",
      "D:Programming Books\\python books\\automate_online-materials\\produceSales.xlsx\n",
      "D:Programming Books\\python books\\automate_online-materials\\sampleChart.xlsx\n",
      "D:Programming Books\\python books\\automate_online-materials\\styled.xlsx\n",
      "D:Programming Books\\python books\\automate_online-materials\\styles.xlsx\n",
      "D:Programming Books\\python books\\automate_online-materials\\updatedProduceSales.xlsx\n",
      "D:Programming Books\\python books\\automate_online-materials\\updatedproduceSales2.xlsx\n",
      "D:Programming Books\\python books\\automate_online-materials\\updatedproduceSales3.xlsx\n",
      "D:Video Tutorials\\Statistics for Data Science and Business Analysis\\Statistics for Data Science and Business Analysis\\[Tutsgalaxy.com] - Statistics for Data Science and Business Analysis\\01 Introduction\\001 Glossary.xlsx\n",
      "D:Video Tutorials\\Statistics for Data Science and Business Analysis\\Statistics for Data Science and Business Analysis\\[Tutsgalaxy.com] - Statistics for Data Science and Business Analysis\\06 Distributions\\030 3.4.Standard-normal-distribution-lesson.xlsx\n",
      "D:Video Tutorials\\Statistics for Data Science and Business Analysis\\Statistics for Data Science and Business Analysis\\[Tutsgalaxy.com] - Statistics for Data Science and Business Analysis\\07 Estimators and estimates\\036 3.9.The-z-table.xlsx\n",
      "D:Video Tutorials\\Statistics for Data Science and Business Analysis\\Statistics for Data Science and Business Analysis\\[Tutsgalaxy.com] - Statistics for Data Science and Business Analysis\\07 Estimators and estimates\\037 3.9.The-z-table.xlsx\n",
      "D:Video Tutorials\\Statistics for Data Science and Business Analysis\\Statistics for Data Science and Business Analysis\\[Tutsgalaxy.com] - Statistics for Data Science and Business Analysis\\07 Estimators and estimates\\039 3.11.The-t-table.xlsx\n",
      "D:Video Tutorials\\Statistics for Data Science and Business Analysis\\Statistics for Data Science and Business Analysis\\[Tutsgalaxy.com] - Statistics for Data Science and Business Analysis\\07 Estimators and estimates\\040 3.11.The-t-table.xlsx\n",
      "D:Video Tutorials\\Statistics for Data Science and Business Analysis\\Statistics for Data Science and Business Analysis\\[Tutsgalaxy.com] - Statistics for Data Science and Business Analysis\\13 The fundamentals of regression analysis\\071 5.6.Example-lesson.xlsx\n",
      "D:Video Tutorials\\Statistics for Data Science and Business Analysis\\Statistics for Data Science and Business Analysis\\[Tutsgalaxy.com] - Statistics for Data Science and Business Analysis\\16 Dealing with categorical data\\086 5.20.Dummy-variables-lesson.xlsx\n"
     ]
    }
   ],
   "source": [
    "\n",
    "for root, dirs, files in os.walk(r'D:'):\n",
    "    for filename in files:\n",
    "        if filename.endswith('.xlsx'):\n",
    "            print (os.path.join(root, filename))"
   ]
  },
  {
   "cell_type": "markdown",
   "metadata": {},
   "source": [
    "#### This block of code goes through the given folder and finds the cell location and filename that contains a given text to find"
   ]
  },
  {
   "cell_type": "code",
   "execution_count": 46,
   "metadata": {},
   "outputs": [
    {
     "name": "stdout",
     "output_type": "stream",
     "text": [
      "D:\\Data Science Training\\spreadsheets\\example.xlsx\n",
      "Practice Timelog Raw Data - August 13-14_NEWF.xlsx : cell position A1 has value Timelog Raw Data\n"
     ]
    },
    {
     "ename": "KeyError",
     "evalue": "'Worksheet Sheet2 does not exist.'",
     "output_type": "error",
     "traceback": [
      "\u001b[1;31m---------------------------------------------------------------------------\u001b[0m",
      "\u001b[1;31mKeyError\u001b[0m                                  Traceback (most recent call last)",
      "\u001b[1;32m<ipython-input-46-43bb1e198a4e>\u001b[0m in \u001b[0;36m<module>\u001b[1;34m\u001b[0m\n\u001b[0;32m     25\u001b[0m \u001b[0mkeyword\u001b[0m \u001b[1;33m=\u001b[0m \u001b[1;34m'Timelog Raw Data'\u001b[0m\u001b[1;33m\u001b[0m\u001b[1;33m\u001b[0m\u001b[0m\n\u001b[0;32m     26\u001b[0m \u001b[1;33m\u001b[0m\u001b[0m\n\u001b[1;32m---> 27\u001b[1;33m \u001b[0mfind_IN_xlsx_files\u001b[0m\u001b[1;33m(\u001b[0m\u001b[0mfilepath\u001b[0m\u001b[1;33m,\u001b[0m \u001b[0mkeyword\u001b[0m\u001b[1;33m)\u001b[0m\u001b[1;33m\u001b[0m\u001b[1;33m\u001b[0m\u001b[0m\n\u001b[0m",
      "\u001b[1;32m<ipython-input-46-43bb1e198a4e>\u001b[0m in \u001b[0;36mfind_IN_xlsx_files\u001b[1;34m(filepathfolder, keywordtoFind)\u001b[0m\n\u001b[0;32m     19\u001b[0m                 \u001b[0mallSheetNames\u001b[0m \u001b[1;33m=\u001b[0m \u001b[0mtheFile\u001b[0m\u001b[1;33m.\u001b[0m\u001b[0msheetnames\u001b[0m\u001b[1;33m\u001b[0m\u001b[1;33m\u001b[0m\u001b[0m\n\u001b[0;32m     20\u001b[0m                 \u001b[1;32mfor\u001b[0m \u001b[0msheetName\u001b[0m \u001b[1;32min\u001b[0m \u001b[0mtheFile\u001b[0m\u001b[1;33m.\u001b[0m\u001b[0msheetnames\u001b[0m\u001b[1;33m:\u001b[0m\u001b[1;33m\u001b[0m\u001b[1;33m\u001b[0m\u001b[0m\n\u001b[1;32m---> 21\u001b[1;33m                     \u001b[0mfind_specific_cell\u001b[0m\u001b[1;33m(\u001b[0m\u001b[0msheetName\u001b[0m\u001b[1;33m,\u001b[0m \u001b[0mkeywordtoFind\u001b[0m\u001b[1;33m)\u001b[0m\u001b[1;33m\u001b[0m\u001b[1;33m\u001b[0m\u001b[0m\n\u001b[0m\u001b[0;32m     22\u001b[0m                     \u001b[1;31m#print(\"All sheet names {} \" .format(theFile.sheetnames))\u001b[0m\u001b[1;33m\u001b[0m\u001b[1;33m\u001b[0m\u001b[1;33m\u001b[0m\u001b[0m\n\u001b[0;32m     23\u001b[0m \u001b[1;33m\u001b[0m\u001b[0m\n",
      "\u001b[1;32m<ipython-input-46-43bb1e198a4e>\u001b[0m in \u001b[0;36mfind_specific_cell\u001b[1;34m(sheetname, text_to_find)\u001b[0m\n\u001b[0;32m      1\u001b[0m \u001b[1;32mdef\u001b[0m \u001b[0mfind_specific_cell\u001b[0m\u001b[1;33m(\u001b[0m\u001b[0msheetname\u001b[0m\u001b[1;33m,\u001b[0m \u001b[0mtext_to_find\u001b[0m\u001b[1;33m)\u001b[0m\u001b[1;33m:\u001b[0m\u001b[1;33m\u001b[0m\u001b[1;33m\u001b[0m\u001b[0m\n\u001b[1;32m----> 2\u001b[1;33m     \u001b[1;32mfor\u001b[0m \u001b[0mrow\u001b[0m \u001b[1;32min\u001b[0m \u001b[0mrange\u001b[0m\u001b[1;33m(\u001b[0m\u001b[1;36m1\u001b[0m\u001b[1;33m,\u001b[0m \u001b[0mtheFile\u001b[0m\u001b[1;33m[\u001b[0m\u001b[0msheetname\u001b[0m\u001b[1;33m]\u001b[0m\u001b[1;33m.\u001b[0m\u001b[0mmax_row\u001b[0m \u001b[1;33m+\u001b[0m \u001b[1;36m1\u001b[0m\u001b[1;33m)\u001b[0m\u001b[1;33m:\u001b[0m\u001b[1;33m\u001b[0m\u001b[1;33m\u001b[0m\u001b[0m\n\u001b[0m\u001b[0;32m      3\u001b[0m         \u001b[1;32mfor\u001b[0m \u001b[0mcolumn\u001b[0m \u001b[1;32min\u001b[0m \u001b[1;34m\"ABCDEFGHIJKLMNOPQRST\"\u001b[0m\u001b[1;33m:\u001b[0m  \u001b[1;31m# Here you can add or reduce the columns\u001b[0m\u001b[1;33m\u001b[0m\u001b[1;33m\u001b[0m\u001b[0m\n\u001b[0;32m      4\u001b[0m             \u001b[0mcell_name\u001b[0m \u001b[1;33m=\u001b[0m \u001b[1;34m\"{}{}\"\u001b[0m\u001b[1;33m.\u001b[0m\u001b[0mformat\u001b[0m\u001b[1;33m(\u001b[0m\u001b[0mcolumn\u001b[0m\u001b[1;33m,\u001b[0m \u001b[0mrow\u001b[0m\u001b[1;33m)\u001b[0m\u001b[1;33m\u001b[0m\u001b[1;33m\u001b[0m\u001b[0m\n\u001b[0;32m      5\u001b[0m             \u001b[1;32mif\u001b[0m \u001b[0mtheFile\u001b[0m\u001b[1;33m[\u001b[0m\u001b[0msheetname\u001b[0m\u001b[1;33m]\u001b[0m\u001b[1;33m[\u001b[0m\u001b[0mcell_name\u001b[0m\u001b[1;33m]\u001b[0m\u001b[1;33m.\u001b[0m\u001b[0mvalue\u001b[0m \u001b[1;33m==\u001b[0m \u001b[0mtext_to_find\u001b[0m\u001b[1;33m:\u001b[0m\u001b[1;33m\u001b[0m\u001b[1;33m\u001b[0m\u001b[0m\n",
      "\u001b[1;32mC:\\ProgramData\\Anaconda3\\lib\\site-packages\\openpyxl\\workbook\\workbook.py\u001b[0m in \u001b[0;36m__getitem__\u001b[1;34m(self, key)\u001b[0m\n\u001b[0;32m    271\u001b[0m             \u001b[1;32mif\u001b[0m \u001b[0msheet\u001b[0m\u001b[1;33m.\u001b[0m\u001b[0mtitle\u001b[0m \u001b[1;33m==\u001b[0m \u001b[0mkey\u001b[0m\u001b[1;33m:\u001b[0m\u001b[1;33m\u001b[0m\u001b[1;33m\u001b[0m\u001b[0m\n\u001b[0;32m    272\u001b[0m                 \u001b[1;32mreturn\u001b[0m \u001b[0msheet\u001b[0m\u001b[1;33m\u001b[0m\u001b[1;33m\u001b[0m\u001b[0m\n\u001b[1;32m--> 273\u001b[1;33m         \u001b[1;32mraise\u001b[0m \u001b[0mKeyError\u001b[0m\u001b[1;33m(\u001b[0m\u001b[1;34m\"Worksheet {0} does not exist.\"\u001b[0m\u001b[1;33m.\u001b[0m\u001b[0mformat\u001b[0m\u001b[1;33m(\u001b[0m\u001b[0mkey\u001b[0m\u001b[1;33m)\u001b[0m\u001b[1;33m)\u001b[0m\u001b[1;33m\u001b[0m\u001b[1;33m\u001b[0m\u001b[0m\n\u001b[0m\u001b[0;32m    274\u001b[0m \u001b[1;33m\u001b[0m\u001b[0m\n\u001b[0;32m    275\u001b[0m     \u001b[1;32mdef\u001b[0m \u001b[0m__delitem__\u001b[0m\u001b[1;33m(\u001b[0m\u001b[0mself\u001b[0m\u001b[1;33m,\u001b[0m \u001b[0mkey\u001b[0m\u001b[1;33m)\u001b[0m\u001b[1;33m:\u001b[0m\u001b[1;33m\u001b[0m\u001b[1;33m\u001b[0m\u001b[0m\n",
      "\u001b[1;31mKeyError\u001b[0m: 'Worksheet Sheet2 does not exist.'"
     ]
    }
   ],
   "source": [
    "def find_specific_cell(sheetname, text_to_find):\n",
    "    for row in range(1, theFile[sheetname].max_row + 1):\n",
    "        for column in \"ABCDEFGHIJKLMNOPQRST\":  # Here you can add or reduce the columns\n",
    "            cell_name = \"{}{}\".format(column, row)\n",
    "            if theFile[sheetname][cell_name].value == text_to_find:\n",
    "                #print(\"{1} cell is located on {0}\" .format(cell_name, currentSheet[cell_name].value))\n",
    "                print(\"{} : cell position {} has value {}\".format(filename, cell_name, theFile[sheetname][cell_name].value))\n",
    "                return cell_name\n",
    "\n",
    "def find_IN_xlsx_files(filepathfolder, keywordtoFind):\n",
    "    #filepath is the folder where we will do the search. example r'D:\\Data Science Training\\spreadsheets'\n",
    "    #keywordtoFind is the string regex pattern of the word we want to find\n",
    "    for root, dirs, files in os.walk(filepathfolder): #input the folder filepath here\n",
    "        for filename in files:\n",
    "            if filename.endswith('.xlsx'): #if statement checking if the file type is excel\n",
    "                print (os.path.join(root, filename))\n",
    "                theFile = openpyxl.load_workbook(os.path.join(root, filename)) \n",
    "                #os.path.join(root, filename) means the complete path to the file including the excel file\n",
    "                allSheetNames = theFile.sheetnames\n",
    "                for sheetName in theFile.sheetnames:\n",
    "                    find_specific_cell(sheetName, keywordtoFind)\n",
    "                    #print(\"All sheet names {} \" .format(theFile.sheetnames))      \n",
    "\n",
    "filepath = r'D:\\Data Science Training\\spreadsheets'   \n",
    "keyword = 'Timelog Raw Data'\n",
    "\n",
    "find_IN_xlsx_files(filepath, keyword)"
   ]
  },
  {
   "cell_type": "code",
   "execution_count": 45,
   "metadata": {},
   "outputs": [
    {
     "name": "stdout",
     "output_type": "stream",
     "text": [
      "All sheet names ['Sheet1', 'Sheet3'] \n"
     ]
    }
   ],
   "source": [
    "theFile = openpyxl.load_workbook(r'D:\\Data Science Training\\spreadsheets\\Practice Timelog Raw Data - August 13-14.xlsx')\n",
    "allSheetNames = theFile.sheetnames\n",
    "\n",
    "print(\"All sheet names {} \" .format(theFile.sheetnames))\n",
    "def find_specific_cell(sheetname, text_to_find):\n",
    "    for row in range(1, theFile[sheetname].max_row + 1):\n",
    "        for column in \"ABCDEFGHIJKLMNOPQRST\":  # Here you can add or reduce the columns\n",
    "            cell_name = \"{}{}\".format(column, row)\n",
    "            if theFile[sheetname][cell_name].value == text_to_find:\n",
    "                #print(\"{1} cell is located on {0}\" .format(cell_name, currentSheet[cell_name].value))\n",
    "                print(\"cell position {} has value {}\".format(cell_name, theFile[sheetname][cell_name].value))\n",
    "                return cell_name\n",
    "           "
   ]
  },
  {
   "cell_type": "code",
   "execution_count": 13,
   "metadata": {},
   "outputs": [
    {
     "name": "stdout",
     "output_type": "stream",
     "text": [
      "<re.Match object; span=(5, 6), match='a'>\n"
     ]
    }
   ],
   "source": [
    "txt = \"The rain in Spain\"\n",
    "x = re.search(\"[ain]\", txt)\n",
    "print(x)"
   ]
  },
  {
   "cell_type": "code",
   "execution_count": 42,
   "metadata": {},
   "outputs": [
    {
     "name": "stdout",
     "output_type": "stream",
     "text": [
      "You failed to match john@example.com\n",
      "You failed to match python-list@python.org\n",
      "Pattern re.compile('[105]') found in wha.t.`1an?ug{}ly@email.com105\n"
     ]
    }
   ],
   "source": [
    "# Exercise: make a regular expression that will match an email\n",
    "def test_keywords(your_pattern):\n",
    "    pattern = re.compile(your_pattern)\n",
    "    keywords = [\"john@example.com\", \"python-list@python.org\", \"wha.t.`1an?ug{}ly@email.com105\"]\n",
    "    for word in keywords:\n",
    "        if not re.search(pattern, word):\n",
    "            print(\"You failed to match %s\" % (word))\n",
    "        elif not your_pattern:\n",
    "            print(\"Forgot to enter a pattern!\")\n",
    "        else:\n",
    "            print(\"Pattern {} found in {}\".format(pattern, word))\n",
    "pattern = r\"[105]\" # Your pattern here!\n",
    "test_keywords(pattern)"
   ]
  },
  {
   "cell_type": "code",
   "execution_count": null,
   "metadata": {},
   "outputs": [],
   "source": [
    " r\"^(From|To|Cc).*?python-list@python.org\""
   ]
  }
 ],
 "metadata": {
  "kernelspec": {
   "display_name": "Python 3",
   "language": "python",
   "name": "python3"
  },
  "language_info": {
   "codemirror_mode": {
    "name": "ipython",
    "version": 3
   },
   "file_extension": ".py",
   "mimetype": "text/x-python",
   "name": "python",
   "nbconvert_exporter": "python",
   "pygments_lexer": "ipython3",
   "version": "3.7.6"
  }
 },
 "nbformat": 4,
 "nbformat_minor": 4
}
