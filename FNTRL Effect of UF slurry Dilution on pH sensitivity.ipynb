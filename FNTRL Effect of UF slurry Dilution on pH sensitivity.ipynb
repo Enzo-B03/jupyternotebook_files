{
 "cells": [
  {
   "cell_type": "code",
   "execution_count": 34,
   "metadata": {},
   "outputs": [],
   "source": [
    "#import libraries\n",
    "import pandas as pd\n",
    "import numpy as np\n",
    "import matplotlib.pyplot as plt\n",
    "%matplotlib inline\n",
    "from dateutil.parser import parse\n",
    "from itertools import compress\n",
    "from collections import OrderedDict\n",
    "from datetime import date\n",
    "import datetime\n",
    "import re\n",
    "from datetime import timedelta\n",
    "import openpyxl\n",
    "from sklearn.metrics import mean_squared_error\n",
    "import plotly.express as px\n",
    "\n",
    "import plotly.graph_objects as go\n",
    "from plotly.subplots import make_subplots\n",
    "# Create figure with secondary y-axis"
   ]
  },
  {
   "cell_type": "code",
   "execution_count": 7,
   "metadata": {},
   "outputs": [],
   "source": [
    "def convert_entire_DF_to_numeric(DF):\n",
    "    for col in DF.columns:\n",
    "        DF[col] = pd.to_numeric(DF[col], errors='ignore')\n",
    "    return DF\n",
    "\n",
    "def getTheLocalMinMax(df_col1):\n",
    "    '''\n",
    "    Code that computes takes the index of the dataframe where the values are either local minima or local maxima\n",
    "    Parameter: df_col1 is a series whose index is datetime\n",
    "    Returns a dictionary where the loc_min and loc_max are stored.\n",
    "    '''\n",
    "    \n",
    "    df_col1 = pd.to_numeric(df_col1, errors='coerce')\n",
    "    loc_min = (np.diff(np.sign(np.diff(df_col1))) > 0).nonzero()[0] + 1         # local min\n",
    "    loc_max = (np.diff(np.sign(np.diff(df_col1))) < 0).nonzero()[0] + 1         # local max\n",
    "    dict_ = {'loc_min': loc_min, 'loc_max': loc_max}\n",
    "\n",
    "    return dict_\n",
    "\n",
    "def computeInterval_peak_ave(pH_loc_min_series):\n",
    "    '''\n",
    "    Code that computes the duration between local minimum of the pH trend.\n",
    "    Returns the average of the duration in minutes.\n",
    "    \n",
    "    Parameter: pH_loc_min_series is the pH reading corresponding to the local minima whose index is the DATETIME\n",
    "    '''\n",
    "    ser_TK03_pH_A = pH_loc_min_series\n",
    "    time_diff_between_peaks = np.diff(ser_TK03_pH_A.index) # get the difference between the peaks in the pH reading series from Pi\n",
    "    time_diff_bw_peaks_minutes = time_diff_between_peaks/np.timedelta64(1, 'm') # convert the units from nanoseconds to minutes\n",
    "    \n",
    "    return time_diff_bw_peaks_minutes.mean()"
   ]
  },
  {
   "cell_type": "code",
   "execution_count": 4,
   "metadata": {},
   "outputs": [],
   "source": [
    "raw_108_Pi = pd.read_excel(r'C:\\Users\\v.t.flores\\Documents\\FNTRL_Pi_pH.xlsx') #Load the Pidata from the excel file\n",
    "raw_108_Pi = raw_108_Pi.set_index('DATETIME')\n",
    "raw_108_Pi = convert_entire_DF_to_numeric(raw_108_Pi)[1:] # select the all the rows except the first\n",
    "\n",
    "tk03_pH_A = raw_108_Pi['108TK03_pH_A'] # select the 108TK03 pH\n",
    "Dict_ = getTheLocalMinMax(tk03_pH_A) # use the function to get the index where there is local_MinMax\n",
    "\n",
    "ser_TK03_pH_A = raw_108_Pi.iloc[Dict_['loc_min']]['108TK03_pH_A'] # using the index from Dict_ get the values for pH for any tank you select (e.g. 108TK03_pH_A)\n",
    "mean_interval_length = computeInterval_peak_ave(ser_TK03_pH_A) # Using the function computeInterval_peak_ave, compute the average interval of the local minima"
   ]
  },
  {
   "cell_type": "code",
   "execution_count": null,
   "metadata": {},
   "outputs": [],
   "source": []
  },
  {
   "cell_type": "code",
   "execution_count": 40,
   "metadata": {},
   "outputs": [],
   "source": []
  },
  {
   "cell_type": "code",
   "execution_count": null,
   "metadata": {},
   "outputs": [],
   "source": []
  },
  {
   "cell_type": "code",
   "execution_count": null,
   "metadata": {},
   "outputs": [],
   "source": []
  },
  {
   "cell_type": "code",
   "execution_count": null,
   "metadata": {},
   "outputs": [],
   "source": []
  },
  {
   "cell_type": "code",
   "execution_count": 43,
   "metadata": {},
   "outputs": [],
   "source": []
  },
  {
   "cell_type": "code",
   "execution_count": null,
   "metadata": {},
   "outputs": [],
   "source": []
  },
  {
   "cell_type": "code",
   "execution_count": null,
   "metadata": {},
   "outputs": [],
   "source": []
  },
  {
   "cell_type": "code",
   "execution_count": 1,
   "metadata": {},
   "outputs": [],
   "source": [
    "\n",
    "#REFERENCE FUNCTION\n",
    "\n",
    "def getTheLocalMinMax(df_col1, df_col2):\n",
    "    df_col1 = pd.to_numeric(df_col1, errors='coerce')\n",
    "    b = (np.diff(np.sign(np.diff(df_col1))) > 0).nonzero()[0] + 1         # local min\n",
    "    df_col2 = pd.to_numeric(df_col2, errors='coerce')\n",
    "    f = (np.diff(np.sign(np.diff(df_col2))) < 0).nonzero()[0] + 1         # local max\n",
    "\n",
    "    try:\n",
    "        ft_cyc_lim = {}\n",
    "        for i in range(0, len(b)):\n",
    "            for j in range(0, len(f)):\n",
    "                if f[j] > b[i] and f[j] < b[i+1]:\n",
    "                    if f[j+1]<b[i+1]:\n",
    "                        cyc_start = b[i]\n",
    "                        cyc_end = f[j+1]\n",
    "                        ft_cyc_lim.setdefault(cyc_start,cyc_end)\n",
    "    except IndexError:\n",
    "        print('\\nDone')\n",
    "    return ft_cyc_lim\n"
   ]
  }
 ],
 "metadata": {
  "kernelspec": {
   "display_name": "Python 3",
   "language": "python",
   "name": "python3"
  },
  "language_info": {
   "codemirror_mode": {
    "name": "ipython",
    "version": 3
   },
   "file_extension": ".py",
   "mimetype": "text/x-python",
   "name": "python",
   "nbconvert_exporter": "python",
   "pygments_lexer": "ipython3",
   "version": "3.7.4"
  }
 },
 "nbformat": 4,
 "nbformat_minor": 2
}
