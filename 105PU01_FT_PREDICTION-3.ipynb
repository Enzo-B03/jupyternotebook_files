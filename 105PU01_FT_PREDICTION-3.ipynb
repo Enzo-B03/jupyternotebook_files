{
 "cells": [
  {
   "cell_type": "markdown",
   "metadata": {},
   "source": [
    "# IMPORT THE LIBRARIES"
   ]
  },
  {
   "cell_type": "code",
   "execution_count": 3,
   "metadata": {},
   "outputs": [],
   "source": [
    "#exc1\n",
    "import pandas as pd\n",
    "import numpy as np\n",
    "import matplotlib.pyplot as plt\n",
    "%matplotlib inline\n",
    "from dateutil.parser import parse\n",
    "from itertools import compress\n",
    "from collections import OrderedDict\n",
    "from datetime import date\n",
    "import datetime\n",
    "from datetime import timedelta\n",
    "import re"
   ]
  },
  {
   "cell_type": "markdown",
   "metadata": {},
   "source": [
    "# LOAD THE PI DATA and LABORATORY ANALYSIS RESULTS"
   ]
  },
  {
   "cell_type": "code",
   "execution_count": 36,
   "metadata": {},
   "outputs": [],
   "source": [
    "#Sheet From Pi\n",
    "#Step1: Load the Data for the month\n",
    "df_Pi_FT01_PU01 = pd.read_excel(r'C:\\Users\\v.t.flores\\Documents\\POLISHING_PUMP_FLOW_DATAGET.xlsx', sheet_name='PI_DATA', index_col=False)\n",
    "#Drop the row[1]\n",
    "df_Pi_FT01_PU01 = df_Pi_FT01_PU01.drop(df_Pi_FT01_PU01.index[0])\n",
    "#Set the index\n",
    "df_Pi_FT01_PU01.set_index('DATETIME', inplace=True)"
   ]
  },
  {
   "cell_type": "code",
   "execution_count": 37,
   "metadata": {},
   "outputs": [
    {
     "data": {
      "text/plain": [
       "Index(['105TK05_LVL', '105TK05_TEMP', '105PU01A_CUR', '105PU01A_FLOW',\n",
       "       '105FT01A_PDI', '105PU01B_CUR', '105PU01B_FLOW', '105FT01B_PDI',\n",
       "       '105PU01C_CUR', '105PU01C_FLOW', '105FT01C_PDI', '105PU01D_CUR',\n",
       "       '105PU01D_FLOW', '105FT01D_PDI', '105PU01E_CUR', '105PU01E_FLOW',\n",
       "       '105FT01E_PDI', '105PU01F_CUR', '105PU01F_FLOW', '105FT01F_PDI',\n",
       "       '105PU01G_CUR', '105PU01G_FLOW', 'DeZn_Feed_Flow', 'SEL_A', 'SEL_B',\n",
       "       'SEL_C', 'SEL_D', 'SEL_E', 'SEL_F'],\n",
       "      dtype='object')"
      ]
     },
     "execution_count": 37,
     "metadata": {},
     "output_type": "execute_result"
    }
   ],
   "source": [
    "df_Pi_FT01_PU01.columns"
   ]
  },
  {
   "cell_type": "markdown",
   "metadata": {},
   "source": [
    "\n",
    "# DECLARE THE FUNCTIONS"
   ]
  },
  {
   "cell_type": "code",
   "execution_count": 38,
   "metadata": {},
   "outputs": [],
   "source": [
    "#fcn dfn\n",
    "#used in the analysis results data. cleans up the sampling time entry\n",
    "def time_cleaner(x):\n",
    "    time_regex = re.compile(r'[0-8a-zA-Z:]', re.IGNORECASE| re.VERBOSE|re.DOTALL)\n",
    "    timeact = time_regex.findall(x)\n",
    "    newtime = ''.join(timeact[0:5])\n",
    "    f_time = check_ending_char(newtime)\n",
    "    f_time1 = check_starting_char(f_time)\n",
    "    t = parse(f_time1)\n",
    "    new_str_time = str(t.hour)+':'+str(t.minute)+':'+str(t.second)\n",
    "    return new_str_time\n",
    "\n",
    "\n",
    "#fcn for formatting the dates from range str\n",
    "def datesplitter_start(x):\n",
    "    return parse(x.split('to')[0])\n",
    "def datesplitter_end(x):\n",
    "    return parse(x.split('to')[1])\n",
    "\n",
    "#------------------\n",
    "\n",
    "def remove_no_good_data_N2Dry_Feed(df): #removes the string value and fills it with the last good value\n",
    "    \n",
    "    df = pd.to_numeric(df, errors='coerce')\n",
    "    for x in range(0, len(df)):\n",
    "        if type(df[x]) == str:\n",
    "            df[x] = df[x-1]\n",
    "    df.fillna(method='ffill', inplace=True)\n",
    "    return df\n",
    "\n",
    "#---------------------------\n",
    "def replace_no_good_data_with_LastGoodValues(df_col):\n",
    "    \n",
    "    df_col = pd.to_numeric(df_col, errors='coerce')\n",
    "    for x in range(0, len(df_col)):\n",
    "        if type(df_col[x]== str):\n",
    "            if det_no_data(df_col[x]) == 'Calculation':\n",
    "                df_col[x] = np.nan\n",
    "\n",
    "    df_col.fillna(method='ffill', inplace= True)\n",
    "    return df_col\n",
    "#--------------------------------------------\n",
    "def replace_no_good_data_with_Zero(df_col):\n",
    "\n",
    "    df_col = pd.to_numeric(df_col, errors='coerce')\n",
    "    for x in range(0, len(df_col)):\n",
    "        if type(df_col[x]) == str:\n",
    "            if det_no_data(df_col[x]) == 'Calculation':\n",
    "                df_col[x] = 0\n",
    "    df_col.fillna(value=0, inplace=True)\n",
    "    \n",
    "    return df_col\n",
    "#--------------------------------------------\n",
    "#--------------------------------------------\n",
    "def replace_neg_data_with_Zero(df_col):\n",
    "    df_col = pd.to_numeric(df_col, errors='coerce')\n",
    "    for x in range(0, len(df_col)):\n",
    "        if df_col[x] < 0:\n",
    "            df_col[x] = 0\n",
    "    return df_col\n",
    "#--------------------------------------------"
   ]
  },
  {
   "cell_type": "markdown",
   "metadata": {},
   "source": [
    "# Clean the Data Using the functions"
   ]
  },
  {
   "cell_type": "code",
   "execution_count": 39,
   "metadata": {},
   "outputs": [
    {
     "name": "stdout",
     "output_type": "stream",
     "text": [
      "Done. All param_df_generated 2020-05-28 08:02:34.590447\n"
     ]
    }
   ],
   "source": [
    "#Clean data from no good values\n",
    "df_Pi_FT01_PU01['105TK05_LVL'] = replace_no_good_data_with_Zero(df_Pi_FT01_PU01['105TK05_LVL'])\n",
    "df_Pi_FT01_PU01['105TK05_TEMP'] = replace_no_good_data_with_Zero(df_Pi_FT01_PU01['105TK05_TEMP'])\n",
    "df_Pi_FT01_PU01['105PU01A_CUR'] = replace_no_good_data_with_Zero(df_Pi_FT01_PU01['105PU01A_CUR'])\n",
    "df_Pi_FT01_PU01['105PU01A_FLOW'] = replace_no_good_data_with_Zero(df_Pi_FT01_PU01['105PU01A_FLOW'])\n",
    "df_Pi_FT01_PU01['105FT01A_PDI'] = replace_no_good_data_with_Zero(df_Pi_FT01_PU01['105FT01A_PDI'])\n",
    "df_Pi_FT01_PU01['105PU01B_CUR'] = replace_no_good_data_with_Zero(df_Pi_FT01_PU01['105PU01B_CUR'])\n",
    "df_Pi_FT01_PU01['105PU01B_FLOW'] = replace_no_good_data_with_Zero(df_Pi_FT01_PU01['105PU01B_FLOW'])\n",
    "df_Pi_FT01_PU01['105FT01B_PDI'] = replace_no_good_data_with_Zero(df_Pi_FT01_PU01['105FT01B_PDI'])\n",
    "df_Pi_FT01_PU01['105PU01C_CUR'] = replace_no_good_data_with_Zero(df_Pi_FT01_PU01['105PU01C_CUR'])\n",
    "df_Pi_FT01_PU01['105PU01C_FLOW'] = replace_no_good_data_with_Zero(df_Pi_FT01_PU01['105PU01C_FLOW'])\n",
    "df_Pi_FT01_PU01['105FT01C_PDI'] = replace_no_good_data_with_Zero(df_Pi_FT01_PU01['105FT01C_PDI'])\n",
    "df_Pi_FT01_PU01['105PU01D_CUR'] = replace_no_good_data_with_Zero(df_Pi_FT01_PU01['105PU01D_CUR'])\n",
    "df_Pi_FT01_PU01['105PU01D_FLOW'] = replace_no_good_data_with_Zero(df_Pi_FT01_PU01['105PU01D_FLOW'])\n",
    "df_Pi_FT01_PU01['105FT01D_PDI'] = replace_no_good_data_with_Zero(df_Pi_FT01_PU01['105FT01D_PDI'])\n",
    "df_Pi_FT01_PU01['105PU01E_CUR'] = replace_no_good_data_with_Zero(df_Pi_FT01_PU01['105PU01E_CUR'])\n",
    "df_Pi_FT01_PU01['105PU01E_FLOW'] = replace_no_good_data_with_Zero(df_Pi_FT01_PU01['105PU01E_FLOW'])\n",
    "df_Pi_FT01_PU01['105FT01E_PDI'] = replace_no_good_data_with_Zero(df_Pi_FT01_PU01['105FT01E_PDI'])\n",
    "df_Pi_FT01_PU01['105PU01F_CUR'] = replace_no_good_data_with_Zero(df_Pi_FT01_PU01['105PU01F_CUR'])\n",
    "df_Pi_FT01_PU01['105PU01F_FLOW'] = replace_no_good_data_with_Zero(df_Pi_FT01_PU01['105PU01F_FLOW'])\n",
    "df_Pi_FT01_PU01['105FT01F_PDI'] = replace_no_good_data_with_Zero(df_Pi_FT01_PU01['105FT01F_PDI'])\n",
    "df_Pi_FT01_PU01['105PU01G_CUR'] = replace_no_good_data_with_Zero(df_Pi_FT01_PU01['105PU01G_FLOW'])\n",
    "df_Pi_FT01_PU01['DeZn_Feed_Flow'] = replace_no_good_data_with_Zero(df_Pi_FT01_PU01['DeZn_Feed_Flow'])\n",
    "\n",
    "####----------------------------------------------------------------------------------------\n",
    "df_Pi_FT01_PU01['105TK05_LVL'] = replace_neg_data_with_Zero(df_Pi_FT01_PU01['105TK05_LVL'])\n",
    "df_Pi_FT01_PU01['105TK05_TEMP'] = replace_neg_data_with_Zero(df_Pi_FT01_PU01['105TK05_TEMP'])\n",
    "df_Pi_FT01_PU01['105PU01A_CUR'] = replace_neg_data_with_Zero(df_Pi_FT01_PU01['105PU01A_CUR'])\n",
    "df_Pi_FT01_PU01['105PU01A_FLOW'] = replace_neg_data_with_Zero(df_Pi_FT01_PU01['105PU01A_FLOW'])\n",
    "df_Pi_FT01_PU01['105FT01A_PDI'] = replace_neg_data_with_Zero(df_Pi_FT01_PU01['105FT01A_PDI'])\n",
    "df_Pi_FT01_PU01['105PU01B_CUR'] = replace_neg_data_with_Zero(df_Pi_FT01_PU01['105PU01B_CUR'])\n",
    "df_Pi_FT01_PU01['105PU01B_FLOW'] = replace_neg_data_with_Zero(df_Pi_FT01_PU01['105PU01B_FLOW'])\n",
    "df_Pi_FT01_PU01['105FT01B_PDI'] = replace_neg_data_with_Zero(df_Pi_FT01_PU01['105FT01B_PDI'])\n",
    "df_Pi_FT01_PU01['105PU01C_CUR'] = replace_neg_data_with_Zero(df_Pi_FT01_PU01['105PU01C_CUR'])\n",
    "df_Pi_FT01_PU01['105PU01C_FLOW'] = replace_neg_data_with_Zero(df_Pi_FT01_PU01['105PU01C_FLOW'])\n",
    "df_Pi_FT01_PU01['105FT01C_PDI'] = replace_neg_data_with_Zero(df_Pi_FT01_PU01['105FT01C_PDI'])\n",
    "df_Pi_FT01_PU01['105PU01D_CUR'] = replace_neg_data_with_Zero(df_Pi_FT01_PU01['105PU01D_CUR'])\n",
    "df_Pi_FT01_PU01['105PU01D_FLOW'] = replace_neg_data_with_Zero(df_Pi_FT01_PU01['105PU01D_FLOW'])\n",
    "df_Pi_FT01_PU01['105FT01D_PDI'] = replace_neg_data_with_Zero(df_Pi_FT01_PU01['105FT01D_PDI'])\n",
    "df_Pi_FT01_PU01['105PU01E_CUR'] = replace_neg_data_with_Zero(df_Pi_FT01_PU01['105PU01E_CUR'])\n",
    "df_Pi_FT01_PU01['105PU01E_FLOW'] = replace_neg_data_with_Zero(df_Pi_FT01_PU01['105PU01E_FLOW'])\n",
    "df_Pi_FT01_PU01['105FT01E_PDI'] = replace_neg_data_with_Zero(df_Pi_FT01_PU01['105FT01E_PDI'])\n",
    "df_Pi_FT01_PU01['105PU01F_CUR'] = replace_neg_data_with_Zero(df_Pi_FT01_PU01['105PU01F_CUR'])\n",
    "df_Pi_FT01_PU01['105PU01F_FLOW'] = replace_neg_data_with_Zero(df_Pi_FT01_PU01['105PU01F_FLOW'])\n",
    "df_Pi_FT01_PU01['105FT01F_PDI'] = replace_neg_data_with_Zero(df_Pi_FT01_PU01['105FT01F_PDI'])\n",
    "df_Pi_FT01_PU01['105PU01G_CUR'] = replace_neg_data_with_Zero(df_Pi_FT01_PU01['105PU01G_FLOW'])\n",
    "df_Pi_FT01_PU01['DeZn_Feed_Flow'] = replace_neg_data_with_Zero(df_Pi_FT01_PU01['DeZn_Feed_Flow'])\n",
    "\n",
    "df_Pi_FT01_PU01.dropna()\n",
    "print('Done. All param_df_generated', datetime.datetime.now())\n",
    "#------------------------------------------------"
   ]
  },
  {
   "cell_type": "code",
   "execution_count": 40,
   "metadata": {},
   "outputs": [],
   "source": [
    "DF_105PU01 = df_Pi_FT01_PU01"
   ]
  },
  {
   "cell_type": "code",
   "execution_count": 41,
   "metadata": {},
   "outputs": [
    {
     "data": {
      "text/plain": [
       "Timestamp('2020-01-30 23:59:00')"
      ]
     },
     "execution_count": 41,
     "metadata": {},
     "output_type": "execute_result"
    }
   ],
   "source": [
    "DF_105PU01.index[-1]"
   ]
  },
  {
   "cell_type": "code",
   "execution_count": 42,
   "metadata": {},
   "outputs": [
    {
     "data": {
      "text/plain": [
       "Index(['105TK05_LVL', '105TK05_TEMP', '105PU01A_CUR', '105PU01A_FLOW',\n",
       "       '105FT01A_PDI', '105PU01B_CUR', '105PU01B_FLOW', '105FT01B_PDI',\n",
       "       '105PU01C_CUR', '105PU01C_FLOW', '105FT01C_PDI', '105PU01D_CUR',\n",
       "       '105PU01D_FLOW', '105FT01D_PDI', '105PU01E_CUR', '105PU01E_FLOW',\n",
       "       '105FT01E_PDI', '105PU01F_CUR', '105PU01F_FLOW', '105FT01F_PDI',\n",
       "       '105PU01G_CUR', '105PU01G_FLOW', 'DeZn_Feed_Flow', 'SEL_A', 'SEL_B',\n",
       "       'SEL_C', 'SEL_D', 'SEL_E', 'SEL_F'],\n",
       "      dtype='object')"
      ]
     },
     "execution_count": 42,
     "metadata": {},
     "output_type": "execute_result"
    }
   ],
   "source": [
    "DF_105PU01.columns"
   ]
  },
  {
   "cell_type": "code",
   "execution_count": 50,
   "metadata": {},
   "outputs": [],
   "source": [
    "df_Pi_FT01_PU01.drop(df_Pi_FT01_PU01.index[-1], inplace=True) #remove the NaT value at the end of the index\n",
    "df_Pi_FT01_PU01.drop(df_Pi_FT01_PU01[df_Pi_FT01_PU01['DeZn_Feed_Flow']<500].index, inplace=True) #drop the rows where dezn flow is less than 500\n"
   ]
  },
  {
   "cell_type": "code",
   "execution_count": 51,
   "metadata": {},
   "outputs": [
    {
     "data": {
      "image/png": "[encoded data removed]",
      "text/plain": [
       "<Figure size 432x288 with 1 Axes>"
      ]
     },
     "metadata": {
      "needs_background": "light"
     },
     "output_type": "display_data"
    },
    {
     "data": {
      "image/png": "[encoded data removed]",
      "text/plain": [
       "<Figure size 432x288 with 1 Axes>"
      ]
     },
     "metadata": {
      "needs_background": "light"
     },
     "output_type": "display_data"
    },
    {
     "data": {
      "image/png": "[encoded data removed]",
      "text/plain": [
       "<Figure size 432x288 with 1 Axes>"
      ]
     },
     "metadata": {
      "needs_background": "light"
     },
     "output_type": "display_data"
    },
    {
     "data": {
      "image/png": "[encoded data removed]",
      "text/plain": [
       "<Figure size 432x288 with 1 Axes>"
      ]
     },
     "metadata": {
      "needs_background": "light"
     },
     "output_type": "display_data"
    },
    {
     "data": {
      "image/png": "[encoded data removed]",
      "text/plain": [
       "<Figure size 432x288 with 1 Axes>"
      ]
     },
     "metadata": {
      "needs_background": "light"
     },
     "output_type": "display_data"
    }
   ],
   "source": [
    "daterange = df_Pi_FT01_PU01.loc['2020-01-11':'2020-01-30']\n",
    "plt.plot(daterange['DeZn_Feed_Flow'].index, daterange['DeZn_Feed_Flow'])\n",
    "plt.xticks(rotation=90)\n",
    "plt.show()\n",
    "plt.plot(daterange['105TK05_TEMP'].index, daterange['105TK05_TEMP'])\n",
    "plt.xticks(rotation=90)\n",
    "plt.show()\n",
    "plt.plot(daterange['105PU01A_CUR'].index, daterange['105PU01A_CUR'])\n",
    "plt.xticks(rotation=90)\n",
    "plt.show()\n",
    "#drop the daterange\n",
    "df_Pi_FT01_PU01.drop(daterange.index, inplace=True)\n",
    "\n",
    "#recheck thru plot if the daterange was dropped\n",
    "plt.plot(daterange['105TK05_TEMP'].index, daterange['105TK05_TEMP'])\n",
    "plt.xticks(rotation=90)\n",
    "plt.show()\n",
    "plt.plot(daterange['105PU01A_CUR'].index, daterange['105PU01A_CUR'])\n",
    "plt.xticks(rotation=90)\n",
    "plt.show()"
   ]
  },
  {
   "cell_type": "code",
   "execution_count": 58,
   "metadata": {},
   "outputs": [
    {
     "data": {
      "text/plain": [
       "Index(['105TK05_LVL', '105TK05_TEMP', '105PU01A_CUR', '105FT01A_PDI',\n",
       "       '105PU01A_FLOW', 'SEL_A'],\n",
       "      dtype='object')"
      ]
     },
     "execution_count": 58,
     "metadata": {},
     "output_type": "execute_result"
    }
   ],
   "source": [
    "A_lst_DF.columns"
   ]
  },
  {
   "cell_type": "code",
   "execution_count": 67,
   "metadata": {},
   "outputs": [
    {
     "data": {
      "image/png": "[encoded data removed]",
      "text/plain": [
       "<Figure size 432x288 with 1 Axes>"
      ]
     },
     "metadata": {
      "needs_background": "light"
     },
     "output_type": "display_data"
    }
   ],
   "source": [
    "dates = A_lst_DF.loc['2020-01-11':'2020-03-30']\n",
    "plt.plot(dates.index, dates['105PU01A_FLOW'])\n",
    "plt.show()"
   ]
  },
  {
   "cell_type": "code",
   "execution_count": 75,
   "metadata": {},
   "outputs": [],
   "source": [
    "#Parameter list including 105TK05 temp and 105TK05 lvl\n",
    "DF_105PU01 = df_Pi_FT01_PU01\n",
    "A_lst_DF = DF_105PU01[['105TK05_LVL', '105TK05_TEMP', '105PU01A_CUR', '105FT01A_PDI', '105PU01A_FLOW', 'SEL_A']]\n",
    "B_lst_DF = DF_105PU01[['105TK05_LVL', '105TK05_TEMP', '105PU01B_CUR','105FT01B_PDI', '105PU01B_FLOW', 'SEL_B']]\n",
    "C_lst_DF = DF_105PU01[['105TK05_LVL', '105TK05_TEMP', '105PU01C_CUR','105FT01C_PDI', '105PU01C_FLOW', 'SEL_C']]\n",
    "D_lst_DF = DF_105PU01[['105TK05_LVL', '105TK05_TEMP', '105PU01D_CUR','105FT01D_PDI', '105PU01D_FLOW', 'SEL_D']]\n",
    "E_lst_DF = DF_105PU01[['105TK05_LVL', '105TK05_TEMP', '105PU01E_CUR','105FT01E_PDI', '105PU01E_FLOW', 'SEL_E']]\n",
    "F_lst_DF = DF_105PU01[['105TK05_LVL', '105TK05_TEMP', '105PU01F_CUR','105FT01F_PDI', '105PU01F_FLOW', 'SEL_F']]\n",
    "G_lst_DF = DF_105PU01[['105TK05_LVL', '105TK05_TEMP', '105PU01G_CUR','105FT01F_PDI', '105PU01F_FLOW', 'SEL_F']]\n",
    "\n",
    "A_lst_DF = A_lst_DF[A_lst_DF['SEL_A'] == 'OFF']\n",
    "A_lst_DF = A_lst_DF[0:-1]\n",
    "B_lst_DF = B_lst_DF[B_lst_DF['SEL_B'] == 'OFF']\n",
    "B_lst_DF = B_lst_DF[0:-1]\n",
    "C_lst_DF = C_lst_DF[C_lst_DF['SEL_C'] == 'OFF']\n",
    "C_lst_DF = C_lst_DF[0:-1]\n",
    "D_lst_DF = D_lst_DF[D_lst_DF['SEL_D'] == 'OFF']\n",
    "D_lst_DF = D_lst_DF[0:-1]\n",
    "E_lst_DF = E_lst_DF[E_lst_DF['SEL_E'] == 'OFF']\n",
    "E_lst_DF = E_lst_DF[0:-1]\n",
    "#F_lst_DF = F_lst_DF[F_lst_DF['SEL_F'] == 'OFF']\n",
    "F_lst_DF = F_lst_DF[0:-1]"
   ]
  },
  {
   "cell_type": "code",
   "execution_count": 107,
   "metadata": {},
   "outputs": [],
   "source": [
    "A_ft_not_zero = A_lst_DF[(A_lst_DF['105PU01A_CUR'] <= 0) & (A_lst_DF['105PU01A_FLOW'] != 0)]\n",
    "A_lst_DF.drop(A_ft_not_zero.index, inplace=True)\n",
    "\n",
    "B_ft_not_zero = B_lst_DF[(B_lst_DF['105PU01B_CUR'] <= 0) & (B_lst_DF['105PU01B_FLOW'] != 0)]\n",
    "B_lst_DF.drop(B_ft_not_zero.index, inplace=True)\n",
    "\n",
    "C_ft_not_zero = C_lst_DF[(C_lst_DF['105PU01C_CUR'] <= 0) & (C_lst_DF['105PU01C_FLOW'] != 0)]\n",
    "C_lst_DF.drop(C_ft_not_zero.index, inplace=True)\n",
    "\n",
    "D_ft_not_zero = D_lst_DF[(D_lst_DF['105PU01D_CUR'] <= 0) & (D_lst_DF['105PU01D_FLOW'] != 0)]\n",
    "D_lst_DF.drop(D_ft_not_zero.index, inplace=True)\n",
    "\n",
    "E_ft_not_zero = E_lst_DF[(E_lst_DF['105PU01E_CUR'] <= 0) & (E_lst_DF['105PU01E_FLOW'] != 0)]\n",
    "E_lst_DF.drop(E_ft_not_zero.index, inplace=True)\n",
    "\n",
    "F_ft_not_zero = F_lst_DF[(F_lst_DF['105PU01F_CUR'] <= 0) & (F_lst_DF['105PU01F_FLOW'] != 0)]\n",
    "F_lst_DF.drop(F_ft_not_zero.index, inplace=True)"
   ]
  },
  {
   "cell_type": "markdown",
   "metadata": {},
   "source": [
    "# PARAMETERS: CUR, PDI, TK05LVL"
   ]
  },
  {
   "cell_type": "code",
   "execution_count": 108,
   "metadata": {},
   "outputs": [],
   "source": [
    "A_lst_xset = A_lst_DF[['105PU01A_CUR','105FT01A_PDI', '105TK05_LVL']]\n",
    "A_lst_Yset = A_lst_DF['105PU01A_FLOW']\n",
    "B_lst_xset = B_lst_DF[['105PU01B_CUR','105FT01B_PDI', '105TK05_LVL']]\n",
    "B_lst_Yset = B_lst_DF['105PU01B_FLOW']\n",
    "C_lst_xset = C_lst_DF[['105PU01C_CUR','105FT01C_PDI', '105TK05_LVL']]\n",
    "C_lst_Yset = C_lst_DF['105PU01C_FLOW']\n",
    "D_lst_xset = D_lst_DF[['105PU01D_CUR','105FT01D_PDI', '105TK05_LVL']]\n",
    "D_lst_Yset = D_lst_DF['105PU01D_FLOW']\n",
    "E_lst_xset = E_lst_DF[['105PU01E_CUR','105FT01E_PDI', '105TK05_LVL']]\n",
    "E_lst_Yset = E_lst_DF['105PU01E_FLOW']\n",
    "F_lst_xset = F_lst_DF[['105PU01F_CUR','105FT01F_PDI', '105TK05_LVL']]\n",
    "F_lst_Yset = F_lst_DF['105PU01F_FLOW']"
   ]
  },
  {
   "cell_type": "code",
   "execution_count": 109,
   "metadata": {},
   "outputs": [],
   "source": [
    "# IMPORT THE MACHINE LEARNING LIBRARIES\n",
    "import numpy as np\n",
    "from matplotlib import pyplot as plt\n",
    "from sklearn.model_selection import train_test_split\n",
    "from sklearn.linear_model import LinearRegression\n",
    "\n",
    "X1A = A_lst_xset.dropna()\n",
    "y1A = A_lst_Yset.dropna()\n",
    "X1_train, X1_test, y1_train, y1_test = train_test_split(X1A, y1A, test_size=0.20, random_state=0)\n",
    "\n",
    "from sklearn.linear_model import LinearRegression\n",
    "lm_A = LinearRegression()\n",
    "lm_A.fit(X1_train,y1_train)\n",
    "\n",
    "coeff_df_FLOW_PU01A = pd.DataFrame(zip(lm_A.coef_, X1A.columns), columns=['105PU01A_FLOW','PU01A_Param'])\n",
    "A = lm_A.intercept_\n"
   ]
  },
  {
   "cell_type": "code",
   "execution_count": 110,
   "metadata": {},
   "outputs": [],
   "source": [
    "coeff_df_FLOW_PU01A.to_excel(r'C:\\Users\\v.t.flores\\Documents\\105PU01A_FLOW1.xlsx')"
   ]
  },
  {
   "cell_type": "markdown",
   "metadata": {},
   "source": [
    "# FUNCTIONS TO GENERATE THE COEFFICIENTS AND INTERCEPTS"
   ]
  },
  {
   "cell_type": "code",
   "execution_count": 112,
   "metadata": {},
   "outputs": [],
   "source": [
    "def generate_lm_coefficients(df_column_toPredict, colname_lst, pumpLetter):\n",
    "    X1 = colname_lst.dropna()\n",
    "    y1 = df_column_toPredict.dropna()\n",
    "    X1_train, X1_test, y1_train, y1_test = train_test_split(X1, y1, test_size=0.20, random_state=0)\n",
    "\n",
    "    lm = LinearRegression()\n",
    "    lm.fit(X1_train,y1_train)\n",
    "\n",
    "    coeff_df_FLOW_PU01 = pd.DataFrame(zip(lm.coef_, X1.columns), columns=['105PU01'+str(pumpLetter)+'_FLOW','PU01'+str(pumpLetter)+'_Param'])\n",
    "    \n",
    "    return coeff_df_FLOW_PU01\n",
    "\n",
    "#--------------------------------------\n",
    "def generate_lm_intercept(df_column_toPredict, colname_lst, pumpLetter):\n",
    "    X1 = colname_lst.dropna()\n",
    "    y1 = df_column_toPredict.dropna()\n",
    "    X1_train, X1_test, y1_train, y1_test = train_test_split(X1, y1, test_size=0.20, random_state=0)\n",
    "\n",
    "    lm = LinearRegression()\n",
    "    lm.fit(X1_train,y1_train)\n",
    "\n",
    "    coeff_df_FLOW_PU01 = pd.DataFrame(zip(lm.coef_, X1.columns), columns=['105PU01'+str(pumpLetter)+'_FLOW','PU01'+str(pumpLetter)+'_Param'])\n",
    "    intercept_pumpflow = lm.intercept_\n",
    "    \n",
    "    return intercept_pumpflow"
   ]
  },
  {
   "cell_type": "code",
   "execution_count": 119,
   "metadata": {},
   "outputs": [],
   "source": [
    "A_coefficients_df = generate_lm_coefficients(A_lst_Yset, A_lst_xset, 'A')\n",
    "A_intercept = generate_lm_intercept(A_lst_Yset, A_lst_xset, 'A')\n",
    "\n",
    "B_coefficients_df = generate_lm_coefficients(B_lst_Yset, B_lst_xset, 'B')\n",
    "B_intercept = generate_lm_intercept(B_lst_Yset, B_lst_xset, 'B')\n",
    "\n",
    "C_coefficients_df = generate_lm_coefficients(C_lst_Yset, C_lst_xset, 'C')\n",
    "C_intercept = generate_lm_intercept(C_lst_Yset, C_lst_xset, 'C')\n",
    "\n",
    "D_coefficients_df = generate_lm_coefficients(D_lst_Yset, D_lst_xset, 'D')\n",
    "D_intercept = generate_lm_intercept(D_lst_Yset, D_lst_xset, 'D')\n",
    "\n",
    "E_coefficients_df = generate_lm_coefficients(E_lst_Yset, E_lst_xset, 'E')\n",
    "E_intercept = generate_lm_intercept(E_lst_Yset, E_lst_xset, 'E')\n",
    "\n",
    "F_coefficients_df = generate_lm_coefficients(F_lst_Yset, F_lst_xset, 'F')\n",
    "F_intercept = generate_lm_intercept(F_lst_Yset, F_lst_xset, 'F')\n",
    "\n",
    "ab = A_coefficients_df.join(B_coefficients_df, how='outer')\n",
    "cd = C_coefficients_df.join(D_coefficients_df, how='outer')\n",
    "ef = E_coefficients_df.join(F_coefficients_df, how='outer')\n",
    "\n",
    "abcd = ab.join(cd, how='outer')\n",
    "abcdef = abcd.join(ef, how='outer')"
   ]
  },
  {
   "cell_type": "code",
   "execution_count": 122,
   "metadata": {},
   "outputs": [
    {
     "name": "stdout",
     "output_type": "stream",
     "text": [
      "[-50.97131871637541, -45.86806608444655, -84.4863304197986, -60.52401029972127, -199.67462231507497, -95.1492952445241]\n"
     ]
    }
   ],
   "source": [
    "lst_intercepts = [A_intercept, B_intercept, C_intercept, D_intercept, E_intercept, F_intercept]\n",
    "print(lst_intercepts)"
   ]
  },
  {
   "cell_type": "code",
   "execution_count": 30,
   "metadata": {},
   "outputs": [],
   "source": [
    "df_Pi_FT01_PU01.to_excel(r'C:\\Users\\v.t.flores\\Documents\\Polishing_Filter_data.xlsx')"
   ]
  },
  {
   "cell_type": "code",
   "execution_count": 124,
   "metadata": {},
   "outputs": [],
   "source": [
    "abcdef.to_excel(r'C:\\Users\\v.t.flores\\Documents\\105PU01_coef_202001.xlsx')"
   ]
  },
  {
   "cell_type": "code",
   "execution_count": 135,
   "metadata": {},
   "outputs": [],
   "source": [
    "abcdef['Param'] = ['CUR', 'PDI', 'LVL']"
   ]
  },
  {
   "cell_type": "code",
   "execution_count": 136,
   "metadata": {},
   "outputs": [
    {
     "data": {
      "text/html": [
       "<div>\n",
       "<style scoped>\n",
       "    .dataframe tbody tr th:only-of-type {\n",
       "        vertical-align: middle;\n",
       "    }\n",
       "\n",
       "    .dataframe tbody tr th {\n",
       "        vertical-align: top;\n",
       "    }\n",
       "\n",
       "    .dataframe thead th {\n",
       "        text-align: right;\n",
       "    }\n",
       "</style>\n",
       "<table border=\"1\" class=\"dataframe\">\n",
       "  <thead>\n",
       "    <tr style=\"text-align: right;\">\n",
       "      <th></th>\n",
       "      <th>105PU01A_FLOW</th>\n",
       "      <th>PU01A_Param</th>\n",
       "      <th>105PU01B_FLOW</th>\n",
       "      <th>PU01B_Param</th>\n",
       "      <th>105PU01C_FLOW</th>\n",
       "      <th>PU01C_Param</th>\n",
       "      <th>105PU01D_FLOW</th>\n",
       "      <th>PU01D_Param</th>\n",
       "      <th>105PU01E_FLOW</th>\n",
       "      <th>PU01E_Param</th>\n",
       "      <th>105PU01F_FLOW</th>\n",
       "      <th>PU01F_Param</th>\n",
       "      <th>Param</th>\n",
       "    </tr>\n",
       "    <tr>\n",
       "      <th>Param</th>\n",
       "      <th></th>\n",
       "      <th></th>\n",
       "      <th></th>\n",
       "      <th></th>\n",
       "      <th></th>\n",
       "      <th></th>\n",
       "      <th></th>\n",
       "      <th></th>\n",
       "      <th></th>\n",
       "      <th></th>\n",
       "      <th></th>\n",
       "      <th></th>\n",
       "      <th></th>\n",
       "    </tr>\n",
       "  </thead>\n",
       "  <tbody>\n",
       "    <tr>\n",
       "      <td>CUR</td>\n",
       "      <td>3.407351</td>\n",
       "      <td>CUR</td>\n",
       "      <td>3.547783</td>\n",
       "      <td>105PU01B_CUR</td>\n",
       "      <td>3.257626</td>\n",
       "      <td>105PU01C_CUR</td>\n",
       "      <td>2.178435</td>\n",
       "      <td>105PU01D_CUR</td>\n",
       "      <td>5.611252</td>\n",
       "      <td>105PU01E_CUR</td>\n",
       "      <td>3.820922</td>\n",
       "      <td>105PU01F_CUR</td>\n",
       "      <td>CUR</td>\n",
       "    </tr>\n",
       "    <tr>\n",
       "      <td>PDI</td>\n",
       "      <td>-0.611869</td>\n",
       "      <td>PDI</td>\n",
       "      <td>-0.083041</td>\n",
       "      <td>105FT01B_PDI</td>\n",
       "      <td>-0.388686</td>\n",
       "      <td>105FT01C_PDI</td>\n",
       "      <td>-0.239893</td>\n",
       "      <td>105FT01D_PDI</td>\n",
       "      <td>-0.569772</td>\n",
       "      <td>105FT01E_PDI</td>\n",
       "      <td>-0.845621</td>\n",
       "      <td>105FT01F_PDI</td>\n",
       "      <td>PDI</td>\n",
       "    </tr>\n",
       "    <tr>\n",
       "      <td>LVL</td>\n",
       "      <td>0.769842</td>\n",
       "      <td>LVL</td>\n",
       "      <td>0.593790</td>\n",
       "      <td>105TK05_LVL</td>\n",
       "      <td>1.527447</td>\n",
       "      <td>105TK05_LVL</td>\n",
       "      <td>1.216804</td>\n",
       "      <td>105TK05_LVL</td>\n",
       "      <td>1.029304</td>\n",
       "      <td>105TK05_LVL</td>\n",
       "      <td>1.149037</td>\n",
       "      <td>105TK05_LVL</td>\n",
       "      <td>LVL</td>\n",
       "    </tr>\n",
       "  </tbody>\n",
       "</table>\n",
       "</div>"
      ],
      "text/plain": [
       "       105PU01A_FLOW PU01A_Param  105PU01B_FLOW   PU01B_Param  105PU01C_FLOW  \\\n",
       "Param                                                                          \n",
       "CUR         3.407351         CUR       3.547783  105PU01B_CUR       3.257626   \n",
       "PDI        -0.611869         PDI      -0.083041  105FT01B_PDI      -0.388686   \n",
       "LVL         0.769842         LVL       0.593790   105TK05_LVL       1.527447   \n",
       "\n",
       "        PU01C_Param  105PU01D_FLOW   PU01D_Param  105PU01E_FLOW   PU01E_Param  \\\n",
       "Param                                                                           \n",
       "CUR    105PU01C_CUR       2.178435  105PU01D_CUR       5.611252  105PU01E_CUR   \n",
       "PDI    105FT01C_PDI      -0.239893  105FT01D_PDI      -0.569772  105FT01E_PDI   \n",
       "LVL     105TK05_LVL       1.216804   105TK05_LVL       1.029304   105TK05_LVL   \n",
       "\n",
       "       105PU01F_FLOW   PU01F_Param Param  \n",
       "Param                                     \n",
       "CUR         3.820922  105PU01F_CUR   CUR  \n",
       "PDI        -0.845621  105FT01F_PDI   PDI  \n",
       "LVL         1.149037   105TK05_LVL   LVL  "
      ]
     },
     "execution_count": 136,
     "metadata": {},
     "output_type": "execute_result"
    }
   ],
   "source": [
    "abcdef.set_index(abcdef.Param)"
   ]
  },
  {
   "cell_type": "code",
   "execution_count": 141,
   "metadata": {},
   "outputs": [],
   "source": [
    "abcdef = abcdef.drop(['PU01A_Param', 'PU01B_Param', 'PU01C_Param', 'PU01D_Param', 'PU01E_Param', 'PU01F_Param'], axis=1)\n",
    "abcdef = abcdef.set_index(abcdef.Param)\n",
    "coeff_abcdef = abcdef.drop(['Param'], axis=1)"
   ]
  },
  {
   "cell_type": "code",
   "execution_count": null,
   "metadata": {},
   "outputs": [],
   "source": [
    "A_lst_xset\n",
    "B_lst_xset\n",
    "C_lst_xset\n",
    "D_lst_xset\n",
    "E_lst_xset\n",
    "F_lst_xset"
   ]
  },
  {
   "cell_type": "code",
   "execution_count": 143,
   "metadata": {},
   "outputs": [],
   "source": [
    "coeff_abcdef = abcdef"
   ]
  },
  {
   "cell_type": "code",
   "execution_count": 142,
   "metadata": {},
   "outputs": [
    {
     "data": {
      "text/html": [
       "<div>\n",
       "<style scoped>\n",
       "    .dataframe tbody tr th:only-of-type {\n",
       "        vertical-align: middle;\n",
       "    }\n",
       "\n",
       "    .dataframe tbody tr th {\n",
       "        vertical-align: top;\n",
       "    }\n",
       "\n",
       "    .dataframe thead th {\n",
       "        text-align: right;\n",
       "    }\n",
       "</style>\n",
       "<table border=\"1\" class=\"dataframe\">\n",
       "  <thead>\n",
       "    <tr style=\"text-align: right;\">\n",
       "      <th></th>\n",
       "      <th>105PU01A_FLOW</th>\n",
       "      <th>105PU01B_FLOW</th>\n",
       "      <th>105PU01C_FLOW</th>\n",
       "      <th>105PU01D_FLOW</th>\n",
       "      <th>105PU01E_FLOW</th>\n",
       "      <th>105PU01F_FLOW</th>\n",
       "    </tr>\n",
       "    <tr>\n",
       "      <th>Param</th>\n",
       "      <th></th>\n",
       "      <th></th>\n",
       "      <th></th>\n",
       "      <th></th>\n",
       "      <th></th>\n",
       "      <th></th>\n",
       "    </tr>\n",
       "  </thead>\n",
       "  <tbody>\n",
       "    <tr>\n",
       "      <td>CUR</td>\n",
       "      <td>3.407351</td>\n",
       "      <td>3.547783</td>\n",
       "      <td>3.257626</td>\n",
       "      <td>2.178435</td>\n",
       "      <td>5.611252</td>\n",
       "      <td>3.820922</td>\n",
       "    </tr>\n",
       "    <tr>\n",
       "      <td>PDI</td>\n",
       "      <td>-0.611869</td>\n",
       "      <td>-0.083041</td>\n",
       "      <td>-0.388686</td>\n",
       "      <td>-0.239893</td>\n",
       "      <td>-0.569772</td>\n",
       "      <td>-0.845621</td>\n",
       "    </tr>\n",
       "    <tr>\n",
       "      <td>LVL</td>\n",
       "      <td>0.769842</td>\n",
       "      <td>0.593790</td>\n",
       "      <td>1.527447</td>\n",
       "      <td>1.216804</td>\n",
       "      <td>1.029304</td>\n",
       "      <td>1.149037</td>\n",
       "    </tr>\n",
       "  </tbody>\n",
       "</table>\n",
       "</div>"
      ],
      "text/plain": [
       "       105PU01A_FLOW  105PU01B_FLOW  105PU01C_FLOW  105PU01D_FLOW  \\\n",
       "Param                                                               \n",
       "CUR         3.407351       3.547783       3.257626       2.178435   \n",
       "PDI        -0.611869      -0.083041      -0.388686      -0.239893   \n",
       "LVL         0.769842       0.593790       1.527447       1.216804   \n",
       "\n",
       "       105PU01E_FLOW  105PU01F_FLOW  \n",
       "Param                                \n",
       "CUR         5.611252       3.820922  \n",
       "PDI        -0.569772      -0.845621  \n",
       "LVL         1.029304       1.149037  "
      ]
     },
     "execution_count": 142,
     "metadata": {},
     "output_type": "execute_result"
    }
   ],
   "source": [
    "abcdef"
   ]
  },
  {
   "cell_type": "code",
   "execution_count": 157,
   "metadata": {},
   "outputs": [],
   "source": [
    "ft01A_lst = list()\n",
    "ft01A_datelist = list()\n",
    "for j in range(0, len(A_lst_xset)):\n",
    "    pu01_flow = 0\n",
    "    for i in range(0, len(A_lst_xset.iloc[j])):\n",
    "        #print(df_main2.iloc[j][i], \" * \" ,coeff_Zn_drop['Zn_drop'][i])\n",
    "        temp_product = A_lst_xset.iloc[j][i] * coeff_abcdef['105PU01A_FLOW'][i]\n",
    "        pu01_flow = pu01_flow + temp_product\n",
    "    pu01_flow_new = pu01_flow + lst_intercepts[1]\n",
    "    ft01A_lst.append(pu01_flow_new)\n",
    "    ft01A_datelist.append(A_lst_xset.index[j])\n",
    "    \n",
    "pu01_flow_and_date_lst = list(zip(ft01A_datelist, ft01A_lst))\n",
    "df_pu01_flow_and_date = pd.DataFrame(pu01_flow_and_date_lst)\n",
    "df_pu01_flow_and_date = df_pu01_flow_and_date.set_index(0)\n",
    "df_pu01_flow_and_date['105PU01A_FLOW'] = df_pu01_flow_and_date[1]"
   ]
  },
  {
   "cell_type": "code",
   "execution_count": 158,
   "metadata": {},
   "outputs": [
    {
     "data": {
      "text/html": [
       "<div>\n",
       "<style scoped>\n",
       "    .dataframe tbody tr th:only-of-type {\n",
       "        vertical-align: middle;\n",
       "    }\n",
       "\n",
       "    .dataframe tbody tr th {\n",
       "        vertical-align: top;\n",
       "    }\n",
       "\n",
       "    .dataframe thead th {\n",
       "        text-align: right;\n",
       "    }\n",
       "</style>\n",
       "<table border=\"1\" class=\"dataframe\">\n",
       "  <thead>\n",
       "    <tr style=\"text-align: right;\">\n",
       "      <th></th>\n",
       "      <th>1</th>\n",
       "      <th>105PU01A_FLOW</th>\n",
       "    </tr>\n",
       "    <tr>\n",
       "      <th>0</th>\n",
       "      <th></th>\n",
       "      <th></th>\n",
       "    </tr>\n",
       "  </thead>\n",
       "  <tbody>\n",
       "    <tr>\n",
       "      <td>2020-01-01 00:00:00</td>\n",
       "      <td>206.554567</td>\n",
       "      <td>206.554567</td>\n",
       "    </tr>\n",
       "    <tr>\n",
       "      <td>2020-01-01 00:01:00</td>\n",
       "      <td>207.930833</td>\n",
       "      <td>207.930833</td>\n",
       "    </tr>\n",
       "    <tr>\n",
       "      <td>2020-01-01 00:02:00</td>\n",
       "      <td>208.540510</td>\n",
       "      <td>208.540510</td>\n",
       "    </tr>\n",
       "    <tr>\n",
       "      <td>2020-01-01 00:03:00</td>\n",
       "      <td>206.769829</td>\n",
       "      <td>206.769829</td>\n",
       "    </tr>\n",
       "    <tr>\n",
       "      <td>2020-01-01 00:04:00</td>\n",
       "      <td>208.700433</td>\n",
       "      <td>208.700433</td>\n",
       "    </tr>\n",
       "    <tr>\n",
       "      <td>...</td>\n",
       "      <td>...</td>\n",
       "      <td>...</td>\n",
       "    </tr>\n",
       "    <tr>\n",
       "      <td>2020-01-01 11:55:00</td>\n",
       "      <td>206.922465</td>\n",
       "      <td>206.922465</td>\n",
       "    </tr>\n",
       "    <tr>\n",
       "      <td>2020-01-01 11:56:00</td>\n",
       "      <td>207.216208</td>\n",
       "      <td>207.216208</td>\n",
       "    </tr>\n",
       "    <tr>\n",
       "      <td>2020-01-01 11:57:00</td>\n",
       "      <td>205.733157</td>\n",
       "      <td>205.733157</td>\n",
       "    </tr>\n",
       "    <tr>\n",
       "      <td>2020-01-01 11:58:00</td>\n",
       "      <td>206.189025</td>\n",
       "      <td>206.189025</td>\n",
       "    </tr>\n",
       "    <tr>\n",
       "      <td>2020-01-01 11:59:00</td>\n",
       "      <td>206.249169</td>\n",
       "      <td>206.249169</td>\n",
       "    </tr>\n",
       "  </tbody>\n",
       "</table>\n",
       "<p>689 rows × 2 columns</p>\n",
       "</div>"
      ],
      "text/plain": [
       "                              1  105PU01A_FLOW\n",
       "0                                             \n",
       "2020-01-01 00:00:00  206.554567     206.554567\n",
       "2020-01-01 00:01:00  207.930833     207.930833\n",
       "2020-01-01 00:02:00  208.540510     208.540510\n",
       "2020-01-01 00:03:00  206.769829     206.769829\n",
       "2020-01-01 00:04:00  208.700433     208.700433\n",
       "...                         ...            ...\n",
       "2020-01-01 11:55:00  206.922465     206.922465\n",
       "2020-01-01 11:56:00  207.216208     207.216208\n",
       "2020-01-01 11:57:00  205.733157     205.733157\n",
       "2020-01-01 11:58:00  206.189025     206.189025\n",
       "2020-01-01 11:59:00  206.249169     206.249169\n",
       "\n",
       "[689 rows x 2 columns]"
      ]
     },
     "execution_count": 158,
     "metadata": {},
     "output_type": "execute_result"
    }
   ],
   "source": [
    "df_pu01_flow_and_date"
   ]
  },
  {
   "cell_type": "code",
   "execution_count": 190,
   "metadata": {},
   "outputs": [],
   "source": [
    "#Sheet From Pi\n",
    "#Step1: Load the Data for the month\n",
    "df_Pi_FT01_PU01 = pd.read_excel(r'C:\\Users\\v.t.flores\\Documents\\POLISHING_PUMP_FLOW_DATAGET_PRESENT.xlsx', sheet_name='PI_DATA', index_col=False)\n",
    "#Drop the row[1]\n",
    "df_Pi_FT01_PU01 = df_Pi_FT01_PU01.drop(df_Pi_FT01_PU01.index[0])\n",
    "#Set the index\n",
    "df_Pi_FT01_PU01.set_index('DATETIME', inplace=True)"
   ]
  },
  {
   "cell_type": "code",
   "execution_count": 191,
   "metadata": {},
   "outputs": [
    {
     "name": "stdout",
     "output_type": "stream",
     "text": [
      "Done. All param_df_generated 2020-05-28 11:23:45.676193\n"
     ]
    }
   ],
   "source": [
    "#Clean data from no good values\n",
    "df_Pi_FT01_PU01['105TK05_LVL'] = replace_no_good_data_with_Zero(df_Pi_FT01_PU01['105TK05_LVL'])\n",
    "df_Pi_FT01_PU01['105PU01A_CUR'] = replace_no_good_data_with_Zero(df_Pi_FT01_PU01['105PU01A_CUR'])\n",
    "df_Pi_FT01_PU01['105FT01A_PDI'] = replace_no_good_data_with_Zero(df_Pi_FT01_PU01['105FT01A_PDI'])\n",
    "df_Pi_FT01_PU01['105PU01B_CUR'] = replace_no_good_data_with_Zero(df_Pi_FT01_PU01['105PU01B_CUR'])\n",
    "df_Pi_FT01_PU01['105FT01B_PDI'] = replace_no_good_data_with_Zero(df_Pi_FT01_PU01['105FT01B_PDI'])\n",
    "df_Pi_FT01_PU01['105PU01C_CUR'] = replace_no_good_data_with_Zero(df_Pi_FT01_PU01['105PU01C_CUR'])\n",
    "df_Pi_FT01_PU01['105FT01C_PDI'] = replace_no_good_data_with_Zero(df_Pi_FT01_PU01['105FT01C_PDI'])\n",
    "df_Pi_FT01_PU01['105PU01D_CUR'] = replace_no_good_data_with_Zero(df_Pi_FT01_PU01['105PU01D_CUR'])\n",
    "df_Pi_FT01_PU01['105FT01D_PDI'] = replace_no_good_data_with_Zero(df_Pi_FT01_PU01['105FT01D_PDI'])\n",
    "df_Pi_FT01_PU01['105PU01E_CUR'] = replace_no_good_data_with_Zero(df_Pi_FT01_PU01['105PU01E_CUR'])\n",
    "df_Pi_FT01_PU01['105FT01E_PDI'] = replace_no_good_data_with_Zero(df_Pi_FT01_PU01['105FT01E_PDI'])\n",
    "df_Pi_FT01_PU01['105PU01F_CUR'] = replace_no_good_data_with_Zero(df_Pi_FT01_PU01['105PU01F_CUR'])\n",
    "df_Pi_FT01_PU01['105FT01F_PDI'] = replace_no_good_data_with_Zero(df_Pi_FT01_PU01['105FT01F_PDI'])\n",
    "\n",
    "####----------------------------------------------------------------------------------------\n",
    "df_Pi_FT01_PU01['105TK05_LVL'] = replace_neg_data_with_Zero(df_Pi_FT01_PU01['105TK05_LVL'])\n",
    "df_Pi_FT01_PU01['105PU01A_CUR'] = replace_neg_data_with_Zero(df_Pi_FT01_PU01['105PU01A_CUR'])\n",
    "df_Pi_FT01_PU01['105FT01A_PDI'] = replace_neg_data_with_Zero(df_Pi_FT01_PU01['105FT01A_PDI'])\n",
    "df_Pi_FT01_PU01['105PU01B_CUR'] = replace_neg_data_with_Zero(df_Pi_FT01_PU01['105PU01B_CUR'])\n",
    "df_Pi_FT01_PU01['105FT01B_PDI'] = replace_neg_data_with_Zero(df_Pi_FT01_PU01['105FT01B_PDI'])\n",
    "df_Pi_FT01_PU01['105PU01C_CUR'] = replace_neg_data_with_Zero(df_Pi_FT01_PU01['105PU01C_CUR'])\n",
    "df_Pi_FT01_PU01['105FT01C_PDI'] = replace_neg_data_with_Zero(df_Pi_FT01_PU01['105FT01C_PDI'])\n",
    "df_Pi_FT01_PU01['105PU01D_CUR'] = replace_neg_data_with_Zero(df_Pi_FT01_PU01['105PU01D_CUR'])\n",
    "df_Pi_FT01_PU01['105FT01D_PDI'] = replace_neg_data_with_Zero(df_Pi_FT01_PU01['105FT01D_PDI'])\n",
    "df_Pi_FT01_PU01['105PU01E_CUR'] = replace_neg_data_with_Zero(df_Pi_FT01_PU01['105PU01E_CUR'])\n",
    "df_Pi_FT01_PU01['105FT01E_PDI'] = replace_neg_data_with_Zero(df_Pi_FT01_PU01['105FT01E_PDI'])\n",
    "df_Pi_FT01_PU01['105PU01F_CUR'] = replace_neg_data_with_Zero(df_Pi_FT01_PU01['105PU01F_CUR'])\n",
    "df_Pi_FT01_PU01['105FT01F_PDI'] = replace_neg_data_with_Zero(df_Pi_FT01_PU01['105FT01F_PDI'])\n",
    "\n",
    "df_Pi_FT01_PU01.dropna()\n",
    "df_Pi_FT01_PU01.drop(df_Pi_FT01_PU01.index[-1], inplace=True) #remove the NaT value at the end of the index\n",
    "print('Done. All param_df_generated', datetime.datetime.now())\n",
    "#------------------------------------------------"
   ]
  },
  {
   "cell_type": "code",
   "execution_count": 192,
   "metadata": {},
   "outputs": [],
   "source": [
    "A_lst_xset_PRESENT = df_Pi_FT01_PU01[['105PU01A_CUR','105FT01A_PDI', '105TK05_LVL']]\n",
    "B_lst_xset_PRESENT = df_Pi_FT01_PU01[['105PU01B_CUR','105FT01B_PDI', '105TK05_LVL']]\n",
    "C_lst_xset_PRESENT = df_Pi_FT01_PU01[['105PU01C_CUR','105FT01C_PDI', '105TK05_LVL']]\n",
    "D_lst_xset_PRESENT = df_Pi_FT01_PU01[['105PU01D_CUR','105FT01D_PDI', '105TK05_LVL']]\n",
    "E_lst_xset_PRESENT = df_Pi_FT01_PU01[['105PU01E_CUR','105FT01E_PDI', '105TK05_LVL']]\n",
    "F_lst_xset_PRESENT = df_Pi_FT01_PU01[['105PU01F_CUR','105FT01F_PDI', '105TK05_LVL']]\n"
   ]
  },
  {
   "cell_type": "code",
   "execution_count": 175,
   "metadata": {},
   "outputs": [],
   "source": [
    "ft01A_lst = list()\n",
    "ft01A_datelist = list()\n",
    "for j in range(0, len(A_lst_xset_PRESENT)):\n",
    "    pu01_flow = 0\n",
    "    for i in range(0, len(A_lst_xset_PRESENT.iloc[j])):\n",
    "        #print(df_main2.iloc[j][i], \" * \" ,coeff_Zn_drop['Zn_drop'][i])\n",
    "        temp_product = A_lst_xset_PRESENT.iloc[j][i] * coeff_abcdef['105PU01A_FLOW'][i]\n",
    "        pu01_flow = pu01_flow + temp_product\n",
    "    pu01_flow_new = pu01_flow + lst_intercepts[1]\n",
    "    ft01A_lst.append(pu01_flow_new)\n",
    "    ft01A_datelist.append(A_lst_xset_PRESENT.index[j])\n",
    "    \n",
    "pu01_flow_and_date_lst = list(zip(ft01A_datelist, ft01A_lst))\n",
    "df_pu01_flow_and_date = pd.DataFrame(pu01_flow_and_date_lst)\n",
    "df_pu01_flow_and_date = df_pu01_flow_and_date.set_index(0)\n",
    "df_pu01_flow_and_date['105PU01A_FLOW'] = df_pu01_flow_and_date[1]\n",
    "df_pu01_flow_and_date = df_pu01_flow_and_date.drop(1, axis=1)"
   ]
  },
  {
   "cell_type": "code",
   "execution_count": 185,
   "metadata": {},
   "outputs": [],
   "source": [
    "def generate_pump_flow(pump_pi_param, pumplttr, ntrcpt_num):\n",
    "    coefname = '105PU01' + str(pumplttr) + '_FLOW'\n",
    "    ft01_lst = list()\n",
    "    ft01_datelist = list()\n",
    "    for j in range(0, len(pump_pi_param)):\n",
    "        pu01_flow = 0\n",
    "        for i in range(0, len(pump_pi_param.iloc[j])):\n",
    "            #print(df_main2.iloc[j][i], \" * \" ,coeff_Zn_drop['Zn_drop'][i])\n",
    "            temp_product = pump_pi_param.iloc[j][i] * coeff_abcdef[coefname][i]\n",
    "            pu01_flow = pu01_flow + temp_product\n",
    "        pu01_flow_new = pu01_flow + lst_intercepts[ntrcpt_num]\n",
    "        ft01_lst.append(pu01_flow_new)\n",
    "        ft01_datelist.append(pump_pi_param.index[j])\n",
    "\n",
    "    pu01_flow_and_date_lst = list(zip(ft01_datelist, ft01_lst))\n",
    "    df_pu01_flow_and_date = pd.DataFrame(pu01_flow_and_date_lst)\n",
    "    df_pu01_flow_and_date = df_pu01_flow_and_date.set_index(0)\n",
    "    df_pu01_flow_and_date[coefname] = df_pu01_flow_and_date[1]\n",
    "    df_pu01_flow_and_date = df_pu01_flow_and_date.drop(1, axis=1)\n",
    "    \n",
    "    return df_pu01_flow_and_date"
   ]
  },
  {
   "cell_type": "code",
   "execution_count": 193,
   "metadata": {},
   "outputs": [],
   "source": [
    "PU01A = generate_pump_flow(A_lst_xset_PRESENT, 'A', 0)\n",
    "PU01B = generate_pump_flow(B_lst_xset_PRESENT, 'B', 1)\n",
    "PU01C = generate_pump_flow(C_lst_xset_PRESENT, 'C', 2)\n",
    "PU01D = generate_pump_flow(D_lst_xset_PRESENT, 'D', 3)\n",
    "PU01E = generate_pump_flow(E_lst_xset_PRESENT, 'E', 4)\n",
    "PU01F = generate_pump_flow(F_lst_xset_PRESENT, 'F', 5)"
   ]
  },
  {
   "cell_type": "code",
   "execution_count": 200,
   "metadata": {},
   "outputs": [
    {
     "name": "stdout",
     "output_type": "stream",
     "text": [
      "252.51197869967396\n",
      "264.49750164401416\n",
      "268.38443751045236\n",
      "130.03802493564967\n",
      "301.16438041628624\n",
      "242.98382814979752\n"
     ]
    }
   ],
   "source": [
    "print(PU01A['105PU01A_FLOW'][-1])\n",
    "print(PU01B['105PU01B_FLOW'][-1])\n",
    "print(PU01C['105PU01C_FLOW'][-1])\n",
    "print(PU01D['105PU01D_FLOW'][-1])\n",
    "print(PU01E['105PU01E_FLOW'][-1])\n",
    "print(PU01F['105PU01F_FLOW'][-1])"
   ]
  },
  {
   "cell_type": "code",
   "execution_count": 202,
   "metadata": {},
   "outputs": [
    {
     "data": {
      "text/plain": [
       "1459.5801513558738"
      ]
     },
     "execution_count": 202,
     "metadata": {},
     "output_type": "execute_result"
    }
   ],
   "source": [
    "PU01A['105PU01A_FLOW'][-1] + PU01B['105PU01B_FLOW'][-1] + PU01C['105PU01C_FLOW'][-1] + PU01D['105PU01D_FLOW'][-1] +  PU01E['105PU01E_FLOW'][-1] + PU01F['105PU01F_FLOW'][-1]"
   ]
  },
  {
   "cell_type": "code",
   "execution_count": 179,
   "metadata": {},
   "outputs": [
    {
     "data": {
      "text/html": [
       "<div>\n",
       "<style scoped>\n",
       "    .dataframe tbody tr th:only-of-type {\n",
       "        vertical-align: middle;\n",
       "    }\n",
       "\n",
       "    .dataframe tbody tr th {\n",
       "        vertical-align: top;\n",
       "    }\n",
       "\n",
       "    .dataframe thead th {\n",
       "        text-align: right;\n",
       "    }\n",
       "</style>\n",
       "<table border=\"1\" class=\"dataframe\">\n",
       "  <thead>\n",
       "    <tr style=\"text-align: right;\">\n",
       "      <th></th>\n",
       "      <th>105PU01A_FLOW</th>\n",
       "    </tr>\n",
       "    <tr>\n",
       "      <th>0</th>\n",
       "      <th></th>\n",
       "    </tr>\n",
       "  </thead>\n",
       "  <tbody>\n",
       "    <tr>\n",
       "      <td>2020-05-28 00:00:00</td>\n",
       "      <td>229.494286</td>\n",
       "    </tr>\n",
       "    <tr>\n",
       "      <td>2020-05-28 00:01:00</td>\n",
       "      <td>237.943856</td>\n",
       "    </tr>\n",
       "    <tr>\n",
       "      <td>2020-05-28 00:02:00</td>\n",
       "      <td>238.059925</td>\n",
       "    </tr>\n",
       "    <tr>\n",
       "      <td>2020-05-28 00:03:00</td>\n",
       "      <td>237.403761</td>\n",
       "    </tr>\n",
       "    <tr>\n",
       "      <td>2020-05-28 00:04:00</td>\n",
       "      <td>237.635463</td>\n",
       "    </tr>\n",
       "    <tr>\n",
       "      <td>...</td>\n",
       "      <td>...</td>\n",
       "    </tr>\n",
       "    <tr>\n",
       "      <td>2020-05-28 10:44:00</td>\n",
       "      <td>262.825539</td>\n",
       "    </tr>\n",
       "    <tr>\n",
       "      <td>2020-05-28 10:45:00</td>\n",
       "      <td>262.146121</td>\n",
       "    </tr>\n",
       "    <tr>\n",
       "      <td>2020-05-28 10:46:00</td>\n",
       "      <td>263.984319</td>\n",
       "    </tr>\n",
       "    <tr>\n",
       "      <td>2020-05-28 10:47:00</td>\n",
       "      <td>263.312467</td>\n",
       "    </tr>\n",
       "    <tr>\n",
       "      <td>2020-05-28 10:48:00</td>\n",
       "      <td>261.597900</td>\n",
       "    </tr>\n",
       "  </tbody>\n",
       "</table>\n",
       "<p>649 rows × 1 columns</p>\n",
       "</div>"
      ],
      "text/plain": [
       "                     105PU01A_FLOW\n",
       "0                                 \n",
       "2020-05-28 00:00:00     229.494286\n",
       "2020-05-28 00:01:00     237.943856\n",
       "2020-05-28 00:02:00     238.059925\n",
       "2020-05-28 00:03:00     237.403761\n",
       "2020-05-28 00:04:00     237.635463\n",
       "...                            ...\n",
       "2020-05-28 10:44:00     262.825539\n",
       "2020-05-28 10:45:00     262.146121\n",
       "2020-05-28 10:46:00     263.984319\n",
       "2020-05-28 10:47:00     263.312467\n",
       "2020-05-28 10:48:00     261.597900\n",
       "\n",
       "[649 rows x 1 columns]"
      ]
     },
     "execution_count": 179,
     "metadata": {},
     "output_type": "execute_result"
    }
   ],
   "source": [
    "df_pu01_flow_and_date"
   ]
  },
  {
   "cell_type": "code",
   "execution_count": 184,
   "metadata": {},
   "outputs": [
    {
     "data": {
      "image/png": "[encoded data removed]",
      "text/plain": [
       "<Figure size 432x288 with 1 Axes>"
      ]
     },
     "metadata": {
      "needs_background": "light"
     },
     "output_type": "display_data"
    }
   ],
   "source": [
    "plt.plot(df_pu01_flow_and_date.index, df_pu01_flow_and_date['105PU01A_FLOW'])\n",
    "plt.xticks(rotation=90)\n",
    "plt.show()"
   ]
  },
  {
   "cell_type": "code",
   "execution_count": null,
   "metadata": {},
   "outputs": [],
   "source": []
  }
 ],
 "metadata": {
  "kernelspec": {
   "display_name": "Python 3",
   "language": "python",
   "name": "python3"
  },
  "language_info": {
   "codemirror_mode": {
    "name": "ipython",
    "version": 3
   },
   "file_extension": ".py",
   "mimetype": "text/x-python",
   "name": "python",
   "nbconvert_exporter": "python",
   "pygments_lexer": "ipython3",
   "version": "3.7.4"
  }
 },
 "nbformat": 4,
 "nbformat_minor": 2
}
