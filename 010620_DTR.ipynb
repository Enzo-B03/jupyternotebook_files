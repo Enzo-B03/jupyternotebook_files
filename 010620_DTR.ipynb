{
 "cells": [
  {
   "cell_type": "code",
   "execution_count": 80,
   "metadata": {},
   "outputs": [],
   "source": [
    "#This program updates the attendance time logs. It detects what the actual shift is rendered\n",
    "\n",
    "import time, datetime\n",
    "import openpyxl\n",
    "wb = openpyxl.load_workbook(r'C:\\Users\\v.t.flores\\Documents\\December 31 - January 2 timelogs_cleandataiiiii.xlsx')\n",
    "\n",
    "sheet = wb['Sheet1']\n"
   ]
  },
  {
   "cell_type": "code",
   "execution_count": 81,
   "metadata": {},
   "outputs": [],
   "source": [
    "#Create a new column with the concatenated date and time as values.\n",
    "for i in range (2, sheet.max_row+1):\n",
    "    date_str = str(sheet['C' + str(i)].value).split(\" \")[0] + \" \"+ str(sheet['D' + str(i)].value)\n",
    "    date_date = datetime.datetime.strptime(date_str, '%Y-%m-%d %H:%M:%S')\n",
    "    sheet.cell(row=i, column=8).value = date_date"
   ]
  },
  {
   "cell_type": "code",
   "execution_count": 102,
   "metadata": {},
   "outputs": [],
   "source": [
    "def convTimeIn(timeIn):\n",
    "    hr = timeIn.strftime('%H:%M:%S').split(\":\")[0]\n",
    "    mint = timeIn.strftime('%H:%M:%S').split(\":\")[1]\n",
    "    sec = timeIn.strftime('%H:%M:%S').split(\":\")[2]\n",
    "    newTime = datetime.timedelta(hours=int(hr), minutes=int(mint), seconds=int(sec))\n",
    "    \n",
    "    return newTime\n",
    "\n",
    "def nearestTimeIn(timeIn): #This fcn compares the time-in to the nearest equivalent shift\n",
    "    if timeIn < datetime.time(1,30,0):\n",
    "        return '_1st'\n",
    "        \n",
    "    else:\n",
    "        _2nd = datetime.timedelta(hours=7)\n",
    "        _3ET = datetime.timedelta(hours=11)\n",
    "        _3rd = datetime.timedelta(hours=15)\n",
    "        _1ET = datetime.timedelta(hours=19)\n",
    "        _1st = datetime.timedelta(hours=23)\n",
    "        _2ET = datetime.timedelta(hours=3)\n",
    "\n",
    "        tFrom_2nd = abs(convTimeIn(timeIn)-_2nd)\n",
    "        tFrom_3ET = abs(convTimeIn(timeIn)-_3ET)\n",
    "        tFrom_3rd = abs(convTimeIn(timeIn)-_3rd)\n",
    "        tFrom_1ET = abs(convTimeIn(timeIn)-_1ET)\n",
    "        tFrom_1st = abs(convTimeIn(timeIn)-_1st)\n",
    "        tFrom_2ET = abs(convTimeIn(timeIn)-_2ET)\n",
    "\n",
    "\n",
    "        timeInList = [(tFrom_2nd), (tFrom_3ET), (tFrom_3rd), (tFrom_1ET), (tFrom_1st), (tFrom_2ET)]\n",
    "\n",
    "        probShiftlist = {str(tFrom_2nd): '_2nd', str(tFrom_3ET): '_3ET', str(tFrom_3rd):'_3rd', str(tFrom_1ET): '_1ET', str(tFrom_1st):'_1st', str(tFrom_2ET):'_2ET'}\n",
    "\n",
    "        return probShiftlist[str(sorted(timeInList)[0])]\n",
    "    "
   ]
  },
  {
   "cell_type": "code",
   "execution_count": 85,
   "metadata": {},
   "outputs": [],
   "source": [
    "def nearestTimeOut(timeOut): #This fcn compares the time-out to the nearest equivalent shift\n",
    "    \n",
    "    #list of timeouts\n",
    "    _2nd = datetime.timedelta(hours=15)\n",
    "    _3ET = datetime.timedelta(hours=23)\n",
    "    _3rd = datetime.timedelta(hours=23)\n",
    "    _1ET = datetime.timedelta(hours=7)\n",
    "    _1st = datetime.timedelta(hours=7)\n",
    "    _2ET = datetime.timedelta(hours=15)\n",
    "    \n",
    "    tFrom_2nd_out = abs(convTimeIn(timeOut)-_2nd)\n",
    "    tFrom_3ET_out = abs(convTimeIn(timeOut)-_3ET)\n",
    "    tFrom_3rd_out = abs(convTimeIn(timeOut)-_3rd)\n",
    "    tFrom_1ET_out = abs(convTimeIn(timeOut)-_1ET)\n",
    "    tFrom_1st_out = abs(convTimeIn(timeOut)-_1st)\n",
    "    tFrom_2ET_out = abs(convTimeIn(timeOut)-_2ET)\n",
    "    \n",
    "        \n",
    "    timeInList = [str(tFrom_2nd_out), str(tFrom_3ET_out), str(tFrom_3rd_out), str(tFrom_1ET_out), str(tFrom_1st_out), str(tFrom_2ET_out)]\n",
    "    \n",
    "    probShiftlist = {str(tFrom_2nd_out): '_2nd', str(tFrom_3ET_out): '_3ET', str(tFrom_3rd_out):'_3rd', str(tFrom_1ET_out): '_1ET', str(tFrom_1st_out):'_1st', str(tFrom_2ET_out):'_2ET'}\n",
    "    \n",
    "    return probShiftlist[sorted(timeInList)[0]]"
   ]
  },
  {
   "cell_type": "code",
   "execution_count": 12,
   "metadata": {},
   "outputs": [],
   "source": [
    "wb.save(r'C:\\Users\\v.t.flores\\Documents\\December 31 - January 2 timelogs_trialdataclean010620ii.xlsx')"
   ]
  },
  {
   "cell_type": "code",
   "execution_count": 86,
   "metadata": {},
   "outputs": [
    {
     "data": {
      "text/plain": [
       "'_3rd'"
      ]
     },
     "execution_count": 86,
     "metadata": {},
     "output_type": "execute_result"
    }
   ],
   "source": [
    "nearestTimeOut(sheet['D245'].value)"
   ]
  },
  {
   "cell_type": "code",
   "execution_count": 87,
   "metadata": {},
   "outputs": [
    {
     "data": {
      "text/plain": [
       "datetime.time(23, 17, 49)"
      ]
     },
     "execution_count": 87,
     "metadata": {},
     "output_type": "execute_result"
    }
   ],
   "source": [
    "sheet['D245'].value"
   ]
  },
  {
   "cell_type": "code",
   "execution_count": 83,
   "metadata": {},
   "outputs": [
    {
     "name": "stdout",
     "output_type": "stream",
     "text": [
      "1\n",
      "1\n",
      "1\n",
      "2OT\n",
      "2OT\n",
      "2OT\n",
      "2OT\n",
      "2OT\n",
      "2OT\n",
      "1\n",
      "3ET\n",
      "3ET\n",
      "3\n",
      "3\n",
      "3\n",
      "3\n",
      "2\n",
      "2\n",
      "2\n",
      "2\n",
      "2\n",
      "2\n",
      "3\n",
      "3\n",
      "3\n",
      "2OT\n",
      "2OT\n",
      "1ET\n",
      "1ET\n",
      "1ET\n",
      "3OT\n",
      "3OT\n",
      "3OT\n",
      "3\n",
      "1\n",
      "1\n",
      "2\n",
      "2\n",
      "2\n",
      "2\n",
      "2\n",
      "2\n",
      "3\n",
      "3\n",
      "3\n",
      "2\n",
      "2\n",
      "2OT\n",
      "2\n",
      "2OT\n",
      "2OT\n",
      "2OT\n",
      "2\n",
      "2\n",
      "2\n",
      "2\n",
      "2\n",
      "2\n",
      "2\n",
      "1ET\n",
      "1ET\n",
      "1ET\n",
      "1ET\n",
      "1ET\n",
      "2OT\n",
      "2 (Late)\n",
      "1ET\n",
      "3\n",
      "2\n",
      "2\n",
      "1ET\n",
      "1\n",
      "2\n",
      "2OT\n",
      "2\n",
      "2\n",
      "2\n",
      "3\n",
      "3\n",
      "3\n",
      "2OT\n",
      "2OT\n",
      "3\n",
      "3\n",
      "3\n",
      "2\n",
      "2\n",
      "3\n",
      "3\n",
      "1\n",
      "2\n",
      "2\n",
      "2\n",
      "2\n",
      "2\n",
      "1\n",
      "1\n",
      "2OT\n",
      "1ET\n",
      "2OT\n",
      "3ET\n",
      "3\n",
      "2\n",
      "2OT\n",
      "2\n",
      "2OT\n",
      "2OT\n",
      "3\n",
      "1\n",
      "1\n",
      "1OT\n",
      "1OT\n",
      "3ET\n",
      "3ET\n",
      "3ET\n",
      "1OT\n",
      "3ET\n",
      "3\n",
      "1\n",
      "1\n",
      "1\n",
      "1OT\n",
      "1OT\n",
      "2 (Late)\n",
      "2 (Late)\n",
      "3\n",
      "3\n",
      "2\n",
      "3OT\n",
      "3OT\n",
      "3OT\n",
      "1\n",
      "2OT\n",
      "2\n",
      "2\n",
      "2\n",
      "2\n",
      "2\n",
      "1\n",
      "1\n",
      "3\n",
      "2\n",
      "3\n",
      "3\n",
      "1ET\n",
      "2\n",
      "1\n",
      "2\n",
      "2OT\n",
      "2\n",
      "2\n",
      "2\n",
      "1ET\n",
      "3\n",
      "3\n",
      "2\n",
      "2\n",
      "2\n",
      "2\n",
      "2\n",
      "2\n",
      "2\n",
      "2OT\n",
      "3ET\n",
      "3ET\n",
      "3\n",
      "2OT\n",
      "2OT\n",
      "2OT\n",
      "3\n",
      "2\n",
      "2\n",
      "2\n",
      "2\n",
      "2\n",
      "2\n",
      "2\n",
      "2OT\n",
      "2\n",
      "2OT\n",
      "2\n",
      "2\n",
      "3\n",
      "3\n",
      "1ET\n",
      "3\n",
      "2 (Late)\n",
      "2\n",
      "2\n",
      "2\n",
      "3ET\n",
      "3ET\n",
      "3\n",
      "3\n",
      "3\n",
      "3\n",
      "3\n",
      "3ET\n",
      "3ET\n"
     ]
    }
   ],
   "source": [
    "for in_ in range(2, sheet.max_row + 1):\n",
    "    for out_ in range(2, sheet.max_row + 1):\n",
    "        if sheet['E' + str(in_)].value == 'IN'and sheet['E' + str(out_)].value == 'OUT':\n",
    "            if sheet['A' + str(in_)].value == sheet['A' + str(out_)].value:\n",
    "                if out_>in_:\n",
    "                    #computing for hours worked\n",
    "                    dif = sheet['H' + str(out_)].value - sheet['H' + str(in_)].value\n",
    "                    sheet['K' + str(out_)].value = dif\n",
    "                \n",
    "                    schd_in = nearestTimeIn(sheet['D' + str(in_)].value)\n",
    "                    schd_out = nearestTimeIn(sheet['D' + str(out_)].value)\n",
    "\n",
    "                    t_in = sheet['D' + str(in_)].value\n",
    "                    t_out = sheet['D' + str(out_)].value\n",
    "                    \n",
    "                \n",
    "                    #check if 1ET or 3rd late\n",
    "                    if  schd_in == '_1ET':\n",
    "                        if t_out < datetime.time(hour=7): #timeOut before 7am (meaning not 1st shift)\n",
    "                            print('3 (Late)')\n",
    "                            #sheet['L' + str(out_)].value = '3rd (Late)'\n",
    "                        else:\n",
    "                            print('1ET')\n",
    "                            sheet['L' + str(out_)].value = '1ET'\n",
    "                    #check if 3rd late\n",
    "                    if schd_in == '_3rd':\n",
    "                        if t_in > datetime.time(hour=15): #timeIn after 3pm (meaning late)\n",
    "                            print('3 (Late)')\n",
    "                            sheet['L' + str(out_)].value = '3 (Late)'\n",
    "                        elif t_out > datetime.time(hour=3) and t_out < datetime.time(hour=7):\n",
    "                            print('3OT')\n",
    "                            sheet['L' + str(out_)].value = '3OT'\n",
    "                        else:\n",
    "                            print('3')\n",
    "                            sheet['L' + str(out_)].value = '3'\n",
    "                    #check if 2nd late\n",
    "                    if schd_in == '_2nd':\n",
    "                        if t_in > datetime.time(hour=7):  #timeIn after 7am (meaning late)\n",
    "                            if t_out> datetime.time(hour=19):\n",
    "                                print('2 (Late)')\n",
    "                                sheet['L' + str(out_)].value = '2 (Late)'\n",
    "                            else:\n",
    "                                print('2 (Late)')\n",
    "                                sheet['L' + str(out_)].value = '2 (Late)'\n",
    "                                                \n",
    "                        elif t_out > datetime.time(hour=19):\n",
    "                            print('2OT')\n",
    "                            sheet['L' + str(out_)].value = '2OT'\n",
    "                        else:\n",
    "                            print('2')\n",
    "                            sheet['L' + str(out_)].value = '2'\n",
    "                    #check if 1st late\n",
    "                    if schd_in == '_1st':\n",
    "                        if t_in > datetime.time(hour=23): #timeIn after 11pm (meaning late)\n",
    "                            print('1 (Late)')\n",
    "                            sheet['L' + str(out_)].value = '1 (Late)'\n",
    "                        elif t_out > datetime.time(hour=11):\n",
    "                            print('1OT')\n",
    "                            sheet['L' + str(out_)].value = '1OT'                    \n",
    "                        else:\n",
    "                            print('1')\n",
    "                            sheet['L' + str(out_)].value = '1'\n",
    "                    #check if 3rd late\n",
    "                    if schd_in == '_3ET':\n",
    "                        if t_out < datetime.time(hour=23):\n",
    "                            print('2 (Late)')\n",
    "                            sheet['L' + str(out_)].value = '2 (Late)'\n",
    "                        elif t_in < datetime.time(hour=11): \n",
    "                            if t_out > datetime.time(hour=23):\n",
    "                                print('3ET')\n",
    "                                sheet['L' + str(out_)].value = '3ET'\n",
    "                            elif t_out > datetime.time(hour=0) and t_out < datetime.time(hour=7):\n",
    "                                print('3ET')\n",
    "                                sheet['L' + str(out_)].value = '3ET'\n",
    "                        else:\n",
    "                            print('3')\n",
    "                            sheet['L' + str(out_)].value = '3'         \n",
    "\n"
   ]
  },
  {
   "cell_type": "code",
   "execution_count": 84,
   "metadata": {},
   "outputs": [],
   "source": [
    "wb.save(r'C:\\Users\\v.t.flores\\Documents\\DTR_outputi.xlsx')"
   ]
  },
  {
   "cell_type": "code",
   "execution_count": null,
   "metadata": {},
   "outputs": [],
   "source": [
    "#attempts for sheet 2"
   ]
  },
  {
   "cell_type": "code",
   "execution_count": 88,
   "metadata": {},
   "outputs": [
    {
     "data": {
      "text/plain": [
       "datetime.timedelta(seconds=83869)"
      ]
     },
     "execution_count": 88,
     "metadata": {},
     "output_type": "execute_result"
    }
   ],
   "source": [
    "convTimeIn(datetime.time(23, 17, 49))"
   ]
  },
  {
   "cell_type": "code",
   "execution_count": 90,
   "metadata": {},
   "outputs": [
    {
     "data": {
      "text/plain": [
       "False"
      ]
     },
     "execution_count": 90,
     "metadata": {},
     "output_type": "execute_result"
    }
   ],
   "source": [
    "datetime.time(23, 17, 49) < datetime.time(1, 23, 49)"
   ]
  },
  {
   "cell_type": "code",
   "execution_count": 99,
   "metadata": {},
   "outputs": [
    {
     "data": {
      "text/plain": [
       "'_3rd'"
      ]
     },
     "execution_count": 99,
     "metadata": {},
     "output_type": "execute_result"
    }
   ],
   "source": [
    "nearestTimeIn(datetime.time(1, 30, 0))"
   ]
  },
  {
   "cell_type": "code",
   "execution_count": 101,
   "metadata": {},
   "outputs": [
    {
     "name": "stdout",
     "output_type": "stream",
     "text": [
      "['13:30:00', '17:30:00', '1:30:00', '21:30:00', '5:30:00', '9:30:00']\n"
     ]
    },
    {
     "data": {
      "text/plain": [
       "'_3rd'"
      ]
     },
     "execution_count": 101,
     "metadata": {},
     "output_type": "execute_result"
    }
   ],
   "source": [
    "def nearestTimeIntest(timeIn): #This fcn compares the time-in to the nearest equivalent shift\n",
    "    if timeIn < datetime.time(1,30,0):\n",
    "        return '_1st'\n",
    "        \n",
    "    else:\n",
    "        _2nd = datetime.timedelta(hours=7)\n",
    "        _3ET = datetime.timedelta(hours=11)\n",
    "        _3rd = datetime.timedelta(hours=15)\n",
    "        _1ET = datetime.timedelta(hours=19)\n",
    "        _1st = datetime.timedelta(hours=23)\n",
    "        _2ET = datetime.timedelta(hours=3)\n",
    "\n",
    "        tFrom_2nd = abs(convTimeIn(timeIn)-_2nd)\n",
    "        tFrom_3ET = abs(convTimeIn(timeIn)-_3ET)\n",
    "        tFrom_3rd = abs(convTimeIn(timeIn)-_3rd)\n",
    "        tFrom_1ET = abs(convTimeIn(timeIn)-_1ET)\n",
    "        tFrom_1st = abs(convTimeIn(timeIn)-_1st)\n",
    "        tFrom_2ET = abs(convTimeIn(timeIn)-_2ET)\n",
    "\n",
    "\n",
    "        timeInList = [str(tFrom_2nd), str(tFrom_3ET), str(tFrom_3rd), str(tFrom_1ET), str(tFrom_1st), str(tFrom_2ET)]\n",
    "\n",
    "        probShiftlist = {str(tFrom_2nd): '_2nd', str(tFrom_3ET): '_3ET', str(tFrom_3rd):'_3rd', str(tFrom_1ET): '_1ET', str(tFrom_1st):'_1st', str(tFrom_2ET):'_2ET'}\n",
    "        \n",
    "        print(sorted(timeInList))\n",
    "        return probShiftlist[sorted(timeInList)[0]]\n",
    "\n",
    "nearestTimeIntest(datetime.time(1, 30, 0))"
   ]
  },
  {
   "cell_type": "code",
   "execution_count": 113,
   "metadata": {},
   "outputs": [
    {
     "data": {
      "text/plain": [
       "'_3ET'"
      ]
     },
     "execution_count": 113,
     "metadata": {},
     "output_type": "execute_result"
    }
   ],
   "source": [
    "nearestTimeIn(datetime.time(9, 45, 0))"
   ]
  },
  {
   "cell_type": "code",
   "execution_count": null,
   "metadata": {},
   "outputs": [],
   "source": []
  }
 ],
 "metadata": {
  "kernelspec": {
   "display_name": "Python 3",
   "language": "python",
   "name": "python3"
  },
  "language_info": {
   "codemirror_mode": {
    "name": "ipython",
    "version": 3
   },
   "file_extension": ".py",
   "mimetype": "text/x-python",
   "name": "python",
   "nbconvert_exporter": "python",
   "pygments_lexer": "ipython3",
   "version": "3.7.4"
  }
 },
 "nbformat": 4,
 "nbformat_minor": 2
}
