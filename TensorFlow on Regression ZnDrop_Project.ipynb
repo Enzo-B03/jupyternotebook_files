{
 "cells": [
  {
   "cell_type": "markdown",
   "metadata": {},
   "source": [
    "### Tensorflow Regression Zn drop"
   ]
  },
  {
   "cell_type": "code",
   "execution_count": null,
   "metadata": {},
   "outputs": [],
   "source": []
  },
  {
   "cell_type": "code",
   "execution_count": 85,
   "metadata": {},
   "outputs": [],
   "source": [
    "import pathlib\n",
    "import pandas as pd\n",
    "import seaborn as sns\n",
    "\n",
    "import tensorflow as tf\n",
    "from tensorflow import keras\n",
    "from tensorflow.keras import layers\n",
    "from tensorflow.keras import regularizers"
   ]
  },
  {
   "cell_type": "markdown",
   "metadata": {},
   "source": [
    "###### Import the dataset"
   ]
  },
  {
   "cell_type": "code",
   "execution_count": 90,
   "metadata": {},
   "outputs": [],
   "source": [
    "# dataset_path = r'C:\\Users\\v.t.flores\\Documents\\ZnNi_project_2015_2020_dataset.xlsx'\n",
    "#Loading the new dataset that has the new value for negative infinity values\n",
    "\n",
    "#dataset_path = r'C:\\Users\\v.t.flores\\Documents\\ZnNi_project_2015_2020_dataset3.xlsx'\n",
    "\n",
    "dataset_path = r'C:\\Users\\v.t.flores\\Documents\\ZnNi_project_2015_2020_dataset3.xlsx'\n",
    "\n",
    "raw_dataset = pd.read_excel(dataset_path)\n",
    "dataset = raw_dataset.set_index('DATETIME')\n",
    "\n",
    "for col in dataset.columns:\n",
    "    dataset[col] = pd.to_numeric(dataset[col], errors='coerce')\n",
    "dataset.interpolate(method='linear', limit_direction = 'forward', inplace=True)"
   ]
  },
  {
   "cell_type": "markdown",
   "metadata": {},
   "source": [
    "###### Clean the data"
   ]
  },
  {
   "cell_type": "code",
   "execution_count": 4,
   "metadata": {},
   "outputs": [],
   "source": [
    "dataset = dataset.dropna()"
   ]
  },
  {
   "cell_type": "code",
   "execution_count": 5,
   "metadata": {},
   "outputs": [
    {
     "data": {
      "text/plain": [
       "Index(['104_Al', '104_Ca', '104_Co', '104_Cr', '104_Cu', '104_Fe', '104_Fe2',\n",
       "       '104_Ft', '104_Mg', '104_Mn', '104_NTU', '104_Ni', '104_ORP', '104_Pb',\n",
       "       '104_Si', '104_Zn', '104_pH60', 'DeZn_Feed_Flow', 'DeZn_Feed_T',\n",
       "       'H2S_tk01', 'H2S_tk02', '106_Ni', '106_Zn', 'tk05_Al', 'tk05_Ca',\n",
       "       'tk05_Co', 'tk05_Cr', 'tk05_Cu', 'tk05_Fe', 'tk05_Mg', 'tk05_Mn',\n",
       "       'tk05_Ni', 'tk05_Pb', 'tk05_Si', 'tk05_Zn', 'DeZn_TK05_T', 'tk03_Zn',\n",
       "       'Zn_Drop', 'ZnNi_Ratio'],\n",
       "      dtype='object')"
      ]
     },
     "execution_count": 5,
     "metadata": {},
     "output_type": "execute_result"
    }
   ],
   "source": [
    "dataset.columns"
   ]
  },
  {
   "cell_type": "code",
   "execution_count": 6,
   "metadata": {},
   "outputs": [],
   "source": []
  },
  {
   "cell_type": "code",
   "execution_count": 91,
   "metadata": {},
   "outputs": [],
   "source": [
    "# dataset_path = r'C:\\Users\\v.t.flores\\Documents\\ZnNi_project_2015_2020_dataset.xlsx'\n",
    "#Loading the new dataset that has the new value for negative infinity values\n",
    "columns_include = ['104_Al', '104_Ca', '104_Co', '104_Cr', '104_Cu',\n",
    "                   '104_Fe', '104_Fe2','104_Ft', '104_Mg', '104_Mn', \n",
    "                   '104_NTU', '104_Ni', '104_ORP', '104_Pb','104_Si', \n",
    "                   '104_Zn', '104_pH60', 'DeZn_Feed_Flow', 'DeZn_Feed_T','DeZn_TK05_T', \n",
    "                   'H2S_tk01', 'H2S_tk02', 'Zn_Drop','tk05_Al', 'tk05_Ca',\n",
    "                   'tk05_Co', 'tk05_Cr', 'tk05_Cu', 'tk05_Fe','tk05_Mg',\n",
    "                   'tk05_Mn', 'tk05_Ni', 'tk05_Pb', 'tk05_Si', 'tk05_Zn']\n",
    "\n",
    "dataset_path_dataset2 = r'C:\\Users\\v.t.flores\\Documents\\ZnNi_project_2015_2020_dataset3.xlsx'\n",
    "raw_dataset2 = pd.read_excel(dataset_path_dataset2)\n",
    "dataset2 = raw_dataset2.set_index('DATETIME')\n",
    "\n",
    "for col in dataset2.columns:\n",
    "    dataset2[col] = pd.to_numeric(dataset2[col], errors='coerce')\n",
    "dataset2.interpolate(method='linear', limit_direction = 'forward', inplace=True)\n",
    "\n",
    "dataset2 = dataset2[columns_include]"
   ]
  },
  {
   "cell_type": "code",
   "execution_count": 92,
   "metadata": {},
   "outputs": [
    {
     "data": {
      "text/plain": [
       "35"
      ]
     },
     "execution_count": 92,
     "metadata": {},
     "output_type": "execute_result"
    }
   ],
   "source": [
    "len(dataset2.columns)"
   ]
  },
  {
   "cell_type": "code",
   "execution_count": 93,
   "metadata": {},
   "outputs": [],
   "source": [
    "dataset2 = dataset2.drop(dataset2.loc['2020-08-01 00:00:00':'2020-09-29 00:00:00'].index) # remove the august and september2020 data to prior to training"
   ]
  },
  {
   "cell_type": "markdown",
   "metadata": {},
   "source": [
    "###### Split data into train and test"
   ]
  },
  {
   "cell_type": "code",
   "execution_count": 59,
   "metadata": {},
   "outputs": [],
   "source": [
    "features_list = ['104_Al', '104_Ca', '104_Co', '104_Cr', '104_Cu', \n",
    "            '104_Fe', '104_Fe2','104_Ft', '104_Mg', '104_Mn', \n",
    "            '104_NTU', '104_Ni','104_ORP','104_Pb','104_Si', \n",
    "            '104_Zn', '104_pH60', 'DeZn_Feed_Flow', 'DeZn_Feed_T','DeZn_TK05_T',\n",
    "            'H2S_tk01', 'H2S_tk02', 'tk05_Al','tk05_Ca', 'tk05_Co', \n",
    "            'tk05_Cr', 'tk05_Cu', 'tk05_Fe', 'tk05_Mg', 'tk05_Mn',\n",
    "            'tk05_Ni', 'tk05_Pb', 'tk05_Si', 'tk05_Zn']\n"
   ]
  },
  {
   "cell_type": "code",
   "execution_count": 94,
   "metadata": {},
   "outputs": [],
   "source": [
    "train_dataset2 = dataset2.sample(frac=0.8, random_state=0)\n",
    "test_dataset2 = dataset2.drop(train_dataset2.index)\n"
   ]
  },
  {
   "cell_type": "markdown",
   "metadata": {},
   "source": [
    "###### Inspect the data"
   ]
  },
  {
   "cell_type": "code",
   "execution_count": 95,
   "metadata": {},
   "outputs": [],
   "source": [
    "# Also look at the overall statistics:\n",
    "\n",
    "train_stats = train_dataset2.describe()\n",
    "train_stats.pop('Zn_Drop')\n",
    "train_stats = train_stats.transpose()"
   ]
  },
  {
   "cell_type": "markdown",
   "metadata": {},
   "source": [
    "##### Split features from labels"
   ]
  },
  {
   "cell_type": "code",
   "execution_count": 96,
   "metadata": {},
   "outputs": [],
   "source": [
    "#Separate the target value, or \"label\", from the features. \n",
    "#This label is the value that you will train the model to predict.\n",
    "\n",
    "train_labels = train_dataset2.pop('Zn_Drop')\n",
    "test_labels = test_dataset2.pop('Zn_Drop')"
   ]
  },
  {
   "cell_type": "raw",
   "metadata": {},
   "source": [
    "Normalize the data\n",
    "Look again at the train_stats block above and note how different the ranges of each feature are. It is good practice to normalize features that use different scales and ranges. Although the model might converge without feature normalization, it makes training more difficult, and it makes the resulting model dependent on the choice of units used in the input."
   ]
  },
  {
   "cell_type": "code",
   "execution_count": 97,
   "metadata": {},
   "outputs": [],
   "source": [
    "def norm(x):\n",
    "    return (x - train_stats['mean']) / train_stats['std']\n",
    "normed_train_data = norm(train_dataset2)\n",
    "normed_test_data = norm(test_dataset2)\n",
    "#normed_train_labels = norm(train_labels)"
   ]
  },
  {
   "cell_type": "code",
   "execution_count": 98,
   "metadata": {},
   "outputs": [
    {
     "name": "stdout",
     "output_type": "stream",
     "text": [
      "Index(['104_Al', '104_Ca', '104_Co', '104_Cr', '104_Cu', '104_Fe', '104_Fe2',\n",
      "       '104_Ft', '104_Mg', '104_Mn', '104_NTU', '104_Ni', '104_ORP', '104_Pb',\n",
      "       '104_Si', '104_Zn', '104_pH60', 'DeZn_Feed_Flow', 'DeZn_Feed_T',\n",
      "       'DeZn_TK05_T', 'H2S_tk01', 'H2S_tk02', 'tk05_Al', 'tk05_Ca', 'tk05_Co',\n",
      "       'tk05_Cr', 'tk05_Cu', 'tk05_Fe', 'tk05_Mg', 'tk05_Mn', 'tk05_Ni',\n",
      "       'tk05_Pb', 'tk05_Si', 'tk05_Zn'],\n",
      "      dtype='object')\n",
      "34\n"
     ]
    }
   ],
   "source": [
    "print(normed_train_data.describe().columns)\n",
    "print(len(normed_train_data.describe().columns))"
   ]
  },
  {
   "cell_type": "code",
   "execution_count": 99,
   "metadata": {},
   "outputs": [
    {
     "data": {
      "text/plain": [
       "34"
      ]
     },
     "execution_count": 99,
     "metadata": {},
     "output_type": "execute_result"
    }
   ],
   "source": [
    "len(features_list)"
   ]
  },
  {
   "cell_type": "raw",
   "metadata": {},
   "source": [
    "This normalized data is what we will use to train the model. Caution: The statistics used to normalize the inputs here (mean and standard deviation) need to be applied to any other data that is fed to the model, along with the one-hot encoding that we did earlier. That includes the test set as well as live data when the model is used in production."
   ]
  },
  {
   "cell_type": "markdown",
   "metadata": {},
   "source": [
    "#### The model"
   ]
  },
  {
   "cell_type": "raw",
   "metadata": {},
   "source": [
    "Build the model"
   ]
  },
  {
   "cell_type": "raw",
   "metadata": {},
   "source": [
    "Let's build our model. Here, we'll use a Sequential model with two densely connected hidden layers, and an output layer that returns a single, continuous value. The model building steps are wrapped in a function, build_model, since we'll create a second model, later on."
   ]
  },
  {
   "cell_type": "code",
   "execution_count": 15,
   "metadata": {},
   "outputs": [],
   "source": [
    "# add regularization parameters to the model\n",
    "def build_model():\n",
    "    model = keras.Sequential([\n",
    "    layers.Dense(512, activation=tf.nn.relu, \n",
    "                 kernel_regularizer=regularizers.l2(0.0001), \n",
    "                 input_shape=[len(train_dataset.keys())]),\n",
    "    layers.Dropout(0.5),\n",
    "    layers.Dense(512, activation=tf.nn.relu,\n",
    "                kernel_regularizer=regularizers.l2(0.0001)),\n",
    "    layers.Dropout(0.5),    \n",
    "    layers.Dense(512, activation=tf.nn.relu,\n",
    "                kernel_regularizer=regularizers.l2(0.0001)),        \n",
    "    layers.Dropout(0.5),\n",
    "    layers.Dense(1)\n",
    "  ])\n",
    "\n",
    "    optimizer = tf.keras.optimizers.RMSprop(0.001)\n",
    "\n",
    "    model.compile(loss='mse',\n",
    "                optimizer=optimizer,\n",
    "                metrics=['mae', 'mse'])\n",
    "    return model"
   ]
  },
  {
   "cell_type": "code",
   "execution_count": 16,
   "metadata": {},
   "outputs": [],
   "source": [
    "\n",
    " \n",
    "#    tf.keras.layers.Flatten(input_shape=(28, 28))\n",
    "\n"
   ]
  },
  {
   "cell_type": "code",
   "execution_count": 17,
   "metadata": {},
   "outputs": [
    {
     "name": "stdout",
     "output_type": "stream",
     "text": [
      "WARNING:tensorflow:From C:\\ProgramData\\Anaconda3\\lib\\site-packages\\tensorflow_core\\python\\ops\\resource_variable_ops.py:1630: calling BaseResourceVariable.__init__ (from tensorflow.python.ops.resource_variable_ops) with constraint is deprecated and will be removed in a future version.\n",
      "Instructions for updating:\n",
      "If using Keras pass *_constraint arguments to layers.\n"
     ]
    }
   ],
   "source": [
    "model_Zdrop = build_model()"
   ]
  },
  {
   "cell_type": "raw",
   "metadata": {},
   "source": [
    "Inspect the model"
   ]
  },
  {
   "cell_type": "code",
   "execution_count": 18,
   "metadata": {
    "collapsed": true
   },
   "outputs": [
    {
     "name": "stdout",
     "output_type": "stream",
     "text": [
      "Model: \"sequential\"\n",
      "_________________________________________________________________\n",
      "Layer (type)                 Output Shape              Param #   \n",
      "=================================================================\n",
      "dense (Dense)                (None, 512)               19968     \n",
      "_________________________________________________________________\n",
      "dropout (Dropout)            (None, 512)               0         \n",
      "_________________________________________________________________\n",
      "dense_1 (Dense)              (None, 512)               262656    \n",
      "_________________________________________________________________\n",
      "dropout_1 (Dropout)          (None, 512)               0         \n",
      "_________________________________________________________________\n",
      "dense_2 (Dense)              (None, 512)               262656    \n",
      "_________________________________________________________________\n",
      "dropout_2 (Dropout)          (None, 512)               0         \n",
      "_________________________________________________________________\n",
      "dense_3 (Dense)              (None, 1)                 513       \n",
      "=================================================================\n",
      "Total params: 545,793\n",
      "Trainable params: 545,793\n",
      "Non-trainable params: 0\n",
      "_________________________________________________________________\n"
     ]
    }
   ],
   "source": [
    "# Use the .summary method to print a simple description of the model\n",
    "\n",
    "model_Zdrop.summary()"
   ]
  },
  {
   "cell_type": "raw",
   "metadata": {},
   "source": [
    "Now try out the model. Take a batch of 10 examples from the training data and call model.predict on it. The model has not been trained yet so the predictions will be way off."
   ]
  },
  {
   "cell_type": "code",
   "execution_count": 19,
   "metadata": {},
   "outputs": [
    {
     "data": {
      "text/plain": [
       "array([[-0.28127542],\n",
       "       [-0.20396838],\n",
       "       [-0.22847083],\n",
       "       [-0.21636942],\n",
       "       [-0.33971468],\n",
       "       [-0.16245206],\n",
       "       [-0.25231653],\n",
       "       [ 0.00398201],\n",
       "       [-0.26224113],\n",
       "       [-0.01852874]], dtype=float32)"
      ]
     },
     "execution_count": 19,
     "metadata": {},
     "output_type": "execute_result"
    }
   ],
   "source": [
    "example_batch = normed_train_data[:10]\n",
    "example_result = model_Zdrop.predict(example_batch)\n",
    "example_result"
   ]
  },
  {
   "cell_type": "code",
   "execution_count": null,
   "metadata": {},
   "outputs": [],
   "source": []
  },
  {
   "cell_type": "code",
   "execution_count": 18,
   "metadata": {},
   "outputs": [],
   "source": [
    "# the array should display 10 values representing the Zn Drop predictions"
   ]
  },
  {
   "cell_type": "markdown",
   "metadata": {},
   "source": [
    "##### Train the model"
   ]
  },
  {
   "cell_type": "raw",
   "metadata": {},
   "source": [
    "Train the model for 1000 epochs, and record the training and validation accuracy in the history object"
   ]
  },
  {
   "cell_type": "code",
   "execution_count": 20,
   "metadata": {},
   "outputs": [],
   "source": [
    "# Display training progress by printing a single dot for each completed epoch\n",
    "\n",
    "class PrintDot(keras.callbacks.Callback):\n",
    "    def on_epoch_end(self, epoch, logs):\n",
    "        if epoch % 100 == 0: print('')\n",
    "        print('.', end='')\n",
    "\n",
    "\n"
   ]
  },
  {
   "cell_type": "raw",
   "metadata": {},
   "source": [
    "Visualize the model's training progress using the stats stored in the history object."
   ]
  },
  {
   "cell_type": "code",
   "execution_count": 20,
   "metadata": {},
   "outputs": [],
   "source": [
    "#hist = pd.DataFrame(history.history)\n",
    "#hist['epoch'] = history.epoch\n",
    "#hist.tail()"
   ]
  },
  {
   "cell_type": "code",
   "execution_count": 100,
   "metadata": {},
   "outputs": [],
   "source": [
    "import matplotlib.pyplot as plt"
   ]
  },
  {
   "cell_type": "code",
   "execution_count": 80,
   "metadata": {},
   "outputs": [],
   "source": [
    "def plot_history(history):\n",
    "    hist = pd.DataFrame(history.history)\n",
    "    hist['epoch'] = history.epoch\n",
    "    \n",
    "    plt.figure()\n",
    "    plt.xlabel('Epoch')\n",
    "    plt.ylabel('Mean Abs Error [Zn_drop]')\n",
    "    plt.plot(hist['epoch'], hist['mean_absolute_error'],\n",
    "            label='Train Error')\n",
    "    plt.plot(hist['epoch'], hist['val_mean_absolute_error'],\n",
    "            label= 'Val Error')\n",
    "    plt.legend()\n",
    "    plt.ylim([-100, 100])\n",
    "    \n",
    "    plt.figure()\n",
    "    plt.xlabel('Epoch')\n",
    "    plt.ylabel('Mean Square Error [Zn_drop]')\n",
    "    plt.plot(hist['epoch'], hist['mean_squared_error'],\n",
    "            label='Train Error')\n",
    "    plt.plot(hist['epoch'], hist['val_mean_squared_error'],\n",
    "            label= 'Val Error')\n",
    "    plt.legend()\n",
    "    plt.ylim([0, 1])\n",
    "    \n",
    "\n"
   ]
  },
  {
   "cell_type": "raw",
   "metadata": {},
   "source": [
    "Dealing with overfitting\n",
    "Early stopping\n",
    "If a set amount of epochs elapses without showing improvement, then automatically stop the training."
   ]
  },
  {
   "cell_type": "code",
   "execution_count": 23,
   "metadata": {},
   "outputs": [],
   "source": [
    "model_Zdrop = build_model()"
   ]
  },
  {
   "cell_type": "code",
   "execution_count": 101,
   "metadata": {},
   "outputs": [],
   "source": [
    "def norm(x):\n",
    "    return (x - train_stats['mean']) / train_stats['std']"
   ]
  },
  {
   "cell_type": "code",
   "execution_count": 27,
   "metadata": {},
   "outputs": [
    {
     "data": {
      "text/plain": [
       "<tensorflow.python.keras.callbacks.History at 0x1d1cb7c0748>"
      ]
     },
     "execution_count": 27,
     "metadata": {},
     "output_type": "execute_result"
    }
   ],
   "source": [
    "# The patience parameter is the amount of epochs to check for improvement\n",
    "EPOCHS = 1000\n",
    "early_stop = keras.callbacks.EarlyStopping(monitor='val_loss', patience=10, min_delta=0.0001, mode='auto', verbose=0)\n",
    "\n",
    "\n",
    "\n",
    "history = model_Zdrop.fit(train_dataset, train_labels, epochs=EPOCHS,\n",
    "                   validation_split = 0.2, verbose=1, callbacks=[early_stop])\n",
    "\n",
    "plot_history(history)\n",
    "\n"
   ]
  },
  {
   "cell_type": "code",
   "execution_count": 88,
   "metadata": {},
   "outputs": [
    {
     "data": {
      "text/plain": [
       "-11528.97196261682"
      ]
     },
     "execution_count": 88,
     "metadata": {},
     "output_type": "execute_result"
    }
   ],
   "source": [
    "train_labels.min()"
   ]
  },
  {
   "cell_type": "markdown",
   "metadata": {},
   "source": [
    "##### testing to display the accuracy and loss while training"
   ]
  },
  {
   "cell_type": "code",
   "execution_count": 103,
   "metadata": {},
   "outputs": [
    {
     "name": "stdout",
     "output_type": "stream",
     "text": [
      "Train on 19994 samples, validate on 4999 samples\n",
      "Epoch 1/1000\n",
      "19994/19994 [==============================] - 9s 447us/sample - loss: 21364.0192 - mean_absolute_error: 38.9876 - mean_squared_error: 21363.8711 - acc: 0.0012 - val_loss: 8733.6805 - val_mean_absolute_error: 31.8325 - val_mean_squared_error: 8733.5146 - val_acc: 0.0022\n",
      "Epoch 2/1000\n",
      "19994/19994 [==============================] - 7s 374us/sample - loss: 20171.0788 - mean_absolute_error: 35.6940 - mean_squared_error: 20170.8789 - acc: 0.0015 - val_loss: 7423.7606 - val_mean_absolute_error: 24.8437 - val_mean_squared_error: 7423.5552 - val_acc: 8.0016e-04\n",
      "Epoch 3/1000\n",
      "19994/19994 [==============================] - 7s 364us/sample - loss: 18901.6189 - mean_absolute_error: 34.0265 - mean_squared_error: 18901.3926 - acc: 0.0016 - val_loss: 7360.5198 - val_mean_absolute_error: 24.3078 - val_mean_squared_error: 7360.2778 - val_acc: 6.0012e-04\n",
      "Epoch 4/1000\n",
      "19994/19994 [==============================] - 7s 365us/sample - loss: 18737.1863 - mean_absolute_error: 34.0467 - mean_squared_error: 18736.9238 - acc: 0.0014 - val_loss: 7260.5013 - val_mean_absolute_error: 23.9370 - val_mean_squared_error: 7260.2217 - val_acc: 2.0004e-04\n",
      "Epoch 5/1000\n",
      "19994/19994 [==============================] - 8s 378us/sample - loss: 18601.3895 - mean_absolute_error: 33.1895 - mean_squared_error: 18601.0898 - acc: 0.0021 - val_loss: 7484.3476 - val_mean_absolute_error: 28.9657 - val_mean_squared_error: 7484.0386 - val_acc: 0.0018\n",
      "Epoch 6/1000\n",
      "19994/19994 [==============================] - 7s 369us/sample - loss: 18536.1827 - mean_absolute_error: 33.6970 - mean_squared_error: 18535.8477 - acc: 0.0016 - val_loss: 6948.6264 - val_mean_absolute_error: 23.2279 - val_mean_squared_error: 6948.2842 - val_acc: 4.0008e-04\n",
      "Epoch 7/1000\n",
      "19994/19994 [==============================] - 8s 385us/sample - loss: 18235.5561 - mean_absolute_error: 33.1540 - mean_squared_error: 18235.1934 - acc: 0.0018 - val_loss: 7273.6494 - val_mean_absolute_error: 23.9805 - val_mean_squared_error: 7273.2754 - val_acc: 6.0012e-04\n",
      "Epoch 8/1000\n",
      "19994/19994 [==============================] - 8s 375us/sample - loss: 17628.2753 - mean_absolute_error: 33.0838 - mean_squared_error: 17627.8828 - acc: 0.0019 - val_loss: 7158.3650 - val_mean_absolute_error: 25.6576 - val_mean_squared_error: 7157.9604 - val_acc: 4.0008e-04\n",
      "Epoch 9/1000\n",
      "19994/19994 [==============================] - 8s 378us/sample - loss: 18176.3106 - mean_absolute_error: 33.3787 - mean_squared_error: 18175.8926 - acc: 0.0018 - val_loss: 6963.7585 - val_mean_absolute_error: 23.2362 - val_mean_squared_error: 6963.3208 - val_acc: 4.0008e-04\n",
      "Epoch 10/1000\n",
      "19994/19994 [==============================] - 7s 372us/sample - loss: 17563.0574 - mean_absolute_error: 32.7385 - mean_squared_error: 17562.6055 - acc: 0.0015 - val_loss: 7210.1847 - val_mean_absolute_error: 25.0871 - val_mean_squared_error: 7209.7134 - val_acc: 4.0008e-04\n",
      "Epoch 11/1000\n",
      "19994/19994 [==============================] - 7s 363us/sample - loss: 16719.4707 - mean_absolute_error: 32.3902 - mean_squared_error: 16718.9805 - acc: 0.0016 - val_loss: 7172.6811 - val_mean_absolute_error: 23.3888 - val_mean_squared_error: 7172.1777 - val_acc: 4.0008e-04\n",
      "Epoch 12/1000\n",
      "19994/19994 [==============================] - 7s 367us/sample - loss: 17327.7589 - mean_absolute_error: 32.5626 - mean_squared_error: 17327.2422 - acc: 0.0014 - val_loss: 6646.8546 - val_mean_absolute_error: 24.1580 - val_mean_squared_error: 6646.3154 - val_acc: 0.0012\n",
      "Epoch 13/1000\n",
      "19994/19994 [==============================] - 8s 378us/sample - loss: 17464.9916 - mean_absolute_error: 32.1681 - mean_squared_error: 17464.4434 - acc: 0.0017 - val_loss: 7176.8871 - val_mean_absolute_error: 29.4187 - val_mean_squared_error: 7176.3218 - val_acc: 0.0012\n",
      "Epoch 14/1000\n",
      "19994/19994 [==============================] - 7s 365us/sample - loss: 17558.9164 - mean_absolute_error: 32.9319 - mean_squared_error: 17558.3320 - acc: 0.0013 - val_loss: 6988.8921 - val_mean_absolute_error: 25.9294 - val_mean_squared_error: 6988.2920 - val_acc: 4.0008e-04\n",
      "Epoch 15/1000\n",
      "19994/19994 [==============================] - 7s 369us/sample - loss: 16880.0498 - mean_absolute_error: 32.5230 - mean_squared_error: 16879.4414 - acc: 0.0012 - val_loss: 6371.5335 - val_mean_absolute_error: 22.6757 - val_mean_squared_error: 6370.8979 - val_acc: 0.0010\n",
      "Epoch 16/1000\n",
      "19994/19994 [==============================] - 8s 387us/sample - loss: 16237.1440 - mean_absolute_error: 32.2720 - mean_squared_error: 16236.4785 - acc: 0.0013 - val_loss: 6937.0721 - val_mean_absolute_error: 23.5021 - val_mean_squared_error: 6936.4087 - val_acc: 4.0008e-04\n",
      "Epoch 17/1000\n",
      "19994/19994 [==============================] - 8s 376us/sample - loss: 15713.3031 - mean_absolute_error: 32.0523 - mean_squared_error: 15712.6240 - acc: 0.0013 - val_loss: 6845.5171 - val_mean_absolute_error: 23.9084 - val_mean_squared_error: 6844.8169 - val_acc: 8.0016e-04\n",
      "Epoch 18/1000\n",
      "19994/19994 [==============================] - 8s 388us/sample - loss: 17311.5866 - mean_absolute_error: 32.4959 - mean_squared_error: 17310.8770 - acc: 0.0015 - val_loss: 7044.7169 - val_mean_absolute_error: 25.6249 - val_mean_squared_error: 7043.9858 - val_acc: 2.0004e-04\n",
      "Epoch 19/1000\n",
      "19994/19994 [==============================] - 7s 374us/sample - loss: 16658.7708 - mean_absolute_error: 32.1552 - mean_squared_error: 16658.0273 - acc: 0.0015 - val_loss: 6839.1390 - val_mean_absolute_error: 22.8749 - val_mean_squared_error: 6838.3804 - val_acc: 2.0004e-04\n",
      "Epoch 20/1000\n",
      "19994/19994 [==============================] - 7s 372us/sample - loss: 17548.9548 - mean_absolute_error: 31.5797 - mean_squared_error: 17548.1836 - acc: 0.0012 - val_loss: 7179.3043 - val_mean_absolute_error: 25.5480 - val_mean_squared_error: 7178.5181 - val_acc: 0.0010\n",
      "Epoch 21/1000\n",
      "19994/19994 [==============================] - 7s 362us/sample - loss: 17056.0037 - mean_absolute_error: 32.5641 - mean_squared_error: 17055.2051 - acc: 0.0017 - val_loss: 6770.7322 - val_mean_absolute_error: 23.1268 - val_mean_squared_error: 6769.9170 - val_acc: 6.0012e-04\n",
      "Epoch 22/1000\n",
      "19994/19994 [==============================] - 7s 338us/sample - loss: 16700.6878 - mean_absolute_error: 32.3482 - mean_squared_error: 16699.8477 - acc: 0.0016 - val_loss: 6597.7487 - val_mean_absolute_error: 20.8306 - val_mean_squared_error: 6596.8979 - val_acc: 6.0012e-04\n",
      "Epoch 23/1000\n",
      "19994/19994 [==============================] - 7s 346us/sample - loss: 17488.0175 - mean_absolute_error: 32.1754 - mean_squared_error: 17487.1582 - acc: 0.0013 - val_loss: 6626.6467 - val_mean_absolute_error: 23.7693 - val_mean_squared_error: 6625.7720 - val_acc: 6.0012e-04\n",
      "Epoch 24/1000\n",
      "19994/19994 [==============================] - 7s 351us/sample - loss: 16733.7920 - mean_absolute_error: 32.7920 - mean_squared_error: 16732.8926 - acc: 0.0015 - val_loss: 6853.2286 - val_mean_absolute_error: 23.9346 - val_mean_squared_error: 6852.3223 - val_acc: 2.0004e-04\n",
      "Epoch 25/1000\n",
      "19994/19994 [==============================] - 8s 391us/sample - loss: 17264.0150 - mean_absolute_error: 32.4251 - mean_squared_error: 17263.0957 - acc: 0.0015 - val_loss: 7224.7313 - val_mean_absolute_error: 23.4627 - val_mean_squared_error: 7223.7969 - val_acc: 0.0010\n",
      "Epoch 00025: early stopping\n"
     ]
    },
    {
     "data": {
      "text/plain": [
       "<tensorflow.python.keras.callbacks.History at 0x1d1d45350c8>"
      ]
     },
     "execution_count": 103,
     "metadata": {},
     "output_type": "execute_result"
    }
   ],
   "source": [
    "# testing\n",
    "\n",
    "model = keras.Sequential([layers.Dense(512, activation=tf.nn.relu, \n",
    "                                       kernel_regularizer=regularizers.l2(0.0001), \n",
    "                                       input_shape=[len(train_dataset2.keys())]),\n",
    "                          layers.Dropout(0.5),\n",
    "                          layers.Dense(512, activation=tf.nn.relu,\n",
    "                                       kernel_regularizer=regularizers.l2(0.0001)),\n",
    "                          layers.Dropout(0.5),\n",
    "                          layers.Dense(512, activation=tf.nn.relu,\n",
    "                                       kernel_regularizer=regularizers.l2(0.0001)),        \n",
    "                          layers.Dropout(0.5),\n",
    "                          layers.Dense(1)])\n",
    "\n",
    "#optimizer = tf.keras.optimizers.RMSprop(0.001)\n",
    "\n",
    "optimizer = tf.keras.optimizers.Adam(\n",
    "    learning_rate=0.001, beta_1=0.9, beta_2=0.999, epsilon=1e-07, amsgrad=False,\n",
    "    name='Adam'\n",
    ")\n",
    "\n",
    "model.compile(loss='mse',optimizer=optimizer,metrics=['mae', 'mse', 'accuracy'])\n",
    "\n",
    "early_stop = keras.callbacks.EarlyStopping(monitor='val_loss', patience=10, min_delta=0.0001, mode='auto', verbose=1)\n",
    "model.fit(normed_train_data, train_labels, epochs=EPOCHS,\n",
    "                   validation_split = 0.2, verbose=1, callbacks=[early_stop])"
   ]
  },
  {
   "cell_type": "code",
   "execution_count": 104,
   "metadata": {},
   "outputs": [
    {
     "name": "stdout",
     "output_type": "stream",
     "text": [
      "6043/6043 - 1s - loss: 50389.9035 - mean_absolute_error: 45.7289 - mean_squared_error: 50388.9805\n"
     ]
    }
   ],
   "source": [
    "loss, mae, mse = model_Zdrop.evaluate(test_dataset, test_labels, verbose=2)"
   ]
  },
  {
   "cell_type": "code",
   "execution_count": 26,
   "metadata": {},
   "outputs": [
    {
     "name": "stdout",
     "output_type": "stream",
     "text": [
      "Testing set Mean Abs Error: 25.63 zndrop\n"
     ]
    }
   ],
   "source": [
    "\n",
    "print(\"Testing set Mean Abs Error: {:5.2f} zndrop\".format(mae))"
   ]
  },
  {
   "cell_type": "raw",
   "metadata": {},
   "source": [
    "Make predictions"
   ]
  },
  {
   "cell_type": "code",
   "execution_count": 44,
   "metadata": {},
   "outputs": [],
   "source": [
    "test_predictions = model_Zdrop.predict(normed_test_data).flatten()"
   ]
  },
  {
   "cell_type": "code",
   "execution_count": 45,
   "metadata": {},
   "outputs": [
    {
     "data": {
      "image/png": "[encoded data removed]",
      "text/plain": [
       "<Figure size 432x288 with 1 Axes>"
      ]
     },
     "metadata": {
      "needs_background": "light"
     },
     "output_type": "display_data"
    }
   ],
   "source": [
    "a = plt.axes(aspect='equal')\n",
    "plt.scatter(test_labels, test_predictions)\n",
    "plt.xlabel('True Values [Zn_drop]')\n",
    "plt.ylabel('Predictions [Zn_drop]')\n",
    "\n",
    "lims = [-100, 100]\n",
    "plt.xlim(lims)\n",
    "plt.ylim(lims)\n",
    "_ = plt.plot(lims, lims)\n",
    "\n",
    "error = test_predictions - test_labels\n",
    "plt.hist(error, bins = 25)\n",
    "plt.xlabel(\"Prediction Error [Zn_drop]\")\n",
    "_ = plt.ylabel(\"Count\")"
   ]
  },
  {
   "cell_type": "code",
   "execution_count": null,
   "metadata": {},
   "outputs": [],
   "source": []
  },
  {
   "cell_type": "code",
   "execution_count": 84,
   "metadata": {},
   "outputs": [],
   "source": [
    "#model_Zdrop.save(r'C:\\Users\\v.t.flores\\Documents\\Zn_drop_TF_model9')\n",
    "model.save(r'C:\\Users\\v.t.flores\\Documents\\Zn_drop_TF_model10')\n",
    "\n",
    "# Zn_drop_TF_model8 ---> increased the neurons to 512 from 64, increased the layers to 5, added L2 regularization\n",
    "# and dropout\n",
    "\n",
    "#new_model = tf.keras.models.load_model(r'C:\\Users\\v.t.flores\\Documents\\Zn_drop_TF_model')\n",
    "#print(new_model.predict(test_images).shape)"
   ]
  },
  {
   "cell_type": "code",
   "execution_count": 30,
   "metadata": {},
   "outputs": [
    {
     "data": {
      "text/plain": [
       "34"
      ]
     },
     "execution_count": 30,
     "metadata": {},
     "output_type": "execute_result"
    }
   ],
   "source": [
    "len(normed_test_data.columns)"
   ]
  },
  {
   "cell_type": "code",
   "execution_count": 31,
   "metadata": {},
   "outputs": [
    {
     "data": {
      "text/plain": [
       "Index(['104_Al', '104_Ca', '104_Co', '104_Cr', '104_Cu', '104_Fe', '104_Fe2',\n",
       "       '104_Ft', '104_Mg', '104_Mn', '104_NTU', '104_Ni', '104_ORP', '104_Pb',\n",
       "       '104_Si', '104_Zn', '104_pH60', 'DeZn_Feed_Flow', 'DeZn_Feed_T',\n",
       "       'DeZn_TK05_T', 'H2S_tk01', 'H2S_tk02', 'tk05_Al', 'tk05_Ca', 'tk05_Co',\n",
       "       'tk05_Cr', 'tk05_Cu', 'tk05_Fe', 'tk05_Mg', 'tk05_Mn', 'tk05_Ni',\n",
       "       'tk05_Pb', 'tk05_Si', 'tk05_Zn'],\n",
       "      dtype='object')"
      ]
     },
     "execution_count": 31,
     "metadata": {},
     "output_type": "execute_result"
    }
   ],
   "source": [
    "normed_test_data.columns"
   ]
  },
  {
   "cell_type": "code",
   "execution_count": null,
   "metadata": {},
   "outputs": [],
   "source": []
  }
 ],
 "metadata": {
  "kernelspec": {
   "display_name": "Python 3",
   "language": "python",
   "name": "python3"
  },
  "language_info": {
   "codemirror_mode": {
    "name": "ipython",
    "version": 3
   },
   "file_extension": ".py",
   "mimetype": "text/x-python",
   "name": "python",
   "nbconvert_exporter": "python",
   "pygments_lexer": "ipython3",
   "version": "3.7.4"
  }
 },
 "nbformat": 4,
 "nbformat_minor": 2
}
