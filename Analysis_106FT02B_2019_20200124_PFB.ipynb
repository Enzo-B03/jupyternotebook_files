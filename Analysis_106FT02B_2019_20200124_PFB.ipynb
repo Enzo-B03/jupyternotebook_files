{
 "cells": [
  {
   "cell_type": "code",
   "execution_count": 1,
   "metadata": {},
   "outputs": [],
   "source": [
    "#exc1\n",
    "import pandas as pd\n",
    "import numpy as np\n",
    "import matplotlib.pyplot as plt\n",
    "%matplotlib inline\n",
    "from dateutil.parser import parse\n",
    "from itertools import compress\n",
    "from collections import OrderedDict\n",
    "from datetime import date\n",
    "import datetime\n",
    "from datetime import timedelta\n",
    "import openpyxl\n",
    "from sklearn.metrics import mean_squared_error"
   ]
  },
  {
   "cell_type": "code",
   "execution_count": 10,
   "metadata": {},
   "outputs": [],
   "source": [
    "FT02B = pd.read_excel(r'C:\\Users\\v.t.flores\\Documents\\106FT02B_data_2019.xlsx')"
   ]
  },
  {
   "cell_type": "code",
   "execution_count": 11,
   "metadata": {},
   "outputs": [
    {
     "name": "stdout",
     "output_type": "stream",
     "text": [
      "<class 'pandas.core.frame.DataFrame'>\n",
      "RangeIndex: 10314 entries, 0 to 10313\n",
      "Data columns (total 35 columns):\n",
      "B_PU26B_CUR            10314 non-null float64\n",
      "B_PU27B_CUR            10314 non-null float64\n",
      "B_N2DRY                10314 non-null int64\n",
      "B_CWP_1                10314 non-null float64\n",
      "B_CWP_2                10314 non-null float64\n",
      "B_FILT_T               10314 non-null int64\n",
      "B_MANF_P               10314 non-null float64\n",
      "B_CWSH1                10314 non-null int64\n",
      "B_CWSH2                10314 non-null int64\n",
      "B_PRESS1_t             10314 non-null int64\n",
      "B_PRESS2_t             10314 non-null int64\n",
      "B_PU26B_OP             10314 non-null float64\n",
      "B_PU27B_OP             10314 non-null float64\n",
      "newdt                  10314 non-null object\n",
      "startdate              10314 non-null object\n",
      "enddate                10314 non-null object\n",
      "MS_B_Pb_spcl           10303 non-null float64\n",
      "MS_B_Zn_spcl           10303 non-null float64\n",
      "MS_B_Cu_spcl           10303 non-null float64\n",
      "MS_B_Ni_spcl           10303 non-null float64\n",
      "MS_B_Co_spcl           10303 non-null float64\n",
      "MS_B_Fe_spcl           10303 non-null float64\n",
      "MS_B_Mn_spcl           10303 non-null float64\n",
      "MS_B_Cr_spcl           10303 non-null float64\n",
      "MS_B_Ca_spcl           10303 non-null float64\n",
      "MS_B_Si_spcl           10303 non-null float64\n",
      "MS_B_Al_spcl           10303 non-null float64\n",
      "MS_B_Mg_spcl           10303 non-null float64\n",
      "MS_B_S_spcl            10303 non-null float64\n",
      "MS_B_moisture_spcl     10303 non-null float64\n",
      "MS_B_PS_10D_spcl       10303 non-null float64\n",
      "MS_B_PS_50D_spcl       10303 non-null float64\n",
      "MS_B_PS_90D_spcl       10303 non-null float64\n",
      "MS_B_PS_mean_v_spcl    10303 non-null float64\n",
      "MS_B_PS_stdev_spcl     10303 non-null float64\n",
      "dtypes: float64(26), int64(6), object(3)\n",
      "memory usage: 2.8+ MB\n"
     ]
    }
   ],
   "source": [
    "FT02B.info()"
   ]
  },
  {
   "cell_type": "code",
   "execution_count": 5,
   "metadata": {},
   "outputs": [],
   "source": [
    "FT02B = FT02B.dropna()"
   ]
  },
  {
   "cell_type": "code",
   "execution_count": 7,
   "metadata": {
    "scrolled": true
   },
   "outputs": [
    {
     "data": {
      "text/plain": [
       "Index(['DATETIME', 'Cycle_Count', 'B_PU26B_CUR', 'B_PU27B_CUR', 'B_N2DRY',\n",
       "       'B_CWP_1', 'B_CWP_2', 'B_FILT_T', 'B_MANF_P', 'B_CWSH1', 'B_CWSH2',\n",
       "       'B_PRESS1_t', 'B_PRESS2_t', 'B_PU26B_OP', 'B_PU27B_OP', 'newdt',\n",
       "       'startdate', 'enddate', 'MS_B_Pb_spcl', 'MS_B_Zn_spcl', 'MS_B_Cu_spcl',\n",
       "       'MS_B_Ni_spcl', 'MS_B_Co_spcl', 'MS_B_Fe_spcl', 'MS_B_Mn_spcl',\n",
       "       'MS_B_Cr_spcl', 'MS_B_Ca_spcl', 'MS_B_Si_spcl', 'MS_B_Al_spcl',\n",
       "       'MS_B_Mg_spcl', 'MS_B_S_spcl', 'MS_B_moisture_spcl', 'MS_B_PS_10D_spcl',\n",
       "       'MS_B_PS_50D_spcl', 'MS_B_PS_90D_spcl', 'MS_B_PS_mean_v_spcl',\n",
       "       'MS_B_PS_stdev_spcl'],\n",
       "      dtype='object')"
      ]
     },
     "execution_count": 7,
     "metadata": {},
     "output_type": "execute_result"
    }
   ],
   "source": [
    "FT02B.columns"
   ]
  },
  {
   "cell_type": "code",
   "execution_count": null,
   "metadata": {},
   "outputs": [],
   "source": [
    "FT02B.set_index('startdate', inplace=True)"
   ]
  },
  {
   "cell_type": "markdown",
   "metadata": {},
   "source": [
    "For ScikitLearn"
   ]
  },
  {
   "cell_type": "code",
   "execution_count": 13,
   "metadata": {},
   "outputs": [],
   "source": [
    "#parameter for Mg and moisture expanded\n",
    "df_B_param_forLM_mg_moisture_xpndd  = FT02B[['B_PU26B_CUR', 'B_PU27B_CUR', 'B_N2DRY',\n",
    "       'B_CWP_1', 'B_CWP_2', 'B_FILT_T', 'B_MANF_P', 'B_CWSH1', 'B_CWSH2',\n",
    "       'B_PRESS1_t', 'B_PRESS2_t', 'MS_B_Pb_spcl', 'MS_B_Zn_spcl', 'MS_B_Cu_spcl',\n",
    "       'MS_B_Ni_spcl', 'MS_B_Co_spcl', 'MS_B_Fe_spcl', 'MS_B_Mn_spcl',\n",
    "       'MS_B_Cr_spcl', 'MS_B_Ca_spcl', 'MS_B_Si_spcl', 'MS_B_Al_spcl',\n",
    "       'MS_B_S_spcl','MS_B_PS_10D_spcl',\n",
    "       'MS_B_PS_50D_spcl', 'MS_B_PS_90D_spcl', 'MS_B_PS_mean_v_spcl',\n",
    "       'MS_B_PS_stdev_spcl']]\n",
    "#Computing for coeff for Moisture\n",
    "import numpy as np\n",
    "from matplotlib import pyplot as plt\n",
    "from sklearn.model_selection import train_test_split\n",
    "X1 = df_B_param_forLM_mg_moisture_xpndd.dropna()\n",
    "y1 = FT02B['MS_B_moisture_spcl'].dropna()\n",
    "X1_train, X1_test, y1_train, y1_test = train_test_split(X1, y1, test_size=0.40, random_state=101)\n",
    "\n",
    "from sklearn.linear_model import LinearRegression\n",
    "lm2_moist = LinearRegression()\n",
    "lm2_moist.fit(X1_train,y1_train)\n",
    "\n",
    "coeff_df_moisture_FT02B = pd.DataFrame(zip(lm2_moist.coef_, X1.columns), columns=['LM_coef_Moist','FT02B_Param'])\n"
   ]
  },
  {
   "cell_type": "code",
   "execution_count": 18,
   "metadata": {
    "scrolled": true
   },
   "outputs": [
    {
     "data": {
      "text/plain": [
       "33.455627423141905"
      ]
     },
     "execution_count": 18,
     "metadata": {},
     "output_type": "execute_result"
    }
   ],
   "source": [
    "lm2_moist.intercept_"
   ]
  },
  {
   "cell_type": "code",
   "execution_count": 20,
   "metadata": {},
   "outputs": [],
   "source": [
    "#Computing for coeff for Mg\n",
    "from sklearn.model_selection import train_test_split\n",
    "X2 = df_B_param_forLM_mg_moisture_xpndd.dropna()\n",
    "y2 = FT02B['MS_B_Mg_spcl'].dropna()\n",
    "X2_train, X2_test, y2_train, y2_test = train_test_split(X2, y2, test_size=0.40, random_state=101)\n",
    "from sklearn.linear_model import LinearRegression\n",
    "lm2_mg = LinearRegression()\n",
    "lm2_mg.fit(X2_train,y2_train)\n",
    "coeff_df_Mg_FT02B = pd.DataFrame(zip(lm2_mg.coef_, X2.columns), columns=['LM_coef_Mg','FT02B_Param'])"
   ]
  },
  {
   "cell_type": "code",
   "execution_count": 23,
   "metadata": {},
   "outputs": [
    {
     "data": {
      "text/plain": [
       "0.11694690941445508"
      ]
     },
     "execution_count": 23,
     "metadata": {},
     "output_type": "execute_result"
    }
   ],
   "source": [
    "lm2_mg.intercept_"
   ]
  },
  {
   "cell_type": "code",
   "execution_count": 21,
   "metadata": {},
   "outputs": [],
   "source": [
    "coeff_df_Mg_FT02B.to_excel(r'C:\\Users\\v.t.flores\\Documents\\106FT02B_LM_coef_Mg_expandd.xlsx')"
   ]
  },
  {
   "cell_type": "code",
   "execution_count": 22,
   "metadata": {},
   "outputs": [],
   "source": [
    "coeff_df_moisture_FT02B.to_excel(r'C:\\Users\\v.t.flores\\Documents\\106FT02B_LM_coef_moisture_expndd.xlsx')"
   ]
  },
  {
   "cell_type": "code",
   "execution_count": 261,
   "metadata": {},
   "outputs": [],
   "source": [
    "import pandas\n",
    "import scipy\n",
    "import numpy\n",
    "from sklearn.preprocessing import MinMaxScaler\n",
    "\n",
    "X = df_A_param_forLM_for_rescale.dropna()\n",
    "# transofrm data\n",
    "scaler = MinMaxScaler(feature_range=(0, 1))\n",
    "rescaledX = scaler.fit_transform(X)\n",
    "df_rescale = pd.DataFrame(data=rescaledX,    # values\n",
    "index=X.index,    # 1st column as index\n",
    "columns=X.columns)  # 1st row as the column names"
   ]
  },
  {
   "cell_type": "markdown",
   "metadata": {},
   "source": [
    "Standardizing"
   ]
  },
  {
   "cell_type": "code",
   "execution_count": 262,
   "metadata": {},
   "outputs": [],
   "source": [
    "# Standardize data (0 mean, 1 stdev)\n",
    "from sklearn.preprocessing import StandardScaler\n",
    "import pandas\n",
    "import numpy\n",
    "\n",
    "X_std = df_A_param_forLM_for_rescale.dropna()\n",
    "\n",
    "# scaler\n",
    "scaler = StandardScaler().fit(X_std)\n",
    "rescaledX_stnd = scaler.transform(X_std)\n",
    "\n",
    "df_rescaledX_std = pd.DataFrame(data=rescaledX_stnd,    # values\n",
    "index=X_std.index,    # 1st column as index\n",
    "columns=X_std.columns)  # 1st r"
   ]
  },
  {
   "cell_type": "markdown",
   "metadata": {},
   "source": [
    "STEPS ON Normalizing data\n"
   ]
  },
  {
   "cell_type": "code",
   "execution_count": 263,
   "metadata": {},
   "outputs": [],
   "source": [
    "# Normalize values\n",
    "from sklearn.preprocessing import Normalizer\n",
    "import pandas\n",
    "import numpy\n",
    "\n",
    "X_norm = df_A_param_forLM_for_rescale.dropna()\n",
    "\n",
    "# normalize values\n",
    "scaler = Normalizer().fit(X_norm)\n",
    "normalizedX = scaler.transform(X_norm)\n",
    "\n",
    "df_normalizedX = pd.DataFrame(data=normalizedX,    # values\n",
    "index=X_norm.index,    # 1st column as index\n",
    "columns=X_norm.columns)  # 1st r"
   ]
  },
  {
   "cell_type": "markdown",
   "metadata": {},
   "source": [
    "Applying Linear Reg"
   ]
  },
  {
   "cell_type": "markdown",
   "metadata": {},
   "source": [
    "# RESCALE DATA"
   ]
  },
  {
   "cell_type": "code",
   "execution_count": 229,
   "metadata": {},
   "outputs": [
    {
     "data": {
      "text/plain": [
       "LinearRegression(copy_X=True, fit_intercept=True, n_jobs=None, normalize=False)"
      ]
     },
     "execution_count": 229,
     "metadata": {},
     "output_type": "execute_result"
    }
   ],
   "source": [
    "#Linear Linear Regression moisture_scpl using Rescaled Data\n",
    "X1 = df_rescale[['A_N2DRY', 'A_CWP_1',\n",
    "       'A_CWP_2', 'A_FILT_T', 'A_MANF_P', 'A_CWSH1', 'A_CWSH2', 'A_PRESS1_t',\n",
    "       'A_PRESS2_t',\n",
    "       'MS_A_Al_spcl',\n",
    "       'MS_A_PS_10D_spcl',\n",
    "       'MS_A_PS_50D_spcl', 'MS_A_PS_90D_spcl', 'MS_A_PS_mean_v_spcl',\n",
    "       'MS_A_PS_stdev_spcl']]\n",
    "y1 = df_rescale['MS_A_moisture_spcl']\n",
    "X1_train, X1_test, y1_train, y1_test = train_test_split(X1, y1, test_size=0.33, random_state=42)\n",
    "from sklearn.linear_model import LinearRegression\n",
    "lm1 = LinearRegression()\n",
    "lm1.fit(X1_train,y1_train)"
   ]
  },
  {
   "cell_type": "code",
   "execution_count": 230,
   "metadata": {},
   "outputs": [
    {
     "data": {
      "text/plain": [
       "LinearRegression(copy_X=True, fit_intercept=True, n_jobs=None, normalize=False)"
      ]
     },
     "execution_count": 230,
     "metadata": {},
     "output_type": "execute_result"
    }
   ],
   "source": [
    "#Linear Linear Regression Mg_scpl using Rescaled Data\n",
    "X = df_rescale[['A_N2DRY', 'A_CWP_1',\n",
    "       'A_CWP_2', 'A_FILT_T', 'A_MANF_P', 'A_CWSH1', 'A_CWSH2', 'A_PRESS1_t',\n",
    "       'A_PRESS2_t',\n",
    "       'MS_A_Al_spcl',\n",
    "       'MS_A_PS_10D_spcl',\n",
    "       'MS_A_PS_50D_spcl', 'MS_A_PS_90D_spcl', 'MS_A_PS_mean_v_spcl',\n",
    "       'MS_A_PS_stdev_spcl']]\n",
    "y = df_rescale['MS_A_Mg_spcl']\n",
    "X_train, X_test, y_train, y_test = train_test_split(X, y, test_size=0.33, random_state=42)\n",
    "from sklearn.linear_model import LinearRegression\n",
    "lm = LinearRegression()\n",
    "lm.fit(X_train,y_train)"
   ]
  },
  {
   "cell_type": "markdown",
   "metadata": {},
   "source": [
    "# STANDARDIZE DATA"
   ]
  },
  {
   "cell_type": "code",
   "execution_count": 239,
   "metadata": {},
   "outputs": [
    {
     "data": {
      "text/plain": [
       "LinearRegression(copy_X=True, fit_intercept=True, n_jobs=None, normalize=False)"
      ]
     },
     "execution_count": 239,
     "metadata": {},
     "output_type": "execute_result"
    }
   ],
   "source": [
    "#Linear Linear Regression Mg_scpl using Standardized Data\n",
    "X_lm_std = df_rescaledX_std[['A_N2DRY', 'A_CWP_1',\n",
    "       'A_CWP_2', 'A_FILT_T', 'A_MANF_P', 'A_CWSH1', 'A_CWSH2', 'A_PRESS1_t',\n",
    "       'A_PRESS2_t',\n",
    "       'MS_A_Al_spcl',\n",
    "       'MS_A_PS_10D_spcl',\n",
    "       'MS_A_PS_50D_spcl', 'MS_A_PS_90D_spcl', 'MS_A_PS_mean_v_spcl',\n",
    "       'MS_A_PS_stdev_spcl']]\n",
    "y_lm_std = df_rescaledX_std['MS_A_Mg_spcl']\n",
    "X_lm_std_train, X_lm_std_test, y_lm_std_train, y_lm_std_test = train_test_split(X_lm_std, y_lm_std, test_size=0.33, random_state=42)\n",
    "from sklearn.linear_model import LinearRegression\n",
    "lm_std = LinearRegression()\n",
    "lm_std.fit(X_lm_std_train,y_lm_std_train)"
   ]
  },
  {
   "cell_type": "code",
   "execution_count": null,
   "metadata": {},
   "outputs": [],
   "source": [
    "#Linear Linear Regression Moisture using Standardized Data\n",
    "X_lm_std2 = df_rescaledX_std[['A_N2DRY', 'A_CWP_1',\n",
    "       'A_CWP_2', 'A_FILT_T', 'A_MANF_P', 'A_CWSH1', 'A_CWSH2', 'A_PRESS1_t',\n",
    "       'A_PRESS2_t',\n",
    "       'MS_A_Al_spcl',\n",
    "       'MS_A_PS_10D_spcl',\n",
    "       'MS_A_PS_50D_spcl', 'MS_A_PS_90D_spcl', 'MS_A_PS_mean_v_spcl',\n",
    "       'MS_A_PS_stdev_spcl']]\n",
    "y_lm_std2 = df_rescaledX_std['MS_A_moisture_spcl'].dropna()\n",
    "X_lm_std2_train, X_lm_std2_test, y_lm_std2_train, y_lm_std2_test = train_test_split(X_lm_std2, y_lm_std2, test_size=0.33, random_state=42)\n",
    "from sklearn.linear_model import LinearRegression\n",
    "lm_std2 = LinearRegression()\n",
    "lm_std2.fit(X_lm_std2_train,y_lm_std2_train)"
   ]
  },
  {
   "cell_type": "markdown",
   "metadata": {},
   "source": [
    "# NORMALIZE DATA"
   ]
  },
  {
   "cell_type": "code",
   "execution_count": null,
   "metadata": {},
   "outputs": [],
   "source": [
    "#Linear Linear Regression Mg using Nomralized Data\n",
    "X_lm_norm = df_normalizedX[['A_N2DRY', 'A_CWP_1',\n",
    "       'A_CWP_2', 'A_FILT_T', 'A_MANF_P', 'A_CWSH1', 'A_CWSH2', 'A_PRESS1_t',\n",
    "       'A_PRESS2_t',\n",
    "       'MS_A_Al_spcl',\n",
    "       'MS_A_PS_10D_spcl',\n",
    "       'MS_A_PS_50D_spcl', 'MS_A_PS_90D_spcl', 'MS_A_PS_mean_v_spcl',\n",
    "       'MS_A_PS_stdev_spcl']]\n",
    "y_lm_norm = df_normalizedX['MS_A_moisture_spcl']\n",
    "X_lm_norm_train, X_lm_norm_test, y_lm_norm_train, y_lm_norm_test = train_test_split(X_lm_norm, y_lm_norm, test_size=0.33, random_state=42)\n",
    "from sklearn.linear_model import LinearRegression\n",
    "lm_norm = LinearRegression()\n",
    "lm_norm.fit(X_lm_norm_train,y_lm_norm_train)"
   ]
  },
  {
   "cell_type": "code",
   "execution_count": 265,
   "metadata": {},
   "outputs": [
    {
     "data": {
      "text/plain": [
       "LinearRegression(copy_X=True, fit_intercept=True, n_jobs=None, normalize=False)"
      ]
     },
     "execution_count": 265,
     "metadata": {},
     "output_type": "execute_result"
    }
   ],
   "source": [
    "#Linear Linear Regression Moisture using Nomralized Data\n",
    "X_lm_norm_mg = df_normalizedX[['A_N2DRY', 'A_CWP_1',\n",
    "       'A_CWP_2', 'A_FILT_T', 'A_MANF_P', 'A_CWSH1', 'A_CWSH2', 'A_PRESS1_t',\n",
    "       'A_PRESS2_t',\n",
    "       'MS_A_Al_spcl',\n",
    "       'MS_A_PS_10D_spcl',\n",
    "       'MS_A_PS_50D_spcl', 'MS_A_PS_90D_spcl', 'MS_A_PS_mean_v_spcl',\n",
    "       'MS_A_PS_stdev_spcl']]\n",
    "y_lm_norm_mg = df_normalizedX['MS_A_Mg_spcl']\n",
    "X_lm_norm_mg_train, X_lm_norm_mg_test, y_lm_norm_mg_train, y_lm_norm_mg_test = train_test_split(X_lm_norm_mg, y_lm_norm_mg, test_size=0.33, random_state=42)\n",
    "from sklearn.linear_model import LinearRegression\n",
    "lm_norm_mg = LinearRegression()\n",
    "lm_norm_mg.fit(X_lm_norm_mg_train,y_lm_norm_mg_train)"
   ]
  },
  {
   "cell_type": "code",
   "execution_count": 333,
   "metadata": {},
   "outputs": [],
   "source": [
    "#lm1 is moisture coef_rescale\n",
    "coeff_df_moisture_rescale = pd.DataFrame(zip(lm1.coef_, X.columns), columns=['LM_coef_Moist_rescaled','FT02A_Param'])\n",
    "#coeff_df_moisture_rescale"
   ]
  },
  {
   "cell_type": "code",
   "execution_count": 272,
   "metadata": {},
   "outputs": [],
   "source": [
    "#lm is Mg coef_rescale\n",
    "coeff_df_Mg = pd.DataFrame(zip(lm.coef_, X.columns), columns=['LM_coef_Mg_rescaled','FT02A_Param'])\n",
    "#coeff_df_Mg"
   ]
  },
  {
   "cell_type": "code",
   "execution_count": 273,
   "metadata": {},
   "outputs": [],
   "source": [
    "#lm_std is for Mg_std\n",
    "coeff_df_Mg_std = pd.DataFrame(zip(lm_std.coef_, X.columns), columns=['LM_coef_Mg_std','FT02A_Param'])"
   ]
  },
  {
   "cell_type": "code",
   "execution_count": 274,
   "metadata": {},
   "outputs": [],
   "source": [
    "#lm_std is for Moisture_std\n",
    "coeff_df_Moisture_std = pd.DataFrame(zip(lm_std2.coef_, X.columns), columns=['LM_coef_Moist_std','FT02A_Param'])"
   ]
  },
  {
   "cell_type": "code",
   "execution_count": 275,
   "metadata": {},
   "outputs": [],
   "source": [
    "#lm_std is for moisture_norm\n",
    "coeff_df_moisture_norm = pd.DataFrame(zip(lm_norm.coef_, X.columns), columns=['LM_coef_moist_norm','FT02A_Param'])"
   ]
  },
  {
   "cell_type": "code",
   "execution_count": 276,
   "metadata": {},
   "outputs": [],
   "source": [
    "#lm_std is for Mg_norm\n",
    "coeff_df_Mg_norm = pd.DataFrame(zip(lm_norm_mg.coef_, X.columns), columns=['LM_coef_Mg_norm','FT02A_Param'])"
   ]
  },
  {
   "cell_type": "code",
   "execution_count": 306,
   "metadata": {
    "scrolled": true
   },
   "outputs": [],
   "source": [
    "#combining Mg_coeff to one DF\n",
    "df_Mg_combi = coeff_df_Mg_norm.drop('FT02A_Param', axis=1).join(coeff_df_Mg_std, how='outer').join(coeff_df_Mg.drop('FT02A_Param', axis=1), how='outer')\n",
    "df_Mg_combi = df_Mg_combi.reindex(columns=['FT02A_Param','LM_coef_Mg_norm','LM_coef_Mg_std','LM_coef_Mg_rescaled'])"
   ]
  },
  {
   "cell_type": "code",
   "execution_count": 330,
   "metadata": {},
   "outputs": [],
   "source": [
    "#combining Moisture_coeff to one DF\n",
    "df_Moisture_combi = coeff_df_moisture_norm.drop('FT02A_Param', axis=1).join(coeff_df_Moisture_std, how='outer').join(coeff_df_moisture_rescale.drop('FT02A_Param', axis=1), how='outer')\n",
    "df_Moisture_combi = df_Moisture_combi.reindex(columns=['FT02A_Param','LM_coef_moist_norm','LM_coef_Moist_std','LM_coef_Moist_rescaled'])"
   ]
  },
  {
   "cell_type": "code",
   "execution_count": 176,
   "metadata": {},
   "outputs": [],
   "source": [
    "#reference for geeting the coeff\n",
    "coeff_df = pd.DataFrame(zip(lm.coef_, X.columns), columns=['LM_coefficients','FT02A_Param'])\n",
    "#coeff_df.to_excel(r'C:\\Users\\v.t.flores\\Documents\\20200120_LinearModCoef_Mg.xlsx')\n",
    "coeff_df.reindex(columns=['FT02A_Param','LM_coefficients']).to_excel(r'C:\\Users\\v.t.flores\\Documents\\20200120_LinearModCoef_Mg.xlsx')"
   ]
  },
  {
   "cell_type": "code",
   "execution_count": 189,
   "metadata": {},
   "outputs": [],
   "source": [
    "coeff_df2 = pd.DataFrame(zip(lm2.coef_, df_A_param_forLM.columns),  columns=['LM_coefficients','FT02A_Param'])\n",
    "coeff_df2.reindex(columns=['FT02A_Param','LM_coefficients'])\n",
    "coeff_df2.to_excel(r'C:\\Users\\v.t.flores\\Documents\\20200120_LinearModCoef_moisture.xlsx')"
   ]
  },
  {
   "cell_type": "markdown",
   "metadata": {},
   "source": [
    "# BRAVO DATA"
   ]
  },
  {
   "cell_type": "code",
   "execution_count": null,
   "metadata": {},
   "outputs": [],
   "source": [
    "df_B_param_forLM_mg_moisture_xpndd  = FT02B[['B_PU26B_CUR', 'B_PU27B_CUR', 'B_N2DRY',\n",
    "       'B_CWP_1', 'B_CWP_2', 'B_FILT_T', 'B_MANF_P', 'B_CWSH1', 'B_CWSH2',\n",
    "       'B_PRESS1_t', 'B_PRESS2_t', 'MS_B_Pb_spcl', 'MS_B_Zn_spcl', 'MS_B_Cu_spcl',\n",
    "       'MS_B_Ni_spcl', 'MS_B_Co_spcl', 'MS_B_Fe_spcl', 'MS_B_Mn_spcl',\n",
    "       'MS_B_Cr_spcl', 'MS_B_Ca_spcl', 'MS_B_Si_spcl', 'MS_B_Al_spcl',\n",
    "       'MS_B_S_spcl','MS_B_PS_10D_spcl',\n",
    "       'MS_B_PS_50D_spcl', 'MS_B_PS_90D_spcl', 'MS_B_PS_mean_v_spcl',\n",
    "       'MS_B_PS_stdev_spcl']]"
   ]
  },
  {
   "cell_type": "code",
   "execution_count": 67,
   "metadata": {},
   "outputs": [],
   "source": [
    "FT02Bcorr = FT02B[['B_PU26B_CUR', 'B_PU27B_CUR', 'B_N2DRY',\n",
    "       'B_CWP_1', 'B_CWP_2', 'B_FILT_T', 'B_MANF_P', 'B_CWSH1', 'B_CWSH2',\n",
    "       'B_PRESS1_t', 'B_PRESS2_t', 'B_PU26B_OP', 'B_PU27B_OP','MS_B_Pb_spcl', 'MS_B_Zn_spcl', 'MS_B_Cu_spcl',\n",
    "       'MS_B_Ni_spcl', 'MS_B_Co_spcl', 'MS_B_Fe_spcl', 'MS_B_Mn_spcl',\n",
    "       'MS_B_Cr_spcl', 'MS_B_Ca_spcl', 'MS_B_Si_spcl', 'MS_B_Al_spcl',\n",
    "       'MS_B_Mg_spcl', 'MS_B_S_spcl', 'MS_B_moisture_spcl', 'MS_B_PS_10D_spcl',\n",
    "       'MS_B_PS_50D_spcl', 'MS_B_PS_90D_spcl', 'MS_B_PS_mean_v_spcl',\n",
    "       'MS_B_PS_stdev_spcl']]"
   ]
  },
  {
   "cell_type": "code",
   "execution_count": 69,
   "metadata": {},
   "outputs": [],
   "source": [
    "FT02Bcorr.corr().to_excel(r'C:\\Users\\v.t.flores\\Documents\\FT02Bcorr.xlsx')"
   ]
  },
  {
   "cell_type": "code",
   "execution_count": null,
   "metadata": {},
   "outputs": [],
   "source": []
  }
 ],
 "metadata": {
  "kernelspec": {
   "display_name": "Python 3",
   "language": "python",
   "name": "python3"
  },
  "language_info": {
   "codemirror_mode": {
    "name": "ipython",
    "version": 3
   },
   "file_extension": ".py",
   "mimetype": "text/x-python",
   "name": "python",
   "nbconvert_exporter": "python",
   "pygments_lexer": "ipython3",
   "version": "3.7.4"
  }
 },
 "nbformat": 4,
 "nbformat_minor": 2
}
