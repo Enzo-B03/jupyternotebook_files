{
 "cells": [
  {
   "cell_type": "code",
   "execution_count": 15,
   "metadata": {},
   "outputs": [],
   "source": [
    "#exc1\n",
    "import pandas as pd\n",
    "import numpy as np\n",
    "import matplotlib.pyplot as plt\n",
    "%matplotlib inline\n",
    "from dateutil.parser import parse\n",
    "from itertools import compress\n",
    "from collections import OrderedDict\n",
    "from datetime import date\n",
    "import datetime\n",
    "from datetime import timedelta\n",
    "import openpyxl\n",
    "from sklearn.metrics import mean_squared_error"
   ]
  },
  {
   "cell_type": "code",
   "execution_count": 16,
   "metadata": {},
   "outputs": [],
   "source": [
    "FT02A = pd.read_excel(r'C:\\Users\\v.t.flores\\Documents\\106FT02A_2019_REV2.xlsx')"
   ]
  },
  {
   "cell_type": "code",
   "execution_count": 17,
   "metadata": {
    "scrolled": true
   },
   "outputs": [
    {
     "data": {
      "text/plain": [
       "126"
      ]
     },
     "execution_count": 17,
     "metadata": {},
     "output_type": "execute_result"
    }
   ],
   "source": [
    "len(FT02A['MS_A_Mg_spcl'].unique())"
   ]
  },
  {
   "cell_type": "code",
   "execution_count": 18,
   "metadata": {},
   "outputs": [],
   "source": [
    "FT02A = FT02A.dropna()"
   ]
  },
  {
   "cell_type": "code",
   "execution_count": 19,
   "metadata": {},
   "outputs": [
    {
     "data": {
      "text/plain": [
       "Index(['A_PU26A_CUR', 'A_PU27A_CUR', 'A_N2DRY', 'A_CWP_1', 'A_CWP_2',\n",
       "       'A_FILT_T', 'A_MANF_P', 'A_CWSH1', 'A_CWSH2', 'A_PRESS1_t',\n",
       "       'A_PRESS2_t', 'A_PU26A_OP', 'A_PU27A_OP', 'newdt', 'startdate',\n",
       "       'enddate', 'MS_A_Pb_spcl', 'MS_A_Zn_spcl', 'MS_A_Cu_spcl',\n",
       "       'MS_A_Ni_spcl', 'MS_A_Co_spcl', 'MS_A_Fe_spcl', 'MS_A_Mn_spcl',\n",
       "       'MS_A_Cr_spcl', 'MS_A_Ca_spcl', 'MS_A_Si_spcl', 'MS_A_Al_spcl',\n",
       "       'MS_A_Mg_spcl', 'MS_A_S_spcl', 'MS_A_moisture_spcl', 'MS_A_PS_10D_spcl',\n",
       "       'MS_A_PS_50D_spcl', 'MS_A_PS_90D_spcl', 'MS_A_PS_mean_v_spcl',\n",
       "       'MS_A_PS_stdev_spcl'],\n",
       "      dtype='object')"
      ]
     },
     "execution_count": 19,
     "metadata": {},
     "output_type": "execute_result"
    }
   ],
   "source": [
    "FT02A.columns"
   ]
  },
  {
   "cell_type": "code",
   "execution_count": 20,
   "metadata": {},
   "outputs": [],
   "source": [
    "FT02A.set_index('startdate', inplace=True)"
   ]
  },
  {
   "cell_type": "code",
   "execution_count": 21,
   "metadata": {},
   "outputs": [
    {
     "data": {
      "text/html": [
       "<div>\n",
       "<style scoped>\n",
       "    .dataframe tbody tr th:only-of-type {\n",
       "        vertical-align: middle;\n",
       "    }\n",
       "\n",
       "    .dataframe tbody tr th {\n",
       "        vertical-align: top;\n",
       "    }\n",
       "\n",
       "    .dataframe thead th {\n",
       "        text-align: right;\n",
       "    }\n",
       "</style>\n",
       "<table border=\"1\" class=\"dataframe\">\n",
       "  <thead>\n",
       "    <tr style=\"text-align: right;\">\n",
       "      <th></th>\n",
       "      <th>A_PU26A_CUR</th>\n",
       "      <th>A_PU27A_CUR</th>\n",
       "      <th>A_N2DRY</th>\n",
       "      <th>A_CWP_1</th>\n",
       "      <th>A_CWP_2</th>\n",
       "      <th>A_FILT_T</th>\n",
       "      <th>A_MANF_P</th>\n",
       "      <th>A_CWSH1</th>\n",
       "      <th>A_CWSH2</th>\n",
       "      <th>A_PRESS1_t</th>\n",
       "      <th>...</th>\n",
       "      <th>MS_A_Si_spcl</th>\n",
       "      <th>MS_A_Al_spcl</th>\n",
       "      <th>MS_A_Mg_spcl</th>\n",
       "      <th>MS_A_S_spcl</th>\n",
       "      <th>MS_A_moisture_spcl</th>\n",
       "      <th>MS_A_PS_10D_spcl</th>\n",
       "      <th>MS_A_PS_50D_spcl</th>\n",
       "      <th>MS_A_PS_90D_spcl</th>\n",
       "      <th>MS_A_PS_mean_v_spcl</th>\n",
       "      <th>MS_A_PS_stdev_spcl</th>\n",
       "    </tr>\n",
       "    <tr>\n",
       "      <th>startdate</th>\n",
       "      <th></th>\n",
       "      <th></th>\n",
       "      <th></th>\n",
       "      <th></th>\n",
       "      <th></th>\n",
       "      <th></th>\n",
       "      <th></th>\n",
       "      <th></th>\n",
       "      <th></th>\n",
       "      <th></th>\n",
       "      <th></th>\n",
       "      <th></th>\n",
       "      <th></th>\n",
       "      <th></th>\n",
       "      <th></th>\n",
       "      <th></th>\n",
       "      <th></th>\n",
       "      <th></th>\n",
       "      <th></th>\n",
       "      <th></th>\n",
       "      <th></th>\n",
       "    </tr>\n",
       "  </thead>\n",
       "  <tbody>\n",
       "    <tr>\n",
       "      <td>2019-04-01 05:35:00</td>\n",
       "      <td>53.564037</td>\n",
       "      <td>52.086601</td>\n",
       "      <td>200</td>\n",
       "      <td>0.82</td>\n",
       "      <td>0.80</td>\n",
       "      <td>245</td>\n",
       "      <td>0.12</td>\n",
       "      <td>190</td>\n",
       "      <td>230</td>\n",
       "      <td>170</td>\n",
       "      <td>...</td>\n",
       "      <td>0.01</td>\n",
       "      <td>0.0062</td>\n",
       "      <td>0.0058</td>\n",
       "      <td>35.0901</td>\n",
       "      <td>14.63</td>\n",
       "      <td>38.81178</td>\n",
       "      <td>76.41354</td>\n",
       "      <td>140.80447</td>\n",
       "      <td>84.45972</td>\n",
       "      <td>44.3675</td>\n",
       "    </tr>\n",
       "    <tr>\n",
       "      <td>2019-04-01 06:05:00</td>\n",
       "      <td>53.577724</td>\n",
       "      <td>51.895084</td>\n",
       "      <td>200</td>\n",
       "      <td>0.81</td>\n",
       "      <td>0.81</td>\n",
       "      <td>231</td>\n",
       "      <td>0.11</td>\n",
       "      <td>190</td>\n",
       "      <td>230</td>\n",
       "      <td>170</td>\n",
       "      <td>...</td>\n",
       "      <td>0.01</td>\n",
       "      <td>0.0062</td>\n",
       "      <td>0.0058</td>\n",
       "      <td>35.0901</td>\n",
       "      <td>14.63</td>\n",
       "      <td>38.81178</td>\n",
       "      <td>76.41354</td>\n",
       "      <td>140.80447</td>\n",
       "      <td>84.45972</td>\n",
       "      <td>44.3675</td>\n",
       "    </tr>\n",
       "    <tr>\n",
       "      <td>2019-04-01 06:34:00</td>\n",
       "      <td>53.044205</td>\n",
       "      <td>51.423119</td>\n",
       "      <td>200</td>\n",
       "      <td>0.81</td>\n",
       "      <td>0.80</td>\n",
       "      <td>250</td>\n",
       "      <td>0.11</td>\n",
       "      <td>190</td>\n",
       "      <td>230</td>\n",
       "      <td>170</td>\n",
       "      <td>...</td>\n",
       "      <td>0.01</td>\n",
       "      <td>0.0062</td>\n",
       "      <td>0.0058</td>\n",
       "      <td>35.0901</td>\n",
       "      <td>14.63</td>\n",
       "      <td>38.81178</td>\n",
       "      <td>76.41354</td>\n",
       "      <td>140.80447</td>\n",
       "      <td>84.45972</td>\n",
       "      <td>44.3675</td>\n",
       "    </tr>\n",
       "    <tr>\n",
       "      <td>2019-04-01 07:03:00</td>\n",
       "      <td>54.507965</td>\n",
       "      <td>52.996323</td>\n",
       "      <td>200</td>\n",
       "      <td>0.83</td>\n",
       "      <td>0.79</td>\n",
       "      <td>246</td>\n",
       "      <td>0.11</td>\n",
       "      <td>190</td>\n",
       "      <td>230</td>\n",
       "      <td>170</td>\n",
       "      <td>...</td>\n",
       "      <td>0.01</td>\n",
       "      <td>0.0062</td>\n",
       "      <td>0.0058</td>\n",
       "      <td>35.0901</td>\n",
       "      <td>14.63</td>\n",
       "      <td>38.81178</td>\n",
       "      <td>76.41354</td>\n",
       "      <td>140.80447</td>\n",
       "      <td>84.45972</td>\n",
       "      <td>44.3675</td>\n",
       "    </tr>\n",
       "    <tr>\n",
       "      <td>2019-04-01 07:32:00</td>\n",
       "      <td>57.072964</td>\n",
       "      <td>55.725483</td>\n",
       "      <td>200</td>\n",
       "      <td>0.81</td>\n",
       "      <td>0.76</td>\n",
       "      <td>239</td>\n",
       "      <td>0.12</td>\n",
       "      <td>190</td>\n",
       "      <td>230</td>\n",
       "      <td>170</td>\n",
       "      <td>...</td>\n",
       "      <td>0.01</td>\n",
       "      <td>0.0062</td>\n",
       "      <td>0.0058</td>\n",
       "      <td>35.0901</td>\n",
       "      <td>14.63</td>\n",
       "      <td>38.81178</td>\n",
       "      <td>76.41354</td>\n",
       "      <td>140.80447</td>\n",
       "      <td>84.45972</td>\n",
       "      <td>44.3675</td>\n",
       "    </tr>\n",
       "    <tr>\n",
       "      <td>...</td>\n",
       "      <td>...</td>\n",
       "      <td>...</td>\n",
       "      <td>...</td>\n",
       "      <td>...</td>\n",
       "      <td>...</td>\n",
       "      <td>...</td>\n",
       "      <td>...</td>\n",
       "      <td>...</td>\n",
       "      <td>...</td>\n",
       "      <td>...</td>\n",
       "      <td>...</td>\n",
       "      <td>...</td>\n",
       "      <td>...</td>\n",
       "      <td>...</td>\n",
       "      <td>...</td>\n",
       "      <td>...</td>\n",
       "      <td>...</td>\n",
       "      <td>...</td>\n",
       "      <td>...</td>\n",
       "      <td>...</td>\n",
       "      <td>...</td>\n",
       "    </tr>\n",
       "    <tr>\n",
       "      <td>2019-12-31 20:31:00</td>\n",
       "      <td>47.893677</td>\n",
       "      <td>48.953880</td>\n",
       "      <td>235</td>\n",
       "      <td>0.84</td>\n",
       "      <td>0.83</td>\n",
       "      <td>764</td>\n",
       "      <td>0.19</td>\n",
       "      <td>155</td>\n",
       "      <td>185</td>\n",
       "      <td>185</td>\n",
       "      <td>...</td>\n",
       "      <td>0.01</td>\n",
       "      <td>0.0100</td>\n",
       "      <td>0.0081</td>\n",
       "      <td>35.0370</td>\n",
       "      <td>11.46</td>\n",
       "      <td>42.49350</td>\n",
       "      <td>82.17470</td>\n",
       "      <td>151.73730</td>\n",
       "      <td>91.11346</td>\n",
       "      <td>48.0063</td>\n",
       "    </tr>\n",
       "    <tr>\n",
       "      <td>2019-12-31 21:05:00</td>\n",
       "      <td>47.777401</td>\n",
       "      <td>49.726795</td>\n",
       "      <td>235</td>\n",
       "      <td>0.83</td>\n",
       "      <td>0.83</td>\n",
       "      <td>780</td>\n",
       "      <td>0.21</td>\n",
       "      <td>155</td>\n",
       "      <td>185</td>\n",
       "      <td>185</td>\n",
       "      <td>...</td>\n",
       "      <td>0.01</td>\n",
       "      <td>0.0100</td>\n",
       "      <td>0.0081</td>\n",
       "      <td>35.0370</td>\n",
       "      <td>11.46</td>\n",
       "      <td>42.49350</td>\n",
       "      <td>82.17470</td>\n",
       "      <td>151.73730</td>\n",
       "      <td>91.11346</td>\n",
       "      <td>48.0063</td>\n",
       "    </tr>\n",
       "    <tr>\n",
       "      <td>2019-12-31 21:39:00</td>\n",
       "      <td>48.201481</td>\n",
       "      <td>49.412159</td>\n",
       "      <td>235</td>\n",
       "      <td>0.81</td>\n",
       "      <td>0.81</td>\n",
       "      <td>722</td>\n",
       "      <td>0.24</td>\n",
       "      <td>155</td>\n",
       "      <td>185</td>\n",
       "      <td>185</td>\n",
       "      <td>...</td>\n",
       "      <td>0.01</td>\n",
       "      <td>0.0100</td>\n",
       "      <td>0.0081</td>\n",
       "      <td>35.0370</td>\n",
       "      <td>11.46</td>\n",
       "      <td>42.49350</td>\n",
       "      <td>82.17470</td>\n",
       "      <td>151.73730</td>\n",
       "      <td>91.11346</td>\n",
       "      <td>48.0063</td>\n",
       "    </tr>\n",
       "    <tr>\n",
       "      <td>2019-12-31 22:15:00</td>\n",
       "      <td>47.182323</td>\n",
       "      <td>48.276722</td>\n",
       "      <td>235</td>\n",
       "      <td>0.83</td>\n",
       "      <td>0.83</td>\n",
       "      <td>857</td>\n",
       "      <td>0.20</td>\n",
       "      <td>155</td>\n",
       "      <td>185</td>\n",
       "      <td>185</td>\n",
       "      <td>...</td>\n",
       "      <td>0.01</td>\n",
       "      <td>0.0100</td>\n",
       "      <td>0.0081</td>\n",
       "      <td>35.0370</td>\n",
       "      <td>11.46</td>\n",
       "      <td>42.49350</td>\n",
       "      <td>82.17470</td>\n",
       "      <td>151.73730</td>\n",
       "      <td>91.11346</td>\n",
       "      <td>48.0063</td>\n",
       "    </tr>\n",
       "    <tr>\n",
       "      <td>2019-12-31 23:20:00</td>\n",
       "      <td>49.035961</td>\n",
       "      <td>49.849918</td>\n",
       "      <td>235</td>\n",
       "      <td>0.90</td>\n",
       "      <td>0.87</td>\n",
       "      <td>477</td>\n",
       "      <td>0.18</td>\n",
       "      <td>155</td>\n",
       "      <td>185</td>\n",
       "      <td>185</td>\n",
       "      <td>...</td>\n",
       "      <td>0.01</td>\n",
       "      <td>0.0100</td>\n",
       "      <td>0.0081</td>\n",
       "      <td>35.0370</td>\n",
       "      <td>11.46</td>\n",
       "      <td>42.49350</td>\n",
       "      <td>82.17470</td>\n",
       "      <td>151.73730</td>\n",
       "      <td>91.11346</td>\n",
       "      <td>48.0063</td>\n",
       "    </tr>\n",
       "  </tbody>\n",
       "</table>\n",
       "<p>9501 rows × 34 columns</p>\n",
       "</div>"
      ],
      "text/plain": [
       "                     A_PU26A_CUR  A_PU27A_CUR  A_N2DRY  A_CWP_1  A_CWP_2  \\\n",
       "startdate                                                                  \n",
       "2019-04-01 05:35:00    53.564037    52.086601      200     0.82     0.80   \n",
       "2019-04-01 06:05:00    53.577724    51.895084      200     0.81     0.81   \n",
       "2019-04-01 06:34:00    53.044205    51.423119      200     0.81     0.80   \n",
       "2019-04-01 07:03:00    54.507965    52.996323      200     0.83     0.79   \n",
       "2019-04-01 07:32:00    57.072964    55.725483      200     0.81     0.76   \n",
       "...                          ...          ...      ...      ...      ...   \n",
       "2019-12-31 20:31:00    47.893677    48.953880      235     0.84     0.83   \n",
       "2019-12-31 21:05:00    47.777401    49.726795      235     0.83     0.83   \n",
       "2019-12-31 21:39:00    48.201481    49.412159      235     0.81     0.81   \n",
       "2019-12-31 22:15:00    47.182323    48.276722      235     0.83     0.83   \n",
       "2019-12-31 23:20:00    49.035961    49.849918      235     0.90     0.87   \n",
       "\n",
       "                     A_FILT_T  A_MANF_P  A_CWSH1  A_CWSH2  A_PRESS1_t  ...  \\\n",
       "startdate                                                              ...   \n",
       "2019-04-01 05:35:00       245      0.12      190      230         170  ...   \n",
       "2019-04-01 06:05:00       231      0.11      190      230         170  ...   \n",
       "2019-04-01 06:34:00       250      0.11      190      230         170  ...   \n",
       "2019-04-01 07:03:00       246      0.11      190      230         170  ...   \n",
       "2019-04-01 07:32:00       239      0.12      190      230         170  ...   \n",
       "...                       ...       ...      ...      ...         ...  ...   \n",
       "2019-12-31 20:31:00       764      0.19      155      185         185  ...   \n",
       "2019-12-31 21:05:00       780      0.21      155      185         185  ...   \n",
       "2019-12-31 21:39:00       722      0.24      155      185         185  ...   \n",
       "2019-12-31 22:15:00       857      0.20      155      185         185  ...   \n",
       "2019-12-31 23:20:00       477      0.18      155      185         185  ...   \n",
       "\n",
       "                     MS_A_Si_spcl  MS_A_Al_spcl  MS_A_Mg_spcl MS_A_S_spcl  \\\n",
       "startdate                                                                   \n",
       "2019-04-01 05:35:00          0.01        0.0062        0.0058     35.0901   \n",
       "2019-04-01 06:05:00          0.01        0.0062        0.0058     35.0901   \n",
       "2019-04-01 06:34:00          0.01        0.0062        0.0058     35.0901   \n",
       "2019-04-01 07:03:00          0.01        0.0062        0.0058     35.0901   \n",
       "2019-04-01 07:32:00          0.01        0.0062        0.0058     35.0901   \n",
       "...                           ...           ...           ...         ...   \n",
       "2019-12-31 20:31:00          0.01        0.0100        0.0081     35.0370   \n",
       "2019-12-31 21:05:00          0.01        0.0100        0.0081     35.0370   \n",
       "2019-12-31 21:39:00          0.01        0.0100        0.0081     35.0370   \n",
       "2019-12-31 22:15:00          0.01        0.0100        0.0081     35.0370   \n",
       "2019-12-31 23:20:00          0.01        0.0100        0.0081     35.0370   \n",
       "\n",
       "                    MS_A_moisture_spcl  MS_A_PS_10D_spcl  MS_A_PS_50D_spcl  \\\n",
       "startdate                                                                    \n",
       "2019-04-01 05:35:00              14.63          38.81178          76.41354   \n",
       "2019-04-01 06:05:00              14.63          38.81178          76.41354   \n",
       "2019-04-01 06:34:00              14.63          38.81178          76.41354   \n",
       "2019-04-01 07:03:00              14.63          38.81178          76.41354   \n",
       "2019-04-01 07:32:00              14.63          38.81178          76.41354   \n",
       "...                                ...               ...               ...   \n",
       "2019-12-31 20:31:00              11.46          42.49350          82.17470   \n",
       "2019-12-31 21:05:00              11.46          42.49350          82.17470   \n",
       "2019-12-31 21:39:00              11.46          42.49350          82.17470   \n",
       "2019-12-31 22:15:00              11.46          42.49350          82.17470   \n",
       "2019-12-31 23:20:00              11.46          42.49350          82.17470   \n",
       "\n",
       "                     MS_A_PS_90D_spcl  MS_A_PS_mean_v_spcl  MS_A_PS_stdev_spcl  \n",
       "startdate                                                                       \n",
       "2019-04-01 05:35:00         140.80447             84.45972             44.3675  \n",
       "2019-04-01 06:05:00         140.80447             84.45972             44.3675  \n",
       "2019-04-01 06:34:00         140.80447             84.45972             44.3675  \n",
       "2019-04-01 07:03:00         140.80447             84.45972             44.3675  \n",
       "2019-04-01 07:32:00         140.80447             84.45972             44.3675  \n",
       "...                               ...                  ...                 ...  \n",
       "2019-12-31 20:31:00         151.73730             91.11346             48.0063  \n",
       "2019-12-31 21:05:00         151.73730             91.11346             48.0063  \n",
       "2019-12-31 21:39:00         151.73730             91.11346             48.0063  \n",
       "2019-12-31 22:15:00         151.73730             91.11346             48.0063  \n",
       "2019-12-31 23:20:00         151.73730             91.11346             48.0063  \n",
       "\n",
       "[9501 rows x 34 columns]"
      ]
     },
     "execution_count": 21,
     "metadata": {},
     "output_type": "execute_result"
    }
   ],
   "source": [
    "FT02A"
   ]
  },
  {
   "cell_type": "code",
   "execution_count": 22,
   "metadata": {},
   "outputs": [],
   "source": [
    "FT02A.describe().to_excel(r'C:\\Users\\v.t.flores\\Documents\\FT02A_describe_20200124.xlsx')"
   ]
  },
  {
   "cell_type": "markdown",
   "metadata": {},
   "source": [
    "For ScikitLearn"
   ]
  },
  {
   "cell_type": "code",
   "execution_count": 23,
   "metadata": {},
   "outputs": [],
   "source": [
    "#\n",
    "#parameter for Mg and moisture expanded\n",
    "df_A_param_forLM_mg_moisture_xpndd = FT02A[['A_PU26A_CUR', 'A_PU27A_CUR', 'A_N2DRY', 'A_CWP_1',\n",
    "       'A_CWP_2', 'A_FILT_T', 'A_MANF_P', 'A_CWSH1', 'A_CWSH2', 'A_PRESS1_t',\n",
    "       'A_PRESS2_t',\n",
    "       'MS_A_Pb_spcl', 'MS_A_Zn_spcl', 'MS_A_Cu_spcl',\n",
    "       'MS_A_Ni_spcl', 'MS_A_Co_spcl', 'MS_A_Fe_spcl', 'MS_A_Mn_spcl',\n",
    "       'MS_A_Cr_spcl', 'MS_A_Ca_spcl', 'MS_A_Si_spcl', 'MS_A_Al_spcl',\n",
    "       'MS_A_S_spcl','MS_A_PS_10D_spcl',\n",
    "       'MS_A_PS_50D_spcl', 'MS_A_PS_90D_spcl', 'MS_A_PS_mean_v_spcl',\n",
    "       'MS_A_PS_stdev_spcl']]\n",
    "#Computing for coeff for Moisture\n",
    "import numpy as np\n",
    "from matplotlib import pyplot as plt\n",
    "from sklearn.model_selection import train_test_split\n",
    "X1 = df_A_param_forLM_mg_moisture_xpndd.dropna()\n",
    "y1 = FT02A['MS_A_moisture_spcl'].dropna()\n",
    "X1_train, X1_test, y1_train, y1_test = train_test_split(X1, y1, test_size=0.40, random_state=101)\n",
    "\n",
    "from sklearn.linear_model import LinearRegression\n",
    "lm2 = LinearRegression()\n",
    "lm2.fit(X1_train,y1_train)\n",
    "\n",
    "coeff_df_moisture_FT02A = pd.DataFrame(zip(lm2.coef_, X1.columns), columns=['LM_coef_Moist','FT02A_Param'])"
   ]
  },
  {
   "cell_type": "code",
   "execution_count": 24,
   "metadata": {},
   "outputs": [],
   "source": [
    "coeff_df_moisture_FT02A.to_excel(r'C:\\Users\\v.t.flores\\Documents\\106FT02A_LM_coef_Moisture_20200124.xlsx')"
   ]
  },
  {
   "cell_type": "code",
   "execution_count": 25,
   "metadata": {},
   "outputs": [
    {
     "data": {
      "text/plain": [
       "32.36375801313223"
      ]
     },
     "execution_count": 25,
     "metadata": {},
     "output_type": "execute_result"
    }
   ],
   "source": [
    "lm2.intercept_"
   ]
  },
  {
   "cell_type": "code",
   "execution_count": 26,
   "metadata": {},
   "outputs": [
    {
     "data": {
      "text/plain": [
       "array([-5.08181479e-02,  2.37981511e-02, -6.09142054e-03,  2.05143754e-01,\n",
       "        9.39524224e-01, -9.06335213e-04, -1.01358251e+00, -4.76411198e-03,\n",
       "       -1.32342637e-03,  7.37299985e-04, -1.19064440e-02, -1.33927274e+03,\n",
       "       -4.37625614e-01,  9.14690190e-09,  2.94750242e-01, -5.53966355e-01,\n",
       "        1.14371272e-01,  3.36375760e+01,  2.12163909e+01, -2.71660876e+01,\n",
       "       -1.93864480e-10, -3.80198829e+01, -6.47536645e-01, -2.26879782e-01,\n",
       "        1.30184298e-02,  4.25431516e-02, -3.71906290e-02,  2.88372313e-02])"
      ]
     },
     "execution_count": 26,
     "metadata": {},
     "output_type": "execute_result"
    }
   ],
   "source": [
    "lm2.coef_"
   ]
  },
  {
   "cell_type": "code",
   "execution_count": 27,
   "metadata": {},
   "outputs": [],
   "source": [
    "pred = lm2.predict(X1_test)"
   ]
  },
  {
   "cell_type": "code",
   "execution_count": 37,
   "metadata": {},
   "outputs": [],
   "source": [
    "#\n",
    "#parameter for Mg and moisture expanded\n",
    "df_A_param_forLM_mg_moisture_xpndd = FT02A[['A_PU26A_CUR', 'A_PU27A_CUR', 'A_N2DRY', 'A_CWP_1',\n",
    "       'A_CWP_2', 'A_FILT_T', 'A_MANF_P', 'A_CWSH1', 'A_CWSH2', 'A_PRESS1_t',\n",
    "       'A_PRESS2_t',\n",
    "       'MS_A_Pb_spcl', 'MS_A_Zn_spcl', 'MS_A_Cu_spcl',\n",
    "       'MS_A_Ni_spcl', 'MS_A_Co_spcl', 'MS_A_Fe_spcl', 'MS_A_Mn_spcl',\n",
    "       'MS_A_Cr_spcl', 'MS_A_Ca_spcl', 'MS_A_Si_spcl', 'MS_A_Al_spcl',\n",
    "       'MS_A_S_spcl','MS_A_PS_10D_spcl',\n",
    "       'MS_A_PS_50D_spcl', 'MS_A_PS_90D_spcl', 'MS_A_PS_mean_v_spcl',\n",
    "       'MS_A_PS_stdev_spcl']]\n",
    "#Computing for coeff for Mg\n",
    "import numpy as np\n",
    "from matplotlib import pyplot as plt\n",
    "from sklearn.model_selection import train_test_split\n",
    "X1 = df_A_param_forLM_mg_moisture_xpndd.dropna()\n",
    "y1 = FT02A['MS_A_Mg_spcl'].dropna()\n",
    "X1_train, X1_test, y1_train, y1_test = train_test_split(X1, y1, test_size=0.40, random_state=101)\n",
    "\n",
    "from sklearn.linear_model import LinearRegression\n",
    "lm2mg = LinearRegression()\n",
    "lm2mg.fit(X1_train,y1_train)\n",
    "\n",
    "coeff_df_mg_FT02A = pd.DataFrame(zip(lm2mg.coef_, X1.columns), columns=['LM_coef_Mg','FT02A_Param'])"
   ]
  },
  {
   "cell_type": "code",
   "execution_count": 35,
   "metadata": {},
   "outputs": [],
   "source": [
    "pred = pd.DataFrame(zip(lm2mg.predict(X1_test), X1.columns), columns=['LM_predict_Mg','FT02A_Param'])"
   ]
  },
  {
   "cell_type": "code",
   "execution_count": 38,
   "metadata": {},
   "outputs": [
    {
     "data": {
      "text/plain": [
       "-0.08837265314505216"
      ]
     },
     "execution_count": 38,
     "metadata": {},
     "output_type": "execute_result"
    }
   ],
   "source": [
    "lm2mg.intercept_"
   ]
  },
  {
   "cell_type": "code",
   "execution_count": 32,
   "metadata": {},
   "outputs": [],
   "source": [
    "coeff_df_mg_FT02A.to_excel(r'C:\\Users\\v.t.flores\\Documents\\106FT02A_LM_coef_Mg_20200124iii.xlsx')"
   ]
  },
  {
   "cell_type": "code",
   "execution_count": 33,
   "metadata": {},
   "outputs": [
    {
     "data": {
      "text/html": [
       "<div>\n",
       "<style scoped>\n",
       "    .dataframe tbody tr th:only-of-type {\n",
       "        vertical-align: middle;\n",
       "    }\n",
       "\n",
       "    .dataframe tbody tr th {\n",
       "        vertical-align: top;\n",
       "    }\n",
       "\n",
       "    .dataframe thead th {\n",
       "        text-align: right;\n",
       "    }\n",
       "</style>\n",
       "<table border=\"1\" class=\"dataframe\">\n",
       "  <thead>\n",
       "    <tr style=\"text-align: right;\">\n",
       "      <th></th>\n",
       "      <th>LM_coef_Moist</th>\n",
       "      <th>FT02A_Param</th>\n",
       "    </tr>\n",
       "  </thead>\n",
       "  <tbody>\n",
       "    <tr>\n",
       "      <td>0</td>\n",
       "      <td>-5.081815e-02</td>\n",
       "      <td>A_PU26A_CUR</td>\n",
       "    </tr>\n",
       "    <tr>\n",
       "      <td>1</td>\n",
       "      <td>2.379815e-02</td>\n",
       "      <td>A_PU27A_CUR</td>\n",
       "    </tr>\n",
       "    <tr>\n",
       "      <td>2</td>\n",
       "      <td>-6.091421e-03</td>\n",
       "      <td>A_N2DRY</td>\n",
       "    </tr>\n",
       "    <tr>\n",
       "      <td>3</td>\n",
       "      <td>2.051438e-01</td>\n",
       "      <td>A_CWP_1</td>\n",
       "    </tr>\n",
       "    <tr>\n",
       "      <td>4</td>\n",
       "      <td>9.395242e-01</td>\n",
       "      <td>A_CWP_2</td>\n",
       "    </tr>\n",
       "    <tr>\n",
       "      <td>5</td>\n",
       "      <td>-9.063352e-04</td>\n",
       "      <td>A_FILT_T</td>\n",
       "    </tr>\n",
       "    <tr>\n",
       "      <td>6</td>\n",
       "      <td>-1.013583e+00</td>\n",
       "      <td>A_MANF_P</td>\n",
       "    </tr>\n",
       "    <tr>\n",
       "      <td>7</td>\n",
       "      <td>-4.764112e-03</td>\n",
       "      <td>A_CWSH1</td>\n",
       "    </tr>\n",
       "    <tr>\n",
       "      <td>8</td>\n",
       "      <td>-1.323426e-03</td>\n",
       "      <td>A_CWSH2</td>\n",
       "    </tr>\n",
       "    <tr>\n",
       "      <td>9</td>\n",
       "      <td>7.373000e-04</td>\n",
       "      <td>A_PRESS1_t</td>\n",
       "    </tr>\n",
       "    <tr>\n",
       "      <td>10</td>\n",
       "      <td>-1.190644e-02</td>\n",
       "      <td>A_PRESS2_t</td>\n",
       "    </tr>\n",
       "    <tr>\n",
       "      <td>11</td>\n",
       "      <td>-1.339273e+03</td>\n",
       "      <td>MS_A_Pb_spcl</td>\n",
       "    </tr>\n",
       "    <tr>\n",
       "      <td>12</td>\n",
       "      <td>-4.376256e-01</td>\n",
       "      <td>MS_A_Zn_spcl</td>\n",
       "    </tr>\n",
       "    <tr>\n",
       "      <td>13</td>\n",
       "      <td>9.146902e-09</td>\n",
       "      <td>MS_A_Cu_spcl</td>\n",
       "    </tr>\n",
       "    <tr>\n",
       "      <td>14</td>\n",
       "      <td>2.947502e-01</td>\n",
       "      <td>MS_A_Ni_spcl</td>\n",
       "    </tr>\n",
       "    <tr>\n",
       "      <td>15</td>\n",
       "      <td>-5.539664e-01</td>\n",
       "      <td>MS_A_Co_spcl</td>\n",
       "    </tr>\n",
       "    <tr>\n",
       "      <td>16</td>\n",
       "      <td>1.143713e-01</td>\n",
       "      <td>MS_A_Fe_spcl</td>\n",
       "    </tr>\n",
       "    <tr>\n",
       "      <td>17</td>\n",
       "      <td>3.363758e+01</td>\n",
       "      <td>MS_A_Mn_spcl</td>\n",
       "    </tr>\n",
       "    <tr>\n",
       "      <td>18</td>\n",
       "      <td>2.121639e+01</td>\n",
       "      <td>MS_A_Cr_spcl</td>\n",
       "    </tr>\n",
       "    <tr>\n",
       "      <td>19</td>\n",
       "      <td>-2.716609e+01</td>\n",
       "      <td>MS_A_Ca_spcl</td>\n",
       "    </tr>\n",
       "    <tr>\n",
       "      <td>20</td>\n",
       "      <td>-1.938645e-10</td>\n",
       "      <td>MS_A_Si_spcl</td>\n",
       "    </tr>\n",
       "    <tr>\n",
       "      <td>21</td>\n",
       "      <td>-3.801988e+01</td>\n",
       "      <td>MS_A_Al_spcl</td>\n",
       "    </tr>\n",
       "    <tr>\n",
       "      <td>22</td>\n",
       "      <td>-6.475366e-01</td>\n",
       "      <td>MS_A_S_spcl</td>\n",
       "    </tr>\n",
       "    <tr>\n",
       "      <td>23</td>\n",
       "      <td>-2.268798e-01</td>\n",
       "      <td>MS_A_PS_10D_spcl</td>\n",
       "    </tr>\n",
       "    <tr>\n",
       "      <td>24</td>\n",
       "      <td>1.301843e-02</td>\n",
       "      <td>MS_A_PS_50D_spcl</td>\n",
       "    </tr>\n",
       "    <tr>\n",
       "      <td>25</td>\n",
       "      <td>4.254315e-02</td>\n",
       "      <td>MS_A_PS_90D_spcl</td>\n",
       "    </tr>\n",
       "    <tr>\n",
       "      <td>26</td>\n",
       "      <td>-3.719063e-02</td>\n",
       "      <td>MS_A_PS_mean_v_spcl</td>\n",
       "    </tr>\n",
       "    <tr>\n",
       "      <td>27</td>\n",
       "      <td>2.883723e-02</td>\n",
       "      <td>MS_A_PS_stdev_spcl</td>\n",
       "    </tr>\n",
       "  </tbody>\n",
       "</table>\n",
       "</div>"
      ],
      "text/plain": [
       "    LM_coef_Moist          FT02A_Param\n",
       "0   -5.081815e-02          A_PU26A_CUR\n",
       "1    2.379815e-02          A_PU27A_CUR\n",
       "2   -6.091421e-03              A_N2DRY\n",
       "3    2.051438e-01              A_CWP_1\n",
       "4    9.395242e-01              A_CWP_2\n",
       "5   -9.063352e-04             A_FILT_T\n",
       "6   -1.013583e+00             A_MANF_P\n",
       "7   -4.764112e-03              A_CWSH1\n",
       "8   -1.323426e-03              A_CWSH2\n",
       "9    7.373000e-04           A_PRESS1_t\n",
       "10  -1.190644e-02           A_PRESS2_t\n",
       "11  -1.339273e+03         MS_A_Pb_spcl\n",
       "12  -4.376256e-01         MS_A_Zn_spcl\n",
       "13   9.146902e-09         MS_A_Cu_spcl\n",
       "14   2.947502e-01         MS_A_Ni_spcl\n",
       "15  -5.539664e-01         MS_A_Co_spcl\n",
       "16   1.143713e-01         MS_A_Fe_spcl\n",
       "17   3.363758e+01         MS_A_Mn_spcl\n",
       "18   2.121639e+01         MS_A_Cr_spcl\n",
       "19  -2.716609e+01         MS_A_Ca_spcl\n",
       "20  -1.938645e-10         MS_A_Si_spcl\n",
       "21  -3.801988e+01         MS_A_Al_spcl\n",
       "22  -6.475366e-01          MS_A_S_spcl\n",
       "23  -2.268798e-01     MS_A_PS_10D_spcl\n",
       "24   1.301843e-02     MS_A_PS_50D_spcl\n",
       "25   4.254315e-02     MS_A_PS_90D_spcl\n",
       "26  -3.719063e-02  MS_A_PS_mean_v_spcl\n",
       "27   2.883723e-02   MS_A_PS_stdev_spcl"
      ]
     },
     "execution_count": 33,
     "metadata": {},
     "output_type": "execute_result"
    }
   ],
   "source": [
    "coeff_df_moisture_FT02A"
   ]
  },
  {
   "cell_type": "code",
   "execution_count": 36,
   "metadata": {},
   "outputs": [
    {
     "ename": "ValueError",
     "evalue": "Found input variables with inconsistent numbers of samples: [3801, 28]",
     "output_type": "error",
     "traceback": [
      "\u001b[1;31m---------------------------------------------------------------------------\u001b[0m",
      "\u001b[1;31mValueError\u001b[0m                                Traceback (most recent call last)",
      "\u001b[1;32m<ipython-input-36-03fd1c258633>\u001b[0m in \u001b[0;36m<module>\u001b[1;34m\u001b[0m\n\u001b[1;32m----> 1\u001b[1;33m \u001b[0mtest_set_rmse\u001b[0m \u001b[1;33m=\u001b[0m \u001b[1;33m(\u001b[0m\u001b[0mnp\u001b[0m\u001b[1;33m.\u001b[0m\u001b[0msqrt\u001b[0m\u001b[1;33m(\u001b[0m\u001b[0mmean_squared_error\u001b[0m\u001b[1;33m(\u001b[0m\u001b[0my1_test\u001b[0m\u001b[1;33m,\u001b[0m \u001b[0mpred\u001b[0m\u001b[1;33m)\u001b[0m\u001b[1;33m)\u001b[0m\u001b[1;33m)\u001b[0m\u001b[1;33m\u001b[0m\u001b[1;33m\u001b[0m\u001b[0m\n\u001b[0m",
      "\u001b[1;32mC:\\ProgramData\\Anaconda3\\lib\\site-packages\\sklearn\\metrics\\regression.py\u001b[0m in \u001b[0;36mmean_squared_error\u001b[1;34m(y_true, y_pred, sample_weight, multioutput)\u001b[0m\n\u001b[0;32m    239\u001b[0m     \"\"\"\n\u001b[0;32m    240\u001b[0m     y_type, y_true, y_pred, multioutput = _check_reg_targets(\n\u001b[1;32m--> 241\u001b[1;33m         y_true, y_pred, multioutput)\n\u001b[0m\u001b[0;32m    242\u001b[0m     \u001b[0mcheck_consistent_length\u001b[0m\u001b[1;33m(\u001b[0m\u001b[0my_true\u001b[0m\u001b[1;33m,\u001b[0m \u001b[0my_pred\u001b[0m\u001b[1;33m,\u001b[0m \u001b[0msample_weight\u001b[0m\u001b[1;33m)\u001b[0m\u001b[1;33m\u001b[0m\u001b[1;33m\u001b[0m\u001b[0m\n\u001b[0;32m    243\u001b[0m     output_errors = np.average((y_true - y_pred) ** 2, axis=0,\n",
      "\u001b[1;32mC:\\ProgramData\\Anaconda3\\lib\\site-packages\\sklearn\\metrics\\regression.py\u001b[0m in \u001b[0;36m_check_reg_targets\u001b[1;34m(y_true, y_pred, multioutput)\u001b[0m\n\u001b[0;32m     75\u001b[0m \u001b[1;33m\u001b[0m\u001b[0m\n\u001b[0;32m     76\u001b[0m     \"\"\"\n\u001b[1;32m---> 77\u001b[1;33m     \u001b[0mcheck_consistent_length\u001b[0m\u001b[1;33m(\u001b[0m\u001b[0my_true\u001b[0m\u001b[1;33m,\u001b[0m \u001b[0my_pred\u001b[0m\u001b[1;33m)\u001b[0m\u001b[1;33m\u001b[0m\u001b[1;33m\u001b[0m\u001b[0m\n\u001b[0m\u001b[0;32m     78\u001b[0m     \u001b[0my_true\u001b[0m \u001b[1;33m=\u001b[0m \u001b[0mcheck_array\u001b[0m\u001b[1;33m(\u001b[0m\u001b[0my_true\u001b[0m\u001b[1;33m,\u001b[0m \u001b[0mensure_2d\u001b[0m\u001b[1;33m=\u001b[0m\u001b[1;32mFalse\u001b[0m\u001b[1;33m)\u001b[0m\u001b[1;33m\u001b[0m\u001b[1;33m\u001b[0m\u001b[0m\n\u001b[0;32m     79\u001b[0m     \u001b[0my_pred\u001b[0m \u001b[1;33m=\u001b[0m \u001b[0mcheck_array\u001b[0m\u001b[1;33m(\u001b[0m\u001b[0my_pred\u001b[0m\u001b[1;33m,\u001b[0m \u001b[0mensure_2d\u001b[0m\u001b[1;33m=\u001b[0m\u001b[1;32mFalse\u001b[0m\u001b[1;33m)\u001b[0m\u001b[1;33m\u001b[0m\u001b[1;33m\u001b[0m\u001b[0m\n",
      "\u001b[1;32mC:\\ProgramData\\Anaconda3\\lib\\site-packages\\sklearn\\utils\\validation.py\u001b[0m in \u001b[0;36mcheck_consistent_length\u001b[1;34m(*arrays)\u001b[0m\n\u001b[0;32m    203\u001b[0m     \u001b[1;32mif\u001b[0m \u001b[0mlen\u001b[0m\u001b[1;33m(\u001b[0m\u001b[0muniques\u001b[0m\u001b[1;33m)\u001b[0m \u001b[1;33m>\u001b[0m \u001b[1;36m1\u001b[0m\u001b[1;33m:\u001b[0m\u001b[1;33m\u001b[0m\u001b[1;33m\u001b[0m\u001b[0m\n\u001b[0;32m    204\u001b[0m         raise ValueError(\"Found input variables with inconsistent numbers of\"\n\u001b[1;32m--> 205\u001b[1;33m                          \" samples: %r\" % [int(l) for l in lengths])\n\u001b[0m\u001b[0;32m    206\u001b[0m \u001b[1;33m\u001b[0m\u001b[0m\n\u001b[0;32m    207\u001b[0m \u001b[1;33m\u001b[0m\u001b[0m\n",
      "\u001b[1;31mValueError\u001b[0m: Found input variables with inconsistent numbers of samples: [3801, 28]"
     ]
    }
   ],
   "source": [
    "test_set_rmse = (np.sqrt(mean_squared_error(y1_test, pred)))"
   ]
  },
  {
   "cell_type": "code",
   "execution_count": 39,
   "metadata": {},
   "outputs": [
    {
     "data": {
      "text/plain": [
       "13.959096004968236"
      ]
     },
     "execution_count": 39,
     "metadata": {},
     "output_type": "execute_result"
    }
   ],
   "source": [
    "test_set_rmse"
   ]
  },
  {
   "cell_type": "code",
   "execution_count": null,
   "metadata": {},
   "outputs": [],
   "source": [
    ">>> import numpy as np\n",
    ">>> from sklearn.linear_model import LinearRegression\n",
    ">>> X = np.array([[1, 1], [1, 2], [2, 2], [2, 3]])\n",
    ">>> # y = 1 * x_0 + 2 * x_1 + 3\n",
    ">>> y = np.dot(X, np.array([1, 2])) + 3\n",
    ">>> reg = LinearRegression().fit(X, y)\n",
    ">>> reg.score(X, y)\n",
    "\n",
    ">>> reg.coef_\n",
    "\n",
    ">>> reg.intercept_\n",
    "\n",
    ">>> reg.predict(np.array([[3, 5]]))\n"
   ]
  },
  {
   "cell_type": "code",
   "execution_count": null,
   "metadata": {},
   "outputs": [],
   "source": []
  },
  {
   "cell_type": "code",
   "execution_count": 59,
   "metadata": {},
   "outputs": [],
   "source": [
    "from sklearn.linear_model import LinearRegression\n",
    "lm2 = LinearRegression()\n",
    "lm2.fit(X1_train,y1_train)\n",
    "\n",
    "coeff_df_moisture_FT02B = pd.DataFrame(zip(lm2.coef_, X1.columns), columns=['LM_coef_Moist','FT02B_Param'])"
   ]
  },
  {
   "cell_type": "code",
   "execution_count": 60,
   "metadata": {},
   "outputs": [],
   "source": [
    "#save the lm.coeff Moisture to Documents\n",
    "coeff_df_moisture_FT02B.to_excel(r'C:\\Users\\v.t.flores\\Documents\\106FT02B_LM_coef_Moisture.xlsx')"
   ]
  },
  {
   "cell_type": "code",
   "execution_count": 62,
   "metadata": {},
   "outputs": [
    {
     "data": {
      "text/plain": [
       "LinearRegression(copy_X=True, fit_intercept=True, n_jobs=None, normalize=False)"
      ]
     },
     "execution_count": 62,
     "metadata": {},
     "output_type": "execute_result"
    }
   ],
   "source": [
    "#Computing for coeff for Mg\n",
    "\n",
    "from sklearn.model_selection import train_test_split\n",
    "X2 = df_B_param_forLM.dropna()\n",
    "y2 = FT02B['MS_B_Mg_spcl'].dropna()\n",
    "X2_train, X2_test, y2_train, y2_test = train_test_split(X2, y2, test_size=0.40, random_state=101)\n",
    "from sklearn.linear_model import LinearRegression\n",
    "lm2_mg = LinearRegression()\n",
    "lm2_mg.fit(X2_train,y2_train)"
   ]
  },
  {
   "cell_type": "code",
   "execution_count": 88,
   "metadata": {},
   "outputs": [],
   "source": [
    "coeff_df_Mg_FT02B = pd.DataFrame(zip(lm2_mg.coef_, X2.columns), columns=['LM_coef_Mg','FT02B_Param'])"
   ]
  },
  {
   "cell_type": "code",
   "execution_count": 71,
   "metadata": {},
   "outputs": [],
   "source": [
    "coeff_df_moisture_FT02B"
   ]
  },
  {
   "cell_type": "code",
   "execution_count": 73,
   "metadata": {},
   "outputs": [],
   "source": [
    "#parameter for Mg and moisture expanded\n",
    "df_B_param_forLM_mg_moisture = FT02B[['B_N2DRY',\n",
    "       'B_CWP_1', 'B_CWP_2', 'B_FILT_T', 'B_MANF_P', 'B_CWSH1', 'B_CWSH2',\n",
    "       'B_PRESS1_t', 'B_PRESS2_t', 'B_PU26B_OP', 'B_PU27B_OP','MS_B_Pb_spcl', 'MS_B_Zn_spcl', 'MS_B_Cu_spcl',\n",
    "       'MS_B_Ni_spcl', 'MS_B_Co_spcl', 'MS_B_Fe_spcl', 'MS_B_Mn_spcl',\n",
    "       'MS_B_Cr_spcl', 'MS_B_Ca_spcl', 'MS_B_Si_spcl', 'MS_B_Al_spcl',\n",
    "       'MS_B_S_spcl','MS_B_PS_10D_spcl',\n",
    "       'MS_B_PS_50D_spcl', 'MS_B_PS_90D_spcl', 'MS_B_PS_mean_v_spcl',\n",
    "       'MS_B_PS_stdev_spcl']]\n",
    "#Computing for coeff for Moisture\n",
    "import numpy as np\n",
    "from matplotlib import pyplot as plt\n",
    "from sklearn.model_selection import train_test_split\n",
    "X1 = df_B_param_forLM_mg_moisture.dropna()\n",
    "y1 = FT02B['MS_B_moisture_spcl'].dropna()\n",
    "X1_train, X1_test, y1_train, y1_test = train_test_split(X1, y1, test_size=0.40, random_state=101)\n",
    "\n",
    "from sklearn.linear_model import LinearRegression\n",
    "lm2 = LinearRegression()\n",
    "lm2.fit(X1_train,y1_train)\n",
    "\n",
    "coeff_df_moisture_FT02B = pd.DataFrame(zip(lm2.coef_, X1.columns), columns=['LM_coef_Moist','FT02B_Param'])"
   ]
  },
  {
   "cell_type": "code",
   "execution_count": 77,
   "metadata": {},
   "outputs": [],
   "source": [
    "coeff_df_moisture_FT02B.to_excel(r'C:\\Users\\v.t.flores\\Documents\\106FT02B_LM_coef_moisture_expndd.xlsx')"
   ]
  },
  {
   "cell_type": "code",
   "execution_count": 64,
   "metadata": {},
   "outputs": [],
   "source": [
    "#save the lm.coeff Mg to Documents\n",
    "coeff_df_Mg_FT02B.to_excel(r'C:\\Users\\v.t.flores\\Documents\\106FT02B_LM_coef_Mg.xlsx')"
   ]
  },
  {
   "cell_type": "markdown",
   "metadata": {},
   "source": [
    " Preparing Dataframe for Rescaling"
   ]
  },
  {
   "cell_type": "code",
   "execution_count": 213,
   "metadata": {},
   "outputs": [],
   "source": [
    "df_A_param_forLM_for_rescale = df_Cycle_LabRes_2_ffillna[['A_N2DRY', 'A_CWP_1',\n",
    "       'A_CWP_2', 'A_FILT_T', 'A_MANF_P', 'A_CWSH1', 'A_CWSH2', 'A_PRESS1_t',\n",
    "       'A_PRESS2_t',\n",
    "       'MS_A_Al_spcl','MS_A_Mg_spcl','MS_A_moisture_spcl',\n",
    "       'MS_A_PS_10D_spcl',\n",
    "       'MS_A_PS_50D_spcl', 'MS_A_PS_90D_spcl', 'MS_A_PS_mean_v_spcl',\n",
    "       'MS_A_PS_stdev_spcl']]"
   ]
  },
  {
   "cell_type": "markdown",
   "metadata": {},
   "source": [
    "Rescaling"
   ]
  },
  {
   "cell_type": "code",
   "execution_count": 261,
   "metadata": {},
   "outputs": [],
   "source": [
    "import pandas\n",
    "import scipy\n",
    "import numpy\n",
    "from sklearn.preprocessing import MinMaxScaler\n",
    "\n",
    "X = df_A_param_forLM_for_rescale.dropna()\n",
    "# transofrm data\n",
    "scaler = MinMaxScaler(feature_range=(0, 1))\n",
    "rescaledX = scaler.fit_transform(X)\n",
    "df_rescale = pd.DataFrame(data=rescaledX,    # values\n",
    "index=X.index,    # 1st column as index\n",
    "columns=X.columns)  # 1st row as the column names"
   ]
  },
  {
   "cell_type": "markdown",
   "metadata": {},
   "source": [
    "Standardizing"
   ]
  },
  {
   "cell_type": "code",
   "execution_count": 262,
   "metadata": {},
   "outputs": [],
   "source": [
    "# Standardize data (0 mean, 1 stdev)\n",
    "from sklearn.preprocessing import StandardScaler\n",
    "import pandas\n",
    "import numpy\n",
    "\n",
    "X_std = df_A_param_forLM_for_rescale.dropna()\n",
    "\n",
    "# scaler\n",
    "scaler = StandardScaler().fit(X_std)\n",
    "rescaledX_stnd = scaler.transform(X_std)\n",
    "\n",
    "df_rescaledX_std = pd.DataFrame(data=rescaledX_stnd,    # values\n",
    "index=X_std.index,    # 1st column as index\n",
    "columns=X_std.columns)  # 1st r"
   ]
  },
  {
   "cell_type": "markdown",
   "metadata": {},
   "source": [
    "Normalizing data"
   ]
  },
  {
   "cell_type": "code",
   "execution_count": 263,
   "metadata": {},
   "outputs": [],
   "source": [
    "# Normalize values\n",
    "from sklearn.preprocessing import Normalizer\n",
    "import pandas\n",
    "import numpy\n",
    "\n",
    "X_norm = df_A_param_forLM_for_rescale.dropna()\n",
    "\n",
    "# normalize values\n",
    "scaler = Normalizer().fit(X_norm)\n",
    "normalizedX = scaler.transform(X_norm)\n",
    "\n",
    "df_normalizedX = pd.DataFrame(data=normalizedX,    # values\n",
    "index=X_norm.index,    # 1st column as index\n",
    "columns=X_norm.columns)  # 1st r"
   ]
  },
  {
   "cell_type": "markdown",
   "metadata": {},
   "source": [
    "Applying Linear Reg"
   ]
  },
  {
   "cell_type": "code",
   "execution_count": 229,
   "metadata": {},
   "outputs": [
    {
     "data": {
      "text/plain": [
       "LinearRegression(copy_X=True, fit_intercept=True, n_jobs=None, normalize=False)"
      ]
     },
     "execution_count": 229,
     "metadata": {},
     "output_type": "execute_result"
    }
   ],
   "source": [
    "#Linear Linear Regression moisture_scpl using Rescaled Data\n",
    "X1 = df_rescale[['A_N2DRY', 'A_CWP_1',\n",
    "       'A_CWP_2', 'A_FILT_T', 'A_MANF_P', 'A_CWSH1', 'A_CWSH2', 'A_PRESS1_t',\n",
    "       'A_PRESS2_t',\n",
    "       'MS_A_Al_spcl',\n",
    "       'MS_A_PS_10D_spcl',\n",
    "       'MS_A_PS_50D_spcl', 'MS_A_PS_90D_spcl', 'MS_A_PS_mean_v_spcl',\n",
    "       'MS_A_PS_stdev_spcl']]\n",
    "y1 = df_rescale['MS_A_moisture_spcl']\n",
    "X1_train, X1_test, y1_train, y1_test = train_test_split(X1, y1, test_size=0.33, random_state=42)\n",
    "from sklearn.linear_model import LinearRegression\n",
    "lm1 = LinearRegression()\n",
    "lm1.fit(X1_train,y1_train)"
   ]
  },
  {
   "cell_type": "code",
   "execution_count": 230,
   "metadata": {},
   "outputs": [
    {
     "data": {
      "text/plain": [
       "LinearRegression(copy_X=True, fit_intercept=True, n_jobs=None, normalize=False)"
      ]
     },
     "execution_count": 230,
     "metadata": {},
     "output_type": "execute_result"
    }
   ],
   "source": [
    "#Linear Linear Regression Mg_scpl using Rescaled Data\n",
    "X = df_rescale[['A_N2DRY', 'A_CWP_1',\n",
    "       'A_CWP_2', 'A_FILT_T', 'A_MANF_P', 'A_CWSH1', 'A_CWSH2', 'A_PRESS1_t',\n",
    "       'A_PRESS2_t',\n",
    "       'MS_A_Al_spcl',\n",
    "       'MS_A_PS_10D_spcl',\n",
    "       'MS_A_PS_50D_spcl', 'MS_A_PS_90D_spcl', 'MS_A_PS_mean_v_spcl',\n",
    "       'MS_A_PS_stdev_spcl']]\n",
    "y = df_rescale['MS_A_Mg_spcl']\n",
    "X_train, X_test, y_train, y_test = train_test_split(X, y, test_size=0.33, random_state=42)\n",
    "from sklearn.linear_model import LinearRegression\n",
    "lm = LinearRegression()\n",
    "lm.fit(X_train,y_train)"
   ]
  },
  {
   "cell_type": "code",
   "execution_count": 239,
   "metadata": {},
   "outputs": [
    {
     "data": {
      "text/plain": [
       "LinearRegression(copy_X=True, fit_intercept=True, n_jobs=None, normalize=False)"
      ]
     },
     "execution_count": 239,
     "metadata": {},
     "output_type": "execute_result"
    }
   ],
   "source": [
    "#Linear Linear Regression Mg_scpl using Standardized Data\n",
    "X_lm_std = df_rescaledX_std[['A_N2DRY', 'A_CWP_1',\n",
    "       'A_CWP_2', 'A_FILT_T', 'A_MANF_P', 'A_CWSH1', 'A_CWSH2', 'A_PRESS1_t',\n",
    "       'A_PRESS2_t',\n",
    "       'MS_A_Al_spcl',\n",
    "       'MS_A_PS_10D_spcl',\n",
    "       'MS_A_PS_50D_spcl', 'MS_A_PS_90D_spcl', 'MS_A_PS_mean_v_spcl',\n",
    "       'MS_A_PS_stdev_spcl']]\n",
    "y_lm_std = df_rescaledX_std['MS_A_Mg_spcl']\n",
    "X_lm_std_train, X_lm_std_test, y_lm_std_train, y_lm_std_test = train_test_split(X_lm_std, y_lm_std, test_size=0.33, random_state=42)\n",
    "from sklearn.linear_model import LinearRegression\n",
    "lm_std = LinearRegression()\n",
    "lm_std.fit(X_lm_std_train,y_lm_std_train)"
   ]
  },
  {
   "cell_type": "code",
   "execution_count": null,
   "metadata": {},
   "outputs": [],
   "source": [
    "#Linear Linear Regression Moisture using Standardized Data\n",
    "X_lm_std2 = df_rescaledX_std[['A_N2DRY', 'A_CWP_1',\n",
    "       'A_CWP_2', 'A_FILT_T', 'A_MANF_P', 'A_CWSH1', 'A_CWSH2', 'A_PRESS1_t',\n",
    "       'A_PRESS2_t',\n",
    "       'MS_A_Al_spcl',\n",
    "       'MS_A_PS_10D_spcl',\n",
    "       'MS_A_PS_50D_spcl', 'MS_A_PS_90D_spcl', 'MS_A_PS_mean_v_spcl',\n",
    "       'MS_A_PS_stdev_spcl']]\n",
    "y_lm_std2 = df_rescaledX_std['MS_A_moisture_spcl'].dropna()\n",
    "X_lm_std2_train, X_lm_std2_test, y_lm_std2_train, y_lm_std2_test = train_test_split(X_lm_std2, y_lm_std2, test_size=0.33, random_state=42)\n",
    "from sklearn.linear_model import LinearRegression\n",
    "lm_std2 = LinearRegression()\n",
    "lm_std2.fit(X_lm_std2_train,y_lm_std2_train)"
   ]
  },
  {
   "cell_type": "code",
   "execution_count": null,
   "metadata": {},
   "outputs": [],
   "source": [
    "#Linear Linear Regression Mg using Nomralized Data\n",
    "X_lm_norm = df_normalizedX[['A_N2DRY', 'A_CWP_1',\n",
    "       'A_CWP_2', 'A_FILT_T', 'A_MANF_P', 'A_CWSH1', 'A_CWSH2', 'A_PRESS1_t',\n",
    "       'A_PRESS2_t',\n",
    "       'MS_A_Al_spcl',\n",
    "       'MS_A_PS_10D_spcl',\n",
    "       'MS_A_PS_50D_spcl', 'MS_A_PS_90D_spcl', 'MS_A_PS_mean_v_spcl',\n",
    "       'MS_A_PS_stdev_spcl']]\n",
    "y_lm_norm = df_normalizedX['MS_A_moisture_spcl']\n",
    "X_lm_norm_train, X_lm_norm_test, y_lm_norm_train, y_lm_norm_test = train_test_split(X_lm_norm, y_lm_norm, test_size=0.33, random_state=42)\n",
    "from sklearn.linear_model import LinearRegression\n",
    "lm_norm = LinearRegression()\n",
    "lm_norm.fit(X_lm_norm_train,y_lm_norm_train)"
   ]
  },
  {
   "cell_type": "code",
   "execution_count": 265,
   "metadata": {
    "scrolled": true
   },
   "outputs": [
    {
     "data": {
      "text/plain": [
       "LinearRegression(copy_X=True, fit_intercept=True, n_jobs=None, normalize=False)"
      ]
     },
     "execution_count": 265,
     "metadata": {},
     "output_type": "execute_result"
    }
   ],
   "source": [
    "#Linear Linear Regression Moisture using Nomralized Data\n",
    "X_lm_norm_mg = df_normalizedX[['A_N2DRY', 'A_CWP_1',\n",
    "       'A_CWP_2', 'A_FILT_T', 'A_MANF_P', 'A_CWSH1', 'A_CWSH2', 'A_PRESS1_t',\n",
    "       'A_PRESS2_t',\n",
    "       'MS_A_Al_spcl',\n",
    "       'MS_A_PS_10D_spcl',\n",
    "       'MS_A_PS_50D_spcl', 'MS_A_PS_90D_spcl', 'MS_A_PS_mean_v_spcl',\n",
    "       'MS_A_PS_stdev_spcl']]\n",
    "y_lm_norm_mg = df_normalizedX['MS_A_Mg_spcl']\n",
    "X_lm_norm_mg_train, X_lm_norm_mg_test, y_lm_norm_mg_train, y_lm_norm_mg_test = train_test_split(X_lm_norm_mg, y_lm_norm_mg, test_size=0.33, random_state=42)\n",
    "from sklearn.linear_model import LinearRegression\n",
    "lm_norm_mg = LinearRegression()\n",
    "lm_norm_mg.fit(X_lm_norm_mg_train,y_lm_norm_mg_train)"
   ]
  },
  {
   "cell_type": "code",
   "execution_count": 333,
   "metadata": {},
   "outputs": [],
   "source": [
    "#lm1 is moisture coef_rescale\n",
    "coeff_df_moisture_rescale = pd.DataFrame(zip(lm1.coef_, X.columns), columns=['LM_coef_Moist_rescaled','FT02A_Param'])\n",
    "#coeff_df_moisture_rescale"
   ]
  },
  {
   "cell_type": "code",
   "execution_count": 272,
   "metadata": {},
   "outputs": [],
   "source": [
    "#lm is Mg coef_rescale\n",
    "coeff_df_Mg = pd.DataFrame(zip(lm.coef_, X.columns), columns=['LM_coef_Mg_rescaled','FT02A_Param'])\n",
    "#coeff_df_Mg"
   ]
  },
  {
   "cell_type": "code",
   "execution_count": 273,
   "metadata": {},
   "outputs": [],
   "source": [
    "#lm_std is for Mg_std\n",
    "coeff_df_Mg_std = pd.DataFrame(zip(lm_std.coef_, X.columns), columns=['LM_coef_Mg_std','FT02A_Param'])"
   ]
  },
  {
   "cell_type": "code",
   "execution_count": 274,
   "metadata": {},
   "outputs": [],
   "source": [
    "#lm_std is for Moisture_std\n",
    "coeff_df_Moisture_std = pd.DataFrame(zip(lm_std2.coef_, X.columns), columns=['LM_coef_Moist_std','FT02A_Param'])"
   ]
  },
  {
   "cell_type": "code",
   "execution_count": 275,
   "metadata": {},
   "outputs": [],
   "source": [
    "#lm_std is for moisture_norm\n",
    "coeff_df_moisture_norm = pd.DataFrame(zip(lm_norm.coef_, X.columns), columns=['LM_coef_moist_norm','FT02A_Param'])"
   ]
  },
  {
   "cell_type": "code",
   "execution_count": 276,
   "metadata": {},
   "outputs": [],
   "source": [
    "#lm_std is for Mg_norm\n",
    "coeff_df_Mg_norm = pd.DataFrame(zip(lm_norm_mg.coef_, X.columns), columns=['LM_coef_Mg_norm','FT02A_Param'])"
   ]
  },
  {
   "cell_type": "code",
   "execution_count": 306,
   "metadata": {
    "scrolled": true
   },
   "outputs": [],
   "source": [
    "#combining Mg_coeff to one DF\n",
    "df_Mg_combi = coeff_df_Mg_norm.drop('FT02A_Param', axis=1).join(coeff_df_Mg_std, how='outer').join(coeff_df_Mg.drop('FT02A_Param', axis=1), how='outer')\n",
    "df_Mg_combi = df_Mg_combi.reindex(columns=['FT02A_Param','LM_coef_Mg_norm','LM_coef_Mg_std','LM_coef_Mg_rescaled'])"
   ]
  },
  {
   "cell_type": "code",
   "execution_count": 330,
   "metadata": {},
   "outputs": [],
   "source": [
    "#combining Moisture_coeff to one DF\n",
    "df_Moisture_combi = coeff_df_moisture_norm.drop('FT02A_Param', axis=1).join(coeff_df_Moisture_std, how='outer').join(coeff_df_moisture_rescale.drop('FT02A_Param', axis=1), how='outer')\n",
    "df_Moisture_combi = df_Moisture_combi.reindex(columns=['FT02A_Param','LM_coef_moist_norm','LM_coef_Moist_std','LM_coef_Moist_rescaled'])"
   ]
  },
  {
   "cell_type": "code",
   "execution_count": 176,
   "metadata": {},
   "outputs": [],
   "source": [
    "#reference for geeting the coeff\n",
    "coeff_df = pd.DataFrame(zip(lm.coef_, X.columns), columns=['LM_coefficients','FT02A_Param'])\n",
    "#coeff_df.to_excel(r'C:\\Users\\v.t.flores\\Documents\\20200120_LinearModCoef_Mg.xlsx')\n",
    "coeff_df.reindex(columns=['FT02A_Param','LM_coefficients']).to_excel(r'C:\\Users\\v.t.flores\\Documents\\20200120_LinearModCoef_Mg.xlsx')"
   ]
  },
  {
   "cell_type": "code",
   "execution_count": 189,
   "metadata": {},
   "outputs": [],
   "source": [
    "coeff_df2 = pd.DataFrame(zip(lm2.coef_, df_A_param_forLM.columns),  columns=['LM_coefficients','FT02A_Param'])\n",
    "coeff_df2.reindex(columns=['FT02A_Param','LM_coefficients'])\n",
    "coeff_df2.to_excel(r'C:\\Users\\v.t.flores\\Documents\\20200120_LinearModCoef_moisture.xlsx')"
   ]
  },
  {
   "cell_type": "code",
   "execution_count": null,
   "metadata": {},
   "outputs": [],
   "source": [
    "df_B_param_forLM = FT02B[['B_N2DRY', 'B_CWP_1',\n",
    "       'B_CWP_2', 'B_FILT_T', 'B_MANF_P', 'B_CWSH1', 'B_CWSH2', 'B_PRESS1_t',\n",
    "       'B_PRESS2_t',\n",
    "       'MS_B_Al_spcl',\n",
    "       'MS_B_PS_10D_spcl',\n",
    "       'MS_B_PS_50D_spcl', 'MS_B_PS_90D_spcl', 'MS_B_PS_mean_v_spcl',\n",
    "       'MS_B_PS_stdev_spcl']]"
   ]
  },
  {
   "cell_type": "code",
   "execution_count": 67,
   "metadata": {},
   "outputs": [],
   "source": [
    "FT02Bcorr = FT02B[['B_PU26B_CUR', 'B_PU27B_CUR', 'B_N2DRY',\n",
    "       'B_CWP_1', 'B_CWP_2', 'B_FILT_T', 'B_MANF_P', 'B_CWSH1', 'B_CWSH2',\n",
    "       'B_PRESS1_t', 'B_PRESS2_t', 'B_PU26B_OP', 'B_PU27B_OP','MS_B_Pb_spcl', 'MS_B_Zn_spcl', 'MS_B_Cu_spcl',\n",
    "       'MS_B_Ni_spcl', 'MS_B_Co_spcl', 'MS_B_Fe_spcl', 'MS_B_Mn_spcl',\n",
    "       'MS_B_Cr_spcl', 'MS_B_Ca_spcl', 'MS_B_Si_spcl', 'MS_B_Al_spcl',\n",
    "       'MS_B_Mg_spcl', 'MS_B_S_spcl', 'MS_B_moisture_spcl', 'MS_B_PS_10D_spcl',\n",
    "       'MS_B_PS_50D_spcl', 'MS_B_PS_90D_spcl', 'MS_B_PS_mean_v_spcl',\n",
    "       'MS_B_PS_stdev_spcl']]"
   ]
  },
  {
   "cell_type": "code",
   "execution_count": 69,
   "metadata": {},
   "outputs": [],
   "source": [
    "FT02Bcorr.corr().to_excel(r'C:\\Users\\v.t.flores\\Documents\\FT02Bcorr.xlsx')"
   ]
  },
  {
   "cell_type": "code",
   "execution_count": 42,
   "metadata": {},
   "outputs": [],
   "source": [
    "FT02A.describe().to_excel(r'C:\\Users\\v.t.flores\\Documents\\FT02A_describe.xlsx')"
   ]
  },
  {
   "cell_type": "code",
   "execution_count": null,
   "metadata": {},
   "outputs": [],
   "source": []
  }
 ],
 "metadata": {
  "kernelspec": {
   "display_name": "Python 3",
   "language": "python",
   "name": "python3"
  },
  "language_info": {
   "codemirror_mode": {
    "name": "ipython",
    "version": 3
   },
   "file_extension": ".py",
   "mimetype": "text/x-python",
   "name": "python",
   "nbconvert_exporter": "python",
   "pygments_lexer": "ipython3",
   "version": "3.7.4"
  }
 },
 "nbformat": 4,
 "nbformat_minor": 2
}
