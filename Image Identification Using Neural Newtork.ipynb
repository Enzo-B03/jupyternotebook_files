{
 "cells": [
  {
   "cell_type": "code",
   "execution_count": 128,
   "metadata": {},
   "outputs": [],
   "source": [
    "\"\"\"\n",
    "network.py\n",
    "~~~~~~~~~~\n",
    "A module to implement the stochastic gradient descent learning\n",
    "algorithm for a feedforward neural network. Gradients are calculated\n",
    "using backpropagation. Note that I have focused on making the code\n",
    "simple , easily readable , and easily modifiable. It is not optimized ,\n",
    "and omits many desirable features.\n",
    "\"\"\"\n",
    "#### Libraries\n",
    "# Standard library\n",
    "import random\n",
    "# Third -party libraries\n",
    "import numpy as np\n",
    "class Network(object):\n",
    "    def __init__(self , sizes):\n",
    "        \"\"\"The list ‘‘sizes ‘‘ contains the number of neurons in the\n",
    "        respective layers of the network. For example , if the list\n",
    "        was [2, 3, 1] then it would be a three -layer network , with the\n",
    "        first layer containing 2 neurons , the second layer 3 neurons ,\n",
    "        and the third layer 1 neuron. The biases and weights for the\n",
    "        network are initialized randomly , using a Gaussian\n",
    "        distribution with mean 0, and variance 1. Note that the first\n",
    "        layer is assumed to be an input layer , and by convention we\n",
    "        won’t set any biases for those neurons , since biases are only\n",
    "        ever used in computing the outputs from later layers.\"\"\"\n",
    "        self. num_layers = len(sizes)\n",
    "        self.sizes = sizes\n",
    "        self.biases = [np.random.randn(y, 1) for y in sizes [1:]]\n",
    "        self.weights = [np.random.randn(y, x) for x, y in zip(sizes [:-1], sizes [1:])]\n",
    "    def feedforward (self , a):\n",
    "        \"\"\"Return the output of the network if ‘‘a‘‘ is input.\"\"\"\n",
    "        for b, w in zip(self.biases , self.weights):\n",
    "            a = self.sigmoid(np.dot(w, a)+b)\n",
    "        return a\n",
    "    def SGD(self , training_data , epochs , mini_batch_size , eta , test_data =None):\n",
    "        \"\"\"Train the neural network using mini -batch stochastic\n",
    "        gradient descent. The ‘‘training_data ‘‘ is a list of tuples\n",
    "        ‘‘(x, y)‘‘ representing the training inputs and the desired\n",
    "        outputs. The other non-optional parameters are\n",
    "        self -explanatory. If ‘‘test_data ‘‘ is provided then the\n",
    "        network will be evaluated against the test data after each\n",
    "        epoch , and partial progress printed out. This is useful for\n",
    "        tracking progress , but slows things down substantially.\"\"\"\n",
    "        if test_data :\n",
    "            test_data = list(test_data)\n",
    "            n_test = len( test_data )\n",
    "        training_data = list(training_data)\n",
    "        n = len(training_data)\n",
    "        for j in range(epochs):\n",
    "            random.shuffle( training_data )\n",
    "            mini_batches = [training_data [k:k+ mini_batch_size ]\n",
    "                for k in range(0, n, mini_batch_size )]\n",
    "            for mini_batch in mini_batches :\n",
    "                self.update_mini_batch (mini_batch , eta)\n",
    "            if test_data :\n",
    "                print(\"Epoch {0}: {1} / {2}\".format(j, self.evaluate ( test_data ), n_test))\n",
    "            else:\n",
    "                print(\"Epoch {0} complete\".format(j))\n",
    "    def update_mini_batch (self , mini_batch , eta):\n",
    "        \"\"\"Update the network’s weights and biases by applying\n",
    "        gradient descent using backpropagation to a single mini batch.\n",
    "        The ‘‘mini_batch ‘‘ is a list of tuples ‘‘(x, y)‘‘, and ‘‘eta‘‘\n",
    "        is the learning rate.\"\"\"\n",
    "        nabla_b = [np.zeros(b.shape) for b in self.biases]\n",
    "        nabla_w = [np.zeros(w.shape) for w in self.weights]\n",
    "        for x, y in mini_batch :\n",
    "            delta_nabla_b , delta_nabla_w = self.backprop(x, y)\n",
    "            nabla_b = [nb+dnb for nb , dnb in zip(nabla_b , delta_nabla_b )]\n",
    "            nabla_w = [nw+dnw for nw , dnw in zip(nabla_w , delta_nabla_w )]\n",
    "        self.weights = [w-( eta/len( mini_batch ))*nw\n",
    "            for w, nw in zip(self.weights , nabla_w)]\n",
    "        self.biases = [b-( eta/len( mini_batch ))*nb\n",
    "            for b, nb in zip(self.biases , nabla_b)]\n",
    "    def sigmoid(self, z):\n",
    "        \"\"\"The sigmoid function.\"\"\"\n",
    "        return 1.0/(1.0+ np.exp(-z))\n",
    "        \n",
    "        \n",
    "    def backprop(self , x, y):\n",
    "        \"\"\"Return a tuple ‘‘(nabla_b , nabla_w)‘‘ representing the\n",
    "        gradient for the cost function C_x. ‘‘nabla_b ‘‘ and\n",
    "        ‘‘nabla_w ‘‘ are layer -by-layer lists of numpy arrays , similar\n",
    "        to ‘‘self.biases ‘‘ and ‘‘self.weights ‘‘.\"\"\"\n",
    "        nabla_b = [np.zeros(b.shape) for b in self.biases]\n",
    "        nabla_w = [np.zeros(w.shape) for w in self.weights]\n",
    "        # feedforward\n",
    "        activation = x\n",
    "        activations = [x] # list to store all the activations , layer by layer\n",
    "        zs = [] # list to store all the z vectors , layer by layer\n",
    "        for b, w in zip(self.biases , self.weights):\n",
    "            z = np.dot(w, activation )+b\n",
    "            zs.append(z)\n",
    "            activation = self.sigmoid(z)\n",
    "            activations.append( activation )\n",
    "        # backward pass\n",
    "        delta = self. cost_derivative ( activations [-1], y) * self.sigmoid_prime (zs[ -1])\n",
    "        nabla_b [-1] = delta\n",
    "        nabla_w [-1] = np.dot(delta , activations [ -2]. transpose ())\n",
    "        # Note that the variable l in the loop below is used a little\n",
    "        # differently to the notation in Chapter 2 of the book. Here ,\n",
    "        # l = 1 means the last layer of neurons , l = 2 is the\n",
    "        # second -last layer , and so on. It’s a renumbering of the\n",
    "        # scheme in the book , used here to take advantage of the fact\n",
    "        # that Python can use negative indices in lists.\n",
    "        for l in range(2, self. num_layers ):\n",
    "            z = zs[-l]\n",
    "            sp = self.sigmoid_prime (z)\n",
    "            delta = np.dot(self.weights[-l+1]. transpose (), delta) * sp\n",
    "            nabla_b[-l] = delta\n",
    "            nabla_w[-l] = np.dot(delta , activations [-l -1]. transpose ())\n",
    "        return (nabla_b , nabla_w)\n",
    "    \n",
    "    def evaluate(self , test_data ):\n",
    "        \"\"\"Return the number of test inputs for which the neural\n",
    "        network outputs the correct result. Note that the neural\n",
    "        network’s output is assumed to be the index of whichever\n",
    "        neuron in the final layer has the highest activation.\"\"\"\n",
    "        test_results = [(np.argmax(self. feedforward (x)), y)\n",
    "            for (x, y) in test_data ]\n",
    "        return sum(int(x == y) for (x, y) in test_results )\n",
    "    \n",
    "    def cost_derivative (self , output_activations , y):\n",
    "        \"\"\"Return the vector of partial derivatives \\partial C_x /\n",
    "        \\partial a for the output activations.\"\"\"\n",
    "        return ( output_activations -y)\n",
    "    #### Miscellaneous functions\n",
    "    \n",
    "\n",
    "    \n",
    "    def sigmoid_prime (self, z):\n",
    "        \"\"\"Derivative of the sigmoid function.\"\"\"\n",
    "        return self.sigmoid(z)*(1- self.sigmoid(z))\n"
   ]
  },
  {
   "cell_type": "code",
   "execution_count": 129,
   "metadata": {},
   "outputs": [],
   "source": [
    "\"\"\"\n",
    "mnist_loader\n",
    "~~~~~~~~~~~~\n",
    "A library to load the MNIST image data. For details of the data\n",
    "structures that are returned , see the doc strings for ‘‘load_data ‘‘\n",
    "and ‘‘load_data_wrapper ‘‘. In practice , ‘‘load_data_wrapper ‘‘ is the\n",
    "function usually called by our neural network code.\n",
    "\"\"\"\n",
    "#### Libraries\n",
    "# Standard library\n",
    "import _pickle as cPickle\n",
    "import gzip\n",
    "# Third -party libraries\n",
    "import numpy as np\n",
    "def load_data ():\n",
    "    \"\"\"Return the MNIST data as a tuple containing the training data , the\n",
    "    validation data , and the test data.\n",
    "    The ‘‘training_data ‘‘ is returned as a tuple with two entries. The first entry\n",
    "    contains the actual training images. This is a\n",
    "    numpy ndarray with 50 ,000 entries. Each entry is, in turn , a numpy ndarray\n",
    "    with 784 values , representing the 28 * 28 = 784\n",
    "    pixels in a single MNIST image.\n",
    "    The second entry in the ‘‘training_data ‘‘ tuple is a numpy ndarray containing\n",
    "    50 ,000 entries. Those entries are just the digit\n",
    "    values (0...9) for the corresponding images contained in the first entry of\n",
    "    the tuple.\n",
    "    The ‘‘validation_data ‘‘ and ‘‘test_data ‘‘ are similar , except each contains\n",
    "    only 10 ,000 images.\n",
    "    This is a nice data format , but for use in neural networks it’s helpful to\n",
    "    modify the format of the ‘‘training_data ‘‘ a little.\n",
    "    That’s done in the wrapper function ‘‘load_data_wrapper()‘‘, see below.\n",
    "    \"\"\"\n",
    "        \n",
    "    f = gzip.open(r'D:\\Data Science Training\\Machine Learning - Michael Nielsen\\mnist.pkl.gz', 'rb')\n",
    "    training_data, validation_data, test_data = cPickle.load(f, encoding=\"latin1\")\n",
    "    f.close()\n",
    "    \n",
    "    \n",
    "    return (training_data , validation_data , test_data )\n",
    "def load_data_wrapper ():\n",
    "    \"\"\"Return a tuple containing ‘‘(training_data , validation_data ,\n",
    "    test_data)‘‘. Based on ‘‘load_data ‘‘, but the format is more\n",
    "    convenient for use in our implementation of neural networks.\n",
    "    In particular , ‘‘training_data ‘‘ is a list containing 50 ,000\n",
    "    2-tuples ‘‘(x, y)‘‘. ‘‘x‘‘ is a 784-dimensional numpy.ndarray\n",
    "    containing the input image. ‘‘y‘‘ is a 10-dimensional\n",
    "    numpy.ndarray representing the unit vector corresponding to the\n",
    "    correct digit for ‘‘x‘‘.\n",
    "    ‘‘validation_data ‘‘ and ‘‘test_data ‘‘ are lists containing 10 ,000\n",
    "    2-tuples ‘‘(x, y)‘‘. In each case , ‘‘x‘‘ is a 784-dimensional\n",
    "    numpy.ndarry containing the input image , and ‘‘y‘‘ is the\n",
    "    corresponding classification , i.e., the digit values (integers)\n",
    "    corresponding to ‘‘x‘‘.\n",
    "    Obviously , this means we’re using slightly different formats for\n",
    "    the training data and the validation / test data. These formats\n",
    "    turn out to be the most convenient for use in our neural network\n",
    "    code.\"\"\"\n",
    "    tr_d , va_d , te_d = load_data ()\n",
    "    training_inputs = [np.reshape(x, (784 , 1)) for x in tr_d [0]]\n",
    "    training_results = [ vectorized_result (y) for y in tr_d [1]]\n",
    "    training_data = zip(training_inputs , training_results )\n",
    "    validation_inputs = [np.reshape(x, (784 , 1)) for x in va_d [0]]\n",
    "    validation_data = zip( validation_inputs , va_d [1])\n",
    "    test_inputs = [np.reshape(x, (784 , 1)) for x in te_d [0]]\n",
    "    test_data = zip(test_inputs , te_d [1])\n",
    "    return (training_data , validation_data , test_data )\n",
    "def vectorized_result (j):\n",
    "    \"\"\"Return a 10-dimensional unit vector with a 1.0 in the jth\n",
    "    position and zeroes elsewhere. This is used to convert a digit\n",
    "    (0...9) into a corresponding desired output from the neural\n",
    "    network.\"\"\"\n",
    "    e = np.zeros ((10 , 1))\n",
    "    e[j] = 1.0\n",
    "    return e"
   ]
  },
  {
   "cell_type": "code",
   "execution_count": 130,
   "metadata": {},
   "outputs": [],
   "source": [
    "training_data , validation_data , test_data = load_data_wrapper()"
   ]
  },
  {
   "cell_type": "code",
   "execution_count": 131,
   "metadata": {},
   "outputs": [
    {
     "name": "stdout",
     "output_type": "stream",
     "text": [
      "Epoch 0: 958 / 10000\n",
      "Epoch 1: 980 / 10000\n",
      "Epoch 2: 1032 / 10000\n",
      "Epoch 3: 892 / 10000\n",
      "Epoch 4: 1028 / 10000\n",
      "Epoch 5: 1028 / 10000\n",
      "Epoch 6: 974 / 10000\n",
      "Epoch 7: 1028 / 10000\n",
      "Epoch 8: 1135 / 10000\n",
      "Epoch 9: 982 / 10000\n",
      "Epoch 10: 958 / 10000\n",
      "Epoch 11: 1135 / 10000\n",
      "Epoch 12: 1032 / 10000\n",
      "Epoch 13: 1135 / 10000\n",
      "Epoch 14: 980 / 10000\n",
      "Epoch 15: 1032 / 10000\n",
      "Epoch 16: 1028 / 10000\n",
      "Epoch 17: 1135 / 10000\n",
      "Epoch 18: 958 / 10000\n",
      "Epoch 19: 1135 / 10000\n",
      "Epoch 20: 892 / 10000\n",
      "Epoch 21: 1028 / 10000\n",
      "Epoch 22: 1135 / 10000\n",
      "Epoch 23: 1009 / 10000\n",
      "Epoch 24: 1028 / 10000\n",
      "Epoch 25: 1135 / 10000\n",
      "Epoch 26: 1135 / 10000\n",
      "Epoch 27: 958 / 10000\n",
      "Epoch 28: 1028 / 10000\n",
      "Epoch 29: 1009 / 10000\n"
     ]
    }
   ],
   "source": [
    "net = Network ([784 , 0, 10])\n",
    "net.SGD(training_data , 30, 10, 3.0, test_data = test_data )"
   ]
  },
  {
   "cell_type": "code",
   "execution_count": 133,
   "metadata": {},
   "outputs": [
    {
     "name": "stdout",
     "output_type": "stream",
     "text": [
      "[] \n",
      "\n",
      "[] \n",
      "\n"
     ]
    }
   ],
   "source": [
    "for i in net.weights:\n",
    "    print(i, \"\\n\")"
   ]
  },
  {
   "cell_type": "code",
   "execution_count": 13,
   "metadata": {},
   "outputs": [
    {
     "data": {
      "text/plain": [
       "<module 'mnist' from 'C:\\\\ProgramData\\\\Anaconda3\\\\lib\\\\site-packages\\\\mnist\\\\__init__.py'>"
      ]
     },
     "execution_count": 13,
     "metadata": {},
     "output_type": "execute_result"
    }
   ],
   "source": [
    "mnist"
   ]
  },
  {
   "cell_type": "code",
   "execution_count": 99,
   "metadata": {},
   "outputs": [
    {
     "ename": "AttributeError",
     "evalue": "module 'mnist.loader' has no attribute 'opener'",
     "output_type": "error",
     "traceback": [
      "\u001b[1;31m---------------------------------------------------------------------------\u001b[0m",
      "\u001b[1;31mAttributeError\u001b[0m                            Traceback (most recent call last)",
      "\u001b[1;32m<ipython-input-99-3c22c90f4ba5>\u001b[0m in \u001b[0;36m<module>\u001b[1;34m\u001b[0m\n\u001b[0;32m      1\u001b[0m \u001b[1;32mimport\u001b[0m \u001b[0mmnist\u001b[0m\u001b[1;33m.\u001b[0m\u001b[0mloader\u001b[0m\u001b[1;33m\u001b[0m\u001b[1;33m\u001b[0m\u001b[0m\n\u001b[1;32m----> 2\u001b[1;33m \u001b[0mmnist\u001b[0m\u001b[1;33m.\u001b[0m\u001b[0mloader\u001b[0m\u001b[1;33m.\u001b[0m\u001b[0mopener\u001b[0m\u001b[1;33m(\u001b[0m\u001b[0mself\u001b[0m\u001b[1;33m,\u001b[0m \u001b[1;34mr'D:\\Data Science Training\\Machine Learning - Michael Nielsen\\mnist.pkl.gz'\u001b[0m\u001b[1;33m,\u001b[0m \u001b[1;34m'rb'\u001b[0m\u001b[1;33m,\u001b[0m \u001b[1;33m*\u001b[0m\u001b[0margs\u001b[0m\u001b[1;33m,\u001b[0m \u001b[1;33m**\u001b[0m\u001b[0mkwargs\u001b[0m\u001b[1;33m)\u001b[0m\u001b[1;33m\u001b[0m\u001b[1;33m\u001b[0m\u001b[0m\n\u001b[0m",
      "\u001b[1;31mAttributeError\u001b[0m: module 'mnist.loader' has no attribute 'opener'"
     ]
    }
   ],
   "source": [
    "import mnist.loader\n",
    "mnist.loader.opener(self, r'D:\\Data Science Training\\Machine Learning - Michael Nielsen\\mnist.pkl.gz', 'rb', *args, **kwargs)"
   ]
  },
  {
   "cell_type": "code",
   "execution_count": 102,
   "metadata": {},
   "outputs": [
    {
     "data": {
      "text/plain": [
       "0"
      ]
     },
     "execution_count": 102,
     "metadata": {},
     "output_type": "execute_result"
    }
   ],
   "source": [
    "len(list(training_data))"
   ]
  },
  {
   "cell_type": "code",
   "execution_count": 104,
   "metadata": {},
   "outputs": [],
   "source": [
    "f = gzip.open(r'D:\\Data Science Training\\Machine Learning - Michael Nielsen\\mnist.pkl.gz', 'rb')\n",
    "training_data, validation_data, test_data = cPickle.load(f, encoding=\"latin1\")"
   ]
  },
  {
   "cell_type": "code",
   "execution_count": 118,
   "metadata": {},
   "outputs": [
    {
     "data": {
      "text/plain": [
       "50000"
      ]
     },
     "execution_count": 118,
     "metadata": {},
     "output_type": "execute_result"
    }
   ],
   "source": [
    "len(training_data[0])"
   ]
  },
  {
   "cell_type": "code",
   "execution_count": 119,
   "metadata": {},
   "outputs": [
    {
     "ename": "ValueError",
     "evalue": "too many values to unpack (expected 2)",
     "output_type": "error",
     "traceback": [
      "\u001b[1;31m---------------------------------------------------------------------------\u001b[0m",
      "\u001b[1;31mValueError\u001b[0m                                Traceback (most recent call last)",
      "\u001b[1;32m<ipython-input-119-eda4de6b95b8>\u001b[0m in \u001b[0;36m<module>\u001b[1;34m\u001b[0m\n\u001b[0;32m      1\u001b[0m \u001b[0mnet\u001b[0m \u001b[1;33m=\u001b[0m \u001b[0mNetwork\u001b[0m \u001b[1;33m(\u001b[0m\u001b[1;33m[\u001b[0m\u001b[1;36m784\u001b[0m \u001b[1;33m,\u001b[0m \u001b[1;36m100\u001b[0m\u001b[1;33m,\u001b[0m \u001b[1;36m10\u001b[0m\u001b[1;33m]\u001b[0m\u001b[1;33m)\u001b[0m\u001b[1;33m\u001b[0m\u001b[1;33m\u001b[0m\u001b[0m\n\u001b[1;32m----> 2\u001b[1;33m \u001b[0mnet\u001b[0m\u001b[1;33m.\u001b[0m\u001b[0mSGD\u001b[0m\u001b[1;33m(\u001b[0m\u001b[0mtraining_data\u001b[0m \u001b[1;33m,\u001b[0m \u001b[1;36m30\u001b[0m\u001b[1;33m,\u001b[0m \u001b[1;36m10\u001b[0m\u001b[1;33m,\u001b[0m \u001b[1;36m3.0\u001b[0m\u001b[1;33m,\u001b[0m \u001b[0mtest_data\u001b[0m \u001b[1;33m=\u001b[0m \u001b[0mtest_data\u001b[0m \u001b[1;33m)\u001b[0m\u001b[1;33m\u001b[0m\u001b[1;33m\u001b[0m\u001b[0m\n\u001b[0m",
      "\u001b[1;32m<ipython-input-90-d1aea03370d3>\u001b[0m in \u001b[0;36mSGD\u001b[1;34m(self, training_data, epochs, mini_batch_size, eta, test_data)\u001b[0m\n\u001b[0;32m     53\u001b[0m                 for k in range(0, n, mini_batch_size )]\n\u001b[0;32m     54\u001b[0m             \u001b[1;32mfor\u001b[0m \u001b[0mmini_batch\u001b[0m \u001b[1;32min\u001b[0m \u001b[0mmini_batches\u001b[0m \u001b[1;33m:\u001b[0m\u001b[1;33m\u001b[0m\u001b[1;33m\u001b[0m\u001b[0m\n\u001b[1;32m---> 55\u001b[1;33m                 \u001b[0mself\u001b[0m\u001b[1;33m.\u001b[0m\u001b[0mupdate_mini_batch\u001b[0m \u001b[1;33m(\u001b[0m\u001b[0mmini_batch\u001b[0m \u001b[1;33m,\u001b[0m \u001b[0meta\u001b[0m\u001b[1;33m)\u001b[0m\u001b[1;33m\u001b[0m\u001b[1;33m\u001b[0m\u001b[0m\n\u001b[0m\u001b[0;32m     56\u001b[0m             \u001b[1;32mif\u001b[0m \u001b[0mtest_data\u001b[0m \u001b[1;33m:\u001b[0m\u001b[1;33m\u001b[0m\u001b[1;33m\u001b[0m\u001b[0m\n\u001b[0;32m     57\u001b[0m                 \u001b[0mprint\u001b[0m\u001b[1;33m(\u001b[0m\u001b[1;34m\"Epoch {0}: {1} / {2}\"\u001b[0m\u001b[1;33m.\u001b[0m\u001b[0mformat\u001b[0m\u001b[1;33m(\u001b[0m\u001b[0mj\u001b[0m\u001b[1;33m,\u001b[0m \u001b[0mself\u001b[0m\u001b[1;33m.\u001b[0m\u001b[0mevaluate\u001b[0m \u001b[1;33m(\u001b[0m \u001b[0mtest_data\u001b[0m \u001b[1;33m)\u001b[0m\u001b[1;33m,\u001b[0m \u001b[0mn_test\u001b[0m\u001b[1;33m)\u001b[0m\u001b[1;33m)\u001b[0m\u001b[1;33m\u001b[0m\u001b[1;33m\u001b[0m\u001b[0m\n",
      "\u001b[1;32m<ipython-input-90-d1aea03370d3>\u001b[0m in \u001b[0;36mupdate_mini_batch\u001b[1;34m(self, mini_batch, eta)\u001b[0m\n\u001b[0;32m     65\u001b[0m         \u001b[0mnabla_b\u001b[0m \u001b[1;33m=\u001b[0m \u001b[1;33m[\u001b[0m\u001b[0mnp\u001b[0m\u001b[1;33m.\u001b[0m\u001b[0mzeros\u001b[0m\u001b[1;33m(\u001b[0m\u001b[0mb\u001b[0m\u001b[1;33m.\u001b[0m\u001b[0mshape\u001b[0m\u001b[1;33m)\u001b[0m \u001b[1;32mfor\u001b[0m \u001b[0mb\u001b[0m \u001b[1;32min\u001b[0m \u001b[0mself\u001b[0m\u001b[1;33m.\u001b[0m\u001b[0mbiases\u001b[0m\u001b[1;33m]\u001b[0m\u001b[1;33m\u001b[0m\u001b[1;33m\u001b[0m\u001b[0m\n\u001b[0;32m     66\u001b[0m         \u001b[0mnabla_w\u001b[0m \u001b[1;33m=\u001b[0m \u001b[1;33m[\u001b[0m\u001b[0mnp\u001b[0m\u001b[1;33m.\u001b[0m\u001b[0mzeros\u001b[0m\u001b[1;33m(\u001b[0m\u001b[0mw\u001b[0m\u001b[1;33m.\u001b[0m\u001b[0mshape\u001b[0m\u001b[1;33m)\u001b[0m \u001b[1;32mfor\u001b[0m \u001b[0mw\u001b[0m \u001b[1;32min\u001b[0m \u001b[0mself\u001b[0m\u001b[1;33m.\u001b[0m\u001b[0mweights\u001b[0m\u001b[1;33m]\u001b[0m\u001b[1;33m\u001b[0m\u001b[1;33m\u001b[0m\u001b[0m\n\u001b[1;32m---> 67\u001b[1;33m         \u001b[1;32mfor\u001b[0m \u001b[0mx\u001b[0m\u001b[1;33m,\u001b[0m \u001b[0my\u001b[0m \u001b[1;32min\u001b[0m \u001b[0mmini_batch\u001b[0m \u001b[1;33m:\u001b[0m\u001b[1;33m\u001b[0m\u001b[1;33m\u001b[0m\u001b[0m\n\u001b[0m\u001b[0;32m     68\u001b[0m             \u001b[0mdelta_nabla_b\u001b[0m \u001b[1;33m,\u001b[0m \u001b[0mdelta_nabla_w\u001b[0m \u001b[1;33m=\u001b[0m \u001b[0mself\u001b[0m\u001b[1;33m.\u001b[0m\u001b[0mbackprop\u001b[0m\u001b[1;33m(\u001b[0m\u001b[0mx\u001b[0m\u001b[1;33m,\u001b[0m \u001b[0my\u001b[0m\u001b[1;33m)\u001b[0m\u001b[1;33m\u001b[0m\u001b[1;33m\u001b[0m\u001b[0m\n\u001b[0;32m     69\u001b[0m             \u001b[0mnabla_b\u001b[0m \u001b[1;33m=\u001b[0m \u001b[1;33m[\u001b[0m\u001b[0mnb\u001b[0m\u001b[1;33m+\u001b[0m\u001b[0mdnb\u001b[0m \u001b[1;32mfor\u001b[0m \u001b[0mnb\u001b[0m \u001b[1;33m,\u001b[0m \u001b[0mdnb\u001b[0m \u001b[1;32min\u001b[0m \u001b[0mzip\u001b[0m\u001b[1;33m(\u001b[0m\u001b[0mnabla_b\u001b[0m \u001b[1;33m,\u001b[0m \u001b[0mdelta_nabla_b\u001b[0m \u001b[1;33m)\u001b[0m\u001b[1;33m]\u001b[0m\u001b[1;33m\u001b[0m\u001b[1;33m\u001b[0m\u001b[0m\n",
      "\u001b[1;31mValueError\u001b[0m: too many values to unpack (expected 2)"
     ]
    }
   ],
   "source": []
  },
  {
   "cell_type": "code",
   "execution_count": null,
   "metadata": {},
   "outputs": [],
   "source": []
  }
 ],
 "metadata": {
  "kernelspec": {
   "display_name": "Python 3",
   "language": "python",
   "name": "python3"
  },
  "language_info": {
   "codemirror_mode": {
    "name": "ipython",
    "version": 3
   },
   "file_extension": ".py",
   "mimetype": "text/x-python",
   "name": "python",
   "nbconvert_exporter": "python",
   "pygments_lexer": "ipython3",
   "version": "3.7.6"
  }
 },
 "nbformat": 4,
 "nbformat_minor": 4
}
