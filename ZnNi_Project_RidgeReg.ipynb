{
 "cells": [
  {
   "cell_type": "markdown",
   "metadata": {},
   "source": [
    "#### This program computes the linear regression coefficients and intercept to predict the Zn Drop in  106TK01 from the following features:\n",
    "1. dezn flow\n",
    "2. dezn feed temp\n",
    "3. 105tk05 temp\n",
    "4. H2S flow\n",
    "5. ntrl pls condition\n",
    "Ridge regression is used.\n",
    "\n",
    "\n",
    "This is a continuation from the ZnDrop_Proj_Load_Data_Gathered_2017_to_2020Aug.ipynb file"
   ]
  },
  {
   "cell_type": "code",
   "execution_count": 1,
   "metadata": {},
   "outputs": [],
   "source": [
    "#import libraries\n",
    "\n",
    "import pandas as pd\n",
    "import numpy as np\n",
    "import matplotlib.pyplot as plt\n",
    "%matplotlib inline\n",
    "from dateutil.parser import parse\n",
    "from itertools import compress\n",
    "from collections import OrderedDict\n",
    "from datetime import date\n",
    "import datetime\n",
    "from datetime import timedelta\n",
    "import re\n",
    "\n",
    "import openpyxl\n",
    "import random\n",
    "\n",
    "from matplotlib.pylab import rcParams\n",
    "rcParams['figure.figsize'] = 12, 10\n",
    "\n",
    "import plotly.express as px\n",
    "import plotly.graph_objects as go\n",
    "from plotly.subplots import make_subplots\n"
   ]
  },
  {
   "cell_type": "code",
   "execution_count": 37,
   "metadata": {},
   "outputs": [],
   "source": [
    "#-------Load the DF_combined data from ZnDrop_Proj_Load_Data_Gathered_2017_to_2020Aug.ipynb file\n",
    "\n",
    "DF_NTRL_TK05_MSTK01 = pd.read_excel(r'C:\\Users\\v.t.flores\\Documents\\df_ZnNi_project_105TK05_2015_2020_PIdata.xlsx')\n",
    "\n",
    "DF_NTRL_TK05_MSTK01_1 = DF_NTRL_TK05_MSTK01.set_index('DATETIME')\n",
    "\n",
    "#convert the df to numeric\n",
    "for i in DF_NTRL_TK05_MSTK01_1.columns:\n",
    "    DF_NTRL_TK05_MSTK01_1[i] = pd.to_numeric(DF_NTRL_TK05_MSTK01_1[i], errors='coerce')"
   ]
  },
  {
   "cell_type": "code",
   "execution_count": 38,
   "metadata": {},
   "outputs": [],
   "source": [
    "#\n",
    "#\n",
    "#-------------note that we use the interpolate to fill in missing values with linear interpolation\n",
    "#\n",
    "DF_NTRL_TK05_MSTK01_2 = DF_NTRL_TK05_MSTK01_1.interpolate(method='linear', limit_direction='forward', axis=0)  "
   ]
  },
  {
   "cell_type": "code",
   "execution_count": 39,
   "metadata": {
    "collapsed": true
   },
   "outputs": [
    {
     "data": {
      "text/plain": [
       "Index(['104_Al', '104_Ca', '104_Co', '104_Cr', '104_Cu', '104_Fe', '104_Fe2',\n",
       "       '104_Ft', '104_Mg', '104_Mn', '104_NTU', '104_Ni', '104_ORP', '104_Pb',\n",
       "       '104_Si', '104_Zn', '104_pH60', '106_Ni', '106_Zn', 'tk05_Al',\n",
       "       'tk05_Ca', 'tk05_Co', 'tk05_Cr', 'tk05_Cu', 'tk05_Fe', 'tk05_Mg',\n",
       "       'tk05_Mn', 'tk05_Ni', 'tk05_Pb', 'tk05_Si', 'tk05_Zn', 'DeZn_Feed_Flow',\n",
       "       'DeZn_Feed_T', 'H2S_FT_TK01_A', 'H2S_FT_TK01_B', 'H2S_FT_TK02_A',\n",
       "       'H2S_FT_TK02_B', 'DeZn_Seed_Flow', 'DeZn_TK05_T', 'H2S_tk01',\n",
       "       'H2S_tk02'],\n",
       "      dtype='object')"
      ]
     },
     "execution_count": 39,
     "metadata": {},
     "output_type": "execute_result"
    }
   ],
   "source": [
    "DF_NTRL_TK05_MSTK01_2.columns"
   ]
  },
  {
   "cell_type": "code",
   "execution_count": 40,
   "metadata": {},
   "outputs": [],
   "source": [
    "paramList_105 = ['tk05_Al', 'tk05_Ca', 'tk05_Co', 'tk05_Cr', 'tk05_Cu', 'tk05_Fe', 'tk05_Mg',\n",
    "       'tk05_Mn', 'tk05_Ni', 'tk05_Pb', 'tk05_Si', 'tk05_Zn','DeZn_TK05_T']"
   ]
  },
  {
   "cell_type": "markdown",
   "metadata": {},
   "source": [
    "#### Adjust 105, 106 for retention time"
   ]
  },
  {
   "cell_type": "code",
   "execution_count": 42,
   "metadata": {},
   "outputs": [],
   "source": [
    "DF_105 = DF_NTRL_TK05_MSTK01_2[paramList_105] #---------slice the data and create a copy of the 105 data columns as a dataframe\n",
    "DF_105_r = DF_105.reset_index()                                          #---------reset the index to prepare it to be added by the retention time\n",
    "DF_105_r['DATETIME'] = DF_105_r['DATETIME'] + datetime.timedelta(hours=1) #--------add the retention time of 1h for this trial (this is saying, \"after 1hr the solution from ntrl will be sampled in 105tk05\")\n",
    "DF_105 = DF_105_r.set_index('DATETIME')                                   #--------set the datetime column as the index. ready for joining with the rest of the retention t adjusted datasets\n",
    "\n",
    "DF_106 = DF_NTRL_TK05_MSTK01_2[['106_Ni', '106_Zn']] #---------------------------------slice the data and create a copy of the zndrop column as a dataframe\n",
    "DF_106_r = DF_106.reset_index()\n",
    "DF_106_r['DATETIME'] = DF_106_r['DATETIME'] + datetime.timedelta(hours=2)\n",
    "DF_106 = DF_106_r.set_index('DATETIME')  \n",
    "\n"
   ]
  },
  {
   "cell_type": "markdown",
   "metadata": {},
   "source": [
    "##### drop the retention time adjusted params"
   ]
  },
  {
   "cell_type": "code",
   "execution_count": 44,
   "metadata": {},
   "outputs": [],
   "source": [
    "#Prepare the DF for remixing the Rtime adjusted data into the main df.\n",
    "DF_NTRL_TK05_MSTK01_2_drop105_106 = DF_NTRL_TK05_MSTK01_2.drop(paramList_105, axis=1)  #---------------------------Drop the columns related to 105tk05 samples from the Main DF: DF_NTRL_TK0513_MSTK01_2\n",
    "DF_NTRL_TK05_MSTK01_2_drop105_106 = DF_NTRL_TK05_MSTK01_2_drop105_106.drop(['106_Ni', '106_Zn'], axis=1) #-------Drop the columns related to 106 sample from the Main DF. This the zn_drop value\n",
    "\n",
    "# Remix the dropped and time adjusted columns\n",
    "#DF_NTRL_TK0513_MSTK01_3 is the time adjusted dataframe\n",
    "DF_NTRL_TK05_MSTK01_3 = DF_NTRL_TK05_MSTK01_2_drop105_106.join(DF_106, how='outer').join(DF_105, how='outer')\n",
    "\n",
    "for col in DF_NTRL_TK05_MSTK01_3.columns:\n",
    "    DF_NTRL_TK05_MSTK01_3[col] = pd.to_numeric(DF_NTRL_TK05_MSTK01_3[col], errors='coerce')\n",
    "\n",
    "DF_NTRL_TK05_MSTK01_4 = DF_NTRL_TK05_MSTK01_3.dropna()\n",
    "\n",
    "znNi_predictors = ['104_Pb', '104_Zn', '104_Cu', '104_Ni', '104_Co', '104_Fe', '104_Mn',\n",
    "       '104_Cr', '104_Ca', '104_Si', '104_Al', '104_Mg', '104_Fe2', '104_pH60',\n",
    "       '104_ORP', '104_NTU', '104_Ft',\n",
    "       'DeZn_Feed_Flow', 'DeZn_Feed_T','DeZn_TK05_T',\n",
    "       'H2S_tk01', 'H2S_tk02', 'tk05_Al', 'tk05_Ca', 'tk05_Co', 'tk05_Cr',\n",
    "       'tk05_Cu', 'tk05_Fe', 'tk05_Mg', 'tk05_Mn', 'tk05_Ni', 'tk05_Pb',\n",
    "       'tk05_Si', 'tk05_Zn']"
   ]
  },
  {
   "cell_type": "code",
   "execution_count": 52,
   "metadata": {},
   "outputs": [
    {
     "name": "stdout",
     "output_type": "stream",
     "text": [
      "34\n"
     ]
    }
   ],
   "source": [
    "print(len(znNi_predictors))"
   ]
  },
  {
   "cell_type": "code",
   "execution_count": 79,
   "metadata": {},
   "outputs": [
    {
     "name": "stdout",
     "output_type": "stream",
     "text": [
      "41\n",
      "Index(['104_Al', '104_Ca', '104_Co', '104_Cr', '104_Cu', '104_Fe', '104_Fe2',\n",
      "       '104_Ft', '104_Mg', '104_Mn', '104_NTU', '104_Ni', '104_ORP', '104_Pb',\n",
      "       '104_Si', '104_Zn', '104_pH60', 'DeZn_Feed_Flow', 'DeZn_Feed_T',\n",
      "       'H2S_FT_TK01_A', 'H2S_FT_TK01_B', 'H2S_FT_TK02_A', 'H2S_FT_TK02_B',\n",
      "       'DeZn_Seed_Flow', 'H2S_tk01', 'H2S_tk02', '106_Ni', '106_Zn', 'tk05_Al',\n",
      "       'tk05_Ca', 'tk05_Co', 'tk05_Cr', 'tk05_Cu', 'tk05_Fe', 'tk05_Mg',\n",
      "       'tk05_Mn', 'tk05_Ni', 'tk05_Pb', 'tk05_Si', 'tk05_Zn', 'DeZn_TK05_T'],\n",
      "      dtype='object')\n",
      "44429\n"
     ]
    }
   ],
   "source": [
    "print(len(DF_NTRL_TK05_MSTK01_4.columns))\n",
    "print(DF_NTRL_TK05_MSTK01_4.columns)\n",
    "print(len(DF_NTRL_TK05_MSTK01_4))"
   ]
  },
  {
   "cell_type": "code",
   "execution_count": 68,
   "metadata": {},
   "outputs": [
    {
     "data": {
      "text/plain": [
       "34"
      ]
     },
     "execution_count": 68,
     "metadata": {},
     "output_type": "execute_result"
    }
   ],
   "source": [
    "paramList_104_105_106 = ['104_Al', '104_Ca', '104_Co', '104_Cr', '104_Cu', '104_Fe', '104_Fe2',\n",
    "       '104_Ft', '104_Mg', '104_Mn', '104_NTU', '104_Ni', '104_ORP', '104_Pb',\n",
    "       '104_Si', '104_Zn', '104_pH60', 'DeZn_Feed_Flow', 'DeZn_Feed_T',\n",
    "       'H2S_tk01', 'H2S_tk02', '106_Ni', '106_Zn', 'tk05_Al',\n",
    "       'tk05_Ca', 'tk05_Co', 'tk05_Cr', 'tk05_Cu', 'tk05_Fe', 'tk05_Mg',\n",
    "       'tk05_Mn', 'tk05_Ni', 'tk05_Pb', 'tk05_Si', 'tk05_Zn', 'DeZn_TK05_T']\n",
    "\n",
    "paramList_znNi_predictors = ['104_Al', '104_Ca', '104_Co', '104_Cr', '104_Cu', '104_Fe', '104_Fe2',\n",
    "       '104_Ft', '104_Mg', '104_Mn', '104_NTU', '104_Ni', '104_ORP', '104_Pb',\n",
    "       '104_Si', '104_Zn', '104_pH60', 'DeZn_Feed_Flow', 'DeZn_Feed_T',\n",
    "       'H2S_tk01', 'H2S_tk02', 'tk05_Al',\n",
    "       'tk05_Ca', 'tk05_Co', 'tk05_Cr', 'tk05_Cu', 'tk05_Fe', 'tk05_Mg',\n",
    "       'tk05_Mn', 'tk05_Ni', 'tk05_Pb', 'tk05_Si', 'tk05_Zn', 'DeZn_TK05_T']\n",
    "len(paramList_znNi_predictors)"
   ]
  },
  {
   "cell_type": "code",
   "execution_count": null,
   "metadata": {},
   "outputs": [],
   "source": []
  },
  {
   "cell_type": "code",
   "execution_count": 69,
   "metadata": {},
   "outputs": [
    {
     "name": "stdout",
     "output_type": "stream",
     "text": [
      "36\n"
     ]
    },
    {
     "data": {
      "text/plain": [
       "Index(['104_Al', '104_Ca', '104_Co', '104_Cr', '104_Cu', '104_Fe', '104_Fe2',\n",
       "       '104_Ft', '104_Mg', '104_Mn', '104_NTU', '104_Ni', '104_ORP', '104_Pb',\n",
       "       '104_Si', '104_Zn', '104_pH60', 'DeZn_Feed_Flow', 'DeZn_Feed_T',\n",
       "       'H2S_tk01', 'H2S_tk02', '106_Ni', '106_Zn', 'tk05_Al', 'tk05_Ca',\n",
       "       'tk05_Co', 'tk05_Cr', 'tk05_Cu', 'tk05_Fe', 'tk05_Mg', 'tk05_Mn',\n",
       "       'tk05_Ni', 'tk05_Pb', 'tk05_Si', 'tk05_Zn', 'DeZn_TK05_T'],\n",
       "      dtype='object')"
      ]
     },
     "execution_count": 69,
     "metadata": {},
     "output_type": "execute_result"
    }
   ],
   "source": [
    "DF_main_20152020 = DF_NTRL_TK05_MSTK01_4[paramList_104_105_106]\n",
    "print(len(DF_main_20152020.columns))\n",
    "DF_main_20152020.columns"
   ]
  },
  {
   "cell_type": "code",
   "execution_count": 70,
   "metadata": {},
   "outputs": [],
   "source": [
    "DF_MAIN_2015_2020 = DF_main_20152020.interpolate(method='linear', limit_direction='forward' ).dropna()"
   ]
  },
  {
   "cell_type": "code",
   "execution_count": 82,
   "metadata": {},
   "outputs": [
    {
     "data": {
      "text/plain": [
       "32081"
      ]
     },
     "execution_count": 82,
     "metadata": {},
     "output_type": "execute_result"
    }
   ],
   "source": [
    "len(DF_clean1)\n",
    "len(DF_main_FULL_CLEAN)"
   ]
  },
  {
   "cell_type": "code",
   "execution_count": 71,
   "metadata": {},
   "outputs": [],
   "source": [
    "DF_clean1 = DF_MAIN_2015_2020\n",
    "DF_clean1_pH = DF_clean1.drop((DF_clean1[(DF_clean1['104_pH60']<2.0) | (DF_clean1['104_pH60']>4.0)].index))\n",
    "DF_clean1_pHFe = DF_clean1_pH.drop((DF_clean1_pH[DF_clean1_pH['104_Fe']<0.1].index))\n",
    "DF_clean1_pHFeNTU = DF_clean1_pHFe.drop((DF_clean1_pHFe[DF_clean1_pHFe['104_NTU']>1000].index))\n",
    "DF_clean1_pHFeNTUORP = DF_clean1_pHFeNTU.drop((DF_clean1_pHFeNTU[(DF_clean1_pHFeNTU['104_ORP']<90) | (DF_clean1_pHFeNTU['104_ORP']>1000)].index))\n",
    "DF_clean1_pHFeNTUORPMg = DF_clean1_pHFeNTUORP.drop(DF_clean1_pHFeNTUORP[DF_clean1_pHFeNTUORP['104_Mg']<1].index)\n",
    "DF_clean1_pHFeNTUORPMgPb = DF_clean1_pHFeNTUORPMg.drop((DF_clean1_pHFeNTUORPMg[DF_clean1_pHFeNTUORPMg['104_Pb']>0.001].index))\n",
    "DF_clean1_pHFeNTUORPMgPbMn = DF_clean1_pHFeNTUORPMgPb.drop(DF_clean1_pHFeNTUORPMgPb[DF_clean1_pHFeNTUORPMgPb['104_Mn']<1].index)\n",
    "DF_clean1_pHFeNTUORPMgPbMnAl = DF_clean1_pHFeNTUORPMgPbMn.drop(DF_clean1_pHFeNTUORPMgPbMn[DF_clean1_pHFeNTUORPMgPbMn['104_Al']<1].index)\n",
    "DF_clean1_pHFeNTUORPMgPbMnAlSi = DF_clean1_pHFeNTUORPMgPbMnAl.drop(DF_clean1_pHFeNTUORPMgPbMnAl[DF_clean1_pHFeNTUORPMgPbMnAl['104_Si']>2].index)\n",
    "DF_clean1_pHFeNTUORPMgPbMnAlSiZn = DF_clean1_pHFeNTUORPMgPbMnAlSi.drop(DF_clean1_pHFeNTUORPMgPbMnAlSi[DF_clean1_pHFeNTUORPMgPbMnAlSi['104_Zn']>0.2].index)\n",
    "DF_clean1_pHFeNTUORPMgPbMnAlSiZnCu = DF_clean1_pHFeNTUORPMgPbMnAlSiZn.drop(DF_clean1_pHFeNTUORPMgPbMnAlSiZn[DF_clean1_pHFeNTUORPMgPbMnAlSiZn['104_Cu']>0.1].index)\n",
    "DF_clean1_pHFeNTUORPMgPbMnAlSiZnCuFe2 = DF_clean1_pHFeNTUORPMgPbMnAlSiZnCu.drop(DF_clean1_pHFeNTUORPMgPbMnAlSiZnCu[DF_clean1_pHFeNTUORPMgPbMnAlSiZnCu['104_Fe2']<0.01].index)\n",
    "DF_clean1_pHFeNTUORPMgPbMnAlSiZnCuFe2Cr = DF_clean1_pHFeNTUORPMgPbMnAlSiZnCuFe2.drop(DF_clean1_pHFeNTUORPMgPbMnAlSiZnCuFe2[DF_clean1_pHFeNTUORPMgPbMnAlSiZnCuFe2['104_Cr']<0.05].index)\n",
    "DF_clean1_pHFeNTUORPMgPbMnAlSiZnCuFe2CrCa = DF_clean1_pHFeNTUORPMgPbMnAlSiZnCuFe2Cr.drop(DF_clean1_pHFeNTUORPMgPbMnAlSiZnCuFe2Cr[DF_clean1_pHFeNTUORPMgPbMnAlSiZnCuFe2Cr['104_Ca']<0.09].index)\n",
    "DF_clean2 = DF_clean1_pHFeNTUORPMgPbMnAlSiZnCuFe2CrCa\n",
    "DF_clean3_Ca = DF_clean2.drop(DF_clean2[DF_clean2['tk05_Ca']<0.01].index)\n",
    "DF_clean3_CaAl = DF_clean3_Ca.drop(DF_clean3_Ca[DF_clean3_Ca['tk05_Al']<1.0].index)\n",
    "DF_clean3_CaAlFeedF = DF_clean3_CaAl.drop(DF_clean3_CaAl[DF_clean3_CaAl['DeZn_Feed_Flow']<300].index)\n",
    "DF_clean3_CaAlFeedFZn = DF_clean3_CaAlFeedF.drop(DF_clean3_CaAlFeedF[DF_clean3_CaAlFeedF['tk05_Zn']<0.0001].index)\n",
    "DF_clean3_CaAlFeedFZnCo = DF_clean3_CaAlFeedFZn.drop(DF_clean3_CaAlFeedFZn[DF_clean3_CaAlFeedFZn['tk05_Co']<0.04].index)\n",
    "DF_clean3_CaAlFeedFZnCo2 = DF_clean3_CaAlFeedFZnCo.drop(DF_clean3_CaAlFeedFZnCo[DF_clean3_CaAlFeedFZnCo['tk05_Co']>0.9].index)\n",
    "DF_main_FULL_CLEAN = DF_clean3_CaAlFeedFZnCo2"
   ]
  },
  {
   "cell_type": "code",
   "execution_count": 74,
   "metadata": {
    "collapsed": true
   },
   "outputs": [
    {
     "name": "stdout",
     "output_type": "stream",
     "text": [
      "36\n"
     ]
    }
   ],
   "source": [
    "print(len(DF_main_FULL_CLEAN.columns))"
   ]
  },
  {
   "cell_type": "code",
   "execution_count": null,
   "metadata": {},
   "outputs": [],
   "source": []
  },
  {
   "cell_type": "code",
   "execution_count": 75,
   "metadata": {},
   "outputs": [
    {
     "data": {
      "text/plain": [
       "36"
      ]
     },
     "execution_count": 75,
     "metadata": {},
     "output_type": "execute_result"
    }
   ],
   "source": [
    "zndrop_predictors = ['104_Pb', '104_Zn', '104_Cu', '104_Ni', '104_Co', '104_Fe', '104_Mn',\n",
    "       '104_Cr', '104_Ca', '104_Si', '104_Al', '104_Mg', '104_Fe2', '104_pH60',\n",
    "       '104_ORP', '104_NTU', '104_Ft', 'tk13_Zn', 'tk13_solids%',\n",
    "       'DeZn_Feed_Flow', 'DeZn_Feed_T',\n",
    "       'DeZn_TK05_T',\n",
    "       'H2S_tk01', 'H2S_tk02', 'tk05_Al', 'tk05_Ca', 'tk05_Co', 'tk05_Cr',\n",
    "       'tk05_Cu', 'tk05_Fe', 'tk05_Mg', 'tk05_Mn', 'tk05_Ni', 'tk05_Pb',\n",
    "       'tk05_Si', 'tk05_Zn']\n",
    "len(zndrop_predictors)"
   ]
  },
  {
   "cell_type": "code",
   "execution_count": 77,
   "metadata": {},
   "outputs": [],
   "source": [
    "DF = DF_main_FULL_CLEAN"
   ]
  },
  {
   "cell_type": "code",
   "execution_count": 83,
   "metadata": {},
   "outputs": [],
   "source": [
    "DF.to_excel(r'C:\\Users\\v.t.flores\\Documents\\ZnNi_project_2015_2020_dataset.xlsx')"
   ]
  },
  {
   "cell_type": "code",
   "execution_count": null,
   "metadata": {},
   "outputs": [],
   "source": []
  },
  {
   "cell_type": "code",
   "execution_count": null,
   "metadata": {},
   "outputs": [],
   "source": []
  }
 ],
 "metadata": {
  "kernelspec": {
   "display_name": "Python 3",
   "language": "python",
   "name": "python3"
  },
  "language_info": {
   "codemirror_mode": {
    "name": "ipython",
    "version": 3
   },
   "file_extension": ".py",
   "mimetype": "text/x-python",
   "name": "python",
   "nbconvert_exporter": "python",
   "pygments_lexer": "ipython3",
   "version": "3.7.4"
  }
 },
 "nbformat": 4,
 "nbformat_minor": 2
}
