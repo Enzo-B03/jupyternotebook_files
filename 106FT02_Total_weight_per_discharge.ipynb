{
 "cells": [
  {
   "cell_type": "code",
   "execution_count": 1,
   "metadata": {},
   "outputs": [],
   "source": [
    "#exc1\n",
    "import pandas as pd\n",
    "import numpy as np\n",
    "import matplotlib.pyplot as plt\n",
    "%matplotlib inline\n",
    "from dateutil.parser import parse\n",
    "from itertools import compress\n",
    "from collections import OrderedDict\n",
    "from datetime import date\n",
    "import datetime\n",
    "from datetime import timedelta\n",
    "import re"
   ]
  },
  {
   "cell_type": "code",
   "execution_count": 87,
   "metadata": {},
   "outputs": [],
   "source": [
    "#Sheet From Pi\n",
    "#Step1: Load the Data for the month\n",
    "df_totalizer = pd.read_excel(r'C:\\Users\\v.t.flores\\Documents\\Book4.xlsx', sheet_name='Sheet1', index_col=False)\n",
    "\n",
    "#Drop the row[1]\n",
    "df_totalizer = df_totalizer.drop(df_totalizer.index[0])\n",
    "\n",
    "#Step2: Parse the DATETIME column\n",
    "df_totalizer['DATETIME'] = df_totalizer['DATETIME'].apply(lambda x: parse(str(x)))\n",
    "\n",
    "df_totalizer.set_index('DATETIME', inplace=True)\n",
    "\n",
    "df_totalizer = df_totalizer[df_totalizer['106WQ001@PV'] != '[-11057] Not Enough Values For Calculation']\n",
    "df_totalizer = df_totalizer[df_totalizer['106WI001@PV'] != '[-11057] Not Enough Values For Calculation']"
   ]
  },
  {
   "cell_type": "code",
   "execution_count": 88,
   "metadata": {},
   "outputs": [
    {
     "data": {
      "text/plain": [
       "Index(['106WQ001@PV', '106WI001@PV'], dtype='object')"
      ]
     },
     "execution_count": 88,
     "metadata": {},
     "output_type": "execute_result"
    }
   ],
   "source": [
    "df_comb.columns"
   ]
  },
  {
   "cell_type": "code",
   "execution_count": 100,
   "metadata": {},
   "outputs": [
    {
     "data": {
      "text/html": [
       "<div>\n",
       "<style scoped>\n",
       "    .dataframe tbody tr th:only-of-type {\n",
       "        vertical-align: middle;\n",
       "    }\n",
       "\n",
       "    .dataframe tbody tr th {\n",
       "        vertical-align: top;\n",
       "    }\n",
       "\n",
       "    .dataframe thead th {\n",
       "        text-align: right;\n",
       "    }\n",
       "</style>\n",
       "<table border=\"1\" class=\"dataframe\">\n",
       "  <thead>\n",
       "    <tr style=\"text-align: right;\">\n",
       "      <th></th>\n",
       "      <th>106WQ001@PV</th>\n",
       "      <th>106WI001@PV</th>\n",
       "    </tr>\n",
       "    <tr>\n",
       "      <th>DATETIME</th>\n",
       "      <th></th>\n",
       "      <th></th>\n",
       "    </tr>\n",
       "  </thead>\n",
       "  <tbody>\n",
       "    <tr>\n",
       "      <td>2020-01-01 00:01:00</td>\n",
       "      <td>1.88025e+06</td>\n",
       "      <td>135.3</td>\n",
       "    </tr>\n",
       "    <tr>\n",
       "      <td>2020-01-01 00:02:00</td>\n",
       "      <td>1.88025e+06</td>\n",
       "      <td>135.3</td>\n",
       "    </tr>\n",
       "    <tr>\n",
       "      <td>2020-01-01 00:03:00</td>\n",
       "      <td>1.88025e+06</td>\n",
       "      <td>135.3</td>\n",
       "    </tr>\n",
       "    <tr>\n",
       "      <td>2020-01-01 00:04:00</td>\n",
       "      <td>1.88025e+06</td>\n",
       "      <td>135.52</td>\n",
       "    </tr>\n",
       "    <tr>\n",
       "      <td>2020-01-01 00:05:00</td>\n",
       "      <td>1.88025e+06</td>\n",
       "      <td>135.52</td>\n",
       "    </tr>\n",
       "    <tr>\n",
       "      <td>...</td>\n",
       "      <td>...</td>\n",
       "      <td>...</td>\n",
       "    </tr>\n",
       "    <tr>\n",
       "      <td>2020-01-27 18:05:00</td>\n",
       "      <td>2.24463e+06</td>\n",
       "      <td>-7.92</td>\n",
       "    </tr>\n",
       "    <tr>\n",
       "      <td>2020-01-27 18:06:00</td>\n",
       "      <td>2.24463e+06</td>\n",
       "      <td>-7.92</td>\n",
       "    </tr>\n",
       "    <tr>\n",
       "      <td>2020-01-27 18:07:00</td>\n",
       "      <td>2.24463e+06</td>\n",
       "      <td>-7.92</td>\n",
       "    </tr>\n",
       "    <tr>\n",
       "      <td>2020-01-27 18:08:00</td>\n",
       "      <td>2.24463e+06</td>\n",
       "      <td>-7.92</td>\n",
       "    </tr>\n",
       "    <tr>\n",
       "      <td>2020-01-27 18:09:00</td>\n",
       "      <td>2.24463e+06</td>\n",
       "      <td>-8.14</td>\n",
       "    </tr>\n",
       "  </tbody>\n",
       "</table>\n",
       "<p>38529 rows × 2 columns</p>\n",
       "</div>"
      ],
      "text/plain": [
       "                     106WQ001@PV 106WI001@PV\n",
       "DATETIME                                    \n",
       "2020-01-01 00:01:00  1.88025e+06       135.3\n",
       "2020-01-01 00:02:00  1.88025e+06       135.3\n",
       "2020-01-01 00:03:00  1.88025e+06       135.3\n",
       "2020-01-01 00:04:00  1.88025e+06      135.52\n",
       "2020-01-01 00:05:00  1.88025e+06      135.52\n",
       "...                          ...         ...\n",
       "2020-01-27 18:05:00  2.24463e+06       -7.92\n",
       "2020-01-27 18:06:00  2.24463e+06       -7.92\n",
       "2020-01-27 18:07:00  2.24463e+06       -7.92\n",
       "2020-01-27 18:08:00  2.24463e+06       -7.92\n",
       "2020-01-27 18:09:00  2.24463e+06       -8.14\n",
       "\n",
       "[38529 rows x 2 columns]"
      ]
     },
     "execution_count": 100,
     "metadata": {},
     "output_type": "execute_result"
    }
   ],
   "source": [
    "df_comb"
   ]
  },
  {
   "cell_type": "code",
   "execution_count": 133,
   "metadata": {},
   "outputs": [
    {
     "ename": "IndexError",
     "evalue": "list index out of range",
     "output_type": "error",
     "traceback": [
      "\u001b[1;31m---------------------------------------------------------------------------\u001b[0m",
      "\u001b[1;31mIndexError\u001b[0m                                Traceback (most recent call last)",
      "\u001b[1;32m<ipython-input-133-591f5a4f4c43>\u001b[0m in \u001b[0;36m<module>\u001b[1;34m\u001b[0m\n\u001b[0;32m      7\u001b[0m \u001b[0mdf_comb\u001b[0m\u001b[1;33m[\u001b[0m\u001b[1;34m'newdt'\u001b[0m\u001b[1;33m]\u001b[0m \u001b[1;33m=\u001b[0m \u001b[0mdf_comb\u001b[0m\u001b[1;33m.\u001b[0m\u001b[0mindex\u001b[0m\u001b[1;33m\u001b[0m\u001b[1;33m\u001b[0m\u001b[0m\n\u001b[0;32m      8\u001b[0m \u001b[0mdf_comb\u001b[0m\u001b[1;33m[\u001b[0m\u001b[1;34m'startdate'\u001b[0m\u001b[1;33m]\u001b[0m \u001b[1;33m=\u001b[0m \u001b[0mdf_comb\u001b[0m\u001b[1;33m[\u001b[0m\u001b[1;34m'newdt'\u001b[0m\u001b[1;33m]\u001b[0m\u001b[1;33m.\u001b[0m\u001b[0mapply\u001b[0m\u001b[1;33m(\u001b[0m\u001b[1;32mlambda\u001b[0m \u001b[0mx\u001b[0m\u001b[1;33m:\u001b[0m \u001b[0mdatesplitter_start\u001b[0m\u001b[1;33m(\u001b[0m\u001b[0mstr\u001b[0m\u001b[1;33m(\u001b[0m\u001b[0mx\u001b[0m\u001b[1;33m)\u001b[0m\u001b[1;33m)\u001b[0m\u001b[1;33m)\u001b[0m\u001b[1;33m\u001b[0m\u001b[1;33m\u001b[0m\u001b[0m\n\u001b[1;32m----> 9\u001b[1;33m \u001b[0mdf_comb\u001b[0m\u001b[1;33m[\u001b[0m\u001b[1;34m'enddate'\u001b[0m\u001b[1;33m]\u001b[0m \u001b[1;33m=\u001b[0m \u001b[0mdf_comb\u001b[0m\u001b[1;33m[\u001b[0m\u001b[1;34m'newdt'\u001b[0m\u001b[1;33m]\u001b[0m\u001b[1;33m.\u001b[0m\u001b[0mapply\u001b[0m\u001b[1;33m(\u001b[0m\u001b[1;32mlambda\u001b[0m \u001b[0mx\u001b[0m\u001b[1;33m:\u001b[0m \u001b[0mdatesplitter_end\u001b[0m\u001b[1;33m(\u001b[0m\u001b[0mstr\u001b[0m\u001b[1;33m(\u001b[0m\u001b[0mx\u001b[0m\u001b[1;33m)\u001b[0m\u001b[1;33m)\u001b[0m\u001b[1;33m)\u001b[0m\u001b[1;33m\u001b[0m\u001b[1;33m\u001b[0m\u001b[0m\n\u001b[0m",
      "\u001b[1;32mC:\\ProgramData\\Anaconda3\\lib\\site-packages\\pandas\\core\\series.py\u001b[0m in \u001b[0;36mapply\u001b[1;34m(self, func, convert_dtype, args, **kwds)\u001b[0m\n\u001b[0;32m   4040\u001b[0m             \u001b[1;32melse\u001b[0m\u001b[1;33m:\u001b[0m\u001b[1;33m\u001b[0m\u001b[1;33m\u001b[0m\u001b[0m\n\u001b[0;32m   4041\u001b[0m                 \u001b[0mvalues\u001b[0m \u001b[1;33m=\u001b[0m \u001b[0mself\u001b[0m\u001b[1;33m.\u001b[0m\u001b[0mastype\u001b[0m\u001b[1;33m(\u001b[0m\u001b[0mobject\u001b[0m\u001b[1;33m)\u001b[0m\u001b[1;33m.\u001b[0m\u001b[0mvalues\u001b[0m\u001b[1;33m\u001b[0m\u001b[1;33m\u001b[0m\u001b[0m\n\u001b[1;32m-> 4042\u001b[1;33m                 \u001b[0mmapped\u001b[0m \u001b[1;33m=\u001b[0m \u001b[0mlib\u001b[0m\u001b[1;33m.\u001b[0m\u001b[0mmap_infer\u001b[0m\u001b[1;33m(\u001b[0m\u001b[0mvalues\u001b[0m\u001b[1;33m,\u001b[0m \u001b[0mf\u001b[0m\u001b[1;33m,\u001b[0m \u001b[0mconvert\u001b[0m\u001b[1;33m=\u001b[0m\u001b[0mconvert_dtype\u001b[0m\u001b[1;33m)\u001b[0m\u001b[1;33m\u001b[0m\u001b[1;33m\u001b[0m\u001b[0m\n\u001b[0m\u001b[0;32m   4043\u001b[0m \u001b[1;33m\u001b[0m\u001b[0m\n\u001b[0;32m   4044\u001b[0m         \u001b[1;32mif\u001b[0m \u001b[0mlen\u001b[0m\u001b[1;33m(\u001b[0m\u001b[0mmapped\u001b[0m\u001b[1;33m)\u001b[0m \u001b[1;32mand\u001b[0m \u001b[0misinstance\u001b[0m\u001b[1;33m(\u001b[0m\u001b[0mmapped\u001b[0m\u001b[1;33m[\u001b[0m\u001b[1;36m0\u001b[0m\u001b[1;33m]\u001b[0m\u001b[1;33m,\u001b[0m \u001b[0mSeries\u001b[0m\u001b[1;33m)\u001b[0m\u001b[1;33m:\u001b[0m\u001b[1;33m\u001b[0m\u001b[1;33m\u001b[0m\u001b[0m\n",
      "\u001b[1;32mpandas\\_libs\\lib.pyx\u001b[0m in \u001b[0;36mpandas._libs.lib.map_infer\u001b[1;34m()\u001b[0m\n",
      "\u001b[1;32m<ipython-input-133-591f5a4f4c43>\u001b[0m in \u001b[0;36m<lambda>\u001b[1;34m(x)\u001b[0m\n\u001b[0;32m      7\u001b[0m \u001b[0mdf_comb\u001b[0m\u001b[1;33m[\u001b[0m\u001b[1;34m'newdt'\u001b[0m\u001b[1;33m]\u001b[0m \u001b[1;33m=\u001b[0m \u001b[0mdf_comb\u001b[0m\u001b[1;33m.\u001b[0m\u001b[0mindex\u001b[0m\u001b[1;33m\u001b[0m\u001b[1;33m\u001b[0m\u001b[0m\n\u001b[0;32m      8\u001b[0m \u001b[0mdf_comb\u001b[0m\u001b[1;33m[\u001b[0m\u001b[1;34m'startdate'\u001b[0m\u001b[1;33m]\u001b[0m \u001b[1;33m=\u001b[0m \u001b[0mdf_comb\u001b[0m\u001b[1;33m[\u001b[0m\u001b[1;34m'newdt'\u001b[0m\u001b[1;33m]\u001b[0m\u001b[1;33m.\u001b[0m\u001b[0mapply\u001b[0m\u001b[1;33m(\u001b[0m\u001b[1;32mlambda\u001b[0m \u001b[0mx\u001b[0m\u001b[1;33m:\u001b[0m \u001b[0mdatesplitter_start\u001b[0m\u001b[1;33m(\u001b[0m\u001b[0mstr\u001b[0m\u001b[1;33m(\u001b[0m\u001b[0mx\u001b[0m\u001b[1;33m)\u001b[0m\u001b[1;33m)\u001b[0m\u001b[1;33m)\u001b[0m\u001b[1;33m\u001b[0m\u001b[1;33m\u001b[0m\u001b[0m\n\u001b[1;32m----> 9\u001b[1;33m \u001b[0mdf_comb\u001b[0m\u001b[1;33m[\u001b[0m\u001b[1;34m'enddate'\u001b[0m\u001b[1;33m]\u001b[0m \u001b[1;33m=\u001b[0m \u001b[0mdf_comb\u001b[0m\u001b[1;33m[\u001b[0m\u001b[1;34m'newdt'\u001b[0m\u001b[1;33m]\u001b[0m\u001b[1;33m.\u001b[0m\u001b[0mapply\u001b[0m\u001b[1;33m(\u001b[0m\u001b[1;32mlambda\u001b[0m \u001b[0mx\u001b[0m\u001b[1;33m:\u001b[0m \u001b[0mdatesplitter_end\u001b[0m\u001b[1;33m(\u001b[0m\u001b[0mstr\u001b[0m\u001b[1;33m(\u001b[0m\u001b[0mx\u001b[0m\u001b[1;33m)\u001b[0m\u001b[1;33m)\u001b[0m\u001b[1;33m)\u001b[0m\u001b[1;33m\u001b[0m\u001b[1;33m\u001b[0m\u001b[0m\n\u001b[0m",
      "\u001b[1;32m<ipython-input-133-591f5a4f4c43>\u001b[0m in \u001b[0;36mdatesplitter_end\u001b[1;34m(x)\u001b[0m\n\u001b[0;32m      3\u001b[0m     \u001b[1;32mreturn\u001b[0m \u001b[0mparse\u001b[0m\u001b[1;33m(\u001b[0m\u001b[0mx\u001b[0m\u001b[1;33m.\u001b[0m\u001b[0msplit\u001b[0m\u001b[1;33m(\u001b[0m\u001b[1;34m'to'\u001b[0m\u001b[1;33m)\u001b[0m\u001b[1;33m[\u001b[0m\u001b[1;36m0\u001b[0m\u001b[1;33m]\u001b[0m\u001b[1;33m)\u001b[0m\u001b[1;33m\u001b[0m\u001b[1;33m\u001b[0m\u001b[0m\n\u001b[0;32m      4\u001b[0m \u001b[1;32mdef\u001b[0m \u001b[0mdatesplitter_end\u001b[0m\u001b[1;33m(\u001b[0m\u001b[0mx\u001b[0m\u001b[1;33m)\u001b[0m\u001b[1;33m:\u001b[0m\u001b[1;33m\u001b[0m\u001b[1;33m\u001b[0m\u001b[0m\n\u001b[1;32m----> 5\u001b[1;33m     \u001b[1;32mreturn\u001b[0m \u001b[0mparse\u001b[0m\u001b[1;33m(\u001b[0m\u001b[0mx\u001b[0m\u001b[1;33m.\u001b[0m\u001b[0msplit\u001b[0m\u001b[1;33m(\u001b[0m\u001b[1;34m'to'\u001b[0m\u001b[1;33m)\u001b[0m\u001b[1;33m[\u001b[0m\u001b[1;36m1\u001b[0m\u001b[1;33m]\u001b[0m\u001b[1;33m)\u001b[0m\u001b[1;33m\u001b[0m\u001b[1;33m\u001b[0m\u001b[0m\n\u001b[0m\u001b[0;32m      6\u001b[0m \u001b[1;31m#---------\u001b[0m\u001b[1;33m\u001b[0m\u001b[1;33m\u001b[0m\u001b[1;33m\u001b[0m\u001b[0m\n\u001b[0;32m      7\u001b[0m \u001b[0mdf_comb\u001b[0m\u001b[1;33m[\u001b[0m\u001b[1;34m'newdt'\u001b[0m\u001b[1;33m]\u001b[0m \u001b[1;33m=\u001b[0m \u001b[0mdf_comb\u001b[0m\u001b[1;33m.\u001b[0m\u001b[0mindex\u001b[0m\u001b[1;33m\u001b[0m\u001b[1;33m\u001b[0m\u001b[0m\n",
      "\u001b[1;31mIndexError\u001b[0m: list index out of range"
     ]
    }
   ],
   "source": [
    "#fcn for formatting the dates from range str\n",
    "def datesplitter_start(x):\n",
    "    return parse(x.split('to')[0])\n",
    "def datesplitter_end(x):\n",
    "    return parse(x.split('to')[1])\n",
    "#---------\n",
    "df_comb['newdt'] = df_comb.index\n",
    "df_comb['startdate'] = df_comb['newdt'].apply(lambda x: datesplitter_start(str(x)))\n",
    "df_comb['enddate'] = df_comb['newdt'].apply(lambda x: datesplitter_end(str(x)))"
   ]
  },
  {
   "cell_type": "code",
   "execution_count": 134,
   "metadata": {},
   "outputs": [],
   "source": [
    "#fcn for formatting the dates from range str\n",
    "def datesplitter_start(x):\n",
    "    return parse(x.split('to')[0])\n",
    "def datesplitter_end(x):\n",
    "    return parse(x.split('to')[1])"
   ]
  },
  {
   "cell_type": "code",
   "execution_count": 135,
   "metadata": {},
   "outputs": [],
   "source": [
    "df_comb['newdt'] = df_comb.index"
   ]
  },
  {
   "cell_type": "code",
   "execution_count": 136,
   "metadata": {},
   "outputs": [
    {
     "data": {
      "text/plain": [
       "DATETIME\n",
       "2020-01-01 00:01:00   2020-01-01 00:01:00\n",
       "2020-01-01 00:02:00   2020-01-01 00:02:00\n",
       "2020-01-01 00:03:00   2020-01-01 00:03:00\n",
       "2020-01-01 00:04:00   2020-01-01 00:04:00\n",
       "2020-01-01 00:05:00   2020-01-01 00:05:00\n",
       "                              ...        \n",
       "2020-01-27 18:05:00   2020-01-27 18:05:00\n",
       "2020-01-27 18:06:00   2020-01-27 18:06:00\n",
       "2020-01-27 18:07:00   2020-01-27 18:07:00\n",
       "2020-01-27 18:08:00   2020-01-27 18:08:00\n",
       "2020-01-27 18:09:00   2020-01-27 18:09:00\n",
       "Name: newdt, Length: 38529, dtype: datetime64[ns]"
      ]
     },
     "execution_count": 136,
     "metadata": {},
     "output_type": "execute_result"
    }
   ],
   "source": [
    "df_comb['newdt']"
   ]
  },
  {
   "cell_type": "code",
   "execution_count": 37,
   "metadata": {},
   "outputs": [
    {
     "data": {
      "text/plain": [
       "38410"
      ]
     },
     "execution_count": 37,
     "metadata": {},
     "output_type": "execute_result"
    }
   ],
   "source": [
    "len(df_comb['106WQ001@PV'])"
   ]
  },
  {
   "cell_type": "code",
   "execution_count": null,
   "metadata": {},
   "outputs": [],
   "source": [
    "for i in range(0, 38410):\n",
    "    d = (np.diff(np.sign(np.diff(df_comb['106WQ001@PV'].iloc[0]:ft_cyc_lim[keyslist[i]]])))< 0).nonzero()[0] + 1   "
   ]
  },
  {
   "cell_type": "code",
   "execution_count": 126,
   "metadata": {},
   "outputs": [],
   "source": [
    "d = (np.diff(np.sign(np.diff(df_comb['106WQ001@PV'].iloc[0:len(df_comb['106WQ001@PV'])])))< 0).nonzero()[0]+1"
   ]
  },
  {
   "cell_type": "code",
   "execution_count": 107,
   "metadata": {},
   "outputs": [
    {
     "data": {
      "text/plain": [
       "array([  21,   54,   57,   59,   95,  142,  147,  181,  211,  215,  264,\n",
       "        286,  290,  496,  500,  542,  613,  616,  841,  884,  947,  950,\n",
       "        993, 1037, 1040, 1079, 1116, 1119, 1157, 1193, 1197, 1233, 1272,\n",
       "       1274, 1582, 1830, 1833, 1854, 1950, 1953, 2651, 2697, 2700, 2769,\n",
       "       2889, 2932, 3029, 3033, 3079, 3121], dtype=int64)"
      ]
     },
     "execution_count": 107,
     "metadata": {},
     "output_type": "execute_result"
    }
   ],
   "source": [
    "d[:50]"
   ]
  },
  {
   "cell_type": "code",
   "execution_count": 111,
   "metadata": {},
   "outputs": [
    {
     "data": {
      "text/plain": [
       "DATETIME\n",
       "2020-01-01 00:16:00    1.88025e+06\n",
       "2020-01-01 00:17:00    1.88025e+06\n",
       "2020-01-01 00:18:00    1.88025e+06\n",
       "2020-01-01 00:19:00    1.88025e+06\n",
       "2020-01-01 00:20:00    1.88025e+06\n",
       "2020-01-01 00:21:00    1.88025e+06\n",
       "2020-01-01 00:22:00    1.88221e+06\n",
       "2020-01-01 00:23:00    1.88221e+06\n",
       "2020-01-01 00:24:00    1.88221e+06\n",
       "2020-01-01 00:25:00    1.88221e+06\n",
       "2020-01-01 00:26:00    1.88221e+06\n",
       "2020-01-01 00:27:00    1.88221e+06\n",
       "2020-01-01 00:28:00    1.88221e+06\n",
       "2020-01-01 00:29:00    1.88221e+06\n",
       "2020-01-01 00:30:00    1.88221e+06\n",
       "Name: 106WQ001@PV, dtype: object"
      ]
     },
     "execution_count": 111,
     "metadata": {},
     "output_type": "execute_result"
    }
   ],
   "source": [
    "df_comb['106WQ001@PV'][15:30]"
   ]
  },
  {
   "cell_type": "code",
   "execution_count": 115,
   "metadata": {},
   "outputs": [
    {
     "name": "stdout",
     "output_type": "stream",
     "text": [
      "1884177.5\n",
      "1886167\n",
      "1886167\n",
      "1988.800048828125\n",
      "3953.39990234375\n",
      "3953.39990234375\n",
      "7896.4599609375\n",
      "7896.4599609375\n",
      "9868.759765625\n",
      "13782.119140625\n"
     ]
    }
   ],
   "source": [
    "for i in range(0, 10):\n",
    "    print(df_comb['106WQ001@PV'][d[i+1]])"
   ]
  },
  {
   "cell_type": "code",
   "execution_count": 117,
   "metadata": {},
   "outputs": [
    {
     "name": "stdout",
     "output_type": "stream",
     "text": [
      "1966.75\n",
      "1964.625\n",
      "1989.5\n",
      "0\n",
      "0.0\n",
      "0.0\n",
      "0.0\n",
      "0.0\n",
      "0.0\n",
      "0.0\n"
     ]
    }
   ],
   "source": [
    "for i in range(0, 10):\n",
    "    print(df_comb['106WQ001@PV'][d[i]]-df_comb['106WQ001@PV'][d[i]-1])"
   ]
  },
  {
   "cell_type": "code",
   "execution_count": 128,
   "metadata": {},
   "outputs": [
    {
     "data": {
      "text/plain": [
       "127"
      ]
     },
     "execution_count": 128,
     "metadata": {},
     "output_type": "execute_result"
    }
   ],
   "source": [
    "d[5]-1"
   ]
  },
  {
   "cell_type": "code",
   "execution_count": 113,
   "metadata": {},
   "outputs": [
    {
     "data": {
      "text/plain": [
       "Timestamp('2020-01-01 00:22:00')"
      ]
     },
     "execution_count": 113,
     "metadata": {},
     "output_type": "execute_result"
    }
   ],
   "source": [
    "df_comb.index[21]"
   ]
  },
  {
   "cell_type": "code",
   "execution_count": 138,
   "metadata": {},
   "outputs": [],
   "source": [
    "#this code here uses the wrong value in setting the index number\n",
    "#for i in range(0, 50):\n",
    "    #print(df_comb['106WQ001@PV'][d[i+1]]-df_comb['106WQ001@PV'][d[i]], \" : \",df_comb.index[d[i+1]])"
   ]
  },
  {
   "cell_type": "code",
   "execution_count": 144,
   "metadata": {},
   "outputs": [
    {
     "name": "stdout",
     "output_type": "stream",
     "text": [
      "1966.75  :  2020-01-01 00:22:00\n",
      "1964.625  :  2020-01-01 00:55:00\n",
      "1989.5  :  2020-01-01 00:58:00\n",
      "0  :  2020-01-01 01:00:00\n",
      "1988.800048828125  :  2020-01-01 01:34:00\n",
      "1964.599853515625  :  2020-01-01 02:09:00\n",
      "1984.6201171875  :  2020-01-01 02:56:00\n",
      "1958.43994140625  :  2020-01-01 03:01:00\n",
      "1972.2998046875  :  2020-01-01 03:35:00\n",
      "1954.259765625  :  2020-01-01 04:05:00\n",
      "1959.099609375  :  2020-01-01 04:09:00\n",
      "1959.099609375  :  2020-01-01 04:58:00\n",
      "1960.640625  :  2020-01-01 05:20:00\n",
      "1990.560546875  :  2020-01-01 05:24:00\n",
      "1958.439453125  :  2020-01-01 08:50:00\n",
      "1985.5  :  2020-01-01 08:54:00\n",
      "1976.48046875  :  2020-01-01 09:36:00\n",
      "1964.8203125  :  2020-01-01 10:47:00\n",
      "1973.83984375  :  2020-01-01 10:50:00\n",
      "1987.48046875  :  2020-01-01 14:35:00\n",
      "1969.0  :  2020-01-01 15:18:00\n",
      "1968.78125  :  2020-01-01 16:21:00\n",
      "1979.78125  :  2020-01-01 16:24:00\n",
      "1964.8203125  :  2020-01-01 17:07:00\n",
      "1958.0  :  2020-01-01 17:51:00\n",
      "1958.66015625  :  2020-01-01 17:54:00\n",
      "1978.01953125  :  2020-01-01 18:33:00\n",
      "1956.23828125  :  2020-01-01 19:10:00\n",
      "1954.48046875  :  2020-01-01 19:13:00\n",
      "1956.4609375  :  2020-01-01 19:51:00\n",
      "1958.66015625  :  2020-01-01 20:27:00\n",
      "1961.30078125  :  2020-01-01 20:31:00\n",
      "1971.640625  :  2020-01-01 21:07:00\n",
      "1975.6015625  :  2020-01-01 21:46:00\n",
      "1973.83984375  :  2020-01-01 21:48:00\n",
      "1960.640625  :  2020-01-02 02:56:00\n",
      "1965.26171875  :  2020-01-02 07:04:00\n",
      "1960.63671875  :  2020-01-02 07:07:00\n",
      "1967.0234375  :  2020-01-02 07:28:00\n",
      "1975.6015625  :  2020-01-02 09:04:00\n",
      "1972.296875  :  2020-01-02 09:07:00\n",
      "1956.2421875  :  2020-01-02 20:45:00\n",
      "1965.921875  :  2020-01-02 21:31:00\n",
      "1956.0234375  :  2020-01-02 21:34:00\n",
      "1978.0234375  :  2020-01-02 22:43:00\n",
      "1996.28125  :  2020-01-03 00:43:00\n",
      "1955.796875  :  2020-01-03 01:26:00\n",
      "1967.6796875  :  2020-01-03 03:03:00\n",
      "1983.296875  :  2020-01-03 03:07:00\n",
      "1954.4765625  :  2020-01-03 03:53:00\n"
     ]
    }
   ],
   "source": [
    "#this code is better for setting the right index number\n",
    "#determine the weight per batch complete\n",
    "\n",
    "for i in range(0, 50):\n",
    "    print(df_comb['106WQ001@PV'][d[i]]-df_comb['106WQ001@PV'][d[i]-1], \" : \",df_comb.index[d[i]])"
   ]
  },
  {
   "cell_type": "code",
   "execution_count": 145,
   "metadata": {},
   "outputs": [],
   "source": [
    "#creating the df for total wt\n",
    "\n",
    "lst_batch_comp_wt = []\n",
    "lst_wt_index = []\n",
    "for i in range(0, len(d)):\n",
    "    temp_batch_wt = df_comb['106WQ001@PV'][d[i]]-df_comb['106WQ001@PV'][d[i]-1]\n",
    "    temp_wt_index = df_comb.index[d[i]]\n",
    "    if temp_batch_wt > 0:\n",
    "        lst_batch_comp_wt.append(temp_batch_wt)\n",
    "        lst_wt_index.append(temp_wt_index)\n",
    "lst_index_batch_comp_wt = list(zip(lst_wt_index,lst_batch_comp_wt))\n",
    "df_batch_comp_wt_index_time = pd.DataFrame(lst_index_batch_comp_wt)\n",
    "\n",
    "df_batch_comp_wt_index_time.columns = ['DATETIME', 'weight_per_b']"
   ]
  },
  {
   "cell_type": "code",
   "execution_count": 143,
   "metadata": {},
   "outputs": [
    {
     "data": {
      "text/html": [
       "<div>\n",
       "<style scoped>\n",
       "    .dataframe tbody tr th:only-of-type {\n",
       "        vertical-align: middle;\n",
       "    }\n",
       "\n",
       "    .dataframe tbody tr th {\n",
       "        vertical-align: top;\n",
       "    }\n",
       "\n",
       "    .dataframe thead th {\n",
       "        text-align: right;\n",
       "    }\n",
       "</style>\n",
       "<table border=\"1\" class=\"dataframe\">\n",
       "  <thead>\n",
       "    <tr style=\"text-align: right;\">\n",
       "      <th></th>\n",
       "      <th>DATETIME</th>\n",
       "      <th>weight_per_b</th>\n",
       "    </tr>\n",
       "  </thead>\n",
       "  <tbody>\n",
       "    <tr>\n",
       "      <td>0</td>\n",
       "      <td>2020-01-01 00:22:00</td>\n",
       "      <td>1966.750000</td>\n",
       "    </tr>\n",
       "    <tr>\n",
       "      <td>1</td>\n",
       "      <td>2020-01-01 00:55:00</td>\n",
       "      <td>1964.625000</td>\n",
       "    </tr>\n",
       "    <tr>\n",
       "      <td>2</td>\n",
       "      <td>2020-01-01 00:58:00</td>\n",
       "      <td>1989.500000</td>\n",
       "    </tr>\n",
       "    <tr>\n",
       "      <td>3</td>\n",
       "      <td>2020-01-01 01:34:00</td>\n",
       "      <td>1988.800049</td>\n",
       "    </tr>\n",
       "    <tr>\n",
       "      <td>4</td>\n",
       "      <td>2020-01-01 02:09:00</td>\n",
       "      <td>1964.599854</td>\n",
       "    </tr>\n",
       "    <tr>\n",
       "      <td>...</td>\n",
       "      <td>...</td>\n",
       "      <td>...</td>\n",
       "    </tr>\n",
       "    <tr>\n",
       "      <td>1136</td>\n",
       "      <td>2020-01-27 07:51:00</td>\n",
       "      <td>1972.250000</td>\n",
       "    </tr>\n",
       "    <tr>\n",
       "      <td>1137</td>\n",
       "      <td>2020-01-27 08:22:00</td>\n",
       "      <td>1971.500000</td>\n",
       "    </tr>\n",
       "    <tr>\n",
       "      <td>1138</td>\n",
       "      <td>2020-01-27 08:40:00</td>\n",
       "      <td>1957.750000</td>\n",
       "    </tr>\n",
       "    <tr>\n",
       "      <td>1139</td>\n",
       "      <td>2020-01-27 09:05:00</td>\n",
       "      <td>1960.500000</td>\n",
       "    </tr>\n",
       "    <tr>\n",
       "      <td>1140</td>\n",
       "      <td>2020-01-27 09:07:00</td>\n",
       "      <td>1967.750000</td>\n",
       "    </tr>\n",
       "  </tbody>\n",
       "</table>\n",
       "<p>1141 rows × 2 columns</p>\n",
       "</div>"
      ],
      "text/plain": [
       "                DATETIME  weight_per_b\n",
       "0    2020-01-01 00:22:00   1966.750000\n",
       "1    2020-01-01 00:55:00   1964.625000\n",
       "2    2020-01-01 00:58:00   1989.500000\n",
       "3    2020-01-01 01:34:00   1988.800049\n",
       "4    2020-01-01 02:09:00   1964.599854\n",
       "...                  ...           ...\n",
       "1136 2020-01-27 07:51:00   1972.250000\n",
       "1137 2020-01-27 08:22:00   1971.500000\n",
       "1138 2020-01-27 08:40:00   1957.750000\n",
       "1139 2020-01-27 09:05:00   1960.500000\n",
       "1140 2020-01-27 09:07:00   1967.750000\n",
       "\n",
       "[1141 rows x 2 columns]"
      ]
     },
     "execution_count": 143,
     "metadata": {},
     "output_type": "execute_result"
    }
   ],
   "source": [
    "df_batch_comp_wt_index_time"
   ]
  },
  {
   "cell_type": "code",
   "execution_count": null,
   "metadata": {},
   "outputs": [],
   "source": [
    "try:\n",
    "    for i in range(0, len(df_B_merged_lab_res)):\n",
    "        for j in range(0, len(dfn11B)):\n",
    "            if dfn11B['enddate'][j-1] <= df_batch_comp_wt_index_time.index[i] and dfn11B['enddate'][j] >= df_batch_comp_wt_index_time.index[i]:\n",
    "                df_n11B_indexList.append(dfn11B.index[j])\n",
    "                df_anlB_indexList.append(df_B_merged_lab_res.index[i]) \n",
    "except IndexError:\n",
    "    print('IndexError')  \n",
    "Analys_indexList_Pair = list(zip(df_anlB_indexList, df_n11B_indexList[0:]))\n",
    "dfEL4B = pd.DataFrame(Analys_indexList_Pair)\n",
    "dfEL4B.columns = ['DATETIME', 'FT_cycletimerange']\n",
    "dfEL4B.set_index('DATETIME', inplace=True)"
   ]
  },
  {
   "cell_type": "code",
   "execution_count": null,
   "metadata": {},
   "outputs": [],
   "source": [
    "\n",
    "for index_bs[i] > index_df[j]:\n",
    "    tdelta = index_bs[i]-index_df[j]\n",
    "    if tdelta < index_df[j]-index_bc[i]:\n",
    "        tdelta = index_df[i]-index_bc[i]"
   ]
  }
 ],
 "metadata": {
  "kernelspec": {
   "display_name": "Python 3",
   "language": "python",
   "name": "python3"
  },
  "language_info": {
   "codemirror_mode": {
    "name": "ipython",
    "version": 3
   },
   "file_extension": ".py",
   "mimetype": "text/x-python",
   "name": "python",
   "nbconvert_exporter": "python",
   "pygments_lexer": "ipython3",
   "version": "3.7.4"
  }
 },
 "nbformat": 4,
 "nbformat_minor": 2
}
