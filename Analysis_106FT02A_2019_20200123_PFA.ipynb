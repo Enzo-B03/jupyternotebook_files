{
 "cells": [
  {
   "cell_type": "code",
   "execution_count": 2,
   "metadata": {},
   "outputs": [],
   "source": [
    "#exc1\n",
    "import pandas as pd\n",
    "import numpy as np\n",
    "import matplotlib.pyplot as plt\n",
    "%matplotlib inline\n",
    "from dateutil.parser import parse\n",
    "from itertools import compress\n",
    "from collections import OrderedDict\n",
    "from datetime import date\n",
    "import datetime\n",
    "from datetime import timedelta\n",
    "import openpyxl\n",
    "from sklearn.metrics import mean_squared_error"
   ]
  },
  {
   "cell_type": "code",
   "execution_count": 3,
   "metadata": {},
   "outputs": [],
   "source": [
    "FT02A = pd.read_excel(r'C:\\Users\\v.t.flores\\Documents\\106FT02A_2019_REV1.xlsx')"
   ]
  },
  {
   "cell_type": "code",
   "execution_count": 27,
   "metadata": {
    "scrolled": true
   },
   "outputs": [
    {
     "data": {
      "text/plain": [
       "127"
      ]
     },
     "execution_count": 27,
     "metadata": {},
     "output_type": "execute_result"
    }
   ],
   "source": [
    "len(FT02A['MS_A_Mg_spcl'].unique())"
   ]
  },
  {
   "cell_type": "code",
   "execution_count": 33,
   "metadata": {},
   "outputs": [],
   "source": [
    "FT02A.describe().to_excel(r'C:\\Users\\v.t.flores\\Documents\\FT02A_describe_20200124.xlsx')"
   ]
  },
  {
   "cell_type": "markdown",
   "metadata": {},
   "source": [
    "For ScikitLearn"
   ]
  },
  {
   "cell_type": "code",
   "execution_count": 4,
   "metadata": {},
   "outputs": [],
   "source": [
    "#\n",
    "#parameter for Mg and moisture expanded\n",
    "df_A_param_forLM_mg_moisture_xpndd = FT02A[['A_PU26A_CUR', 'A_PU27A_CUR', 'A_N2DRY', 'A_CWP_1',\n",
    "       'A_CWP_2', 'A_FILT_T', 'A_MANF_P', 'A_CWSH1', 'A_CWSH2', 'A_PRESS1_t',\n",
    "       'A_PRESS2_t',\n",
    "       'MS_A_Pb_spcl', 'MS_A_Zn_spcl', 'MS_A_Cu_spcl',\n",
    "       'MS_A_Ni_spcl', 'MS_A_Co_spcl', 'MS_A_Fe_spcl', 'MS_A_Mn_spcl',\n",
    "       'MS_A_Cr_spcl', 'MS_A_Ca_spcl', 'MS_A_Si_spcl', 'MS_A_Al_spcl',\n",
    "       'MS_A_S_spcl','MS_A_PS_10D_spcl',\n",
    "       'MS_A_PS_50D_spcl', 'MS_A_PS_90D_spcl', 'MS_A_PS_mean_v_spcl',\n",
    "       'MS_A_PS_stdev_spcl']]\n",
    "#Computing for coeff for Moisture\n",
    "import numpy as np\n",
    "from matplotlib import pyplot as plt\n",
    "from sklearn.model_selection import train_test_split\n",
    "X1 = df_A_param_forLM_mg_moisture_xpndd.dropna()\n",
    "y1 = FT02A['MS_A_moisture_spcl'].dropna()\n",
    "X1_train, X1_test, y1_train, y1_test = train_test_split(X1, y1, test_size=0.40, random_state=101)\n",
    "\n",
    "from sklearn.linear_model import LinearRegression\n",
    "lm2 = LinearRegression()\n",
    "lm2.fit(X1_train,y1_train)\n",
    "\n",
    "coeff_df_moisture_FT02A = pd.DataFrame(zip(lm2.coef_, X1.columns), columns=['LM_coef_Moist','FT02A_Param'])"
   ]
  },
  {
   "cell_type": "code",
   "execution_count": 119,
   "metadata": {},
   "outputs": [],
   "source": [
    "coeff_df_moisture_FT02A.to_excel(r'C:\\Users\\v.t.flores\\Documents\\106FT02A_LM_coef_Moisture_20200123.xlsx')"
   ]
  },
  {
   "cell_type": "code",
   "execution_count": 101,
   "metadata": {},
   "outputs": [
    {
     "data": {
      "text/plain": [
       "28.492747419495906"
      ]
     },
     "execution_count": 101,
     "metadata": {},
     "output_type": "execute_result"
    }
   ],
   "source": [
    "lm2.intercept_"
   ]
  },
  {
   "cell_type": "code",
   "execution_count": 118,
   "metadata": {},
   "outputs": [
    {
     "data": {
      "text/plain": [
       "array([-2.81935152e-02, -6.14121471e-03, -5.79952338e-03,  7.33341176e-01,\n",
       "        4.51194643e-01, -7.00751009e-04, -9.91282665e-01, -1.91880896e-03,\n",
       "       -4.30750523e-03,  9.83711982e-04, -1.18396636e-02, -6.04905225e+02,\n",
       "       -6.04905225e+02, -1.49396081e+00,  3.48882786e-01, -3.98514662e-01,\n",
       "        1.84296799e-01,  1.22784920e+01,  2.35327439e+01,  1.73433267e+02,\n",
       "       -3.86819465e-11, -3.10502168e+01, -7.04015798e-01, -2.60177311e-01,\n",
       "        3.73836360e-02,  3.87429666e-02, -2.81590292e-02,  2.44772255e-02])"
      ]
     },
     "execution_count": 118,
     "metadata": {},
     "output_type": "execute_result"
    }
   ],
   "source": [
    "lm2.coef_"
   ]
  },
  {
   "cell_type": "code",
   "execution_count": 37,
   "metadata": {},
   "outputs": [],
   "source": [
    "pred = lm2.predict(X1_test)"
   ]
  },
  {
   "cell_type": "code",
   "execution_count": 11,
   "metadata": {},
   "outputs": [],
   "source": [
    "#\n",
    "#parameter for Mg and moisture expanded\n",
    "df_A_param_forLM_mg_moisture_xpndd = FT02A[['A_PU26A_CUR', 'A_PU27A_CUR', 'A_N2DRY', 'A_CWP_1',\n",
    "       'A_CWP_2', 'A_FILT_T', 'A_MANF_P', 'A_CWSH1', 'A_CWSH2', 'A_PRESS1_t',\n",
    "       'A_PRESS2_t',\n",
    "       'MS_A_Pb_spcl', 'MS_A_Zn_spcl', 'MS_A_Cu_spcl',\n",
    "       'MS_A_Ni_spcl', 'MS_A_Co_spcl', 'MS_A_Fe_spcl', 'MS_A_Mn_spcl',\n",
    "       'MS_A_Cr_spcl', 'MS_A_Ca_spcl', 'MS_A_Si_spcl', 'MS_A_Al_spcl',\n",
    "       'MS_A_S_spcl','MS_A_PS_10D_spcl',\n",
    "       'MS_A_PS_50D_spcl', 'MS_A_PS_90D_spcl', 'MS_A_PS_mean_v_spcl',\n",
    "       'MS_A_PS_stdev_spcl']]\n",
    "#Computing for coeff for Mg\n",
    "import numpy as np\n",
    "from matplotlib import pyplot as plt\n",
    "from sklearn.model_selection import train_test_split\n",
    "X1 = df_A_param_forLM_mg_moisture_xpndd.dropna()\n",
    "y1 = FT02A['MS_A_Mg_spcl'].dropna()\n",
    "X1_train, X1_test, y1_train, y1_test = train_test_split(X1, y1, test_size=0.40, random_state=101)\n",
    "\n",
    "from sklearn.linear_model import LinearRegression\n",
    "lm2mg = LinearRegression()\n",
    "lm2mg.fit(X1_train,y1_train)\n",
    "\n",
    "coeff_df_mg_FT02A = pd.DataFrame(zip(lm2mg.coef_, X1.columns), columns=['LM_coef_Mg','FT02A_Param'])"
   ]
  },
  {
   "cell_type": "code",
   "execution_count": 35,
   "metadata": {},
   "outputs": [],
   "source": [
    "pred = pd.DataFrame(zip(lm2mg.predict(X1_test), X1.columns), columns=['LM_predict_Mg','FT02A_Param'])"
   ]
  },
  {
   "cell_type": "code",
   "execution_count": 13,
   "metadata": {},
   "outputs": [
    {
     "data": {
      "text/plain": [
       "-0.08783657202063745"
      ]
     },
     "execution_count": 13,
     "metadata": {},
     "output_type": "execute_result"
    }
   ],
   "source": [
    "lm2mg.intercept_"
   ]
  },
  {
   "cell_type": "code",
   "execution_count": 32,
   "metadata": {},
   "outputs": [
    {
     "data": {
      "text/html": [
       "<div>\n",
       "<style scoped>\n",
       "    .dataframe tbody tr th:only-of-type {\n",
       "        vertical-align: middle;\n",
       "    }\n",
       "\n",
       "    .dataframe tbody tr th {\n",
       "        vertical-align: top;\n",
       "    }\n",
       "\n",
       "    .dataframe thead th {\n",
       "        text-align: right;\n",
       "    }\n",
       "</style>\n",
       "<table border=\"1\" class=\"dataframe\">\n",
       "  <thead>\n",
       "    <tr style=\"text-align: right;\">\n",
       "      <th></th>\n",
       "      <th>LM_predict_Mg</th>\n",
       "      <th>FT02A_Param</th>\n",
       "    </tr>\n",
       "  </thead>\n",
       "  <tbody>\n",
       "    <tr>\n",
       "      <td>0</td>\n",
       "      <td>0.004318</td>\n",
       "      <td>A_PU26A_CUR</td>\n",
       "    </tr>\n",
       "    <tr>\n",
       "      <td>1</td>\n",
       "      <td>0.012715</td>\n",
       "      <td>A_PU27A_CUR</td>\n",
       "    </tr>\n",
       "    <tr>\n",
       "      <td>2</td>\n",
       "      <td>0.006723</td>\n",
       "      <td>A_N2DRY</td>\n",
       "    </tr>\n",
       "    <tr>\n",
       "      <td>3</td>\n",
       "      <td>0.008735</td>\n",
       "      <td>A_CWP_1</td>\n",
       "    </tr>\n",
       "    <tr>\n",
       "      <td>4</td>\n",
       "      <td>0.006914</td>\n",
       "      <td>A_CWP_2</td>\n",
       "    </tr>\n",
       "    <tr>\n",
       "      <td>5</td>\n",
       "      <td>0.008810</td>\n",
       "      <td>A_FILT_T</td>\n",
       "    </tr>\n",
       "    <tr>\n",
       "      <td>6</td>\n",
       "      <td>0.008461</td>\n",
       "      <td>A_MANF_P</td>\n",
       "    </tr>\n",
       "    <tr>\n",
       "      <td>7</td>\n",
       "      <td>0.014350</td>\n",
       "      <td>A_CWSH1</td>\n",
       "    </tr>\n",
       "    <tr>\n",
       "      <td>8</td>\n",
       "      <td>0.015635</td>\n",
       "      <td>A_CWSH2</td>\n",
       "    </tr>\n",
       "    <tr>\n",
       "      <td>9</td>\n",
       "      <td>0.008281</td>\n",
       "      <td>A_PRESS1_t</td>\n",
       "    </tr>\n",
       "    <tr>\n",
       "      <td>10</td>\n",
       "      <td>0.005626</td>\n",
       "      <td>A_PRESS2_t</td>\n",
       "    </tr>\n",
       "    <tr>\n",
       "      <td>11</td>\n",
       "      <td>0.005617</td>\n",
       "      <td>MS_A_Pb_spcl</td>\n",
       "    </tr>\n",
       "    <tr>\n",
       "      <td>12</td>\n",
       "      <td>0.008338</td>\n",
       "      <td>MS_A_Zn_spcl</td>\n",
       "    </tr>\n",
       "    <tr>\n",
       "      <td>13</td>\n",
       "      <td>0.011330</td>\n",
       "      <td>MS_A_Cu_spcl</td>\n",
       "    </tr>\n",
       "    <tr>\n",
       "      <td>14</td>\n",
       "      <td>0.006004</td>\n",
       "      <td>MS_A_Ni_spcl</td>\n",
       "    </tr>\n",
       "    <tr>\n",
       "      <td>15</td>\n",
       "      <td>0.007464</td>\n",
       "      <td>MS_A_Co_spcl</td>\n",
       "    </tr>\n",
       "    <tr>\n",
       "      <td>16</td>\n",
       "      <td>0.005191</td>\n",
       "      <td>MS_A_Fe_spcl</td>\n",
       "    </tr>\n",
       "    <tr>\n",
       "      <td>17</td>\n",
       "      <td>0.011133</td>\n",
       "      <td>MS_A_Mn_spcl</td>\n",
       "    </tr>\n",
       "    <tr>\n",
       "      <td>18</td>\n",
       "      <td>0.008304</td>\n",
       "      <td>MS_A_Cr_spcl</td>\n",
       "    </tr>\n",
       "    <tr>\n",
       "      <td>19</td>\n",
       "      <td>0.005054</td>\n",
       "      <td>MS_A_Ca_spcl</td>\n",
       "    </tr>\n",
       "    <tr>\n",
       "      <td>20</td>\n",
       "      <td>0.004825</td>\n",
       "      <td>MS_A_Si_spcl</td>\n",
       "    </tr>\n",
       "    <tr>\n",
       "      <td>21</td>\n",
       "      <td>0.008515</td>\n",
       "      <td>MS_A_Al_spcl</td>\n",
       "    </tr>\n",
       "    <tr>\n",
       "      <td>22</td>\n",
       "      <td>0.005272</td>\n",
       "      <td>MS_A_S_spcl</td>\n",
       "    </tr>\n",
       "    <tr>\n",
       "      <td>23</td>\n",
       "      <td>0.008337</td>\n",
       "      <td>MS_A_PS_10D_spcl</td>\n",
       "    </tr>\n",
       "    <tr>\n",
       "      <td>24</td>\n",
       "      <td>0.007961</td>\n",
       "      <td>MS_A_PS_50D_spcl</td>\n",
       "    </tr>\n",
       "    <tr>\n",
       "      <td>25</td>\n",
       "      <td>0.005302</td>\n",
       "      <td>MS_A_PS_90D_spcl</td>\n",
       "    </tr>\n",
       "    <tr>\n",
       "      <td>26</td>\n",
       "      <td>0.009200</td>\n",
       "      <td>MS_A_PS_mean_v_spcl</td>\n",
       "    </tr>\n",
       "    <tr>\n",
       "      <td>27</td>\n",
       "      <td>0.007413</td>\n",
       "      <td>MS_A_PS_stdev_spcl</td>\n",
       "    </tr>\n",
       "  </tbody>\n",
       "</table>\n",
       "</div>"
      ],
      "text/plain": [
       "    LM_predict_Mg          FT02A_Param\n",
       "0        0.004318          A_PU26A_CUR\n",
       "1        0.012715          A_PU27A_CUR\n",
       "2        0.006723              A_N2DRY\n",
       "3        0.008735              A_CWP_1\n",
       "4        0.006914              A_CWP_2\n",
       "5        0.008810             A_FILT_T\n",
       "6        0.008461             A_MANF_P\n",
       "7        0.014350              A_CWSH1\n",
       "8        0.015635              A_CWSH2\n",
       "9        0.008281           A_PRESS1_t\n",
       "10       0.005626           A_PRESS2_t\n",
       "11       0.005617         MS_A_Pb_spcl\n",
       "12       0.008338         MS_A_Zn_spcl\n",
       "13       0.011330         MS_A_Cu_spcl\n",
       "14       0.006004         MS_A_Ni_spcl\n",
       "15       0.007464         MS_A_Co_spcl\n",
       "16       0.005191         MS_A_Fe_spcl\n",
       "17       0.011133         MS_A_Mn_spcl\n",
       "18       0.008304         MS_A_Cr_spcl\n",
       "19       0.005054         MS_A_Ca_spcl\n",
       "20       0.004825         MS_A_Si_spcl\n",
       "21       0.008515         MS_A_Al_spcl\n",
       "22       0.005272          MS_A_S_spcl\n",
       "23       0.008337     MS_A_PS_10D_spcl\n",
       "24       0.007961     MS_A_PS_50D_spcl\n",
       "25       0.005302     MS_A_PS_90D_spcl\n",
       "26       0.009200  MS_A_PS_mean_v_spcl\n",
       "27       0.007413   MS_A_PS_stdev_spcl"
      ]
     },
     "execution_count": 32,
     "metadata": {},
     "output_type": "execute_result"
    }
   ],
   "source": [
    "FT02A_pred_X1_test"
   ]
  },
  {
   "cell_type": "code",
   "execution_count": 15,
   "metadata": {},
   "outputs": [],
   "source": [
    "coeff_df_mg_FT02A.to_excel(r'C:\\Users\\v.t.flores\\Documents\\106FT02A_LM_coef_Mg_20200124ii.xlsx')"
   ]
  },
  {
   "cell_type": "code",
   "execution_count": 8,
   "metadata": {},
   "outputs": [
    {
     "data": {
      "text/html": [
       "<div>\n",
       "<style scoped>\n",
       "    .dataframe tbody tr th:only-of-type {\n",
       "        vertical-align: middle;\n",
       "    }\n",
       "\n",
       "    .dataframe tbody tr th {\n",
       "        vertical-align: top;\n",
       "    }\n",
       "\n",
       "    .dataframe thead th {\n",
       "        text-align: right;\n",
       "    }\n",
       "</style>\n",
       "<table border=\"1\" class=\"dataframe\">\n",
       "  <thead>\n",
       "    <tr style=\"text-align: right;\">\n",
       "      <th></th>\n",
       "      <th>LM_coef_Mg</th>\n",
       "      <th>FT02A_Param</th>\n",
       "    </tr>\n",
       "  </thead>\n",
       "  <tbody>\n",
       "    <tr>\n",
       "      <td>0</td>\n",
       "      <td>3.162793e-04</td>\n",
       "      <td>A_PU26A_CUR</td>\n",
       "    </tr>\n",
       "    <tr>\n",
       "      <td>1</td>\n",
       "      <td>-2.604686e-04</td>\n",
       "      <td>A_PU27A_CUR</td>\n",
       "    </tr>\n",
       "    <tr>\n",
       "      <td>2</td>\n",
       "      <td>6.673788e-06</td>\n",
       "      <td>A_N2DRY</td>\n",
       "    </tr>\n",
       "    <tr>\n",
       "      <td>3</td>\n",
       "      <td>2.775457e-03</td>\n",
       "      <td>A_CWP_1</td>\n",
       "    </tr>\n",
       "    <tr>\n",
       "      <td>4</td>\n",
       "      <td>3.628106e-04</td>\n",
       "      <td>A_CWP_2</td>\n",
       "    </tr>\n",
       "    <tr>\n",
       "      <td>5</td>\n",
       "      <td>-3.403253e-07</td>\n",
       "      <td>A_FILT_T</td>\n",
       "    </tr>\n",
       "    <tr>\n",
       "      <td>6</td>\n",
       "      <td>-1.137787e-04</td>\n",
       "      <td>A_MANF_P</td>\n",
       "    </tr>\n",
       "    <tr>\n",
       "      <td>7</td>\n",
       "      <td>2.090016e-05</td>\n",
       "      <td>A_CWSH1</td>\n",
       "    </tr>\n",
       "    <tr>\n",
       "      <td>8</td>\n",
       "      <td>4.404179e-06</td>\n",
       "      <td>A_CWSH2</td>\n",
       "    </tr>\n",
       "    <tr>\n",
       "      <td>9</td>\n",
       "      <td>1.139997e-06</td>\n",
       "      <td>A_PRESS1_t</td>\n",
       "    </tr>\n",
       "    <tr>\n",
       "      <td>10</td>\n",
       "      <td>-3.521423e-06</td>\n",
       "      <td>A_PRESS2_t</td>\n",
       "    </tr>\n",
       "    <tr>\n",
       "      <td>11</td>\n",
       "      <td>1.661891e+00</td>\n",
       "      <td>MS_A_Pb_spcl</td>\n",
       "    </tr>\n",
       "    <tr>\n",
       "      <td>12</td>\n",
       "      <td>1.661891e+00</td>\n",
       "      <td>MS_A_Zn_spcl</td>\n",
       "    </tr>\n",
       "    <tr>\n",
       "      <td>13</td>\n",
       "      <td>2.021304e-03</td>\n",
       "      <td>MS_A_Cu_spcl</td>\n",
       "    </tr>\n",
       "    <tr>\n",
       "      <td>14</td>\n",
       "      <td>8.180228e-04</td>\n",
       "      <td>MS_A_Ni_spcl</td>\n",
       "    </tr>\n",
       "    <tr>\n",
       "      <td>15</td>\n",
       "      <td>1.421632e-03</td>\n",
       "      <td>MS_A_Co_spcl</td>\n",
       "    </tr>\n",
       "    <tr>\n",
       "      <td>16</td>\n",
       "      <td>-2.169390e-03</td>\n",
       "      <td>MS_A_Fe_spcl</td>\n",
       "    </tr>\n",
       "    <tr>\n",
       "      <td>17</td>\n",
       "      <td>7.310458e-01</td>\n",
       "      <td>MS_A_Mn_spcl</td>\n",
       "    </tr>\n",
       "    <tr>\n",
       "      <td>18</td>\n",
       "      <td>2.384421e-03</td>\n",
       "      <td>MS_A_Cr_spcl</td>\n",
       "    </tr>\n",
       "    <tr>\n",
       "      <td>19</td>\n",
       "      <td>-4.009189e-01</td>\n",
       "      <td>MS_A_Ca_spcl</td>\n",
       "    </tr>\n",
       "    <tr>\n",
       "      <td>20</td>\n",
       "      <td>1.059153e-13</td>\n",
       "      <td>MS_A_Si_spcl</td>\n",
       "    </tr>\n",
       "    <tr>\n",
       "      <td>21</td>\n",
       "      <td>5.264820e-02</td>\n",
       "      <td>MS_A_Al_spcl</td>\n",
       "    </tr>\n",
       "    <tr>\n",
       "      <td>22</td>\n",
       "      <td>5.517405e-04</td>\n",
       "      <td>MS_A_S_spcl</td>\n",
       "    </tr>\n",
       "    <tr>\n",
       "      <td>23</td>\n",
       "      <td>3.095252e-05</td>\n",
       "      <td>MS_A_PS_10D_spcl</td>\n",
       "    </tr>\n",
       "    <tr>\n",
       "      <td>24</td>\n",
       "      <td>1.287461e-04</td>\n",
       "      <td>MS_A_PS_50D_spcl</td>\n",
       "    </tr>\n",
       "    <tr>\n",
       "      <td>25</td>\n",
       "      <td>-2.076098e-05</td>\n",
       "      <td>MS_A_PS_90D_spcl</td>\n",
       "    </tr>\n",
       "    <tr>\n",
       "      <td>26</td>\n",
       "      <td>-5.461391e-05</td>\n",
       "      <td>MS_A_PS_mean_v_spcl</td>\n",
       "    </tr>\n",
       "    <tr>\n",
       "      <td>27</td>\n",
       "      <td>3.167067e-05</td>\n",
       "      <td>MS_A_PS_stdev_spcl</td>\n",
       "    </tr>\n",
       "  </tbody>\n",
       "</table>\n",
       "</div>"
      ],
      "text/plain": [
       "      LM_coef_Mg          FT02A_Param\n",
       "0   3.162793e-04          A_PU26A_CUR\n",
       "1  -2.604686e-04          A_PU27A_CUR\n",
       "2   6.673788e-06              A_N2DRY\n",
       "3   2.775457e-03              A_CWP_1\n",
       "4   3.628106e-04              A_CWP_2\n",
       "5  -3.403253e-07             A_FILT_T\n",
       "6  -1.137787e-04             A_MANF_P\n",
       "7   2.090016e-05              A_CWSH1\n",
       "8   4.404179e-06              A_CWSH2\n",
       "9   1.139997e-06           A_PRESS1_t\n",
       "10 -3.521423e-06           A_PRESS2_t\n",
       "11  1.661891e+00         MS_A_Pb_spcl\n",
       "12  1.661891e+00         MS_A_Zn_spcl\n",
       "13  2.021304e-03         MS_A_Cu_spcl\n",
       "14  8.180228e-04         MS_A_Ni_spcl\n",
       "15  1.421632e-03         MS_A_Co_spcl\n",
       "16 -2.169390e-03         MS_A_Fe_spcl\n",
       "17  7.310458e-01         MS_A_Mn_spcl\n",
       "18  2.384421e-03         MS_A_Cr_spcl\n",
       "19 -4.009189e-01         MS_A_Ca_spcl\n",
       "20  1.059153e-13         MS_A_Si_spcl\n",
       "21  5.264820e-02         MS_A_Al_spcl\n",
       "22  5.517405e-04          MS_A_S_spcl\n",
       "23  3.095252e-05     MS_A_PS_10D_spcl\n",
       "24  1.287461e-04     MS_A_PS_50D_spcl\n",
       "25 -2.076098e-05     MS_A_PS_90D_spcl\n",
       "26 -5.461391e-05  MS_A_PS_mean_v_spcl\n",
       "27  3.167067e-05   MS_A_PS_stdev_spcl"
      ]
     },
     "execution_count": 8,
     "metadata": {},
     "output_type": "execute_result"
    }
   ],
   "source": [
    "coeff_df_moisture_FT02A"
   ]
  },
  {
   "cell_type": "code",
   "execution_count": 38,
   "metadata": {},
   "outputs": [],
   "source": [
    "test_set_rmse = (np.sqrt(mean_squared_error(y1_test, pred)))"
   ]
  },
  {
   "cell_type": "code",
   "execution_count": 39,
   "metadata": {},
   "outputs": [
    {
     "data": {
      "text/plain": [
       "13.959096004968236"
      ]
     },
     "execution_count": 39,
     "metadata": {},
     "output_type": "execute_result"
    }
   ],
   "source": [
    "test_set_rmse"
   ]
  },
  {
   "cell_type": "code",
   "execution_count": null,
   "metadata": {},
   "outputs": [],
   "source": [
    ">>> import numpy as np\n",
    ">>> from sklearn.linear_model import LinearRegression\n",
    ">>> X = np.array([[1, 1], [1, 2], [2, 2], [2, 3]])\n",
    ">>> # y = 1 * x_0 + 2 * x_1 + 3\n",
    ">>> y = np.dot(X, np.array([1, 2])) + 3\n",
    ">>> reg = LinearRegression().fit(X, y)\n",
    ">>> reg.score(X, y)\n",
    "\n",
    ">>> reg.coef_\n",
    "\n",
    ">>> reg.intercept_\n",
    "\n",
    ">>> reg.predict(np.array([[3, 5]]))\n"
   ]
  },
  {
   "cell_type": "code",
   "execution_count": null,
   "metadata": {},
   "outputs": [],
   "source": []
  },
  {
   "cell_type": "code",
   "execution_count": 59,
   "metadata": {},
   "outputs": [],
   "source": [
    "from sklearn.linear_model import LinearRegression\n",
    "lm2 = LinearRegression()\n",
    "lm2.fit(X1_train,y1_train)\n",
    "\n",
    "coeff_df_moisture_FT02B = pd.DataFrame(zip(lm2.coef_, X1.columns), columns=['LM_coef_Moist','FT02B_Param'])"
   ]
  },
  {
   "cell_type": "code",
   "execution_count": 60,
   "metadata": {},
   "outputs": [],
   "source": [
    "#save the lm.coeff Moisture to Documents\n",
    "coeff_df_moisture_FT02B.to_excel(r'C:\\Users\\v.t.flores\\Documents\\106FT02B_LM_coef_Moisture.xlsx')"
   ]
  },
  {
   "cell_type": "code",
   "execution_count": 62,
   "metadata": {},
   "outputs": [
    {
     "data": {
      "text/plain": [
       "LinearRegression(copy_X=True, fit_intercept=True, n_jobs=None, normalize=False)"
      ]
     },
     "execution_count": 62,
     "metadata": {},
     "output_type": "execute_result"
    }
   ],
   "source": [
    "#Computing for coeff for Mg\n",
    "\n",
    "from sklearn.model_selection import train_test_split\n",
    "X2 = df_B_param_forLM.dropna()\n",
    "y2 = FT02B['MS_B_Mg_spcl'].dropna()\n",
    "X2_train, X2_test, y2_train, y2_test = train_test_split(X2, y2, test_size=0.40, random_state=101)\n",
    "from sklearn.linear_model import LinearRegression\n",
    "lm2_mg = LinearRegression()\n",
    "lm2_mg.fit(X2_train,y2_train)"
   ]
  },
  {
   "cell_type": "code",
   "execution_count": 88,
   "metadata": {},
   "outputs": [],
   "source": [
    "coeff_df_Mg_FT02B = pd.DataFrame(zip(lm2_mg.coef_, X2.columns), columns=['LM_coef_Mg','FT02B_Param'])"
   ]
  },
  {
   "cell_type": "code",
   "execution_count": 71,
   "metadata": {},
   "outputs": [],
   "source": [
    "coeff_df_moisture_FT02B"
   ]
  },
  {
   "cell_type": "code",
   "execution_count": 73,
   "metadata": {},
   "outputs": [],
   "source": [
    "#parameter for Mg and moisture expanded\n",
    "df_B_param_forLM_mg_moisture = FT02B[['B_N2DRY',\n",
    "       'B_CWP_1', 'B_CWP_2', 'B_FILT_T', 'B_MANF_P', 'B_CWSH1', 'B_CWSH2',\n",
    "       'B_PRESS1_t', 'B_PRESS2_t', 'B_PU26B_OP', 'B_PU27B_OP','MS_B_Pb_spcl', 'MS_B_Zn_spcl', 'MS_B_Cu_spcl',\n",
    "       'MS_B_Ni_spcl', 'MS_B_Co_spcl', 'MS_B_Fe_spcl', 'MS_B_Mn_spcl',\n",
    "       'MS_B_Cr_spcl', 'MS_B_Ca_spcl', 'MS_B_Si_spcl', 'MS_B_Al_spcl',\n",
    "       'MS_B_S_spcl','MS_B_PS_10D_spcl',\n",
    "       'MS_B_PS_50D_spcl', 'MS_B_PS_90D_spcl', 'MS_B_PS_mean_v_spcl',\n",
    "       'MS_B_PS_stdev_spcl']]\n",
    "#Computing for coeff for Moisture\n",
    "import numpy as np\n",
    "from matplotlib import pyplot as plt\n",
    "from sklearn.model_selection import train_test_split\n",
    "X1 = df_B_param_forLM_mg_moisture.dropna()\n",
    "y1 = FT02B['MS_B_moisture_spcl'].dropna()\n",
    "X1_train, X1_test, y1_train, y1_test = train_test_split(X1, y1, test_size=0.40, random_state=101)\n",
    "\n",
    "from sklearn.linear_model import LinearRegression\n",
    "lm2 = LinearRegression()\n",
    "lm2.fit(X1_train,y1_train)\n",
    "\n",
    "coeff_df_moisture_FT02B = pd.DataFrame(zip(lm2.coef_, X1.columns), columns=['LM_coef_Moist','FT02B_Param'])"
   ]
  },
  {
   "cell_type": "code",
   "execution_count": 77,
   "metadata": {},
   "outputs": [],
   "source": [
    "coeff_df_moisture_FT02B.to_excel(r'C:\\Users\\v.t.flores\\Documents\\106FT02B_LM_coef_moisture_expndd.xlsx')"
   ]
  },
  {
   "cell_type": "code",
   "execution_count": 64,
   "metadata": {},
   "outputs": [],
   "source": [
    "#save the lm.coeff Mg to Documents\n",
    "coeff_df_Mg_FT02B.to_excel(r'C:\\Users\\v.t.flores\\Documents\\106FT02B_LM_coef_Mg.xlsx')"
   ]
  },
  {
   "cell_type": "markdown",
   "metadata": {},
   "source": [
    " Preparing Dataframe for Rescaling"
   ]
  },
  {
   "cell_type": "code",
   "execution_count": 213,
   "metadata": {},
   "outputs": [],
   "source": [
    "df_A_param_forLM_for_rescale = df_Cycle_LabRes_2_ffillna[['A_N2DRY', 'A_CWP_1',\n",
    "       'A_CWP_2', 'A_FILT_T', 'A_MANF_P', 'A_CWSH1', 'A_CWSH2', 'A_PRESS1_t',\n",
    "       'A_PRESS2_t',\n",
    "       'MS_A_Al_spcl','MS_A_Mg_spcl','MS_A_moisture_spcl',\n",
    "       'MS_A_PS_10D_spcl',\n",
    "       'MS_A_PS_50D_spcl', 'MS_A_PS_90D_spcl', 'MS_A_PS_mean_v_spcl',\n",
    "       'MS_A_PS_stdev_spcl']]"
   ]
  },
  {
   "cell_type": "markdown",
   "metadata": {},
   "source": [
    "Rescaling"
   ]
  },
  {
   "cell_type": "code",
   "execution_count": 261,
   "metadata": {},
   "outputs": [],
   "source": [
    "import pandas\n",
    "import scipy\n",
    "import numpy\n",
    "from sklearn.preprocessing import MinMaxScaler\n",
    "\n",
    "X = df_A_param_forLM_for_rescale.dropna()\n",
    "# transofrm data\n",
    "scaler = MinMaxScaler(feature_range=(0, 1))\n",
    "rescaledX = scaler.fit_transform(X)\n",
    "df_rescale = pd.DataFrame(data=rescaledX,    # values\n",
    "index=X.index,    # 1st column as index\n",
    "columns=X.columns)  # 1st row as the column names"
   ]
  },
  {
   "cell_type": "markdown",
   "metadata": {},
   "source": [
    "Standardizing"
   ]
  },
  {
   "cell_type": "code",
   "execution_count": 262,
   "metadata": {},
   "outputs": [],
   "source": [
    "# Standardize data (0 mean, 1 stdev)\n",
    "from sklearn.preprocessing import StandardScaler\n",
    "import pandas\n",
    "import numpy\n",
    "\n",
    "X_std = df_A_param_forLM_for_rescale.dropna()\n",
    "\n",
    "# scaler\n",
    "scaler = StandardScaler().fit(X_std)\n",
    "rescaledX_stnd = scaler.transform(X_std)\n",
    "\n",
    "df_rescaledX_std = pd.DataFrame(data=rescaledX_stnd,    # values\n",
    "index=X_std.index,    # 1st column as index\n",
    "columns=X_std.columns)  # 1st r"
   ]
  },
  {
   "cell_type": "markdown",
   "metadata": {},
   "source": [
    "Normalizing data"
   ]
  },
  {
   "cell_type": "code",
   "execution_count": 263,
   "metadata": {},
   "outputs": [],
   "source": [
    "# Normalize values\n",
    "from sklearn.preprocessing import Normalizer\n",
    "import pandas\n",
    "import numpy\n",
    "\n",
    "X_norm = df_A_param_forLM_for_rescale.dropna()\n",
    "\n",
    "# normalize values\n",
    "scaler = Normalizer().fit(X_norm)\n",
    "normalizedX = scaler.transform(X_norm)\n",
    "\n",
    "df_normalizedX = pd.DataFrame(data=normalizedX,    # values\n",
    "index=X_norm.index,    # 1st column as index\n",
    "columns=X_norm.columns)  # 1st r"
   ]
  },
  {
   "cell_type": "markdown",
   "metadata": {},
   "source": [
    "Applying Linear Reg"
   ]
  },
  {
   "cell_type": "code",
   "execution_count": 229,
   "metadata": {},
   "outputs": [
    {
     "data": {
      "text/plain": [
       "LinearRegression(copy_X=True, fit_intercept=True, n_jobs=None, normalize=False)"
      ]
     },
     "execution_count": 229,
     "metadata": {},
     "output_type": "execute_result"
    }
   ],
   "source": [
    "#Linear Linear Regression moisture_scpl using Rescaled Data\n",
    "X1 = df_rescale[['A_N2DRY', 'A_CWP_1',\n",
    "       'A_CWP_2', 'A_FILT_T', 'A_MANF_P', 'A_CWSH1', 'A_CWSH2', 'A_PRESS1_t',\n",
    "       'A_PRESS2_t',\n",
    "       'MS_A_Al_spcl',\n",
    "       'MS_A_PS_10D_spcl',\n",
    "       'MS_A_PS_50D_spcl', 'MS_A_PS_90D_spcl', 'MS_A_PS_mean_v_spcl',\n",
    "       'MS_A_PS_stdev_spcl']]\n",
    "y1 = df_rescale['MS_A_moisture_spcl']\n",
    "X1_train, X1_test, y1_train, y1_test = train_test_split(X1, y1, test_size=0.33, random_state=42)\n",
    "from sklearn.linear_model import LinearRegression\n",
    "lm1 = LinearRegression()\n",
    "lm1.fit(X1_train,y1_train)"
   ]
  },
  {
   "cell_type": "code",
   "execution_count": 230,
   "metadata": {},
   "outputs": [
    {
     "data": {
      "text/plain": [
       "LinearRegression(copy_X=True, fit_intercept=True, n_jobs=None, normalize=False)"
      ]
     },
     "execution_count": 230,
     "metadata": {},
     "output_type": "execute_result"
    }
   ],
   "source": [
    "#Linear Linear Regression Mg_scpl using Rescaled Data\n",
    "X = df_rescale[['A_N2DRY', 'A_CWP_1',\n",
    "       'A_CWP_2', 'A_FILT_T', 'A_MANF_P', 'A_CWSH1', 'A_CWSH2', 'A_PRESS1_t',\n",
    "       'A_PRESS2_t',\n",
    "       'MS_A_Al_spcl',\n",
    "       'MS_A_PS_10D_spcl',\n",
    "       'MS_A_PS_50D_spcl', 'MS_A_PS_90D_spcl', 'MS_A_PS_mean_v_spcl',\n",
    "       'MS_A_PS_stdev_spcl']]\n",
    "y = df_rescale['MS_A_Mg_spcl']\n",
    "X_train, X_test, y_train, y_test = train_test_split(X, y, test_size=0.33, random_state=42)\n",
    "from sklearn.linear_model import LinearRegression\n",
    "lm = LinearRegression()\n",
    "lm.fit(X_train,y_train)"
   ]
  },
  {
   "cell_type": "code",
   "execution_count": 239,
   "metadata": {},
   "outputs": [
    {
     "data": {
      "text/plain": [
       "LinearRegression(copy_X=True, fit_intercept=True, n_jobs=None, normalize=False)"
      ]
     },
     "execution_count": 239,
     "metadata": {},
     "output_type": "execute_result"
    }
   ],
   "source": [
    "#Linear Linear Regression Mg_scpl using Standardized Data\n",
    "X_lm_std = df_rescaledX_std[['A_N2DRY', 'A_CWP_1',\n",
    "       'A_CWP_2', 'A_FILT_T', 'A_MANF_P', 'A_CWSH1', 'A_CWSH2', 'A_PRESS1_t',\n",
    "       'A_PRESS2_t',\n",
    "       'MS_A_Al_spcl',\n",
    "       'MS_A_PS_10D_spcl',\n",
    "       'MS_A_PS_50D_spcl', 'MS_A_PS_90D_spcl', 'MS_A_PS_mean_v_spcl',\n",
    "       'MS_A_PS_stdev_spcl']]\n",
    "y_lm_std = df_rescaledX_std['MS_A_Mg_spcl']\n",
    "X_lm_std_train, X_lm_std_test, y_lm_std_train, y_lm_std_test = train_test_split(X_lm_std, y_lm_std, test_size=0.33, random_state=42)\n",
    "from sklearn.linear_model import LinearRegression\n",
    "lm_std = LinearRegression()\n",
    "lm_std.fit(X_lm_std_train,y_lm_std_train)"
   ]
  },
  {
   "cell_type": "code",
   "execution_count": null,
   "metadata": {},
   "outputs": [],
   "source": [
    "#Linear Linear Regression Moisture using Standardized Data\n",
    "X_lm_std2 = df_rescaledX_std[['A_N2DRY', 'A_CWP_1',\n",
    "       'A_CWP_2', 'A_FILT_T', 'A_MANF_P', 'A_CWSH1', 'A_CWSH2', 'A_PRESS1_t',\n",
    "       'A_PRESS2_t',\n",
    "       'MS_A_Al_spcl',\n",
    "       'MS_A_PS_10D_spcl',\n",
    "       'MS_A_PS_50D_spcl', 'MS_A_PS_90D_spcl', 'MS_A_PS_mean_v_spcl',\n",
    "       'MS_A_PS_stdev_spcl']]\n",
    "y_lm_std2 = df_rescaledX_std['MS_A_moisture_spcl'].dropna()\n",
    "X_lm_std2_train, X_lm_std2_test, y_lm_std2_train, y_lm_std2_test = train_test_split(X_lm_std2, y_lm_std2, test_size=0.33, random_state=42)\n",
    "from sklearn.linear_model import LinearRegression\n",
    "lm_std2 = LinearRegression()\n",
    "lm_std2.fit(X_lm_std2_train,y_lm_std2_train)"
   ]
  },
  {
   "cell_type": "code",
   "execution_count": null,
   "metadata": {},
   "outputs": [],
   "source": [
    "#Linear Linear Regression Mg using Nomralized Data\n",
    "X_lm_norm = df_normalizedX[['A_N2DRY', 'A_CWP_1',\n",
    "       'A_CWP_2', 'A_FILT_T', 'A_MANF_P', 'A_CWSH1', 'A_CWSH2', 'A_PRESS1_t',\n",
    "       'A_PRESS2_t',\n",
    "       'MS_A_Al_spcl',\n",
    "       'MS_A_PS_10D_spcl',\n",
    "       'MS_A_PS_50D_spcl', 'MS_A_PS_90D_spcl', 'MS_A_PS_mean_v_spcl',\n",
    "       'MS_A_PS_stdev_spcl']]\n",
    "y_lm_norm = df_normalizedX['MS_A_moisture_spcl']\n",
    "X_lm_norm_train, X_lm_norm_test, y_lm_norm_train, y_lm_norm_test = train_test_split(X_lm_norm, y_lm_norm, test_size=0.33, random_state=42)\n",
    "from sklearn.linear_model import LinearRegression\n",
    "lm_norm = LinearRegression()\n",
    "lm_norm.fit(X_lm_norm_train,y_lm_norm_train)"
   ]
  },
  {
   "cell_type": "code",
   "execution_count": 265,
   "metadata": {
    "scrolled": true
   },
   "outputs": [
    {
     "data": {
      "text/plain": [
       "LinearRegression(copy_X=True, fit_intercept=True, n_jobs=None, normalize=False)"
      ]
     },
     "execution_count": 265,
     "metadata": {},
     "output_type": "execute_result"
    }
   ],
   "source": [
    "#Linear Linear Regression Moisture using Nomralized Data\n",
    "X_lm_norm_mg = df_normalizedX[['A_N2DRY', 'A_CWP_1',\n",
    "       'A_CWP_2', 'A_FILT_T', 'A_MANF_P', 'A_CWSH1', 'A_CWSH2', 'A_PRESS1_t',\n",
    "       'A_PRESS2_t',\n",
    "       'MS_A_Al_spcl',\n",
    "       'MS_A_PS_10D_spcl',\n",
    "       'MS_A_PS_50D_spcl', 'MS_A_PS_90D_spcl', 'MS_A_PS_mean_v_spcl',\n",
    "       'MS_A_PS_stdev_spcl']]\n",
    "y_lm_norm_mg = df_normalizedX['MS_A_Mg_spcl']\n",
    "X_lm_norm_mg_train, X_lm_norm_mg_test, y_lm_norm_mg_train, y_lm_norm_mg_test = train_test_split(X_lm_norm_mg, y_lm_norm_mg, test_size=0.33, random_state=42)\n",
    "from sklearn.linear_model import LinearRegression\n",
    "lm_norm_mg = LinearRegression()\n",
    "lm_norm_mg.fit(X_lm_norm_mg_train,y_lm_norm_mg_train)"
   ]
  },
  {
   "cell_type": "code",
   "execution_count": 333,
   "metadata": {},
   "outputs": [],
   "source": [
    "#lm1 is moisture coef_rescale\n",
    "coeff_df_moisture_rescale = pd.DataFrame(zip(lm1.coef_, X.columns), columns=['LM_coef_Moist_rescaled','FT02A_Param'])\n",
    "#coeff_df_moisture_rescale"
   ]
  },
  {
   "cell_type": "code",
   "execution_count": 272,
   "metadata": {},
   "outputs": [],
   "source": [
    "#lm is Mg coef_rescale\n",
    "coeff_df_Mg = pd.DataFrame(zip(lm.coef_, X.columns), columns=['LM_coef_Mg_rescaled','FT02A_Param'])\n",
    "#coeff_df_Mg"
   ]
  },
  {
   "cell_type": "code",
   "execution_count": 273,
   "metadata": {},
   "outputs": [],
   "source": [
    "#lm_std is for Mg_std\n",
    "coeff_df_Mg_std = pd.DataFrame(zip(lm_std.coef_, X.columns), columns=['LM_coef_Mg_std','FT02A_Param'])"
   ]
  },
  {
   "cell_type": "code",
   "execution_count": 274,
   "metadata": {},
   "outputs": [],
   "source": [
    "#lm_std is for Moisture_std\n",
    "coeff_df_Moisture_std = pd.DataFrame(zip(lm_std2.coef_, X.columns), columns=['LM_coef_Moist_std','FT02A_Param'])"
   ]
  },
  {
   "cell_type": "code",
   "execution_count": 275,
   "metadata": {},
   "outputs": [],
   "source": [
    "#lm_std is for moisture_norm\n",
    "coeff_df_moisture_norm = pd.DataFrame(zip(lm_norm.coef_, X.columns), columns=['LM_coef_moist_norm','FT02A_Param'])"
   ]
  },
  {
   "cell_type": "code",
   "execution_count": 276,
   "metadata": {},
   "outputs": [],
   "source": [
    "#lm_std is for Mg_norm\n",
    "coeff_df_Mg_norm = pd.DataFrame(zip(lm_norm_mg.coef_, X.columns), columns=['LM_coef_Mg_norm','FT02A_Param'])"
   ]
  },
  {
   "cell_type": "code",
   "execution_count": 306,
   "metadata": {
    "scrolled": true
   },
   "outputs": [],
   "source": [
    "#combining Mg_coeff to one DF\n",
    "df_Mg_combi = coeff_df_Mg_norm.drop('FT02A_Param', axis=1).join(coeff_df_Mg_std, how='outer').join(coeff_df_Mg.drop('FT02A_Param', axis=1), how='outer')\n",
    "df_Mg_combi = df_Mg_combi.reindex(columns=['FT02A_Param','LM_coef_Mg_norm','LM_coef_Mg_std','LM_coef_Mg_rescaled'])"
   ]
  },
  {
   "cell_type": "code",
   "execution_count": 330,
   "metadata": {},
   "outputs": [],
   "source": [
    "#combining Moisture_coeff to one DF\n",
    "df_Moisture_combi = coeff_df_moisture_norm.drop('FT02A_Param', axis=1).join(coeff_df_Moisture_std, how='outer').join(coeff_df_moisture_rescale.drop('FT02A_Param', axis=1), how='outer')\n",
    "df_Moisture_combi = df_Moisture_combi.reindex(columns=['FT02A_Param','LM_coef_moist_norm','LM_coef_Moist_std','LM_coef_Moist_rescaled'])"
   ]
  },
  {
   "cell_type": "code",
   "execution_count": 176,
   "metadata": {},
   "outputs": [],
   "source": [
    "#reference for geeting the coeff\n",
    "coeff_df = pd.DataFrame(zip(lm.coef_, X.columns), columns=['LM_coefficients','FT02A_Param'])\n",
    "#coeff_df.to_excel(r'C:\\Users\\v.t.flores\\Documents\\20200120_LinearModCoef_Mg.xlsx')\n",
    "coeff_df.reindex(columns=['FT02A_Param','LM_coefficients']).to_excel(r'C:\\Users\\v.t.flores\\Documents\\20200120_LinearModCoef_Mg.xlsx')"
   ]
  },
  {
   "cell_type": "code",
   "execution_count": 189,
   "metadata": {},
   "outputs": [],
   "source": [
    "coeff_df2 = pd.DataFrame(zip(lm2.coef_, df_A_param_forLM.columns),  columns=['LM_coefficients','FT02A_Param'])\n",
    "coeff_df2.reindex(columns=['FT02A_Param','LM_coefficients'])\n",
    "coeff_df2.to_excel(r'C:\\Users\\v.t.flores\\Documents\\20200120_LinearModCoef_moisture.xlsx')"
   ]
  },
  {
   "cell_type": "code",
   "execution_count": null,
   "metadata": {},
   "outputs": [],
   "source": [
    "df_B_param_forLM = FT02B[['B_N2DRY', 'B_CWP_1',\n",
    "       'B_CWP_2', 'B_FILT_T', 'B_MANF_P', 'B_CWSH1', 'B_CWSH2', 'B_PRESS1_t',\n",
    "       'B_PRESS2_t',\n",
    "       'MS_B_Al_spcl',\n",
    "       'MS_B_PS_10D_spcl',\n",
    "       'MS_B_PS_50D_spcl', 'MS_B_PS_90D_spcl', 'MS_B_PS_mean_v_spcl',\n",
    "       'MS_B_PS_stdev_spcl']]"
   ]
  },
  {
   "cell_type": "code",
   "execution_count": 67,
   "metadata": {},
   "outputs": [],
   "source": [
    "FT02Bcorr = FT02B[['B_PU26B_CUR', 'B_PU27B_CUR', 'B_N2DRY',\n",
    "       'B_CWP_1', 'B_CWP_2', 'B_FILT_T', 'B_MANF_P', 'B_CWSH1', 'B_CWSH2',\n",
    "       'B_PRESS1_t', 'B_PRESS2_t', 'B_PU26B_OP', 'B_PU27B_OP','MS_B_Pb_spcl', 'MS_B_Zn_spcl', 'MS_B_Cu_spcl',\n",
    "       'MS_B_Ni_spcl', 'MS_B_Co_spcl', 'MS_B_Fe_spcl', 'MS_B_Mn_spcl',\n",
    "       'MS_B_Cr_spcl', 'MS_B_Ca_spcl', 'MS_B_Si_spcl', 'MS_B_Al_spcl',\n",
    "       'MS_B_Mg_spcl', 'MS_B_S_spcl', 'MS_B_moisture_spcl', 'MS_B_PS_10D_spcl',\n",
    "       'MS_B_PS_50D_spcl', 'MS_B_PS_90D_spcl', 'MS_B_PS_mean_v_spcl',\n",
    "       'MS_B_PS_stdev_spcl']]"
   ]
  },
  {
   "cell_type": "code",
   "execution_count": 69,
   "metadata": {},
   "outputs": [],
   "source": [
    "FT02Bcorr.corr().to_excel(r'C:\\Users\\v.t.flores\\Documents\\FT02Bcorr.xlsx')"
   ]
  },
  {
   "cell_type": "code",
   "execution_count": 42,
   "metadata": {},
   "outputs": [],
   "source": [
    "FT02A.describe().to_excel(r'C:\\Users\\v.t.flores\\Documents\\FT02A_describe.xlsx')"
   ]
  },
  {
   "cell_type": "code",
   "execution_count": null,
   "metadata": {},
   "outputs": [],
   "source": []
  }
 ],
 "metadata": {
  "kernelspec": {
   "display_name": "Python 3",
   "language": "python",
   "name": "python3"
  },
  "language_info": {
   "codemirror_mode": {
    "name": "ipython",
    "version": 3
   },
   "file_extension": ".py",
   "mimetype": "text/x-python",
   "name": "python",
   "nbconvert_exporter": "python",
   "pygments_lexer": "ipython3",
   "version": "3.7.4"
  }
 },
 "nbformat": 4,
 "nbformat_minor": 2
}
