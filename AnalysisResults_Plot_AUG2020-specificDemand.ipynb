{
 "cells": [
  {
   "cell_type": "markdown",
   "metadata": {},
   "source": [
    "# Create an InterActive Graph of NTRL Lab Analysis Results"
   ]
  },
  {
   "cell_type": "code",
   "execution_count": 5,
   "metadata": {},
   "outputs": [],
   "source": [
    "#import libraries\n",
    "import pandas as pd\n",
    "import numpy as np\n",
    "import matplotlib.pyplot as plt\n",
    "%matplotlib inline\n",
    "from dateutil.parser import parse\n",
    "from itertools import compress\n",
    "from collections import OrderedDict\n",
    "from datetime import date\n",
    "import datetime\n",
    "import re\n",
    "from datetime import timedelta\n",
    "import openpyxl\n",
    "#from sklearn.metrics import mean_squared_error\n",
    "import plotly.express as px\n",
    "\n",
    "import plotly.graph_objects as go\n",
    "from plotly.subplots import make_subplots\n",
    "# Create figure with secondary y-axis"
   ]
  },
  {
   "cell_type": "code",
   "execution_count": 75,
   "metadata": {},
   "outputs": [],
   "source": [
    "#used in the analysis results data. cleans up the sampling time entry\n",
    "def time_cleaner(x):\n",
    "    time_regex = re.compile(r'[0-8a-zA-Z:]', re.IGNORECASE| re.VERBOSE|re.DOTALL)\n",
    "    timeact = time_regex.findall(x)\n",
    "    newtime = ''.join(timeact)\n",
    "    t = parse(x)\n",
    "    new_str_time = str(t.hour)+':'+str(t.minute)+':'+str(t.second)\n",
    "    return new_str_time\n",
    "\n",
    "def generate_df_from_analysis(workbookTab, col_sampleDate, col_sampleTime, col_analysis, col_title):\n",
    "    #get the start and end sample dates\n",
    "    Smpl_day_index = list()\n",
    "    Chem_Element_datelist = list()\n",
    "    Chem_Element_list = list()\n",
    "    Smpl_day_index = list()\n",
    "    Chem_Element_datelist = list()\n",
    "    Chem_Element_list = list()\n",
    "    plus_oneday_list = ['0:0:0', '1:0:0', '2:0:0', '3:0:0', '4:0:0', '5:0:0']\n",
    "    #gets the date day from the B column of the analysis file if there is value in the cell\n",
    "    for i in range(1, workbookTab.max_row):\n",
    "        if type(workbookTab[str(col_sampleDate) + str(i)].value) == int or type(workbookTab[str(col_sampleDate) + str(i)].value) == float:\n",
    "            Smpl_day_index.append(i)\n",
    "    #get the ending row that has date day\n",
    "    for j in range(1, workbookTab.max_row):\n",
    "        if type(workbookTab[str(col_sampleTime) + str(j)].value) == datetime.datetime:\n",
    "            smpl_end_index = j\n",
    "    for y in range(0, len(Smpl_day_index)):\n",
    "        if Smpl_day_index[y] != Smpl_day_index[-1]:      \n",
    "            for x in range(Smpl_day_index[y], Smpl_day_index[y+1]):\n",
    "                if workbookTab[str(col_analysis)+str(x)].value is None: \n",
    "                    pass\n",
    "                else:\n",
    "                    if time_cleaner(str(workbookTab[str(col_sampleTime)+str(x)].value)) in plus_oneday_list:\n",
    "                        date = str((currentmonthyr)+datetime.timedelta(workbookTab[str(col_sampleDate)+str(Smpl_day_index[y])].value))\\\n",
    "                        +' '+time_cleaner(str(workbookTab[str(col_sampleTime)+str(x)].value))\n",
    "                        Chem_Element_datelist.append(parse(date))  \n",
    "                        chem_element = workbookTab[str(col_analysis)+str(x)].value\n",
    "                        Chem_Element_list.append(chem_element)\n",
    "                    else:\n",
    "                        date = str((currentmonthyr)-datetime.timedelta(1)+datetime.timedelta(workbookTab[str(col_sampleDate)+str(Smpl_day_index[y])].value))\\\n",
    "                        +' '+time_cleaner(str(workbookTab[str(col_sampleTime)+str(x)].value))\n",
    "                        Chem_Element_datelist.append(parse(date))  \n",
    "                        chem_element = workbookTab[str(col_analysis)+str(x)].value\n",
    "                        Chem_Element_list.append(chem_element)\n",
    "\n",
    "        if Smpl_day_index[y] == Smpl_day_index[-1]:\n",
    "            for x in range(Smpl_day_index[y], smpl_end_index+1):\n",
    "                if workbookTab[str(col_analysis)+str(x)].value is None:   \n",
    "                    pass\n",
    "                else:\n",
    "                    if time_cleaner(str(workbookTab[str(col_sampleTime)+str(x)].value)) in plus_oneday_list:\n",
    "                        date = str((currentmonthyr)+datetime.timedelta(workbookTab[str(col_sampleDate)+str(Smpl_day_index[y])].value))\\\n",
    "                        +' '+time_cleaner(str(workbookTab[str(col_sampleTime)+str(x)].value))\n",
    "                        Chem_Element_datelist.append(parse(date))\n",
    "                        chem_element = workbookTab[str(col_analysis)+str(x)].value\n",
    "                        Chem_Element_list.append(chem_element)\n",
    "                    else:\n",
    "                        date = str((currentmonthyr)-datetime.timedelta(1)+datetime.timedelta(workbookTab[str(col_sampleDate)+str(Smpl_day_index[y])].value))\\\n",
    "                        +' '+time_cleaner(str(workbookTab[str(col_sampleTime)+str(x)].value))\n",
    "                        Chem_Element_datelist.append(parse(date))\n",
    "                        chem_element = workbookTab[str(col_analysis)+str(x)].value\n",
    "                        Chem_Element_list.append(chem_element)\n",
    "\n",
    "    Chem_Element_list_pair = list(zip(Chem_Element_list, Chem_Element_datelist[0:]))\n",
    "    Chem_Element_df = pd.DataFrame(Chem_Element_list_pair)\n",
    "    Chem_Element_df.columns = [col_title, 'DATETIME'] ##check if list title is updated\n",
    "    Chem_Element_df.set_index('DATETIME', inplace=True)\n",
    "\n",
    "    return Chem_Element_df\n",
    "\n",
    "def generate_add_trace(figname, df_elemental, axis_bool):\n",
    "    colname = df_elemental.columns[0]\n",
    "    figname.add_trace(go.Scatter(x=df_elemental.index, y=df_elemental[colname], name=colname), secondary_y=axis_bool,)\n",
    "#---------------------------------------\n",
    "class LabResults():\n",
    "    def __init__(self, monthyear, filePath):\n",
    "        #____monthyear format examle is datetime.date(2020,7,1)\n",
    "        #____filepath example is '\\\\thgobna001\\userdata\\THPAL\\...\\ANALYSIS RESULTS 2020\\7) July _2020.xlsx'\n",
    "        #____add r' at the start of the filepath to apply the regex that allows the use of the filepath as raw\n",
    "        #____sef.workbook is the uploaded excel workbook of the entire analysis files so it takes time to load\n",
    "        #____Create an instance of the workbook by giving it a varible name with the sample format: Jan_2020\n",
    "        \n",
    "        import openpyxl\n",
    "        import io\n",
    "        with open(filePath, \"rb\") as f:\n",
    "            in_mem_file = io.BytesIO(f.read())\n",
    "        \n",
    "        self.workbook = openpyxl.load_workbook(in_mem_file, data_only=True)\n",
    "        self.monthyear = monthyear   \n",
    "        \n",
    "    def generate_df_from_analysis(self, tabname, list_lab_index):\n",
    "        #____tabname is a string type name of the tab in the laboratory analysis excel file.\n",
    "        #____-------Example tabnames: '104PU01', '105TK03', '106TK01'\n",
    "        #____-------Inside these tabs are the specific analysis results done on the sample taken from the 'tabname' area .\n",
    "        #____list_lab_index is a list with the sample format is: ['B', 'C', 'E', '104_Pb']\n",
    "        #____-------the first letter 'B' is the column letter where the day of the month is written as integers 1,2,3..30\n",
    "        #____-------the second letter 'C' is the column letter where the sampling time is written; e.g. '7:00:00 AM'\n",
    "        #____-------the third letter 'E' is the column where the results of the specific analysis are listed\n",
    "        #____-------the last item in the list is the string you'll use as the new title; e.g. '104_Pb'\n",
    "        \n",
    "        workbookTab = self.workbook[tabname]\n",
    "        self.list_lab_index = list_lab_index\n",
    "        col_sampleDate = self.list_lab_index[0]\n",
    "        col_sampleTime = self.list_lab_index[1]\n",
    "        col_analysis = self.list_lab_index[2]\n",
    "        col_title = self.list_lab_index[3]\n",
    "        currentmonthyr = self.monthyear\n",
    "        \n",
    "        #get the start and end sample dates\n",
    "        Smpl_day_index = list()\n",
    "        Chem_Element_datelist = list()\n",
    "        Chem_Element_list = list()\n",
    "        Smpl_day_index = list()\n",
    "        Chem_Element_datelist = list()\n",
    "        Chem_Element_list = list()\n",
    "        plus_oneday_list = ['0:0:0', '1:0:0', '2:0:0', '3:0:0', '4:0:0', '5:0:0']\n",
    "        #gets the date day from the B column of the analysis file if there is value in the cell\n",
    "        for i in range(1, workbookTab.max_row):\n",
    "            if type(workbookTab[str(col_sampleDate) + str(i)].value) == int or type(workbookTab[str(col_sampleDate) + str(i)].value) == float:\n",
    "                Smpl_day_index.append(i)\n",
    "        #get the ending row that has date day\n",
    "        for j in range(1, workbookTab.max_row):\n",
    "            if type(workbookTab[str(col_sampleTime) + str(j)].value) == datetime.datetime:\n",
    "                smpl_end_index = j\n",
    "        for y in range(0, len(Smpl_day_index)):\n",
    "            if Smpl_day_index[y] != Smpl_day_index[-1]:      \n",
    "                for x in range(Smpl_day_index[y], Smpl_day_index[y+1]):\n",
    "                    if workbookTab[str(col_analysis)+str(x)].value is None: \n",
    "                        pass\n",
    "                    else:\n",
    "                        if time_cleaner(str(workbookTab[str(col_sampleTime)+str(x)].value)) in plus_oneday_list:\n",
    "                            date = str((currentmonthyr)+datetime.timedelta(workbookTab[str(col_sampleDate)+str(Smpl_day_index[y])].value))\\\n",
    "                            +' '+time_cleaner(str(workbookTab[str(col_sampleTime)+str(x)].value))\n",
    "                            Chem_Element_datelist.append(parse(date))  \n",
    "                            chem_element = workbookTab[str(col_analysis)+str(x)].value\n",
    "                            Chem_Element_list.append(chem_element)\n",
    "                        else:\n",
    "                            date = str((currentmonthyr)-datetime.timedelta(1)+datetime.timedelta(workbookTab[str(col_sampleDate)+str(Smpl_day_index[y])].value))\\\n",
    "                            +' '+time_cleaner(str(workbookTab[str(col_sampleTime)+str(x)].value))\n",
    "                            Chem_Element_datelist.append(parse(date))  \n",
    "                            chem_element = workbookTab[str(col_analysis)+str(x)].value\n",
    "                            Chem_Element_list.append(chem_element)\n",
    "\n",
    "            if Smpl_day_index[y] == Smpl_day_index[-1]:\n",
    "                for x in range(Smpl_day_index[y], smpl_end_index+1):\n",
    "                    if workbookTab[str(col_analysis)+str(x)].value is None:   \n",
    "                        pass\n",
    "                    else:\n",
    "                        if time_cleaner(str(workbookTab[str(col_sampleTime)+str(x)].value)) in plus_oneday_list:\n",
    "                            date = str((currentmonthyr)+datetime.timedelta(workbookTab[str(col_sampleDate)+str(Smpl_day_index[y])].value))\\\n",
    "                            +' '+time_cleaner(str(workbookTab[str(col_sampleTime)+str(x)].value))\n",
    "                            Chem_Element_datelist.append(parse(date))\n",
    "                            chem_element = workbookTab[str(col_analysis)+str(x)].value\n",
    "                            Chem_Element_list.append(chem_element)\n",
    "                        else:\n",
    "                            date = str((currentmonthyr)-datetime.timedelta(1)+datetime.timedelta(workbookTab[str(col_sampleDate)+str(Smpl_day_index[y])].value))\\\n",
    "                            +' '+time_cleaner(str(workbookTab[str(col_sampleTime)+str(x)].value))\n",
    "                            Chem_Element_datelist.append(parse(date))\n",
    "                            chem_element = workbookTab[str(col_analysis)+str(x)].value\n",
    "                            Chem_Element_list.append(chem_element)\n",
    "\n",
    "        Chem_Element_list_pair = list(zip(Chem_Element_list, Chem_Element_datelist[0:]))\n",
    "        Chem_Element_df = pd.DataFrame(Chem_Element_list_pair)\n",
    "        Chem_Element_df.columns = [col_title, 'DATETIME'] ##check if list title is updated\n",
    "        Chem_Element_df.set_index('DATETIME', inplace=True)\n",
    "\n",
    "        return Chem_Element_df\n",
    "    \n",
    "def join_DF(dfsList1):\n",
    "    df = dfsList1[0]\n",
    "    for i in range(1,len(dfsList1)):\n",
    "        df = df.join(dfsList1[i], how='outer')\n",
    "    return df\n",
    "\n",
    "def append_monthsDF(dfsListmonthly): #takes the list of dataframes from monthly lab results of one sampling area\n",
    "    df = dfsListmonthly[0]\n",
    "    for i in range(1,len(dfsListmonthly)):\n",
    "        df = df.append(dfsListmonthly[i], ignore_index=True)\n",
    "    return df    \n",
    "def generate_combined_df_by_month(month_WB, sample_area, analysis_type):\n",
    "    df_List = []\n",
    "    for i in analysis_type:\n",
    "        df_analysis = month_WB.generate_df_from_analysis(sample_area, i)\n",
    "        df_List.append(df_analysis)\n",
    "    for i in df_List:\n",
    "        df = join_DF(df_List)\n",
    "    return df\n",
    "\n",
    "\n",
    "\n",
    "#----------------------------------------------------End-----------------------------------------------------------------\n",
    "#\n",
    "#  make_df_for_each_FT01_by_month_then_export_excel: This function exports the \n",
    "def make_df_for_each_FT01_by_month(monthLabRes, analysis_type_FT01AtoF_list):\n",
    "    #month_ = LabResults(currentmonthyr_list[monthNumber-1], filepath_list[monthNumber-1])\n",
    "    letters = 'ABCDEF'\n",
    "    FT01_DF_list_by_filter = []\n",
    "    for i in range(0,6):\n",
    "        FT01_ = generate_combined_df_by_month(monthLabRes, '105FT01', analysis_type_FT01AtoF_list[i])\n",
    "        FT01_.columns = [letters[i]+'_Zn',\n",
    "                         letters[i]+'_ntu',\n",
    "                         letters[i]+'_Zn_dr']\n",
    "        FT01_DF_list_by_filter.append(FT01_)\n",
    "    return join_DF(FT01_DF_list_by_filter)    \n",
    "\n",
    "#--------------------------------------------------End-------------------------------------------------------------------\n",
    "#\n",
    "#\n",
    "def generate_plot_from_df(figname, df,df_axis_truefalse_list):\n",
    "    for i in range(0, len(df.columns)):\n",
    "        colname = df.columns[i]\n",
    "        figname.add_trace(go.Scatter(x=df[colname].index, y=df[colname], name=colname), secondary_y=df_axis_truefalse_list[i],)\n",
    "#\n",
    "#\n",
    "#--------------------------------------------------------------End-----------------------------------------------------------------------"
   ]
  },
  {
   "cell_type": "code",
   "execution_count": 35,
   "metadata": {},
   "outputs": [
    {
     "name": "stderr",
     "output_type": "stream",
     "text": [
      "C:\\ProgramData\\Anaconda3\\lib\\site-packages\\openpyxl\\worksheet\\_reader.py:296: UserWarning: Data Validation extension is not supported and will be removed\n",
      "  warn(msg)\n",
      "C:\\ProgramData\\Anaconda3\\lib\\site-packages\\openpyxl\\reader\\drawings.py:59: UserWarning: wmf image format is not supported so the image is being dropped\n",
      "  warn(msg)\n"
     ]
    },
    {
     "name": "stdout",
     "output_type": "stream",
     "text": [
      "Done 2020-08-08 14:33:09.770336\n"
     ]
    }
   ],
   "source": [
    "yesterday = '07'\n",
    "wb1 = openpyxl.load_workbook(r'\\\\THGOBNA002\\thpal\\05 Production\\302 Management - Report\\本部長報告資料\\Daily Specific Demand control 2020\\202008\\Daily specific demand trend(2020_8_{}).xlsx'.format(yesterday), data_only=True)\n",
    "#Drop the row[1]\n",
    "#####This block of code appends the Analysis Results from \n",
    "Basic_unit = wb1['原単位']\n",
    "Slakedlime_rxn_eff = wb1['消石灰反応効率']\n",
    "\n",
    "#update for the targetmonth\n",
    "currentmonthyr = datetime.date(2020,8,1)\n",
    "print('Done', datetime.datetime.now())"
   ]
  },
  {
   "cell_type": "code",
   "execution_count": 83,
   "metadata": {},
   "outputs": [],
   "source": [
    "\n",
    "def get_Chem_con(workbook, index, index_row_start,  index_row_end, column, chem_row_start, chem_row_end, title):\n",
    "    datelist = []\n",
    "    Chemical_con = []\n",
    "    for y in range(chem_row_start, chem_row_end+1):\n",
    "        \n",
    "        chem = workbook[str(column)+str(y)].value\n",
    "        Chemical_con.append(chem)\n",
    "    for i in range(index_row_start, index_row_end+1):\n",
    "        \n",
    "        Index_date = workbook[str(index)+str(i)].value\n",
    "        datelist.append(parse(str(Index_date)))\n",
    "        \n",
    "\n",
    "    Chem_con_list_pair = list(zip(Chemical_con, datelist[0:]))    \n",
    "    Chem_con_df = pd.DataFrame(Chem_con_list_pair)    \n",
    "\n",
    "    Chem_con_df.columns = [title, 'DATETIME'] ##check if list title is updated\n",
    "    Chem_con_df.set_index('DATETIME', inplace=True)    \n",
    "    return Chem_con_df\n",
    "\n",
    "\n",
    "def get_Chem_con_2WB(workbook1, workbook2, index, index_row_start,  index_row_end, column, chem_row_start, chem_row_end, title):\n",
    "    datelist = []\n",
    "    Chemical_con = []\n",
    "    for y in range(chem_row_start, chem_row_end+1):\n",
    "        \n",
    "        chem = workbook2[str(column)+str(y)].value\n",
    "        Chemical_con.append(chem)\n",
    "    for i in range(index_row_start, index_row_end):\n",
    "        \n",
    "        Index_date = workbook1[str(index)+str(i)].value\n",
    "        datelist.append(parse(str(Index_date)))\n",
    "        \n",
    "\n",
    "    Chem_con_list_pair = list(zip(Chemical_con, datelist[0:]))    \n",
    "    Chem_con_df = pd.DataFrame(Chem_con_list_pair)    \n",
    "\n",
    "    Chem_con_df.columns = [title, 'DATETIME'] ##check if list title is updated\n",
    "    Chem_con_df.set_index('DATETIME', inplace=True)    \n",
    "    return Chem_con_df"
   ]
  },
  {
   "cell_type": "code",
   "execution_count": 84,
   "metadata": {},
   "outputs": [],
   "source": [
    "def join_DF(dfsList1):\n",
    "    df = dfsList1[0]\n",
    "    for i in range(1,len(dfsList1)):\n",
    "        df = df.join(dfsList1[i], how='outer')\n",
    "    return df"
   ]
  },
  {
   "cell_type": "code",
   "execution_count": null,
   "metadata": {},
   "outputs": [],
   "source": []
  },
  {
   "cell_type": "code",
   "execution_count": 85,
   "metadata": {},
   "outputs": [],
   "source": [
    "# DFs for Limestone SD actual consumption graph\n",
    "\n",
    "wic014_df = get_Chem_con(Basic_unit, 'O', 9, 39, 'AW', 9, 39, 'WIC014')\n",
    "wic006_df = get_Chem_con(Basic_unit, 'O', 9, 39, 'Q', 9, 39, 'WIC006')\n",
    "flowratebase_df = get_Chem_con_2WB(Basic_unit, Slakedlime_rxn_eff, 'O', 9, 39, 'AK', 44, 74, 'Flowrate_base')\n",
    "LS_SD_budget_df = get_Chem_con(Basic_unit, 'O', 9, 39, 'C', 86, 115, 'LS_SD_budget')\n",
    "\n",
    "LS_wic_df = join_DF([wic014_df, wic006_df, \n",
    "                     flowratebase_df, LS_SD_budget_df])\n",
    "\n",
    "# DFs for Limestone SD area consumption graph\n",
    "ls_pre_neut_df = get_Chem_con(Basic_unit, 'O', 9, 39, 'R', 9, 39, 'PRE_NEUT')\n",
    "ls_pre_coal_df = get_Chem_con(Basic_unit, 'O', 9, 39, 'BE', 9, 39, 'coal')\n",
    "ls_pre_Fneut_df = get_Chem_con(Basic_unit, 'O', 9, 39, 'S', 9, 39, 'F_NEUT')\n",
    "\n",
    "\n",
    "ls_budget_pre_neut_ntrl_df = get_Chem_con(Basic_unit, 'O', 9, 39, 'D', 9, 39, 'LS_Budget_PRE_NEUT_NTRL')\n",
    "ls_budget_Fneut_df = get_Chem_con(Basic_unit, 'O', 9, 39, 'E', 9, 39, 'LS_Budget_FNTRL')\n",
    "\n",
    "LS_per_areaUsage_df = join_DF([ls_pre_neut_df,\n",
    "                               ls_pre_coal_df,\n",
    "                               ls_pre_Fneut_df,\n",
    "                               ls_budget_pre_neut_ntrl_df,\n",
    "                               ls_budget_Fneut_df])\n",
    "\n",
    "# DFs for Slakedlime SD graph\n",
    "SL_dilRatio_Fneut_df = get_Chem_con(Slakedlime_rxn_eff, 'A', 44, 74, 'X', 44, 74, 'S/L_dil_Ratio')\n",
    "SL_Actual_Fneut_df = get_Chem_con(Basic_unit, 'O', 9, 39, 'V', 9, 39, 'S/L_actual_F_NEUT')\n",
    "SL_Budget_Fneut_df = get_Chem_con(Basic_unit, 'B', 86, 116, 'G', 86, 116, 'S/L_budget_F_NEUT')\n",
    "\n",
    "SL_fneut_df = join_DF([SL_dilRatio_Fneut_df,\n",
    "                       SL_Actual_Fneut_df,\n",
    "                       SL_Budget_Fneut_df])"
   ]
  },
  {
   "cell_type": "code",
   "execution_count": 86,
   "metadata": {},
   "outputs": [],
   "source": [
    "# DFs for Slaked lime efficiency graph\n",
    "\n",
    "SL_rxn_eff_Budget_df = get_Chem_con(Basic_unit, 'B', 86, 116, 'H', 86, 116, 'S/L_Rxn_eff_budget')\n",
    "SL_SD_Mg_df = get_Chem_con(Slakedlime_rxn_eff, 'A', 44, 74, 'AC', 44, 74, 'S/L_SD_Mg')\n",
    "\n",
    "SL_rxn_eff_df = get_Chem_con(Slakedlime_rxn_eff, 'A', 44, 74, 'B', 44, 74, 'S/L_rxn_eff')\n",
    "\n",
    "SL_SD_others_df = get_Chem_con(Slakedlime_rxn_eff, 'A', 44, 74, 'AG', 44, 74, 'S/L_SD_others')\n",
    "SL_SD_Mn_df = get_Chem_con(Slakedlime_rxn_eff, 'A', 44, 74, 'AG', 44, 74, 'S/L_SD_Mn')\n",
    "\n",
    "SL_SD_Fe_df = get_Chem_con(Slakedlime_rxn_eff, 'A', 44, 74, 'AE', 44, 74, 'S/L_SD_Fe')\n",
    "\n",
    "SL_rxn_eff_df = join_DF([SL_rxn_eff_Budget_df,\n",
    "                         SL_SD_Mg_df,\n",
    "                         SL_rxn_eff_df,\n",
    "                         SL_SD_others_df,\n",
    "                         SL_SD_Mn_df,\n",
    "                         SL_SD_Fe_df])\n"
   ]
  },
  {
   "cell_type": "code",
   "execution_count": 87,
   "metadata": {},
   "outputs": [],
   "source": [
    "# DFs for NaOH\n",
    "\n",
    "NaOH_SD_act_df = get_Chem_con(Basic_unit, 'O', 9, 39, 'AP', 9, 39, 'NaOH_SD_actual_consumption')\n",
    "NaOH_SD_budget_df = get_Chem_con(Basic_unit, 'B', 86, 116, 'SS', 86, 116, 'NaOH_SD_budget')\n",
    "\n",
    "NaSH_031_molpermol_df = get_Chem_con(Basic_unit, 'B', 86, 116, 'T', 86, 116, 'NaSH_0.31_molpermol')\n",
    "NaOH_SD_MSrxtr_df = get_Chem_con(Basic_unit, 'O', 9, 39, 'AS', 9, 39, 'NaOH_SD_MSrxtr')\n",
    "\n",
    "NaOH_SD_MS_sr_df = get_Chem_con(Basic_unit, 'O', 9, 39, 'AQ', 9, 39, 'NaOH_SD_MS_Scrubber')\n",
    "\n",
    "NaOH_SD_H2S_sr_df = get_Chem_con(Basic_unit, 'O', 9, 39, 'AR', 9, 39, 'NaOH_SD_H2S_Scrubber')\n",
    "\n",
    "NaOH_SD_FNTRL_df = get_Chem_con(Basic_unit, 'O', 9, 39, 'AT', 9, 39, 'NaOH_SD_FNTRL')\n",
    "\n",
    "NaOH_SD_df = join_DF([NaOH_SD_act_df,\n",
    "                      NaOH_SD_budget_df,\n",
    "                      NaSH_031_molpermol_df,\n",
    "                      NaOH_SD_MSrxtr_df,\n",
    "                      NaOH_SD_MS_sr_df,\n",
    "                      NaOH_SD_H2S_sr_df,\n",
    "                      NaOH_SD_FNTRL_df])\n",
    "\n",
    "# DFs for H2SO4\n",
    "\n",
    "acid_SD_actHPAL_df = get_Chem_con(Basic_unit, 'O', 9, 39, 'Y', 9, 39, 'H2SO4_HPAL_actual')\n",
    "acid_SD_budgetHPAL_df = get_Chem_con(Basic_unit, 'B', 86, 116, 'K', 86, 116, 'H2SO4_SD_HPAL_budget')\n",
    "acid_SD_MSbudget_df = get_Chem_con(Basic_unit, 'B', 86, 116, 'L', 86, 116, 'H2SO4_SD_MS_budget')\n",
    "acid_SD_MSactual_df = get_Chem_con(Basic_unit, 'O', 9, 39, 'AQ', 9, 39, 'H2SO4_SD_MS_actual')\n",
    "\n",
    "acid_SD_df = join_DF([acid_SD_actHPAL_df,\n",
    "                     acid_SD_budgetHPAL_df,\n",
    "                     acid_SD_MSbudget_df,\n",
    "                     acid_SD_MSactual_df])\n"
   ]
  },
  {
   "cell_type": "code",
   "execution_count": 88,
   "metadata": {},
   "outputs": [],
   "source": [
    "# DFs for Ni throughput\n",
    "# use a modified function for this one\n",
    "# def get_Chem_con_2WB(workbook1, workbook2, index, index_row_start,  index_row_end, column, chem_row_start, chem_row_end, title):\n",
    "Ni_throughput_df = get_Chem_con_2WB(Basic_unit, Slakedlime_rxn_eff, 'O', 9, 39, 'AL', 44, 74, 'Ni_throughput')\n",
    "Ni_loss_DeZn_df = get_Chem_con_2WB(Basic_unit, Slakedlime_rxn_eff, 'O', 9, 39, 'AT', 44, 74, 'Ni_loss_DeZn')\n",
    "Ni_loss_HPAL_df = get_Chem_con_2WB(Basic_unit, Slakedlime_rxn_eff, 'O', 9, 39, 'AR', 44, 74, 'Ni_loss_HPAL')\n",
    "Ni_loss_CCD_df = get_Chem_con_2WB(Basic_unit, Slakedlime_rxn_eff, 'O', 9, 39, 'AS', 44, 74, 'Ni_loss_CCD')\n",
    "Ni_loss_BL_df = get_Chem_con_2WB(Basic_unit, Slakedlime_rxn_eff, 'O', 9, 39, 'AU', 44, 74, 'Ni_loss_BL')\n",
    "Ni_loss_TSS_df = get_Chem_con_2WB(Basic_unit, Slakedlime_rxn_eff, 'O', 9, 39, 'AV', 44, 74, 'Ni_loss_TSS')\n",
    "\n",
    "Ni_throughput_loss_df = join_DF([Ni_throughput_df,\n",
    "                                 Ni_loss_DeZn_df,\n",
    "                                 Ni_loss_HPAL_df,\n",
    "                                 Ni_loss_CCD_df,\n",
    "                                 Ni_loss_BL_df,\n",
    "                                 Ni_loss_TSS_df])"
   ]
  },
  {
   "cell_type": "code",
   "execution_count": 89,
   "metadata": {},
   "outputs": [],
   "source": [
    "# DFs for Flocc graph\n",
    "\n",
    "Flocc_total_df = get_Chem_con(Basic_unit, 'O', 9, 39, 'AG', 9, 39, 'SD_flocc_total')\n",
    "Floc_totalbudget_df = get_Chem_con(Basic_unit, 'O', 9, 39, 'N', 86, 116, 'Floc_(total)_budget')\n",
    "Floc_CCD_MS_df = get_Chem_con(Basic_unit, 'O', 9, 39, 'AF', 9, 39, 'Floc_(CCD_MS)')\n",
    "Kuri_per_PLS_df = get_Chem_con(Basic_unit, 'O', 9, 39, 'BI', 47, 77, 'Kurifix_per_PLS_ppm')\n",
    "Kurifix_SD_df = get_Chem_con(Basic_unit, 'O', 9, 39, 'AI', 9, 39, 'Kurifix_SD')\n",
    "Kurifix_SD_budget_df = get_Chem_con(Basic_unit, 'O', 9, 39, 'Q', 86, 116, 'Kurifix_SD_budget')\n",
    "Floc_CCD_MS_budget_df = get_Chem_con(Basic_unit, 'O', 9, 39, 'P', 86, 116, 'Floc_(CCD_MS)_budget')\n",
    "Floc_ORE_df = get_Chem_con(Basic_unit, 'O', 9, 39, 'AD', 9, 39, 'Floc_(ORE)')\n",
    "Floc_ORE_budget_df = get_Chem_con(Basic_unit, 'O', 9, 39, 'O', 86, 116, 'Floc_(ORE)_budget')\n",
    "\n",
    "Flocc_SD_df = join_DF([Flocc_total_df,\n",
    "                       Floc_totalbudget_df,\n",
    "                       Floc_CCD_MS_df,\n",
    "                       Kuri_per_PLS_df,\n",
    "                       Kurifix_SD_df,\n",
    "                       Kurifix_SD_budget_df,\n",
    "                       Floc_CCD_MS_budget_df,\n",
    "                       Floc_ORE_df,\n",
    "                       Floc_ORE_budget_df])"
   ]
  },
  {
   "cell_type": "code",
   "execution_count": 82,
   "metadata": {},
   "outputs": [
    {
     "data": {
      "text/html": [
       "<div>\n",
       "<style scoped>\n",
       "    .dataframe tbody tr th:only-of-type {\n",
       "        vertical-align: middle;\n",
       "    }\n",
       "\n",
       "    .dataframe tbody tr th {\n",
       "        vertical-align: top;\n",
       "    }\n",
       "\n",
       "    .dataframe thead th {\n",
       "        text-align: right;\n",
       "    }\n",
       "</style>\n",
       "<table border=\"1\" class=\"dataframe\">\n",
       "  <thead>\n",
       "    <tr style=\"text-align: right;\">\n",
       "      <th></th>\n",
       "      <th>Floc_(total)_budget</th>\n",
       "    </tr>\n",
       "    <tr>\n",
       "      <th>DATETIME</th>\n",
       "      <th></th>\n",
       "    </tr>\n",
       "  </thead>\n",
       "  <tbody>\n",
       "    <tr>\n",
       "      <td>2020-08-01 06:00:00</td>\n",
       "      <td>17.101613</td>\n",
       "    </tr>\n",
       "    <tr>\n",
       "      <td>2020-08-02 06:00:00</td>\n",
       "      <td>25.703413</td>\n",
       "    </tr>\n",
       "    <tr>\n",
       "      <td>2020-08-03 06:00:00</td>\n",
       "      <td>21.916395</td>\n",
       "    </tr>\n",
       "    <tr>\n",
       "      <td>2020-08-04 06:00:00</td>\n",
       "      <td>19.016256</td>\n",
       "    </tr>\n",
       "    <tr>\n",
       "      <td>2020-08-05 06:00:00</td>\n",
       "      <td>22.830729</td>\n",
       "    </tr>\n",
       "    <tr>\n",
       "      <td>2020-08-06 06:00:00</td>\n",
       "      <td>25.029704</td>\n",
       "    </tr>\n",
       "    <tr>\n",
       "      <td>2020-08-07 06:00:00</td>\n",
       "      <td>21.443355</td>\n",
       "    </tr>\n",
       "  </tbody>\n",
       "</table>\n",
       "</div>"
      ],
      "text/plain": [
       "                     Floc_(total)_budget\n",
       "DATETIME                                \n",
       "2020-08-01 06:00:00            17.101613\n",
       "2020-08-02 06:00:00            25.703413\n",
       "2020-08-03 06:00:00            21.916395\n",
       "2020-08-04 06:00:00            19.016256\n",
       "2020-08-05 06:00:00            22.830729\n",
       "2020-08-06 06:00:00            25.029704\n",
       "2020-08-07 06:00:00            21.443355"
      ]
     },
     "execution_count": 82,
     "metadata": {},
     "output_type": "execute_result"
    }
   ],
   "source": [
    "Floc_totalbudget_df.dropna()"
   ]
  },
  {
   "cell_type": "code",
   "execution_count": 123,
   "metadata": {},
   "outputs": [
    {
     "name": "stdout",
     "output_type": "stream",
     "text": [
      "Index(['SD_flocc_total', 'Floc_(total)_budget', 'Floc_(CCD_MS)',\n",
      "       'Kurifix_per_PLS_ppm', 'Kurifix_SD', 'Kurifix_SD_budget',\n",
      "       'Floc_(CCD_MS)_budget', 'Floc_(ORE)', 'Floc_(ORE)_budget',\n",
      "       'FlocTot_diff_budget'],\n",
      "      dtype='object')\n",
      "10\n"
     ]
    }
   ],
   "source": [
    "print(Flocc_SD_df.columns)\n",
    "print(len((Flocc_SD_df.columns)))"
   ]
  },
  {
   "cell_type": "code",
   "execution_count": 91,
   "metadata": {},
   "outputs": [
    {
     "data": {
      "text/html": [
       "<div>\n",
       "<style scoped>\n",
       "    .dataframe tbody tr th:only-of-type {\n",
       "        vertical-align: middle;\n",
       "    }\n",
       "\n",
       "    .dataframe tbody tr th {\n",
       "        vertical-align: top;\n",
       "    }\n",
       "\n",
       "    .dataframe thead th {\n",
       "        text-align: right;\n",
       "    }\n",
       "</style>\n",
       "<table border=\"1\" class=\"dataframe\">\n",
       "  <thead>\n",
       "    <tr style=\"text-align: right;\">\n",
       "      <th></th>\n",
       "      <th>SD_flocc_total</th>\n",
       "      <th>Floc_(total)_budget</th>\n",
       "      <th>Floc_(CCD_MS)</th>\n",
       "      <th>Kurifix_per_PLS_ppm</th>\n",
       "      <th>Kurifix_SD</th>\n",
       "      <th>Kurifix_SD_budget</th>\n",
       "      <th>Floc_(CCD_MS)_budget</th>\n",
       "      <th>Floc_(ORE)</th>\n",
       "      <th>Floc_(ORE)_budget</th>\n",
       "    </tr>\n",
       "    <tr>\n",
       "      <th>DATETIME</th>\n",
       "      <th></th>\n",
       "      <th></th>\n",
       "      <th></th>\n",
       "      <th></th>\n",
       "      <th></th>\n",
       "      <th></th>\n",
       "      <th></th>\n",
       "      <th></th>\n",
       "      <th></th>\n",
       "    </tr>\n",
       "  </thead>\n",
       "  <tbody>\n",
       "    <tr>\n",
       "      <td>2020-08-01 06:00:00</td>\n",
       "      <td>0.050853</td>\n",
       "      <td>0.04019</td>\n",
       "      <td>0.033877</td>\n",
       "      <td>65.543</td>\n",
       "      <td>0.023545</td>\n",
       "      <td>0.019</td>\n",
       "      <td>0.016</td>\n",
       "      <td>0.016976</td>\n",
       "      <td>0.012</td>\n",
       "    </tr>\n",
       "    <tr>\n",
       "      <td>2020-08-02 06:00:00</td>\n",
       "      <td>0.048610</td>\n",
       "      <td>0.04019</td>\n",
       "      <td>0.030931</td>\n",
       "      <td>62.2817</td>\n",
       "      <td>0.023452</td>\n",
       "      <td>0.019</td>\n",
       "      <td>0.016</td>\n",
       "      <td>0.017679</td>\n",
       "      <td>0.012</td>\n",
       "    </tr>\n",
       "    <tr>\n",
       "      <td>2020-08-03 06:00:00</td>\n",
       "      <td>0.047554</td>\n",
       "      <td>0.04019</td>\n",
       "      <td>0.031165</td>\n",
       "      <td>59.4296</td>\n",
       "      <td>0.019572</td>\n",
       "      <td>0.019</td>\n",
       "      <td>0.016</td>\n",
       "      <td>0.016388</td>\n",
       "      <td>0.012</td>\n",
       "    </tr>\n",
       "    <tr>\n",
       "      <td>2020-08-04 06:00:00</td>\n",
       "      <td>0.050697</td>\n",
       "      <td>0.04019</td>\n",
       "      <td>0.035658</td>\n",
       "      <td>65.8334</td>\n",
       "      <td>0.022464</td>\n",
       "      <td>0.019</td>\n",
       "      <td>0.016</td>\n",
       "      <td>0.015040</td>\n",
       "      <td>0.012</td>\n",
       "    </tr>\n",
       "    <tr>\n",
       "      <td>2020-08-05 06:00:00</td>\n",
       "      <td>0.053096</td>\n",
       "      <td>0.04019</td>\n",
       "      <td>0.034477</td>\n",
       "      <td>68.8968</td>\n",
       "      <td>0.023112</td>\n",
       "      <td>0.019</td>\n",
       "      <td>0.016</td>\n",
       "      <td>0.018620</td>\n",
       "      <td>0.012</td>\n",
       "    </tr>\n",
       "    <tr>\n",
       "      <td>2020-08-06 06:00:00</td>\n",
       "      <td>0.060506</td>\n",
       "      <td>0.04019</td>\n",
       "      <td>0.039283</td>\n",
       "      <td>59.7194</td>\n",
       "      <td>0.020471</td>\n",
       "      <td>0.019</td>\n",
       "      <td>0.016</td>\n",
       "      <td>0.021224</td>\n",
       "      <td>0.012</td>\n",
       "    </tr>\n",
       "    <tr>\n",
       "      <td>2020-08-07 06:00:00</td>\n",
       "      <td>0.056968</td>\n",
       "      <td>0.04019</td>\n",
       "      <td>0.036692</td>\n",
       "      <td>59.7672</td>\n",
       "      <td>0.021823</td>\n",
       "      <td>0.019</td>\n",
       "      <td>0.016</td>\n",
       "      <td>0.020276</td>\n",
       "      <td>0.012</td>\n",
       "    </tr>\n",
       "  </tbody>\n",
       "</table>\n",
       "</div>"
      ],
      "text/plain": [
       "                     SD_flocc_total  Floc_(total)_budget  Floc_(CCD_MS)  \\\n",
       "DATETIME                                                                  \n",
       "2020-08-01 06:00:00        0.050853              0.04019       0.033877   \n",
       "2020-08-02 06:00:00        0.048610              0.04019       0.030931   \n",
       "2020-08-03 06:00:00        0.047554              0.04019       0.031165   \n",
       "2020-08-04 06:00:00        0.050697              0.04019       0.035658   \n",
       "2020-08-05 06:00:00        0.053096              0.04019       0.034477   \n",
       "2020-08-06 06:00:00        0.060506              0.04019       0.039283   \n",
       "2020-08-07 06:00:00        0.056968              0.04019       0.036692   \n",
       "\n",
       "                    Kurifix_per_PLS_ppm  Kurifix_SD  Kurifix_SD_budget  \\\n",
       "DATETIME                                                                 \n",
       "2020-08-01 06:00:00              65.543    0.023545              0.019   \n",
       "2020-08-02 06:00:00             62.2817    0.023452              0.019   \n",
       "2020-08-03 06:00:00             59.4296    0.019572              0.019   \n",
       "2020-08-04 06:00:00             65.8334    0.022464              0.019   \n",
       "2020-08-05 06:00:00             68.8968    0.023112              0.019   \n",
       "2020-08-06 06:00:00             59.7194    0.020471              0.019   \n",
       "2020-08-07 06:00:00             59.7672    0.021823              0.019   \n",
       "\n",
       "                     Floc_(CCD_MS)_budget  Floc_(ORE)  Floc_(ORE)_budget  \n",
       "DATETIME                                                                  \n",
       "2020-08-01 06:00:00                 0.016    0.016976              0.012  \n",
       "2020-08-02 06:00:00                 0.016    0.017679              0.012  \n",
       "2020-08-03 06:00:00                 0.016    0.016388              0.012  \n",
       "2020-08-04 06:00:00                 0.016    0.015040              0.012  \n",
       "2020-08-05 06:00:00                 0.016    0.018620              0.012  \n",
       "2020-08-06 06:00:00                 0.016    0.021224              0.012  \n",
       "2020-08-07 06:00:00                 0.016    0.020276              0.012  "
      ]
     },
     "execution_count": 91,
     "metadata": {},
     "output_type": "execute_result"
    }
   ],
   "source": [
    "Flocc_SD_df.dropna()"
   ]
  },
  {
   "cell_type": "code",
   "execution_count": 134,
   "metadata": {},
   "outputs": [],
   "source": [
    "#Flocc_SD_df\n",
    "#Ni_throughput_loss_df\n",
    "#acid_SD_df\n",
    "#NaOH_SD_df\n",
    "#SL_rxn_eff_df\n",
    "#LS_wic_df\n",
    "#LS_per_areaUsage_df\n",
    "#SL_fneut_df\n",
    "\n",
    "\n",
    "\n",
    "#----------------------------------------------------------------------  NTRL----------------------------------------------------------------------------\n",
    "#\n",
    "#\n",
    "figfloc = make_subplots(specs=[[{\"secondary_y\": True}]])\n",
    "figfloc_truefalse_list = [False, False, False, True, False,\n",
    "                               False, False, False, False, False]\n",
    "\n",
    "generate_plot_from_df(figfloc, Flocc_SD_df.dropna(), figfloc_truefalse_list)\n",
    "\n",
    "#title_plot = 'Zn Drop Trend InterActive \\n' + '\\n Updated as of: ' + str(datetime.datetime.now())\n",
    "t = datetime.datetime.now()\n",
    "title_plotfloc = \"<b>Flocc SD</b>\" + '<br>' + 'Updated as of:' + str(t.strftime(\"%m/%d/%Y %H:%M:%S\"))+'H'\n",
    "# Add figure title\n",
    "figfloc.update_layout(title_text=title_plotfloc,xaxis=dict(rangeslider=dict(visible = True),type='date'))\n",
    "# Set x-axis title\n",
    "figfloc.update_xaxes(title_text=\"DateTime\")\n",
    "# Set y-axes titles\n",
    "figfloc.update_yaxes(title_text=\"<b> </b>\", secondary_y=False)\n",
    "figfloc.update_yaxes(title_text=\"<b> </b>\", secondary_y=True)\n",
    "#\n",
    "#-------------------------------------------------------------------------End----------------------------------------------------------------------------\n",
    "#figfloc.add_trace(go.Bar(x=Flocc_SD_df.index, y=Flocc_SD_df['error'], name='error'), secondary_y=True)\n",
    "plt.close()\n",
    "\n"
   ]
  },
  {
   "cell_type": "code",
   "execution_count": 138,
   "metadata": {},
   "outputs": [
    {
     "data": {
      "text/plain": [
       "6"
      ]
     },
     "execution_count": 138,
     "metadata": {},
     "output_type": "execute_result"
    }
   ],
   "source": [
    "len(Ni_throughput_loss_df.columns)"
   ]
  },
  {
   "cell_type": "code",
   "execution_count": 139,
   "metadata": {},
   "outputs": [],
   "source": [
    "#----------------------------------------------------------------------  NTRL----------------------------------------------------------------------------\n",
    "#\n",
    "#Ni_throughput_loss_df\n",
    "figNi_throu = make_subplots(specs=[[{\"secondary_y\": True}]])\n",
    "figNi_truefalse = [False, False, False, False, False,\n",
    "                               False]\n",
    "\n",
    "generate_plot_from_df(figNi_throu, Ni_throughput_loss_df.dropna(), figNi_truefalse)\n",
    "\n",
    "#title_plot = 'Zn Drop Trend InterActive \\n' + '\\n Updated as of: ' + str(datetime.datetime.now())\n",
    "t = datetime.datetime.now()\n",
    "title_plotNi = \"<b>Ni through</b>\" + '<br>' + 'Updated as of:' + str(t.strftime(\"%m/%d/%Y %H:%M:%S\"))+'H'\n",
    "# Add figure title\n",
    "figNi_throu.update_layout(title_text=title_plotNi,xaxis=dict(rangeslider=dict(visible = True),type='date'))\n",
    "# Set x-axis title\n",
    "figNi_throu.update_xaxes(title_text=\"DateTime\")\n",
    "# Set y-axes titles\n",
    "figNi_throu.update_yaxes(title_text=\"<b> </b>\", secondary_y=False)\n",
    "figNi_throu.update_yaxes(title_text=\"<b> </b>\", secondary_y=True)\n",
    "#\n",
    "#-------------------------------------------------------------------------End----------------------------------------------------------------------------\n",
    "#figfloc.add_trace(go.Bar(x=Flocc_SD_df.index, y=Flocc_SD_df['error'], name='error'), secondary_y=True)\n",
    "plt.close()\n",
    "\n"
   ]
  },
  {
   "cell_type": "code",
   "execution_count": null,
   "metadata": {},
   "outputs": [],
   "source": []
  },
  {
   "cell_type": "code",
   "execution_count": 140,
   "metadata": {},
   "outputs": [
    {
     "data": {
      "application/vnd.plotly.v1+json": {
       "config": {
        "plotlyServerURL": "https://plot.ly"
       },
       "data": [
        {
         "name": "Ni_throughput",
         "type": "scatter",
         "x": [
          "2020-08-01T06:00:00",
          "2020-08-02T06:00:00",
          "2020-08-03T06:00:00",
          "2020-08-04T06:00:00",
          "2020-08-05T06:00:00",
          "2020-08-06T06:00:00",
          "2020-08-07T06:00:00"
         ],
         "xaxis": "x",
         "y": [
          11.587760502721952,
          13.36072550764817,
          10.874127772776353,
          11.606076620330972,
          11.402716837114017,
          10.7723157008862,
          11.72594947535554
         ],
         "yaxis": "y"
        },
        {
         "name": "Ni_loss_DeZn",
         "type": "scatter",
         "x": [
          "2020-08-01T06:00:00",
          "2020-08-02T06:00:00",
          "2020-08-03T06:00:00",
          "2020-08-04T06:00:00",
          "2020-08-05T06:00:00",
          "2020-08-06T06:00:00",
          "2020-08-07T06:00:00"
         ],
         "xaxis": "x",
         "y": [
          3.7046962668898717,
          1.1032468280747871,
          0.9852780421823696,
          0.9928899167411477,
          1.9129773421255352,
          2.123999073728745,
          1.12046631627496
         ],
         "yaxis": "y"
        },
        {
         "name": "Ni_loss_HPAL",
         "type": "scatter",
         "x": [
          "2020-08-01T06:00:00",
          "2020-08-02T06:00:00",
          "2020-08-03T06:00:00",
          "2020-08-04T06:00:00",
          "2020-08-05T06:00:00",
          "2020-08-06T06:00:00",
          "2020-08-07T06:00:00"
         ],
         "xaxis": "x",
         "y": [
          5.2658404404714805,
          4.975527092325021,
          5.0194542406981295,
          4.825960433852494,
          3.407252615119257,
          5.267943133576999,
          5.542026146678267
         ],
         "yaxis": "y"
        },
        {
         "name": "Ni_loss_CCD",
         "type": "scatter",
         "x": [
          "2020-08-01T06:00:00",
          "2020-08-02T06:00:00",
          "2020-08-03T06:00:00",
          "2020-08-04T06:00:00",
          "2020-08-05T06:00:00",
          "2020-08-06T06:00:00",
          "2020-08-07T06:00:00"
         ],
         "xaxis": "x",
         "y": [
          1.0370877991222223,
          1.2095317281661244,
          1.3649594270340422,
          1.0366072460200355,
          0.8463230664107313,
          0.7219300729936254,
          0.9072232323339301
         ],
         "yaxis": "y"
        },
        {
         "name": "Ni_loss_BL",
         "type": "scatter",
         "x": [
          "2020-08-01T06:00:00",
          "2020-08-02T06:00:00",
          "2020-08-03T06:00:00",
          "2020-08-04T06:00:00",
          "2020-08-05T06:00:00",
          "2020-08-06T06:00:00",
          "2020-08-07T06:00:00"
         ],
         "xaxis": "x",
         "y": [
          0.812341979635664,
          0.6037695443798564,
          0.8810728967919923,
          1.001858226498079,
          0.7377189060786298,
          0.5947962097818369,
          0.7566414906703445
         ],
         "yaxis": "y"
        },
        {
         "name": "Ni_loss_TSS",
         "type": "scatter",
         "x": [
          "2020-08-01T06:00:00",
          "2020-08-02T06:00:00",
          "2020-08-03T06:00:00",
          "2020-08-04T06:00:00",
          "2020-08-05T06:00:00",
          "2020-08-06T06:00:00",
          "2020-08-07T06:00:00"
         ],
         "xaxis": "x",
         "y": [
          0.18658614341485283,
          0.1485406727184802,
          0.2335783893396657,
          0.2535589553534702,
          0.23951951824306272,
          0.245873394106476,
          0.19612912086187606
         ],
         "yaxis": "y"
        }
       ],
       "layout": {
        "template": {
         "data": {
          "bar": [
           {
            "error_x": {
             "color": "#2a3f5f"
            },
            "error_y": {
             "color": "#2a3f5f"
            },
            "marker": {
             "line": {
              "color": "#E5ECF6",
              "width": 0.5
             }
            },
            "type": "bar"
           }
          ],
          "barpolar": [
           {
            "marker": {
             "line": {
              "color": "#E5ECF6",
              "width": 0.5
             }
            },
            "type": "barpolar"
           }
          ],
          "carpet": [
           {
            "aaxis": {
             "endlinecolor": "#2a3f5f",
             "gridcolor": "white",
             "linecolor": "white",
             "minorgridcolor": "white",
             "startlinecolor": "#2a3f5f"
            },
            "baxis": {
             "endlinecolor": "#2a3f5f",
             "gridcolor": "white",
             "linecolor": "white",
             "minorgridcolor": "white",
             "startlinecolor": "#2a3f5f"
            },
            "type": "carpet"
           }
          ],
          "choropleth": [
           {
            "colorbar": {
             "outlinewidth": 0,
             "ticks": ""
            },
            "type": "choropleth"
           }
          ],
          "contour": [
           {
            "colorbar": {
             "outlinewidth": 0,
             "ticks": ""
            },
            "colorscale": [
             [
              0,
              "#0d0887"
             ],
             [
              0.1111111111111111,
              "#46039f"
             ],
             [
              0.2222222222222222,
              "#7201a8"
             ],
             [
              0.3333333333333333,
              "#9c179e"
             ],
             [
              0.4444444444444444,
              "#bd3786"
             ],
             [
              0.5555555555555556,
              "#d8576b"
             ],
             [
              0.6666666666666666,
              "#ed7953"
             ],
             [
              0.7777777777777778,
              "#fb9f3a"
             ],
             [
              0.8888888888888888,
              "#fdca26"
             ],
             [
              1,
              "#f0f921"
             ]
            ],
            "type": "contour"
           }
          ],
          "contourcarpet": [
           {
            "colorbar": {
             "outlinewidth": 0,
             "ticks": ""
            },
            "type": "contourcarpet"
           }
          ],
          "heatmap": [
           {
            "colorbar": {
             "outlinewidth": 0,
             "ticks": ""
            },
            "colorscale": [
             [
              0,
              "#0d0887"
             ],
             [
              0.1111111111111111,
              "#46039f"
             ],
             [
              0.2222222222222222,
              "#7201a8"
             ],
             [
              0.3333333333333333,
              "#9c179e"
             ],
             [
              0.4444444444444444,
              "#bd3786"
             ],
             [
              0.5555555555555556,
              "#d8576b"
             ],
             [
              0.6666666666666666,
              "#ed7953"
             ],
             [
              0.7777777777777778,
              "#fb9f3a"
             ],
             [
              0.8888888888888888,
              "#fdca26"
             ],
             [
              1,
              "#f0f921"
             ]
            ],
            "type": "heatmap"
           }
          ],
          "heatmapgl": [
           {
            "colorbar": {
             "outlinewidth": 0,
             "ticks": ""
            },
            "colorscale": [
             [
              0,
              "#0d0887"
             ],
             [
              0.1111111111111111,
              "#46039f"
             ],
             [
              0.2222222222222222,
              "#7201a8"
             ],
             [
              0.3333333333333333,
              "#9c179e"
             ],
             [
              0.4444444444444444,
              "#bd3786"
             ],
             [
              0.5555555555555556,
              "#d8576b"
             ],
             [
              0.6666666666666666,
              "#ed7953"
             ],
             [
              0.7777777777777778,
              "#fb9f3a"
             ],
             [
              0.8888888888888888,
              "#fdca26"
             ],
             [
              1,
              "#f0f921"
             ]
            ],
            "type": "heatmapgl"
           }
          ],
          "histogram": [
           {
            "marker": {
             "colorbar": {
              "outlinewidth": 0,
              "ticks": ""
             }
            },
            "type": "histogram"
           }
          ],
          "histogram2d": [
           {
            "colorbar": {
             "outlinewidth": 0,
             "ticks": ""
            },
            "colorscale": [
             [
              0,
              "#0d0887"
             ],
             [
              0.1111111111111111,
              "#46039f"
             ],
             [
              0.2222222222222222,
              "#7201a8"
             ],
             [
              0.3333333333333333,
              "#9c179e"
             ],
             [
              0.4444444444444444,
              "#bd3786"
             ],
             [
              0.5555555555555556,
              "#d8576b"
             ],
             [
              0.6666666666666666,
              "#ed7953"
             ],
             [
              0.7777777777777778,
              "#fb9f3a"
             ],
             [
              0.8888888888888888,
              "#fdca26"
             ],
             [
              1,
              "#f0f921"
             ]
            ],
            "type": "histogram2d"
           }
          ],
          "histogram2dcontour": [
           {
            "colorbar": {
             "outlinewidth": 0,
             "ticks": ""
            },
            "colorscale": [
             [
              0,
              "#0d0887"
             ],
             [
              0.1111111111111111,
              "#46039f"
             ],
             [
              0.2222222222222222,
              "#7201a8"
             ],
             [
              0.3333333333333333,
              "#9c179e"
             ],
             [
              0.4444444444444444,
              "#bd3786"
             ],
             [
              0.5555555555555556,
              "#d8576b"
             ],
             [
              0.6666666666666666,
              "#ed7953"
             ],
             [
              0.7777777777777778,
              "#fb9f3a"
             ],
             [
              0.8888888888888888,
              "#fdca26"
             ],
             [
              1,
              "#f0f921"
             ]
            ],
            "type": "histogram2dcontour"
           }
          ],
          "mesh3d": [
           {
            "colorbar": {
             "outlinewidth": 0,
             "ticks": ""
            },
            "type": "mesh3d"
           }
          ],
          "parcoords": [
           {
            "line": {
             "colorbar": {
              "outlinewidth": 0,
              "ticks": ""
             }
            },
            "type": "parcoords"
           }
          ],
          "pie": [
           {
            "automargin": true,
            "type": "pie"
           }
          ],
          "scatter": [
           {
            "marker": {
             "colorbar": {
              "outlinewidth": 0,
              "ticks": ""
             }
            },
            "type": "scatter"
           }
          ],
          "scatter3d": [
           {
            "line": {
             "colorbar": {
              "outlinewidth": 0,
              "ticks": ""
             }
            },
            "marker": {
             "colorbar": {
              "outlinewidth": 0,
              "ticks": ""
             }
            },
            "type": "scatter3d"
           }
          ],
          "scattercarpet": [
           {
            "marker": {
             "colorbar": {
              "outlinewidth": 0,
              "ticks": ""
             }
            },
            "type": "scattercarpet"
           }
          ],
          "scattergeo": [
           {
            "marker": {
             "colorbar": {
              "outlinewidth": 0,
              "ticks": ""
             }
            },
            "type": "scattergeo"
           }
          ],
          "scattergl": [
           {
            "marker": {
             "colorbar": {
              "outlinewidth": 0,
              "ticks": ""
             }
            },
            "type": "scattergl"
           }
          ],
          "scattermapbox": [
           {
            "marker": {
             "colorbar": {
              "outlinewidth": 0,
              "ticks": ""
             }
            },
            "type": "scattermapbox"
           }
          ],
          "scatterpolar": [
           {
            "marker": {
             "colorbar": {
              "outlinewidth": 0,
              "ticks": ""
             }
            },
            "type": "scatterpolar"
           }
          ],
          "scatterpolargl": [
           {
            "marker": {
             "colorbar": {
              "outlinewidth": 0,
              "ticks": ""
             }
            },
            "type": "scatterpolargl"
           }
          ],
          "scatterternary": [
           {
            "marker": {
             "colorbar": {
              "outlinewidth": 0,
              "ticks": ""
             }
            },
            "type": "scatterternary"
           }
          ],
          "surface": [
           {
            "colorbar": {
             "outlinewidth": 0,
             "ticks": ""
            },
            "colorscale": [
             [
              0,
              "#0d0887"
             ],
             [
              0.1111111111111111,
              "#46039f"
             ],
             [
              0.2222222222222222,
              "#7201a8"
             ],
             [
              0.3333333333333333,
              "#9c179e"
             ],
             [
              0.4444444444444444,
              "#bd3786"
             ],
             [
              0.5555555555555556,
              "#d8576b"
             ],
             [
              0.6666666666666666,
              "#ed7953"
             ],
             [
              0.7777777777777778,
              "#fb9f3a"
             ],
             [
              0.8888888888888888,
              "#fdca26"
             ],
             [
              1,
              "#f0f921"
             ]
            ],
            "type": "surface"
           }
          ],
          "table": [
           {
            "cells": {
             "fill": {
              "color": "#EBF0F8"
             },
             "line": {
              "color": "white"
             }
            },
            "header": {
             "fill": {
              "color": "#C8D4E3"
             },
             "line": {
              "color": "white"
             }
            },
            "type": "table"
           }
          ]
         },
         "layout": {
          "annotationdefaults": {
           "arrowcolor": "#2a3f5f",
           "arrowhead": 0,
           "arrowwidth": 1
          },
          "coloraxis": {
           "colorbar": {
            "outlinewidth": 0,
            "ticks": ""
           }
          },
          "colorscale": {
           "diverging": [
            [
             0,
             "#8e0152"
            ],
            [
             0.1,
             "#c51b7d"
            ],
            [
             0.2,
             "#de77ae"
            ],
            [
             0.3,
             "#f1b6da"
            ],
            [
             0.4,
             "#fde0ef"
            ],
            [
             0.5,
             "#f7f7f7"
            ],
            [
             0.6,
             "#e6f5d0"
            ],
            [
             0.7,
             "#b8e186"
            ],
            [
             0.8,
             "#7fbc41"
            ],
            [
             0.9,
             "#4d9221"
            ],
            [
             1,
             "#276419"
            ]
           ],
           "sequential": [
            [
             0,
             "#0d0887"
            ],
            [
             0.1111111111111111,
             "#46039f"
            ],
            [
             0.2222222222222222,
             "#7201a8"
            ],
            [
             0.3333333333333333,
             "#9c179e"
            ],
            [
             0.4444444444444444,
             "#bd3786"
            ],
            [
             0.5555555555555556,
             "#d8576b"
            ],
            [
             0.6666666666666666,
             "#ed7953"
            ],
            [
             0.7777777777777778,
             "#fb9f3a"
            ],
            [
             0.8888888888888888,
             "#fdca26"
            ],
            [
             1,
             "#f0f921"
            ]
           ],
           "sequentialminus": [
            [
             0,
             "#0d0887"
            ],
            [
             0.1111111111111111,
             "#46039f"
            ],
            [
             0.2222222222222222,
             "#7201a8"
            ],
            [
             0.3333333333333333,
             "#9c179e"
            ],
            [
             0.4444444444444444,
             "#bd3786"
            ],
            [
             0.5555555555555556,
             "#d8576b"
            ],
            [
             0.6666666666666666,
             "#ed7953"
            ],
            [
             0.7777777777777778,
             "#fb9f3a"
            ],
            [
             0.8888888888888888,
             "#fdca26"
            ],
            [
             1,
             "#f0f921"
            ]
           ]
          },
          "colorway": [
           "#636efa",
           "#EF553B",
           "#00cc96",
           "#ab63fa",
           "#FFA15A",
           "#19d3f3",
           "#FF6692",
           "#B6E880",
           "#FF97FF",
           "#FECB52"
          ],
          "font": {
           "color": "#2a3f5f"
          },
          "geo": {
           "bgcolor": "white",
           "lakecolor": "white",
           "landcolor": "#E5ECF6",
           "showlakes": true,
           "showland": true,
           "subunitcolor": "white"
          },
          "hoverlabel": {
           "align": "left"
          },
          "hovermode": "closest",
          "mapbox": {
           "style": "light"
          },
          "paper_bgcolor": "white",
          "plot_bgcolor": "#E5ECF6",
          "polar": {
           "angularaxis": {
            "gridcolor": "white",
            "linecolor": "white",
            "ticks": ""
           },
           "bgcolor": "#E5ECF6",
           "radialaxis": {
            "gridcolor": "white",
            "linecolor": "white",
            "ticks": ""
           }
          },
          "scene": {
           "xaxis": {
            "backgroundcolor": "#E5ECF6",
            "gridcolor": "white",
            "gridwidth": 2,
            "linecolor": "white",
            "showbackground": true,
            "ticks": "",
            "zerolinecolor": "white"
           },
           "yaxis": {
            "backgroundcolor": "#E5ECF6",
            "gridcolor": "white",
            "gridwidth": 2,
            "linecolor": "white",
            "showbackground": true,
            "ticks": "",
            "zerolinecolor": "white"
           },
           "zaxis": {
            "backgroundcolor": "#E5ECF6",
            "gridcolor": "white",
            "gridwidth": 2,
            "linecolor": "white",
            "showbackground": true,
            "ticks": "",
            "zerolinecolor": "white"
           }
          },
          "shapedefaults": {
           "line": {
            "color": "#2a3f5f"
           }
          },
          "ternary": {
           "aaxis": {
            "gridcolor": "white",
            "linecolor": "white",
            "ticks": ""
           },
           "baxis": {
            "gridcolor": "white",
            "linecolor": "white",
            "ticks": ""
           },
           "bgcolor": "#E5ECF6",
           "caxis": {
            "gridcolor": "white",
            "linecolor": "white",
            "ticks": ""
           }
          },
          "title": {
           "x": 0.05
          },
          "xaxis": {
           "automargin": true,
           "gridcolor": "white",
           "linecolor": "white",
           "ticks": "",
           "title": {
            "standoff": 15
           },
           "zerolinecolor": "white",
           "zerolinewidth": 2
          },
          "yaxis": {
           "automargin": true,
           "gridcolor": "white",
           "linecolor": "white",
           "ticks": "",
           "title": {
            "standoff": 15
           },
           "zerolinecolor": "white",
           "zerolinewidth": 2
          }
         }
        },
        "title": {
         "text": "<b>Ni through</b><br>Updated as of:08/08/2020 18:13:07H"
        },
        "xaxis": {
         "anchor": "y",
         "domain": [
          0,
          0.94
         ],
         "rangeslider": {
          "visible": true
         },
         "title": {
          "text": "DateTime"
         },
         "type": "date"
        },
        "yaxis": {
         "anchor": "x",
         "domain": [
          0,
          1
         ],
         "title": {
          "text": "<b> </b>"
         }
        },
        "yaxis2": {
         "anchor": "x",
         "overlaying": "y",
         "side": "right",
         "title": {
          "text": "<b> </b>"
         }
        }
       }
      },
      "text/html": [
       "<div>\n",
       "        \n",
       "        \n",
       "            <div id=\"df663b76-62f5-4c61-bd3f-40448504275c\" class=\"plotly-graph-div\" style=\"height:525px; width:100%;\"></div>\n",
       "            <script type=\"text/javascript\">\n",
       "                require([\"plotly\"], function(Plotly) {\n",
       "                    window.PLOTLYENV=window.PLOTLYENV || {};\n",
       "                    \n",
       "                if (document.getElementById(\"df663b76-62f5-4c61-bd3f-40448504275c\")) {\n",
       "                    Plotly.newPlot(\n",
       "                        'df663b76-62f5-4c61-bd3f-40448504275c',\n",
       "                        [{\"name\": \"Ni_throughput\", \"type\": \"scatter\", \"x\": [\"2020-08-01T06:00:00\", \"2020-08-02T06:00:00\", \"2020-08-03T06:00:00\", \"2020-08-04T06:00:00\", \"2020-08-05T06:00:00\", \"2020-08-06T06:00:00\", \"2020-08-07T06:00:00\"], \"xaxis\": \"x\", \"y\": [11.587760502721952, 13.36072550764817, 10.874127772776353, 11.606076620330972, 11.402716837114017, 10.7723157008862, 11.72594947535554], \"yaxis\": \"y\"}, {\"name\": \"Ni_loss_DeZn\", \"type\": \"scatter\", \"x\": [\"2020-08-01T06:00:00\", \"2020-08-02T06:00:00\", \"2020-08-03T06:00:00\", \"2020-08-04T06:00:00\", \"2020-08-05T06:00:00\", \"2020-08-06T06:00:00\", \"2020-08-07T06:00:00\"], \"xaxis\": \"x\", \"y\": [3.7046962668898717, 1.1032468280747871, 0.9852780421823696, 0.9928899167411477, 1.9129773421255352, 2.123999073728745, 1.12046631627496], \"yaxis\": \"y\"}, {\"name\": \"Ni_loss_HPAL\", \"type\": \"scatter\", \"x\": [\"2020-08-01T06:00:00\", \"2020-08-02T06:00:00\", \"2020-08-03T06:00:00\", \"2020-08-04T06:00:00\", \"2020-08-05T06:00:00\", \"2020-08-06T06:00:00\", \"2020-08-07T06:00:00\"], \"xaxis\": \"x\", \"y\": [5.2658404404714805, 4.975527092325021, 5.0194542406981295, 4.825960433852494, 3.407252615119257, 5.267943133576999, 5.542026146678267], \"yaxis\": \"y\"}, {\"name\": \"Ni_loss_CCD\", \"type\": \"scatter\", \"x\": [\"2020-08-01T06:00:00\", \"2020-08-02T06:00:00\", \"2020-08-03T06:00:00\", \"2020-08-04T06:00:00\", \"2020-08-05T06:00:00\", \"2020-08-06T06:00:00\", \"2020-08-07T06:00:00\"], \"xaxis\": \"x\", \"y\": [1.0370877991222223, 1.2095317281661244, 1.3649594270340422, 1.0366072460200355, 0.8463230664107313, 0.7219300729936254, 0.9072232323339301], \"yaxis\": \"y\"}, {\"name\": \"Ni_loss_BL\", \"type\": \"scatter\", \"x\": [\"2020-08-01T06:00:00\", \"2020-08-02T06:00:00\", \"2020-08-03T06:00:00\", \"2020-08-04T06:00:00\", \"2020-08-05T06:00:00\", \"2020-08-06T06:00:00\", \"2020-08-07T06:00:00\"], \"xaxis\": \"x\", \"y\": [0.812341979635664, 0.6037695443798564, 0.8810728967919923, 1.001858226498079, 0.7377189060786298, 0.5947962097818369, 0.7566414906703445], \"yaxis\": \"y\"}, {\"name\": \"Ni_loss_TSS\", \"type\": \"scatter\", \"x\": [\"2020-08-01T06:00:00\", \"2020-08-02T06:00:00\", \"2020-08-03T06:00:00\", \"2020-08-04T06:00:00\", \"2020-08-05T06:00:00\", \"2020-08-06T06:00:00\", \"2020-08-07T06:00:00\"], \"xaxis\": \"x\", \"y\": [0.18658614341485283, 0.1485406727184802, 0.2335783893396657, 0.2535589553534702, 0.23951951824306272, 0.245873394106476, 0.19612912086187606], \"yaxis\": \"y\"}],\n",
       "                        {\"template\": {\"data\": {\"bar\": [{\"error_x\": {\"color\": \"#2a3f5f\"}, \"error_y\": {\"color\": \"#2a3f5f\"}, \"marker\": {\"line\": {\"color\": \"#E5ECF6\", \"width\": 0.5}}, \"type\": \"bar\"}], \"barpolar\": [{\"marker\": {\"line\": {\"color\": \"#E5ECF6\", \"width\": 0.5}}, \"type\": \"barpolar\"}], \"carpet\": [{\"aaxis\": {\"endlinecolor\": \"#2a3f5f\", \"gridcolor\": \"white\", \"linecolor\": \"white\", \"minorgridcolor\": \"white\", \"startlinecolor\": \"#2a3f5f\"}, \"baxis\": {\"endlinecolor\": \"#2a3f5f\", \"gridcolor\": \"white\", \"linecolor\": \"white\", \"minorgridcolor\": \"white\", \"startlinecolor\": \"#2a3f5f\"}, \"type\": \"carpet\"}], \"choropleth\": [{\"colorbar\": {\"outlinewidth\": 0, \"ticks\": \"\"}, \"type\": \"choropleth\"}], \"contour\": [{\"colorbar\": {\"outlinewidth\": 0, \"ticks\": \"\"}, \"colorscale\": [[0.0, \"#0d0887\"], [0.1111111111111111, \"#46039f\"], [0.2222222222222222, \"#7201a8\"], [0.3333333333333333, \"#9c179e\"], [0.4444444444444444, \"#bd3786\"], [0.5555555555555556, \"#d8576b\"], [0.6666666666666666, \"#ed7953\"], [0.7777777777777778, \"#fb9f3a\"], [0.8888888888888888, \"#fdca26\"], [1.0, \"#f0f921\"]], \"type\": \"contour\"}], \"contourcarpet\": [{\"colorbar\": {\"outlinewidth\": 0, \"ticks\": \"\"}, \"type\": \"contourcarpet\"}], \"heatmap\": [{\"colorbar\": {\"outlinewidth\": 0, \"ticks\": \"\"}, \"colorscale\": [[0.0, \"#0d0887\"], [0.1111111111111111, \"#46039f\"], [0.2222222222222222, \"#7201a8\"], [0.3333333333333333, \"#9c179e\"], [0.4444444444444444, \"#bd3786\"], [0.5555555555555556, \"#d8576b\"], [0.6666666666666666, \"#ed7953\"], [0.7777777777777778, \"#fb9f3a\"], [0.8888888888888888, \"#fdca26\"], [1.0, \"#f0f921\"]], \"type\": \"heatmap\"}], \"heatmapgl\": [{\"colorbar\": {\"outlinewidth\": 0, \"ticks\": \"\"}, \"colorscale\": [[0.0, \"#0d0887\"], [0.1111111111111111, \"#46039f\"], [0.2222222222222222, \"#7201a8\"], [0.3333333333333333, \"#9c179e\"], [0.4444444444444444, \"#bd3786\"], [0.5555555555555556, \"#d8576b\"], [0.6666666666666666, \"#ed7953\"], [0.7777777777777778, \"#fb9f3a\"], [0.8888888888888888, \"#fdca26\"], [1.0, \"#f0f921\"]], \"type\": \"heatmapgl\"}], \"histogram\": [{\"marker\": {\"colorbar\": {\"outlinewidth\": 0, \"ticks\": \"\"}}, \"type\": \"histogram\"}], \"histogram2d\": [{\"colorbar\": {\"outlinewidth\": 0, \"ticks\": \"\"}, \"colorscale\": [[0.0, \"#0d0887\"], [0.1111111111111111, \"#46039f\"], [0.2222222222222222, \"#7201a8\"], [0.3333333333333333, \"#9c179e\"], [0.4444444444444444, \"#bd3786\"], [0.5555555555555556, \"#d8576b\"], [0.6666666666666666, \"#ed7953\"], [0.7777777777777778, \"#fb9f3a\"], [0.8888888888888888, \"#fdca26\"], [1.0, \"#f0f921\"]], \"type\": \"histogram2d\"}], \"histogram2dcontour\": [{\"colorbar\": {\"outlinewidth\": 0, \"ticks\": \"\"}, \"colorscale\": [[0.0, \"#0d0887\"], [0.1111111111111111, \"#46039f\"], [0.2222222222222222, \"#7201a8\"], [0.3333333333333333, \"#9c179e\"], [0.4444444444444444, \"#bd3786\"], [0.5555555555555556, \"#d8576b\"], [0.6666666666666666, \"#ed7953\"], [0.7777777777777778, \"#fb9f3a\"], [0.8888888888888888, \"#fdca26\"], [1.0, \"#f0f921\"]], \"type\": \"histogram2dcontour\"}], \"mesh3d\": [{\"colorbar\": {\"outlinewidth\": 0, \"ticks\": \"\"}, \"type\": \"mesh3d\"}], \"parcoords\": [{\"line\": {\"colorbar\": {\"outlinewidth\": 0, \"ticks\": \"\"}}, \"type\": \"parcoords\"}], \"pie\": [{\"automargin\": true, \"type\": \"pie\"}], \"scatter\": [{\"marker\": {\"colorbar\": {\"outlinewidth\": 0, \"ticks\": \"\"}}, \"type\": \"scatter\"}], \"scatter3d\": [{\"line\": {\"colorbar\": {\"outlinewidth\": 0, \"ticks\": \"\"}}, \"marker\": {\"colorbar\": {\"outlinewidth\": 0, \"ticks\": \"\"}}, \"type\": \"scatter3d\"}], \"scattercarpet\": [{\"marker\": {\"colorbar\": {\"outlinewidth\": 0, \"ticks\": \"\"}}, \"type\": \"scattercarpet\"}], \"scattergeo\": [{\"marker\": {\"colorbar\": {\"outlinewidth\": 0, \"ticks\": \"\"}}, \"type\": \"scattergeo\"}], \"scattergl\": [{\"marker\": {\"colorbar\": {\"outlinewidth\": 0, \"ticks\": \"\"}}, \"type\": \"scattergl\"}], \"scattermapbox\": [{\"marker\": {\"colorbar\": {\"outlinewidth\": 0, \"ticks\": \"\"}}, \"type\": \"scattermapbox\"}], \"scatterpolar\": [{\"marker\": {\"colorbar\": {\"outlinewidth\": 0, \"ticks\": \"\"}}, \"type\": \"scatterpolar\"}], \"scatterpolargl\": [{\"marker\": {\"colorbar\": {\"outlinewidth\": 0, \"ticks\": \"\"}}, \"type\": \"scatterpolargl\"}], \"scatterternary\": [{\"marker\": {\"colorbar\": {\"outlinewidth\": 0, \"ticks\": \"\"}}, \"type\": \"scatterternary\"}], \"surface\": [{\"colorbar\": {\"outlinewidth\": 0, \"ticks\": \"\"}, \"colorscale\": [[0.0, \"#0d0887\"], [0.1111111111111111, \"#46039f\"], [0.2222222222222222, \"#7201a8\"], [0.3333333333333333, \"#9c179e\"], [0.4444444444444444, \"#bd3786\"], [0.5555555555555556, \"#d8576b\"], [0.6666666666666666, \"#ed7953\"], [0.7777777777777778, \"#fb9f3a\"], [0.8888888888888888, \"#fdca26\"], [1.0, \"#f0f921\"]], \"type\": \"surface\"}], \"table\": [{\"cells\": {\"fill\": {\"color\": \"#EBF0F8\"}, \"line\": {\"color\": \"white\"}}, \"header\": {\"fill\": {\"color\": \"#C8D4E3\"}, \"line\": {\"color\": \"white\"}}, \"type\": \"table\"}]}, \"layout\": {\"annotationdefaults\": {\"arrowcolor\": \"#2a3f5f\", \"arrowhead\": 0, \"arrowwidth\": 1}, \"coloraxis\": {\"colorbar\": {\"outlinewidth\": 0, \"ticks\": \"\"}}, \"colorscale\": {\"diverging\": [[0, \"#8e0152\"], [0.1, \"#c51b7d\"], [0.2, \"#de77ae\"], [0.3, \"#f1b6da\"], [0.4, \"#fde0ef\"], [0.5, \"#f7f7f7\"], [0.6, \"#e6f5d0\"], [0.7, \"#b8e186\"], [0.8, \"#7fbc41\"], [0.9, \"#4d9221\"], [1, \"#276419\"]], \"sequential\": [[0.0, \"#0d0887\"], [0.1111111111111111, \"#46039f\"], [0.2222222222222222, \"#7201a8\"], [0.3333333333333333, \"#9c179e\"], [0.4444444444444444, \"#bd3786\"], [0.5555555555555556, \"#d8576b\"], [0.6666666666666666, \"#ed7953\"], [0.7777777777777778, \"#fb9f3a\"], [0.8888888888888888, \"#fdca26\"], [1.0, \"#f0f921\"]], \"sequentialminus\": [[0.0, \"#0d0887\"], [0.1111111111111111, \"#46039f\"], [0.2222222222222222, \"#7201a8\"], [0.3333333333333333, \"#9c179e\"], [0.4444444444444444, \"#bd3786\"], [0.5555555555555556, \"#d8576b\"], [0.6666666666666666, \"#ed7953\"], [0.7777777777777778, \"#fb9f3a\"], [0.8888888888888888, \"#fdca26\"], [1.0, \"#f0f921\"]]}, \"colorway\": [\"#636efa\", \"#EF553B\", \"#00cc96\", \"#ab63fa\", \"#FFA15A\", \"#19d3f3\", \"#FF6692\", \"#B6E880\", \"#FF97FF\", \"#FECB52\"], \"font\": {\"color\": \"#2a3f5f\"}, \"geo\": {\"bgcolor\": \"white\", \"lakecolor\": \"white\", \"landcolor\": \"#E5ECF6\", \"showlakes\": true, \"showland\": true, \"subunitcolor\": \"white\"}, \"hoverlabel\": {\"align\": \"left\"}, \"hovermode\": \"closest\", \"mapbox\": {\"style\": \"light\"}, \"paper_bgcolor\": \"white\", \"plot_bgcolor\": \"#E5ECF6\", \"polar\": {\"angularaxis\": {\"gridcolor\": \"white\", \"linecolor\": \"white\", \"ticks\": \"\"}, \"bgcolor\": \"#E5ECF6\", \"radialaxis\": {\"gridcolor\": \"white\", \"linecolor\": \"white\", \"ticks\": \"\"}}, \"scene\": {\"xaxis\": {\"backgroundcolor\": \"#E5ECF6\", \"gridcolor\": \"white\", \"gridwidth\": 2, \"linecolor\": \"white\", \"showbackground\": true, \"ticks\": \"\", \"zerolinecolor\": \"white\"}, \"yaxis\": {\"backgroundcolor\": \"#E5ECF6\", \"gridcolor\": \"white\", \"gridwidth\": 2, \"linecolor\": \"white\", \"showbackground\": true, \"ticks\": \"\", \"zerolinecolor\": \"white\"}, \"zaxis\": {\"backgroundcolor\": \"#E5ECF6\", \"gridcolor\": \"white\", \"gridwidth\": 2, \"linecolor\": \"white\", \"showbackground\": true, \"ticks\": \"\", \"zerolinecolor\": \"white\"}}, \"shapedefaults\": {\"line\": {\"color\": \"#2a3f5f\"}}, \"ternary\": {\"aaxis\": {\"gridcolor\": \"white\", \"linecolor\": \"white\", \"ticks\": \"\"}, \"baxis\": {\"gridcolor\": \"white\", \"linecolor\": \"white\", \"ticks\": \"\"}, \"bgcolor\": \"#E5ECF6\", \"caxis\": {\"gridcolor\": \"white\", \"linecolor\": \"white\", \"ticks\": \"\"}}, \"title\": {\"x\": 0.05}, \"xaxis\": {\"automargin\": true, \"gridcolor\": \"white\", \"linecolor\": \"white\", \"ticks\": \"\", \"title\": {\"standoff\": 15}, \"zerolinecolor\": \"white\", \"zerolinewidth\": 2}, \"yaxis\": {\"automargin\": true, \"gridcolor\": \"white\", \"linecolor\": \"white\", \"ticks\": \"\", \"title\": {\"standoff\": 15}, \"zerolinecolor\": \"white\", \"zerolinewidth\": 2}}}, \"title\": {\"text\": \"<b>Ni through</b><br>Updated as of:08/08/2020 18:13:07H\"}, \"xaxis\": {\"anchor\": \"y\", \"domain\": [0.0, 0.94], \"rangeslider\": {\"visible\": true}, \"title\": {\"text\": \"DateTime\"}, \"type\": \"date\"}, \"yaxis\": {\"anchor\": \"x\", \"domain\": [0.0, 1.0], \"title\": {\"text\": \"<b> </b>\"}}, \"yaxis2\": {\"anchor\": \"x\", \"overlaying\": \"y\", \"side\": \"right\", \"title\": {\"text\": \"<b> </b>\"}}},\n",
       "                        {\"responsive\": true}\n",
       "                    ).then(function(){\n",
       "                            \n",
       "var gd = document.getElementById('df663b76-62f5-4c61-bd3f-40448504275c');\n",
       "var x = new MutationObserver(function (mutations, observer) {{\n",
       "        var display = window.getComputedStyle(gd).display;\n",
       "        if (!display || display === 'none') {{\n",
       "            console.log([gd, 'removed!']);\n",
       "            Plotly.purge(gd);\n",
       "            observer.disconnect();\n",
       "        }}\n",
       "}});\n",
       "\n",
       "// Listen for the removal of the full notebook cells\n",
       "var notebookContainer = gd.closest('#notebook-container');\n",
       "if (notebookContainer) {{\n",
       "    x.observe(notebookContainer, {childList: true});\n",
       "}}\n",
       "\n",
       "// Listen for the clearing of the current output cell\n",
       "var outputEl = gd.closest('.output');\n",
       "if (outputEl) {{\n",
       "    x.observe(outputEl, {childList: true});\n",
       "}}\n",
       "\n",
       "                        })\n",
       "                };\n",
       "                });\n",
       "            </script>\n",
       "        </div>"
      ]
     },
     "metadata": {},
     "output_type": "display_data"
    }
   ],
   "source": [
    "figNi_throu"
   ]
  },
  {
   "cell_type": "code",
   "execution_count": 105,
   "metadata": {},
   "outputs": [
    {
     "name": "stderr",
     "output_type": "stream",
     "text": [
      "C:\\ProgramData\\Anaconda3\\lib\\site-packages\\ipykernel_launcher.py:1: SettingWithCopyWarning:\n",
      "\n",
      "\n",
      "A value is trying to be set on a copy of a slice from a DataFrame.\n",
      "Try using .loc[row_indexer,col_indexer] = value instead\n",
      "\n",
      "See the caveats in the documentation: http://pandas.pydata.org/pandas-docs/stable/user_guide/indexing.html#returning-a-view-versus-a-copy\n",
      "\n"
     ]
    },
    {
     "data": {
      "text/html": [
       "<div>\n",
       "<style scoped>\n",
       "    .dataframe tbody tr th:only-of-type {\n",
       "        vertical-align: middle;\n",
       "    }\n",
       "\n",
       "    .dataframe tbody tr th {\n",
       "        vertical-align: top;\n",
       "    }\n",
       "\n",
       "    .dataframe thead th {\n",
       "        text-align: right;\n",
       "    }\n",
       "</style>\n",
       "<table border=\"1\" class=\"dataframe\">\n",
       "  <thead>\n",
       "    <tr style=\"text-align: right;\">\n",
       "      <th></th>\n",
       "      <th>SD_flocc_total</th>\n",
       "      <th>Floc_(total)_budget</th>\n",
       "      <th>Floc_(CCD_MS)</th>\n",
       "      <th>Kurifix_per_PLS_ppm</th>\n",
       "      <th>Kurifix_SD</th>\n",
       "      <th>Kurifix_SD_budget</th>\n",
       "      <th>Floc_(CCD_MS)_budget</th>\n",
       "      <th>Floc_(ORE)</th>\n",
       "      <th>Floc_(ORE)_budget</th>\n",
       "      <th>FlocTot_diff_budget</th>\n",
       "    </tr>\n",
       "    <tr>\n",
       "      <th>DATETIME</th>\n",
       "      <th></th>\n",
       "      <th></th>\n",
       "      <th></th>\n",
       "      <th></th>\n",
       "      <th></th>\n",
       "      <th></th>\n",
       "      <th></th>\n",
       "      <th></th>\n",
       "      <th></th>\n",
       "      <th></th>\n",
       "    </tr>\n",
       "  </thead>\n",
       "  <tbody>\n",
       "    <tr>\n",
       "      <td>2020-08-01 06:00:00</td>\n",
       "      <td>0.050853</td>\n",
       "      <td>0.04019</td>\n",
       "      <td>0.033877</td>\n",
       "      <td>65.543</td>\n",
       "      <td>0.023545</td>\n",
       "      <td>0.019</td>\n",
       "      <td>0.016</td>\n",
       "      <td>0.016976</td>\n",
       "      <td>0.012</td>\n",
       "      <td>-0.010662</td>\n",
       "    </tr>\n",
       "    <tr>\n",
       "      <td>2020-08-02 06:00:00</td>\n",
       "      <td>0.048610</td>\n",
       "      <td>0.04019</td>\n",
       "      <td>0.030931</td>\n",
       "      <td>62.2817</td>\n",
       "      <td>0.023452</td>\n",
       "      <td>0.019</td>\n",
       "      <td>0.016</td>\n",
       "      <td>0.017679</td>\n",
       "      <td>0.012</td>\n",
       "      <td>-0.008420</td>\n",
       "    </tr>\n",
       "    <tr>\n",
       "      <td>2020-08-03 06:00:00</td>\n",
       "      <td>0.047554</td>\n",
       "      <td>0.04019</td>\n",
       "      <td>0.031165</td>\n",
       "      <td>59.4296</td>\n",
       "      <td>0.019572</td>\n",
       "      <td>0.019</td>\n",
       "      <td>0.016</td>\n",
       "      <td>0.016388</td>\n",
       "      <td>0.012</td>\n",
       "      <td>-0.007363</td>\n",
       "    </tr>\n",
       "    <tr>\n",
       "      <td>2020-08-04 06:00:00</td>\n",
       "      <td>0.050697</td>\n",
       "      <td>0.04019</td>\n",
       "      <td>0.035658</td>\n",
       "      <td>65.8334</td>\n",
       "      <td>0.022464</td>\n",
       "      <td>0.019</td>\n",
       "      <td>0.016</td>\n",
       "      <td>0.015040</td>\n",
       "      <td>0.012</td>\n",
       "      <td>-0.010507</td>\n",
       "    </tr>\n",
       "    <tr>\n",
       "      <td>2020-08-05 06:00:00</td>\n",
       "      <td>0.053096</td>\n",
       "      <td>0.04019</td>\n",
       "      <td>0.034477</td>\n",
       "      <td>68.8968</td>\n",
       "      <td>0.023112</td>\n",
       "      <td>0.019</td>\n",
       "      <td>0.016</td>\n",
       "      <td>0.018620</td>\n",
       "      <td>0.012</td>\n",
       "      <td>-0.012906</td>\n",
       "    </tr>\n",
       "    <tr>\n",
       "      <td>2020-08-06 06:00:00</td>\n",
       "      <td>0.060506</td>\n",
       "      <td>0.04019</td>\n",
       "      <td>0.039283</td>\n",
       "      <td>59.7194</td>\n",
       "      <td>0.020471</td>\n",
       "      <td>0.019</td>\n",
       "      <td>0.016</td>\n",
       "      <td>0.021224</td>\n",
       "      <td>0.012</td>\n",
       "      <td>-0.020316</td>\n",
       "    </tr>\n",
       "    <tr>\n",
       "      <td>2020-08-07 06:00:00</td>\n",
       "      <td>0.056968</td>\n",
       "      <td>0.04019</td>\n",
       "      <td>0.036692</td>\n",
       "      <td>59.7672</td>\n",
       "      <td>0.021823</td>\n",
       "      <td>0.019</td>\n",
       "      <td>0.016</td>\n",
       "      <td>0.020276</td>\n",
       "      <td>0.012</td>\n",
       "      <td>-0.016777</td>\n",
       "    </tr>\n",
       "  </tbody>\n",
       "</table>\n",
       "</div>"
      ],
      "text/plain": [
       "                     SD_flocc_total  Floc_(total)_budget  Floc_(CCD_MS)  \\\n",
       "DATETIME                                                                  \n",
       "2020-08-01 06:00:00        0.050853              0.04019       0.033877   \n",
       "2020-08-02 06:00:00        0.048610              0.04019       0.030931   \n",
       "2020-08-03 06:00:00        0.047554              0.04019       0.031165   \n",
       "2020-08-04 06:00:00        0.050697              0.04019       0.035658   \n",
       "2020-08-05 06:00:00        0.053096              0.04019       0.034477   \n",
       "2020-08-06 06:00:00        0.060506              0.04019       0.039283   \n",
       "2020-08-07 06:00:00        0.056968              0.04019       0.036692   \n",
       "\n",
       "                    Kurifix_per_PLS_ppm  Kurifix_SD  Kurifix_SD_budget  \\\n",
       "DATETIME                                                                 \n",
       "2020-08-01 06:00:00              65.543    0.023545              0.019   \n",
       "2020-08-02 06:00:00             62.2817    0.023452              0.019   \n",
       "2020-08-03 06:00:00             59.4296    0.019572              0.019   \n",
       "2020-08-04 06:00:00             65.8334    0.022464              0.019   \n",
       "2020-08-05 06:00:00             68.8968    0.023112              0.019   \n",
       "2020-08-06 06:00:00             59.7194    0.020471              0.019   \n",
       "2020-08-07 06:00:00             59.7672    0.021823              0.019   \n",
       "\n",
       "                     Floc_(CCD_MS)_budget  Floc_(ORE)  Floc_(ORE)_budget  \\\n",
       "DATETIME                                                                   \n",
       "2020-08-01 06:00:00                 0.016    0.016976              0.012   \n",
       "2020-08-02 06:00:00                 0.016    0.017679              0.012   \n",
       "2020-08-03 06:00:00                 0.016    0.016388              0.012   \n",
       "2020-08-04 06:00:00                 0.016    0.015040              0.012   \n",
       "2020-08-05 06:00:00                 0.016    0.018620              0.012   \n",
       "2020-08-06 06:00:00                 0.016    0.021224              0.012   \n",
       "2020-08-07 06:00:00                 0.016    0.020276              0.012   \n",
       "\n",
       "                     FlocTot_diff_budget  \n",
       "DATETIME                                  \n",
       "2020-08-01 06:00:00            -0.010662  \n",
       "2020-08-02 06:00:00            -0.008420  \n",
       "2020-08-03 06:00:00            -0.007363  \n",
       "2020-08-04 06:00:00            -0.010507  \n",
       "2020-08-05 06:00:00            -0.012906  \n",
       "2020-08-06 06:00:00            -0.020316  \n",
       "2020-08-07 06:00:00            -0.016777  "
      ]
     },
     "execution_count": 105,
     "metadata": {},
     "output_type": "execute_result"
    }
   ],
   "source": [
    "Flocc_SD_df['FlocTot_diff_budget'] = Flocc_SD_df['Floc_(total)_budget'] - Flocc_SD_df['SD_flocc_total']\n",
    "Flocc_SD_df\n"
   ]
  },
  {
   "cell_type": "code",
   "execution_count": null,
   "metadata": {},
   "outputs": [],
   "source": []
  },
  {
   "cell_type": "code",
   "execution_count": null,
   "metadata": {},
   "outputs": [],
   "source": []
  },
  {
   "cell_type": "code",
   "execution_count": null,
   "metadata": {},
   "outputs": [],
   "source": []
  },
  {
   "cell_type": "code",
   "execution_count": null,
   "metadata": {},
   "outputs": [],
   "source": []
  },
  {
   "cell_type": "code",
   "execution_count": null,
   "metadata": {},
   "outputs": [],
   "source": [
    "\n",
    "plt.close()\n",
    "with open(r'\\\\THGOBNA002\\thpal\\05 Production\\150 DCS\\Miscellaneous\\InterActive Plots Specific_Demand.html', 'w') as f:\n",
    "    f.write(figMSVE04_PRED.to_html(full_html=False, include_plotlyjs='cdn'))\n",
    "    f.write(figNTRL.to_html(full_html=False, include_plotlyjs='cdn'))\n",
    "    f.write(figDeZnTK03.to_html(full_html=False, include_plotlyjs='cdn'))\n",
    "    f.write(figDeZnTK05.to_html(full_html=False, include_plotlyjs='cdn'))\n",
    "    f.write(figMSTK01.to_html(full_html=False, include_plotlyjs='cdn'))\n",
    "    f.write(figMSVE04.to_html(full_html=False, include_plotlyjs='cdn'))\n",
    "    f.write(figPolishing.to_html(full_html=False, include_plotlyjs='cdn'))\n",
    "   \n",
    "\n"
   ]
  },
  {
   "cell_type": "code",
   "execution_count": null,
   "metadata": {},
   "outputs": [],
   "source": []
  },
  {
   "cell_type": "code",
   "execution_count": null,
   "metadata": {},
   "outputs": [],
   "source": []
  },
  {
   "cell_type": "code",
   "execution_count": null,
   "metadata": {},
   "outputs": [],
   "source": []
  },
  {
   "cell_type": "code",
   "execution_count": null,
   "metadata": {},
   "outputs": [],
   "source": []
  }
 ],
 "metadata": {
  "kernelspec": {
   "display_name": "Python 3",
   "language": "python",
   "name": "python3"
  },
  "language_info": {
   "codemirror_mode": {
    "name": "ipython",
    "version": 3
   },
   "file_extension": ".py",
   "mimetype": "text/x-python",
   "name": "python",
   "nbconvert_exporter": "python",
   "pygments_lexer": "ipython3",
   "version": "3.7.4"
  }
 },
 "nbformat": 4,
 "nbformat_minor": 2
}
