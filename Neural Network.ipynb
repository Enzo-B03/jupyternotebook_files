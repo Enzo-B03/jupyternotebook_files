{
 "cells": [
  {
   "cell_type": "code",
   "execution_count": 1,
   "metadata": {},
   "outputs": [],
   "source": [
    "import numpy as np"
   ]
  },
  {
   "cell_type": "code",
   "execution_count": 2,
   "metadata": {},
   "outputs": [],
   "source": [
    "class Network(object):\n",
    "    def __init__(self, sizes):\n",
    "        self.num_layers = len(sizes)\n",
    "        self.sizes = sizes\n",
    "        self.biases = [np.random.randn(y, 1) for y in sizes[1:]]\n",
    "        self.weights = [np.random.randn(y, x) for x, y in zip(sizes[:-1], sizes[1:])]\n",
    "        \n",
    "    def sigmoid(z):\n",
    "        return 1.0/(1.0 + np.exp(-z))\n",
    "    \n",
    "    def feedforward (self , a):\n",
    "        \"\"\"Return the output of the network if \"a\" is input.\"\"\"\n",
    "        for b, w in zip(self.biases , self.weights):\n",
    "            a = sigmoid(np.dot(w, a)+b)\n",
    "        return a\n",
    "    \n",
    "    def SGD(self , training_data , epochs , mini_batch_size , eta , test_data =None):\n",
    "        \"\"\"Train the neural network using mini -batch stochastic gradient descent. The\n",
    "        \"training_data\" is a list of tuples \"(x, y)\" representing the training\n",
    "        inputs and the desired outputs. The other non-optional parameters are self -\n",
    "        explanatory. If \"test_data\" is provided then the network will be evaluated\n",
    "        against the test data after each epoch , and partial progress printed out.\n",
    "        This is useful for tracking progress , but slows things down substantially.\n",
    "        \"\"\"\n",
    "        if test_data :\n",
    "            n_test = len( test_data )\n",
    "            n = len( training_data )\n",
    "        for j in xrange(epochs):\n",
    "            random.shuffle( training_data )\n",
    "            mini_batches = [ training_data [k:k+ mini_batch_size ] for k in xrange(0, n,mini_batch_size )]\n",
    "            for mini_batch in mini_batches :\n",
    "                self.update_mini_batch(mini_batch , eta)\n",
    "        if test_data :\n",
    "            print \"Epoch {0}: {1} / {2}\".format(j, self.evaluate( test_data ), n_test)\n",
    "        else:\n",
    "            print \"Epoch {0} complete\".format(j)\n",
    "\n",
    "    def update_mini_batch (self , mini_batch , eta):\n",
    "        \"\"\"Update the network’s weights and biases by applying gradient descent using\n",
    "        backpropagation to a single mini batch. The \"mini_batch\" is a list of tuples\n",
    "        \"(x, y)\", and \"eta\" is the learning rate.\"\"\"\n",
    "        nabla_b = [np.zeros(b.shape) for b in self.biases]\n",
    "        nabla_w = [np.zeros(w.shape) for w in self.weights]\n",
    "        for x, y in mini_batch :\n",
    "            delta_nabla_b , delta_nabla_w = self.backprop(x, y)\n",
    "            nabla_b = [nb+dnb for nb , dnb in zip(nabla_b , delta_nabla_b )]\n",
    "            nabla_w = [nw+dnw for nw , dnw in zip(nabla_w , delta_nabla_w )]\n",
    "        self.weights = [w-( eta/len( mini_batch ))*nw for w, nw in zip(self.weights ,nabla_w)]\n",
    "        self.biases = [b-( eta/len( mini_batch ))*nb for b, nb in zip(self.biases , nabla_b)]\n",
    "\n",
    "        "
   ]
  },
  {
   "cell_type": "code",
   "execution_count": 7,
   "metadata": {},
   "outputs": [],
   "source": [
    "net = Network([2, 3, 1])"
   ]
  },
  {
   "cell_type": "code",
   "execution_count": 9,
   "metadata": {},
   "outputs": [
    {
     "data": {
      "text/plain": [
       "array([[ 0.08785553, -0.0095371 ,  1.70313296]])"
      ]
     },
     "execution_count": 9,
     "metadata": {},
     "output_type": "execute_result"
    }
   ],
   "source": [
    "net.weights[1]"
   ]
  },
  {
   "cell_type": "code",
   "execution_count": null,
   "metadata": {},
   "outputs": [],
   "source": []
  }
 ],
 "metadata": {
  "kernelspec": {
   "display_name": "Python 3",
   "language": "python",
   "name": "python3"
  },
  "language_info": {
   "codemirror_mode": {
    "name": "ipython",
    "version": 3
   },
   "file_extension": ".py",
   "mimetype": "text/x-python",
   "name": "python",
   "nbconvert_exporter": "python",
   "pygments_lexer": "ipython3",
   "version": "3.7.6"
  }
 },
 "nbformat": 4,
 "nbformat_minor": 4
}
