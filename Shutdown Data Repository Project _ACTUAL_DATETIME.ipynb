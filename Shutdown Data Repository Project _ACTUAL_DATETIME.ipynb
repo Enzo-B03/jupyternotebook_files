{
 "cells": [
  {
   "cell_type": "markdown",
   "metadata": {},
   "source": [
    "# Create an InterActive Graph of NTRL Lab Analysis Results"
   ]
  },
  {
   "cell_type": "code",
   "execution_count": 1,
   "metadata": {},
   "outputs": [],
   "source": [
    "#import libraries\n",
    "import pandas as pd\n",
    "import numpy as np\n",
    "import matplotlib.pyplot as plt\n",
    "%matplotlib inline\n",
    "from dateutil.parser import parse\n",
    "from itertools import compress\n",
    "from collections import OrderedDict\n",
    "from datetime import date\n",
    "import datetime\n",
    "import re\n",
    "from datetime import timedelta\n",
    "import openpyxl\n",
    "from sklearn.metrics import mean_squared_error\n",
    "import plotly.express as px\n",
    "\n",
    "import plotly.graph_objects as go\n",
    "from plotly.subplots import make_subplots\n",
    "# Create figure with secondary y-axis"
   ]
  },
  {
   "cell_type": "code",
   "execution_count": 229,
   "metadata": {},
   "outputs": [],
   "source": [
    "#used in the analysis results data. cleans up the sampling time entry\n",
    "def time_cleaner(x):\n",
    "    time_regex = re.compile(r'[0-8a-zA-Z:]', re.IGNORECASE| re.VERBOSE|re.DOTALL)\n",
    "    timeact = time_regex.findall(x)\n",
    "    newtime = ''.join(timeact)\n",
    "    t = parse(x)\n",
    "    new_str_time = str(t.hour)+':'+str(t.minute)+':'+str(t.second)\n",
    "    return new_str_time\n",
    "def ave_filler(dfname, colname):\n",
    "    dfcn = dfname[colname]\n",
    "    try:        \n",
    "        dfcn = pd.to_numeric(dfcn, errors='coerce')\n",
    "    except:\n",
    "        print('error found in' + str(colname))\n",
    "        pass\n",
    "    try:\n",
    "        dfname[colname] = dfcn.where(dfcn.notnull(), other=(dfcn.fillna(method='ffill') + dfcn.fillna(method='bfill'))/2)\n",
    "    except:\n",
    "        print('nan not fixed' + str(colname))   \n",
    "    return dfname\n",
    "def generate_df_from_analysis(workbookTab, col_sampleDate, col_sampleTime, col_analysis, col_title):\n",
    "    #get the start and end sample dates\n",
    "    Smpl_day_index = list()\n",
    "    Chem_Element_datelist = list()\n",
    "    Chem_Element_list = list()\n",
    "    Smpl_day_index = list()\n",
    "    Chem_Element_datelist = list()\n",
    "    Chem_Element_list = list()\n",
    "    plus_oneday_list = ['0:0:0', '1:0:0', '2:0:0', '3:0:0', '4:0:0', '5:0:0']\n",
    "    #gets the date day from the B column of the analysis file if there is value in the cell\n",
    "    for i in range(1, workbookTab.max_row):\n",
    "        if type(workbookTab[str(col_sampleDate) + str(i)].value) == int or type(workbookTab[str(col_sampleDate) + str(i)].value) == float:\n",
    "            Smpl_day_index.append(i)\n",
    "    #get the ending row that has date day\n",
    "    for j in range(1, workbookTab.max_row):\n",
    "        if type(workbookTab[str(col_sampleTime) + str(j)].value) == datetime.datetime:\n",
    "            smpl_end_index = j\n",
    "    for y in range(0, len(Smpl_day_index)):\n",
    "        if Smpl_day_index[y] != Smpl_day_index[-1]:      \n",
    "            for x in range(Smpl_day_index[y], Smpl_day_index[y+1]):\n",
    "                if workbookTab[str(col_analysis)+str(x)].value is None: \n",
    "                    pass\n",
    "                else:\n",
    "                    if time_cleaner(str(workbookTab[str(col_sampleTime)+str(x)].value)) in plus_oneday_list:\n",
    "                        date = str((currentmonthyr)+datetime.timedelta(workbookTab[str(col_sampleDate)+str(Smpl_day_index[y])].value))\\\n",
    "                        +' '+time_cleaner(str(workbookTab[str(col_sampleTime)+str(x)].value))\n",
    "                        Chem_Element_datelist.append(parse(date))  \n",
    "                        chem_element = workbookTab[str(col_analysis)+str(x)].value\n",
    "                        Chem_Element_list.append(chem_element)\n",
    "                    else:\n",
    "                        date = str((currentmonthyr)-datetime.timedelta(1)+datetime.timedelta(workbookTab[str(col_sampleDate)+str(Smpl_day_index[y])].value))\\\n",
    "                        +' '+time_cleaner(str(workbookTab[str(col_sampleTime)+str(x)].value))\n",
    "                        Chem_Element_datelist.append(parse(date))  \n",
    "                        chem_element = workbookTab[str(col_analysis)+str(x)].value\n",
    "                        Chem_Element_list.append(chem_element)\n",
    "\n",
    "        if Smpl_day_index[y] == Smpl_day_index[-1]:\n",
    "            for x in range(Smpl_day_index[y], smpl_end_index+1):\n",
    "                if workbookTab[str(col_analysis)+str(x)].value is None:   \n",
    "                    pass\n",
    "                else:\n",
    "                    if time_cleaner(str(workbookTab[str(col_sampleTime)+str(x)].value)) in plus_oneday_list:\n",
    "                        date = str((currentmonthyr)+datetime.timedelta(workbookTab[str(col_sampleDate)+str(Smpl_day_index[y])].value))\\\n",
    "                        +' '+time_cleaner(str(workbookTab[str(col_sampleTime)+str(x)].value))\n",
    "                        Chem_Element_datelist.append(parse(date))\n",
    "                        chem_element = workbookTab[str(col_analysis)+str(x)].value\n",
    "                        Chem_Element_list.append(chem_element)\n",
    "                    else:\n",
    "                        date = str((currentmonthyr)-datetime.timedelta(1)+datetime.timedelta(workbookTab[str(col_sampleDate)+str(Smpl_day_index[y])].value))\\\n",
    "                        +' '+time_cleaner(str(workbookTab[str(col_sampleTime)+str(x)].value))\n",
    "                        Chem_Element_datelist.append(parse(date))\n",
    "                        chem_element = workbookTab[str(col_analysis)+str(x)].value\n",
    "                        Chem_Element_list.append(chem_element)\n",
    "\n",
    "    Chem_Element_list_pair = list(zip(Chem_Element_list, Chem_Element_datelist[0:]))\n",
    "    Chem_Element_df = pd.DataFrame(Chem_Element_list_pair)\n",
    "    Chem_Element_df.columns = [col_title, 'DATETIME'] ##check if list title is updated\n",
    "    Chem_Element_df.set_index('DATETIME', inplace=True)\n",
    "\n",
    "    return Chem_Element_df\n",
    "\n",
    "def generate_add_trace(figname, df_elemental, axis_bool):\n",
    "    colname = df_elemental.columns[0]\n",
    "    figname.add_trace(go.Scatter(x=df_elemental.index, y=df_elemental[colname], name=colname), secondary_y=axis_bool,)\n",
    "#---------------------------------------\n"
   ]
  },
  {
   "cell_type": "code",
   "execution_count": 230,
   "metadata": {},
   "outputs": [],
   "source": [
    "# store the Filepath of the shutdown schedule excel file\n",
    "#shutdown_filepath = r'\\\\THGOBNA002\\thpal\\05 Production\\260 Tech - Shutdown\\Shutdown 202009 Major Shutdown\\Process B\\00 Schedule\\2020 Major SD Schedule Rev 2.4.xlsx'\n",
    "shutdown_filepath2 = r'C:\\Users\\v.t.flores\\Documents\\2020 Major SD Progress Manual Update.xlsx'\n",
    "\n",
    "#-----------------------------------------------------------------------------------------------------------------------------------------------------------------------------------------------------#\n",
    "# Load the shutdown schedule excel file\n",
    "raw_shutdown_sched = pd.read_excel(shutdown_filepath2, sheet_name='Sheet1', index_col=False)\n",
    "\n",
    "\n",
    "#------------------------------------------------------------------------------------------------------------------------------------------------------------------------------------------------------#\n",
    "# CLEAN UP THE 2020 Major SD Progress Manual Update File DF\n",
    "raw_shutdown_sched = raw_shutdown_sched.drop(raw_shutdown_sched.index[0:2])\n",
    "shutdown_sched_1 = raw_shutdown_sched[['Unnamed: 1', 'Unnamed: 2', 'Unnamed: 3', 'Unnamed: 4', 'Unnamed: 5', 'Unnamed: 6', 'Unnamed: 7', 'Unnamed: 8']].iloc[57:]  ## SELECT THE ROWS AND COLUMNS NEEDED\n",
    "shutdown_sched_1.columns = ['Equipment', 'Activities','START_plan','FINISH_plan',\"Duration_hrs_plan\", 'START_actual','FINISH_actual',\"Duration_hrs_ETA\"] ## RENAME THE COLUMNS\n",
    "\n",
    "shutdown_sched_1 = shutdown_sched_1.reset_index().drop('index', axis=1)\n",
    "shutdown_sched_1['Equipment'] = shutdown_sched_1['Equipment'].fillna(method='ffill') ## FILL THE BLANK CELLS IN THE EQUIPMENT COLUMN USING THE FFILL METHOD.\n",
    "\n",
    "index_list = shutdown_sched_1[pd.isna(shutdown_sched_1['START_plan'])].index # takes the index of the column 'START_plan' with Nan values and stores it in the variable index_list\n",
    "shutdown_sched_2 = shutdown_sched_1.drop(index_list) # Drop the nan values found in the 'START_plan' column then store to a new df called shutdown_sched_2\n",
    "\n",
    "shutdown_sched_2['DATETIME'] = shutdown_sched_2['START_plan'] ## CREATE A DATETIME COLUMN EQUAL TO THE START COLUMN.\n",
    "shutdown_sched_3 = shutdown_sched_2.set_index('DATETIME') ## SET THE INDEX TO DATETIME. THIS TELLS US WHEN THE ACTIVITY IS SCHEDULED TO START.\n",
    "\n",
    "nan_index_list = shutdown_sched_3[pd.isna(shutdown_sched_3['Duration_hrs_plan'])].index # find nan values in the 'Duration_hrs_plan' column\n",
    "shutdown_sched_3 = shutdown_sched_3.drop(nan_index_list) # Drop the nan values found in the 'Duration_hrs_plan'\n"
   ]
  },
  {
   "cell_type": "code",
   "execution_count": null,
   "metadata": {},
   "outputs": [],
   "source": []
  },
  {
   "cell_type": "code",
   "execution_count": 231,
   "metadata": {},
   "outputs": [],
   "source": [
    "# this code block computes the %progress per activity and the necessary columns needed to compute the % progress_actual\n",
    "\n",
    "shutdown_sched_3['Reference_time'] = np.where(shutdown_sched_3['FINISH_actual'].isnull(), datetime.datetime.now(), shutdown_sched_3['FINISH_actual']) # column 9\n",
    "shutdown_sched_3['Reference_time'] = [parse(str(ref_time)) for ref_time in shutdown_sched_3['Reference_time']]\n",
    "\n",
    "shutdown_sched_3['START_plan'] = [parse(str(timestart)) for timestart in shutdown_sched_3['START_plan']]\n",
    "\n",
    "shutdown_sched_3['Duration_hrs_plan'] = [timedelta(hours=x) for x in shutdown_sched_3['Duration_hrs_plan']] # column 5\n",
    "\n",
    "shutdown_sched_3['hours_since_start'] = np.where(shutdown_sched_3['START_plan'].notnull(), \n",
    "                                                 shutdown_sched_3['Reference_time'] - shutdown_sched_3['START_plan'], \n",
    "                                                 0) #compute the hours since the start of the activity. column 10 \n",
    "\n",
    "shutdown_sched_3['Duration_hrs_ETA'] = np.where(shutdown_sched_3['Duration_hrs_plan'] < shutdown_sched_3['hours_since_start'], \n",
    "                                                shutdown_sched_3['hours_since_start'] + timedelta(hours=1), \n",
    "                                                shutdown_sched_3['Duration_hrs_plan']) # column 11\n",
    "\n",
    "reference_time_now = datetime.datetime.now()\n",
    "shutdown_sched_3['{}'.format(reference_time_now)] = 100*shutdown_sched_3['hours_since_start']/shutdown_sched_3['Duration_hrs_ETA'] # column 12 onwards\n",
    "shutdown_sched_3['{}'.format(reference_time_now)] = np.where()\n"
   ]
  },
  {
   "cell_type": "code",
   "execution_count": 220,
   "metadata": {},
   "outputs": [],
   "source": []
  },
  {
   "cell_type": "code",
   "execution_count": 221,
   "metadata": {},
   "outputs": [],
   "source": []
  },
  {
   "cell_type": "code",
   "execution_count": 261,
   "metadata": {},
   "outputs": [
    {
     "data": {
      "text/html": [
       "<div>\n",
       "<style scoped>\n",
       "    .dataframe tbody tr th:only-of-type {\n",
       "        vertical-align: middle;\n",
       "    }\n",
       "\n",
       "    .dataframe tbody tr th {\n",
       "        vertical-align: top;\n",
       "    }\n",
       "\n",
       "    .dataframe thead th {\n",
       "        text-align: right;\n",
       "    }\n",
       "</style>\n",
       "<table border=\"1\" class=\"dataframe\">\n",
       "  <thead>\n",
       "    <tr style=\"text-align: right;\">\n",
       "      <th></th>\n",
       "      <th>Equipment</th>\n",
       "      <th>Activities</th>\n",
       "      <th>START_plan</th>\n",
       "      <th>FINISH_plan</th>\n",
       "      <th>Duration_hrs_plan</th>\n",
       "      <th>START_actual</th>\n",
       "      <th>FINISH_actual</th>\n",
       "      <th>Duration_hrs_ETA</th>\n",
       "      <th>Reference_time</th>\n",
       "      <th>hours_since_start</th>\n",
       "      <th>2020-10-15 16:18:41.420881</th>\n",
       "    </tr>\n",
       "    <tr>\n",
       "      <th>DATETIME</th>\n",
       "      <th></th>\n",
       "      <th></th>\n",
       "      <th></th>\n",
       "      <th></th>\n",
       "      <th></th>\n",
       "      <th></th>\n",
       "      <th></th>\n",
       "      <th></th>\n",
       "      <th></th>\n",
       "      <th></th>\n",
       "      <th></th>\n",
       "    </tr>\n",
       "  </thead>\n",
       "  <tbody>\n",
       "    <tr>\n",
       "      <td>2020-10-22 00:00:00</td>\n",
       "      <td>De-Zn Feedline</td>\n",
       "      <td>104PU01 Stop</td>\n",
       "      <td>2020-10-22 00:00:00</td>\n",
       "      <td>2020-10-22 01:00:00</td>\n",
       "      <td>0 days 01:00:00</td>\n",
       "      <td>2020-10-22 01:00:00</td>\n",
       "      <td>2020-10-22 02:00:00</td>\n",
       "      <td>0 days 03:00:00</td>\n",
       "      <td>2020-10-22 02:00:00.000000</td>\n",
       "      <td>0 days 02:00:00</td>\n",
       "      <td>66.666667</td>\n",
       "    </tr>\n",
       "    <tr>\n",
       "      <td>2020-10-22 01:00:00</td>\n",
       "      <td>De-Zn Feedline</td>\n",
       "      <td>LOTO Installation (Valves &amp; Pump)</td>\n",
       "      <td>2020-10-22 01:00:00</td>\n",
       "      <td>2020-10-22 03:00:00</td>\n",
       "      <td>0 days 02:00:00</td>\n",
       "      <td>2020-10-22 02:00:00</td>\n",
       "      <td>2020-10-22 05:00:00</td>\n",
       "      <td>0 days 05:00:00</td>\n",
       "      <td>2020-10-22 05:00:00.000000</td>\n",
       "      <td>0 days 04:00:00</td>\n",
       "      <td>80.000000</td>\n",
       "    </tr>\n",
       "    <tr>\n",
       "      <td>2020-10-22 01:00:00</td>\n",
       "      <td>De-Zn Feedline</td>\n",
       "      <td>Feedline level lowering/105TK01 Inerting</td>\n",
       "      <td>2020-10-22 01:00:00</td>\n",
       "      <td>2020-10-22 10:00:00</td>\n",
       "      <td>0 days 09:00:00</td>\n",
       "      <td>2020-10-22 02:00:00</td>\n",
       "      <td>2020-10-22 12:00:00</td>\n",
       "      <td>0 days 12:00:00</td>\n",
       "      <td>2020-10-22 12:00:00.000000</td>\n",
       "      <td>0 days 11:00:00</td>\n",
       "      <td>91.666667</td>\n",
       "    </tr>\n",
       "    <tr>\n",
       "      <td>2020-10-22 10:00:00</td>\n",
       "      <td>De-Zn Feedline</td>\n",
       "      <td>Feed Line Blinding/105TK01 inlet</td>\n",
       "      <td>2020-10-22 10:00:00</td>\n",
       "      <td>2020-10-22 12:00:00</td>\n",
       "      <td>0 days 02:00:00</td>\n",
       "      <td>2020-10-22 12:00:00</td>\n",
       "      <td>2020-10-22 14:00:00</td>\n",
       "      <td>0 days 05:00:00</td>\n",
       "      <td>2020-10-22 14:00:00.000000</td>\n",
       "      <td>0 days 04:00:00</td>\n",
       "      <td>80.000000</td>\n",
       "    </tr>\n",
       "    <tr>\n",
       "      <td>2020-10-22 12:00:00</td>\n",
       "      <td>De-Zn Feedline</td>\n",
       "      <td>Feed Line Draining</td>\n",
       "      <td>2020-10-22 12:00:00</td>\n",
       "      <td>2020-10-22 20:00:00</td>\n",
       "      <td>0 days 08:00:00</td>\n",
       "      <td>2020-10-22 14:00:00</td>\n",
       "      <td>2020-10-22 20:00:00</td>\n",
       "      <td>0 days 08:00:00</td>\n",
       "      <td>2020-10-22 20:00:00.000000</td>\n",
       "      <td>0 days 08:00:00</td>\n",
       "      <td>100.000000</td>\n",
       "    </tr>\n",
       "    <tr>\n",
       "      <td>...</td>\n",
       "      <td>...</td>\n",
       "      <td>...</td>\n",
       "      <td>...</td>\n",
       "      <td>...</td>\n",
       "      <td>...</td>\n",
       "      <td>...</td>\n",
       "      <td>...</td>\n",
       "      <td>...</td>\n",
       "      <td>...</td>\n",
       "      <td>...</td>\n",
       "      <td>...</td>\n",
       "    </tr>\n",
       "    <tr>\n",
       "      <td>2020-10-31 17:00:00</td>\n",
       "      <td>530CT31</td>\n",
       "      <td>Conditioning (Chemical dosing with heat load)</td>\n",
       "      <td>2020-10-31 17:00:00</td>\n",
       "      <td>2020-11-01 17:00:00</td>\n",
       "      <td>1 days 00:00:00</td>\n",
       "      <td>NaN</td>\n",
       "      <td>NaN</td>\n",
       "      <td>1 days 00:00:00</td>\n",
       "      <td>2020-10-15 16:18:41.316768</td>\n",
       "      <td>-17 days +23:18:41.316768</td>\n",
       "      <td>0.000000</td>\n",
       "    </tr>\n",
       "    <tr>\n",
       "      <td>2020-11-02 08:00:00</td>\n",
       "      <td>525NG01</td>\n",
       "      <td>525CP01AB PMS Activity (1 compressor/ day)</td>\n",
       "      <td>2020-11-02 08:00:00</td>\n",
       "      <td>2020-11-05 08:00:00</td>\n",
       "      <td>3 days 00:00:00</td>\n",
       "      <td>NaN</td>\n",
       "      <td>NaN</td>\n",
       "      <td>3 days 00:00:00</td>\n",
       "      <td>2020-10-15 16:18:41.316768</td>\n",
       "      <td>-18 days +08:18:41.316768</td>\n",
       "      <td>0.000000</td>\n",
       "    </tr>\n",
       "    <tr>\n",
       "      <td>2020-11-02 08:00:00</td>\n",
       "      <td>525NG01</td>\n",
       "      <td>KV valves inspection</td>\n",
       "      <td>2020-11-02 08:00:00</td>\n",
       "      <td>2020-11-06 08:00:00</td>\n",
       "      <td>4 days 00:00:00</td>\n",
       "      <td>NaN</td>\n",
       "      <td>NaN</td>\n",
       "      <td>4 days 00:00:00</td>\n",
       "      <td>2020-10-15 16:18:41.316768</td>\n",
       "      <td>-18 days +08:18:41.316768</td>\n",
       "      <td>0.000000</td>\n",
       "    </tr>\n",
       "    <tr>\n",
       "      <td>2020-11-02 08:00:00</td>\n",
       "      <td>525NG01</td>\n",
       "      <td>525NG01 Adsorber Renewal (6 days)</td>\n",
       "      <td>2020-11-02 08:00:00</td>\n",
       "      <td>2020-11-08 08:00:00</td>\n",
       "      <td>6 days 00:00:00</td>\n",
       "      <td>NaN</td>\n",
       "      <td>NaN</td>\n",
       "      <td>6 days 00:00:00</td>\n",
       "      <td>2020-10-15 16:18:41.316768</td>\n",
       "      <td>-18 days +08:18:41.316768</td>\n",
       "      <td>0.000000</td>\n",
       "    </tr>\n",
       "    <tr>\n",
       "      <td>2020-11-08 08:00:00</td>\n",
       "      <td>525NG01</td>\n",
       "      <td>50% Plant Load Operation</td>\n",
       "      <td>2020-11-08 08:00:00</td>\n",
       "      <td>2020-11-09 18:00:00</td>\n",
       "      <td>1 days 10:00:00</td>\n",
       "      <td>NaN</td>\n",
       "      <td>NaN</td>\n",
       "      <td>1 days 10:00:00</td>\n",
       "      <td>2020-10-15 16:18:41.316768</td>\n",
       "      <td>-24 days +08:18:41.316768</td>\n",
       "      <td>0.000000</td>\n",
       "    </tr>\n",
       "  </tbody>\n",
       "</table>\n",
       "<p>820 rows × 11 columns</p>\n",
       "</div>"
      ],
      "text/plain": [
       "                          Equipment  \\\n",
       "DATETIME                              \n",
       "2020-10-22 00:00:00  De-Zn Feedline   \n",
       "2020-10-22 01:00:00  De-Zn Feedline   \n",
       "2020-10-22 01:00:00  De-Zn Feedline   \n",
       "2020-10-22 10:00:00  De-Zn Feedline   \n",
       "2020-10-22 12:00:00  De-Zn Feedline   \n",
       "...                             ...   \n",
       "2020-10-31 17:00:00         530CT31   \n",
       "2020-11-02 08:00:00         525NG01   \n",
       "2020-11-02 08:00:00         525NG01   \n",
       "2020-11-02 08:00:00         525NG01   \n",
       "2020-11-08 08:00:00         525NG01   \n",
       "\n",
       "                                                        Activities  \\\n",
       "DATETIME                                                             \n",
       "2020-10-22 00:00:00                                   104PU01 Stop   \n",
       "2020-10-22 01:00:00              LOTO Installation (Valves & Pump)   \n",
       "2020-10-22 01:00:00       Feedline level lowering/105TK01 Inerting   \n",
       "2020-10-22 10:00:00               Feed Line Blinding/105TK01 inlet   \n",
       "2020-10-22 12:00:00                             Feed Line Draining   \n",
       "...                                                            ...   \n",
       "2020-10-31 17:00:00  Conditioning (Chemical dosing with heat load)   \n",
       "2020-11-02 08:00:00     525CP01AB PMS Activity (1 compressor/ day)   \n",
       "2020-11-02 08:00:00                           KV valves inspection   \n",
       "2020-11-02 08:00:00              525NG01 Adsorber Renewal (6 days)   \n",
       "2020-11-08 08:00:00                       50% Plant Load Operation   \n",
       "\n",
       "                             START_plan          FINISH_plan  \\\n",
       "DATETIME                                                       \n",
       "2020-10-22 00:00:00 2020-10-22 00:00:00  2020-10-22 01:00:00   \n",
       "2020-10-22 01:00:00 2020-10-22 01:00:00  2020-10-22 03:00:00   \n",
       "2020-10-22 01:00:00 2020-10-22 01:00:00  2020-10-22 10:00:00   \n",
       "2020-10-22 10:00:00 2020-10-22 10:00:00  2020-10-22 12:00:00   \n",
       "2020-10-22 12:00:00 2020-10-22 12:00:00  2020-10-22 20:00:00   \n",
       "...                                 ...                  ...   \n",
       "2020-10-31 17:00:00 2020-10-31 17:00:00  2020-11-01 17:00:00   \n",
       "2020-11-02 08:00:00 2020-11-02 08:00:00  2020-11-05 08:00:00   \n",
       "2020-11-02 08:00:00 2020-11-02 08:00:00  2020-11-06 08:00:00   \n",
       "2020-11-02 08:00:00 2020-11-02 08:00:00  2020-11-08 08:00:00   \n",
       "2020-11-08 08:00:00 2020-11-08 08:00:00  2020-11-09 18:00:00   \n",
       "\n",
       "                    Duration_hrs_plan         START_actual  \\\n",
       "DATETIME                                                     \n",
       "2020-10-22 00:00:00   0 days 01:00:00  2020-10-22 01:00:00   \n",
       "2020-10-22 01:00:00   0 days 02:00:00  2020-10-22 02:00:00   \n",
       "2020-10-22 01:00:00   0 days 09:00:00  2020-10-22 02:00:00   \n",
       "2020-10-22 10:00:00   0 days 02:00:00  2020-10-22 12:00:00   \n",
       "2020-10-22 12:00:00   0 days 08:00:00  2020-10-22 14:00:00   \n",
       "...                               ...                  ...   \n",
       "2020-10-31 17:00:00   1 days 00:00:00                  NaN   \n",
       "2020-11-02 08:00:00   3 days 00:00:00                  NaN   \n",
       "2020-11-02 08:00:00   4 days 00:00:00                  NaN   \n",
       "2020-11-02 08:00:00   6 days 00:00:00                  NaN   \n",
       "2020-11-08 08:00:00   1 days 10:00:00                  NaN   \n",
       "\n",
       "                           FINISH_actual Duration_hrs_ETA  \\\n",
       "DATETIME                                                    \n",
       "2020-10-22 00:00:00  2020-10-22 02:00:00  0 days 03:00:00   \n",
       "2020-10-22 01:00:00  2020-10-22 05:00:00  0 days 05:00:00   \n",
       "2020-10-22 01:00:00  2020-10-22 12:00:00  0 days 12:00:00   \n",
       "2020-10-22 10:00:00  2020-10-22 14:00:00  0 days 05:00:00   \n",
       "2020-10-22 12:00:00  2020-10-22 20:00:00  0 days 08:00:00   \n",
       "...                                  ...              ...   \n",
       "2020-10-31 17:00:00                  NaN  1 days 00:00:00   \n",
       "2020-11-02 08:00:00                  NaN  3 days 00:00:00   \n",
       "2020-11-02 08:00:00                  NaN  4 days 00:00:00   \n",
       "2020-11-02 08:00:00                  NaN  6 days 00:00:00   \n",
       "2020-11-08 08:00:00                  NaN  1 days 10:00:00   \n",
       "\n",
       "                                Reference_time         hours_since_start  \\\n",
       "DATETIME                                                                   \n",
       "2020-10-22 00:00:00 2020-10-22 02:00:00.000000           0 days 02:00:00   \n",
       "2020-10-22 01:00:00 2020-10-22 05:00:00.000000           0 days 04:00:00   \n",
       "2020-10-22 01:00:00 2020-10-22 12:00:00.000000           0 days 11:00:00   \n",
       "2020-10-22 10:00:00 2020-10-22 14:00:00.000000           0 days 04:00:00   \n",
       "2020-10-22 12:00:00 2020-10-22 20:00:00.000000           0 days 08:00:00   \n",
       "...                                        ...                       ...   \n",
       "2020-10-31 17:00:00 2020-10-15 16:18:41.316768 -17 days +23:18:41.316768   \n",
       "2020-11-02 08:00:00 2020-10-15 16:18:41.316768 -18 days +08:18:41.316768   \n",
       "2020-11-02 08:00:00 2020-10-15 16:18:41.316768 -18 days +08:18:41.316768   \n",
       "2020-11-02 08:00:00 2020-10-15 16:18:41.316768 -18 days +08:18:41.316768   \n",
       "2020-11-08 08:00:00 2020-10-15 16:18:41.316768 -24 days +08:18:41.316768   \n",
       "\n",
       "                     2020-10-15 16:18:41.420881  \n",
       "DATETIME                                         \n",
       "2020-10-22 00:00:00                   66.666667  \n",
       "2020-10-22 01:00:00                   80.000000  \n",
       "2020-10-22 01:00:00                   91.666667  \n",
       "2020-10-22 10:00:00                   80.000000  \n",
       "2020-10-22 12:00:00                  100.000000  \n",
       "...                                         ...  \n",
       "2020-10-31 17:00:00                    0.000000  \n",
       "2020-11-02 08:00:00                    0.000000  \n",
       "2020-11-02 08:00:00                    0.000000  \n",
       "2020-11-02 08:00:00                    0.000000  \n",
       "2020-11-08 08:00:00                    0.000000  \n",
       "\n",
       "[820 rows x 11 columns]"
      ]
     },
     "execution_count": 261,
     "metadata": {},
     "output_type": "execute_result"
    }
   ],
   "source": [
    "shutdown_sched_3"
   ]
  },
  {
   "cell_type": "code",
   "execution_count": null,
   "metadata": {},
   "outputs": [],
   "source": []
  },
  {
   "cell_type": "code",
   "execution_count": 233,
   "metadata": {},
   "outputs": [],
   "source": [
    "# CREATE A LIST CONTAINING ALL UNIQUE ENTRIES IN THE EQUIPMENT COLUMN\n",
    "List_equiments = shutdown_sched_3['Equipment'].unique()\n",
    "List_equiments_rshp = List_equiments.reshape(len(List_equiments), 1) # array of all equipments shaped to fit in one column\n"
   ]
  },
  {
   "cell_type": "code",
   "execution_count": null,
   "metadata": {},
   "outputs": [],
   "source": [
    "# replace the values in the df_prcnt_progress_transposed to a range 0 to 100\n",
    "for col in shutdown_sched_3.columns[10:]:\n",
    "    print(col)\n",
    "    shutdown_sched_3[col] = np.where(shutdown_sched_3[col]>=100, 100, \n",
    "                                     np.where(shutdown_sched_3[col]<0, 0, shutdown_sched_3[col]))"
   ]
  },
  {
   "cell_type": "code",
   "execution_count": 277,
   "metadata": {},
   "outputs": [
    {
     "data": {
      "text/html": [
       "<div>\n",
       "<style scoped>\n",
       "    .dataframe tbody tr th:only-of-type {\n",
       "        vertical-align: middle;\n",
       "    }\n",
       "\n",
       "    .dataframe tbody tr th {\n",
       "        vertical-align: top;\n",
       "    }\n",
       "\n",
       "    .dataframe thead th {\n",
       "        text-align: right;\n",
       "    }\n",
       "</style>\n",
       "<table border=\"1\" class=\"dataframe\">\n",
       "  <thead>\n",
       "    <tr style=\"text-align: right;\">\n",
       "      <th></th>\n",
       "      <th>Reference_time</th>\n",
       "      <th>Equipment</th>\n",
       "    </tr>\n",
       "    <tr>\n",
       "      <th>DATETIME</th>\n",
       "      <th></th>\n",
       "      <th></th>\n",
       "    </tr>\n",
       "  </thead>\n",
       "  <tbody>\n",
       "    <tr>\n",
       "      <td>2020-10-22 00:00:00</td>\n",
       "      <td>2020-10-22 02:00:00.000000</td>\n",
       "      <td>De-Zn Feedline</td>\n",
       "    </tr>\n",
       "    <tr>\n",
       "      <td>2020-10-22 01:00:00</td>\n",
       "      <td>2020-10-22 05:00:00.000000</td>\n",
       "      <td>De-Zn Feedline</td>\n",
       "    </tr>\n",
       "    <tr>\n",
       "      <td>2020-10-22 01:00:00</td>\n",
       "      <td>2020-10-22 12:00:00.000000</td>\n",
       "      <td>De-Zn Feedline</td>\n",
       "    </tr>\n",
       "    <tr>\n",
       "      <td>2020-10-22 10:00:00</td>\n",
       "      <td>2020-10-22 14:00:00.000000</td>\n",
       "      <td>De-Zn Feedline</td>\n",
       "    </tr>\n",
       "    <tr>\n",
       "      <td>2020-10-22 12:00:00</td>\n",
       "      <td>2020-10-22 20:00:00.000000</td>\n",
       "      <td>De-Zn Feedline</td>\n",
       "    </tr>\n",
       "    <tr>\n",
       "      <td>...</td>\n",
       "      <td>...</td>\n",
       "      <td>...</td>\n",
       "    </tr>\n",
       "    <tr>\n",
       "      <td>2020-10-31 17:00:00</td>\n",
       "      <td>2020-10-15 16:18:41.316768</td>\n",
       "      <td>530CT31</td>\n",
       "    </tr>\n",
       "    <tr>\n",
       "      <td>2020-11-02 08:00:00</td>\n",
       "      <td>2020-10-15 16:18:41.316768</td>\n",
       "      <td>525NG01</td>\n",
       "    </tr>\n",
       "    <tr>\n",
       "      <td>2020-11-02 08:00:00</td>\n",
       "      <td>2020-10-15 16:18:41.316768</td>\n",
       "      <td>525NG01</td>\n",
       "    </tr>\n",
       "    <tr>\n",
       "      <td>2020-11-02 08:00:00</td>\n",
       "      <td>2020-10-15 16:18:41.316768</td>\n",
       "      <td>525NG01</td>\n",
       "    </tr>\n",
       "    <tr>\n",
       "      <td>2020-11-08 08:00:00</td>\n",
       "      <td>2020-10-15 16:18:41.316768</td>\n",
       "      <td>525NG01</td>\n",
       "    </tr>\n",
       "  </tbody>\n",
       "</table>\n",
       "<p>820 rows × 2 columns</p>\n",
       "</div>"
      ],
      "text/plain": [
       "                                Reference_time       Equipment\n",
       "DATETIME                                                      \n",
       "2020-10-22 00:00:00 2020-10-22 02:00:00.000000  De-Zn Feedline\n",
       "2020-10-22 01:00:00 2020-10-22 05:00:00.000000  De-Zn Feedline\n",
       "2020-10-22 01:00:00 2020-10-22 12:00:00.000000  De-Zn Feedline\n",
       "2020-10-22 10:00:00 2020-10-22 14:00:00.000000  De-Zn Feedline\n",
       "2020-10-22 12:00:00 2020-10-22 20:00:00.000000  De-Zn Feedline\n",
       "...                                        ...             ...\n",
       "2020-10-31 17:00:00 2020-10-15 16:18:41.316768         530CT31\n",
       "2020-11-02 08:00:00 2020-10-15 16:18:41.316768         525NG01\n",
       "2020-11-02 08:00:00 2020-10-15 16:18:41.316768         525NG01\n",
       "2020-11-02 08:00:00 2020-10-15 16:18:41.316768         525NG01\n",
       "2020-11-08 08:00:00 2020-10-15 16:18:41.316768         525NG01\n",
       "\n",
       "[820 rows x 2 columns]"
      ]
     },
     "execution_count": 277,
     "metadata": {},
     "output_type": "execute_result"
    }
   ],
   "source": [
    "shutdown_sched_3[['Reference_time', 'Equipment']]"
   ]
  },
  {
   "cell_type": "code",
   "execution_count": 282,
   "metadata": {},
   "outputs": [],
   "source": [
    "shutdown_sched_4 = shutdown_sched_3.groupby(['Equipment', 'Reference_time'])[shutdown_sched_3.columns[10:]].mean().T"
   ]
  },
  {
   "cell_type": "code",
   "execution_count": null,
   "metadata": {},
   "outputs": [],
   "source": []
  },
  {
   "cell_type": "code",
   "execution_count": 264,
   "metadata": {},
   "outputs": [],
   "source": [
    "df_equipment_Grouped = shutdown_sched_4.groupby('Equipment')[shutdown_sched_3.columns[10:]].mean().T"
   ]
  },
  {
   "cell_type": "code",
   "execution_count": 265,
   "metadata": {},
   "outputs": [
    {
     "data": {
      "text/html": [
       "<div>\n",
       "<style scoped>\n",
       "    .dataframe tbody tr th:only-of-type {\n",
       "        vertical-align: middle;\n",
       "    }\n",
       "\n",
       "    .dataframe tbody tr th {\n",
       "        vertical-align: top;\n",
       "    }\n",
       "\n",
       "    .dataframe thead th {\n",
       "        text-align: right;\n",
       "    }\n",
       "</style>\n",
       "<table border=\"1\" class=\"dataframe\">\n",
       "  <thead>\n",
       "    <tr style=\"text-align: right;\">\n",
       "      <th>Equipment</th>\n",
       "      <th>105FT01A</th>\n",
       "      <th>105FT01B</th>\n",
       "      <th>105FT01C</th>\n",
       "      <th>105FT01D</th>\n",
       "      <th>105FT01E</th>\n",
       "      <th>105FT01F</th>\n",
       "      <th>105PU01ABCDEFG</th>\n",
       "      <th>105SP01/02</th>\n",
       "      <th>105TK01</th>\n",
       "      <th>105TK02</th>\n",
       "      <th>...</th>\n",
       "      <th>114TK02</th>\n",
       "      <th>115TK01</th>\n",
       "      <th>115TK02</th>\n",
       "      <th>24\" SPT tie in</th>\n",
       "      <th>525NG01</th>\n",
       "      <th>530CT31</th>\n",
       "      <th>De-Zn Feedline</th>\n",
       "      <th>MS Common Vent/ 106SP01</th>\n",
       "      <th>MS FEEDLINE</th>\n",
       "      <th>VSLC RHL Line</th>\n",
       "    </tr>\n",
       "  </thead>\n",
       "  <tbody>\n",
       "    <tr>\n",
       "      <td>2020-10-15 16:18:41.420881</td>\n",
       "      <td>0.0</td>\n",
       "      <td>0.0</td>\n",
       "      <td>0.0</td>\n",
       "      <td>0.0</td>\n",
       "      <td>0.0</td>\n",
       "      <td>0.0</td>\n",
       "      <td>0.0</td>\n",
       "      <td>0.0</td>\n",
       "      <td>0.0</td>\n",
       "      <td>0.0</td>\n",
       "      <td>...</td>\n",
       "      <td>0.0</td>\n",
       "      <td>0.0</td>\n",
       "      <td>0.0</td>\n",
       "      <td>0.0</td>\n",
       "      <td>0.0</td>\n",
       "      <td>0.0</td>\n",
       "      <td>80.07716</td>\n",
       "      <td>0.0</td>\n",
       "      <td>0.0</td>\n",
       "      <td>0.0</td>\n",
       "    </tr>\n",
       "  </tbody>\n",
       "</table>\n",
       "<p>1 rows × 58 columns</p>\n",
       "</div>"
      ],
      "text/plain": [
       "Equipment                   105FT01A  105FT01B  105FT01C  105FT01D  105FT01E  \\\n",
       "2020-10-15 16:18:41.420881       0.0       0.0       0.0       0.0       0.0   \n",
       "\n",
       "Equipment                   105FT01F  105PU01ABCDEFG  105SP01/02  105TK01  \\\n",
       "2020-10-15 16:18:41.420881       0.0             0.0         0.0      0.0   \n",
       "\n",
       "Equipment                   105TK02  ...  114TK02  115TK01  115TK02  \\\n",
       "2020-10-15 16:18:41.420881      0.0  ...      0.0      0.0      0.0   \n",
       "\n",
       "Equipment                   24\" SPT tie in  525NG01  530CT31  De-Zn Feedline  \\\n",
       "2020-10-15 16:18:41.420881             0.0      0.0      0.0        80.07716   \n",
       "\n",
       "Equipment                   MS Common Vent/ 106SP01  MS FEEDLINE  \\\n",
       "2020-10-15 16:18:41.420881                      0.0          0.0   \n",
       "\n",
       "Equipment                   VSLC RHL Line  \n",
       "2020-10-15 16:18:41.420881            0.0  \n",
       "\n",
       "[1 rows x 58 columns]"
      ]
     },
     "execution_count": 265,
     "metadata": {},
     "output_type": "execute_result"
    }
   ],
   "source": [
    "df_equipment_Grouped"
   ]
  },
  {
   "cell_type": "code",
   "execution_count": 253,
   "metadata": {},
   "outputs": [],
   "source": [
    "# prepare a list of columns for use in summing up progress per area    \n",
    "columns_dezn = ['De-Zn Feedline', '105TK01', '105TK02', '105TK03', '105TK05',\n",
    "                '105SP01/02', '105PU01ABCDEFG', '105FT01A', '105FT01B', '105FT01C',\n",
    "                '105FT01D', '105FT01E', '105FT01F', '105TK13', '105TK08']\n",
    "\n",
    "columns_MS = ['106TK01', 'MS FEEDLINE', '106VE01', '106VE02', '106VE03', \n",
    "              '106VE04', '106VE05', '106HX02', '106VB01AB', '106CP01AB', \n",
    "              '106TH01', '106FT02A', '106FT02B', '106TK08', '106TK04',\n",
    "              '106TK05', '106TK18', '106TK14', '106SP02', 'MS Common Vent/ 106SP01',\n",
    "              '106SR00/02\\n106SP03/04', '106SR03', '106SR04', '106TK15/ NaOH header line']\n",
    "\n",
    "columns_108_chem = [ '108TK01', '108TK04','24\" SPT tie in', 'VSLC RHL Line', '112TK00',\n",
    "                    '112TK01', '114HP/FD01', '114TK01', '114TK02', '114 Pumps', \n",
    "                    '115TK01','115TK02']\n",
    "columns_111_ls = ['111 Belt Conveyors\\n111VS01\\n111CR01AB', '111ML01','111TK01', '111PU01/\\n111CY01', '111TK02', \n",
    "                  '530CT31', '525NG01']"
   ]
  },
  {
   "cell_type": "code",
   "execution_count": 285,
   "metadata": {},
   "outputs": [
    {
     "data": {
      "text/html": [
       "<div>\n",
       "<style scoped>\n",
       "    .dataframe tbody tr th:only-of-type {\n",
       "        vertical-align: middle;\n",
       "    }\n",
       "\n",
       "    .dataframe tbody tr th {\n",
       "        vertical-align: top;\n",
       "    }\n",
       "\n",
       "    .dataframe thead th {\n",
       "        text-align: right;\n",
       "    }\n",
       "</style>\n",
       "<table border=\"1\" class=\"dataframe\">\n",
       "  <thead>\n",
       "    <tr style=\"text-align: right;\">\n",
       "      <th></th>\n",
       "      <th>Equipment</th>\n",
       "      <th>Activities</th>\n",
       "      <th>START_plan</th>\n",
       "      <th>FINISH_plan</th>\n",
       "      <th>Duration_hrs_plan</th>\n",
       "      <th>START_actual</th>\n",
       "      <th>FINISH_actual</th>\n",
       "      <th>Duration_hrs_ETA</th>\n",
       "      <th>Reference_time</th>\n",
       "      <th>hours_since_start</th>\n",
       "      <th>2020-10-15 16:18:41.420881</th>\n",
       "    </tr>\n",
       "    <tr>\n",
       "      <th>DATETIME</th>\n",
       "      <th></th>\n",
       "      <th></th>\n",
       "      <th></th>\n",
       "      <th></th>\n",
       "      <th></th>\n",
       "      <th></th>\n",
       "      <th></th>\n",
       "      <th></th>\n",
       "      <th></th>\n",
       "      <th></th>\n",
       "      <th></th>\n",
       "    </tr>\n",
       "  </thead>\n",
       "  <tbody>\n",
       "    <tr>\n",
       "      <td>2020-10-22 00:00:00</td>\n",
       "      <td>De-Zn Feedline</td>\n",
       "      <td>104PU01 Stop</td>\n",
       "      <td>2020-10-22 00:00:00</td>\n",
       "      <td>2020-10-22 01:00:00</td>\n",
       "      <td>0 days 01:00:00</td>\n",
       "      <td>2020-10-22 01:00:00</td>\n",
       "      <td>2020-10-22 02:00:00</td>\n",
       "      <td>0 days 03:00:00</td>\n",
       "      <td>2020-10-22 02:00:00.000000</td>\n",
       "      <td>0 days 02:00:00</td>\n",
       "      <td>66.666667</td>\n",
       "    </tr>\n",
       "    <tr>\n",
       "      <td>2020-10-22 01:00:00</td>\n",
       "      <td>De-Zn Feedline</td>\n",
       "      <td>LOTO Installation (Valves &amp; Pump)</td>\n",
       "      <td>2020-10-22 01:00:00</td>\n",
       "      <td>2020-10-22 03:00:00</td>\n",
       "      <td>0 days 02:00:00</td>\n",
       "      <td>2020-10-22 02:00:00</td>\n",
       "      <td>2020-10-22 05:00:00</td>\n",
       "      <td>0 days 05:00:00</td>\n",
       "      <td>2020-10-22 05:00:00.000000</td>\n",
       "      <td>0 days 04:00:00</td>\n",
       "      <td>80.000000</td>\n",
       "    </tr>\n",
       "    <tr>\n",
       "      <td>2020-10-22 01:00:00</td>\n",
       "      <td>De-Zn Feedline</td>\n",
       "      <td>Feedline level lowering/105TK01 Inerting</td>\n",
       "      <td>2020-10-22 01:00:00</td>\n",
       "      <td>2020-10-22 10:00:00</td>\n",
       "      <td>0 days 09:00:00</td>\n",
       "      <td>2020-10-22 02:00:00</td>\n",
       "      <td>2020-10-22 12:00:00</td>\n",
       "      <td>0 days 12:00:00</td>\n",
       "      <td>2020-10-22 12:00:00.000000</td>\n",
       "      <td>0 days 11:00:00</td>\n",
       "      <td>91.666667</td>\n",
       "    </tr>\n",
       "    <tr>\n",
       "      <td>2020-10-22 10:00:00</td>\n",
       "      <td>De-Zn Feedline</td>\n",
       "      <td>Feed Line Blinding/105TK01 inlet</td>\n",
       "      <td>2020-10-22 10:00:00</td>\n",
       "      <td>2020-10-22 12:00:00</td>\n",
       "      <td>0 days 02:00:00</td>\n",
       "      <td>2020-10-22 12:00:00</td>\n",
       "      <td>2020-10-22 14:00:00</td>\n",
       "      <td>0 days 05:00:00</td>\n",
       "      <td>2020-10-22 14:00:00.000000</td>\n",
       "      <td>0 days 04:00:00</td>\n",
       "      <td>80.000000</td>\n",
       "    </tr>\n",
       "    <tr>\n",
       "      <td>2020-10-22 12:00:00</td>\n",
       "      <td>De-Zn Feedline</td>\n",
       "      <td>Feed Line Draining</td>\n",
       "      <td>2020-10-22 12:00:00</td>\n",
       "      <td>2020-10-22 20:00:00</td>\n",
       "      <td>0 days 08:00:00</td>\n",
       "      <td>2020-10-22 14:00:00</td>\n",
       "      <td>2020-10-22 20:00:00</td>\n",
       "      <td>0 days 08:00:00</td>\n",
       "      <td>2020-10-22 20:00:00.000000</td>\n",
       "      <td>0 days 08:00:00</td>\n",
       "      <td>100.000000</td>\n",
       "    </tr>\n",
       "    <tr>\n",
       "      <td>...</td>\n",
       "      <td>...</td>\n",
       "      <td>...</td>\n",
       "      <td>...</td>\n",
       "      <td>...</td>\n",
       "      <td>...</td>\n",
       "      <td>...</td>\n",
       "      <td>...</td>\n",
       "      <td>...</td>\n",
       "      <td>...</td>\n",
       "      <td>...</td>\n",
       "      <td>...</td>\n",
       "    </tr>\n",
       "    <tr>\n",
       "      <td>2020-10-31 17:00:00</td>\n",
       "      <td>530CT31</td>\n",
       "      <td>Conditioning (Chemical dosing with heat load)</td>\n",
       "      <td>2020-10-31 17:00:00</td>\n",
       "      <td>2020-11-01 17:00:00</td>\n",
       "      <td>1 days 00:00:00</td>\n",
       "      <td>NaN</td>\n",
       "      <td>NaN</td>\n",
       "      <td>1 days 00:00:00</td>\n",
       "      <td>2020-10-15 16:18:41.316768</td>\n",
       "      <td>-17 days +23:18:41.316768</td>\n",
       "      <td>0.000000</td>\n",
       "    </tr>\n",
       "    <tr>\n",
       "      <td>2020-11-02 08:00:00</td>\n",
       "      <td>525NG01</td>\n",
       "      <td>525CP01AB PMS Activity (1 compressor/ day)</td>\n",
       "      <td>2020-11-02 08:00:00</td>\n",
       "      <td>2020-11-05 08:00:00</td>\n",
       "      <td>3 days 00:00:00</td>\n",
       "      <td>NaN</td>\n",
       "      <td>NaN</td>\n",
       "      <td>3 days 00:00:00</td>\n",
       "      <td>2020-10-15 16:18:41.316768</td>\n",
       "      <td>-18 days +08:18:41.316768</td>\n",
       "      <td>0.000000</td>\n",
       "    </tr>\n",
       "    <tr>\n",
       "      <td>2020-11-02 08:00:00</td>\n",
       "      <td>525NG01</td>\n",
       "      <td>KV valves inspection</td>\n",
       "      <td>2020-11-02 08:00:00</td>\n",
       "      <td>2020-11-06 08:00:00</td>\n",
       "      <td>4 days 00:00:00</td>\n",
       "      <td>NaN</td>\n",
       "      <td>NaN</td>\n",
       "      <td>4 days 00:00:00</td>\n",
       "      <td>2020-10-15 16:18:41.316768</td>\n",
       "      <td>-18 days +08:18:41.316768</td>\n",
       "      <td>0.000000</td>\n",
       "    </tr>\n",
       "    <tr>\n",
       "      <td>2020-11-02 08:00:00</td>\n",
       "      <td>525NG01</td>\n",
       "      <td>525NG01 Adsorber Renewal (6 days)</td>\n",
       "      <td>2020-11-02 08:00:00</td>\n",
       "      <td>2020-11-08 08:00:00</td>\n",
       "      <td>6 days 00:00:00</td>\n",
       "      <td>NaN</td>\n",
       "      <td>NaN</td>\n",
       "      <td>6 days 00:00:00</td>\n",
       "      <td>2020-10-15 16:18:41.316768</td>\n",
       "      <td>-18 days +08:18:41.316768</td>\n",
       "      <td>0.000000</td>\n",
       "    </tr>\n",
       "    <tr>\n",
       "      <td>2020-11-08 08:00:00</td>\n",
       "      <td>525NG01</td>\n",
       "      <td>50% Plant Load Operation</td>\n",
       "      <td>2020-11-08 08:00:00</td>\n",
       "      <td>2020-11-09 18:00:00</td>\n",
       "      <td>1 days 10:00:00</td>\n",
       "      <td>NaN</td>\n",
       "      <td>NaN</td>\n",
       "      <td>1 days 10:00:00</td>\n",
       "      <td>2020-10-15 16:18:41.316768</td>\n",
       "      <td>-24 days +08:18:41.316768</td>\n",
       "      <td>0.000000</td>\n",
       "    </tr>\n",
       "  </tbody>\n",
       "</table>\n",
       "<p>820 rows × 11 columns</p>\n",
       "</div>"
      ],
      "text/plain": [
       "                          Equipment  \\\n",
       "DATETIME                              \n",
       "2020-10-22 00:00:00  De-Zn Feedline   \n",
       "2020-10-22 01:00:00  De-Zn Feedline   \n",
       "2020-10-22 01:00:00  De-Zn Feedline   \n",
       "2020-10-22 10:00:00  De-Zn Feedline   \n",
       "2020-10-22 12:00:00  De-Zn Feedline   \n",
       "...                             ...   \n",
       "2020-10-31 17:00:00         530CT31   \n",
       "2020-11-02 08:00:00         525NG01   \n",
       "2020-11-02 08:00:00         525NG01   \n",
       "2020-11-02 08:00:00         525NG01   \n",
       "2020-11-08 08:00:00         525NG01   \n",
       "\n",
       "                                                        Activities  \\\n",
       "DATETIME                                                             \n",
       "2020-10-22 00:00:00                                   104PU01 Stop   \n",
       "2020-10-22 01:00:00              LOTO Installation (Valves & Pump)   \n",
       "2020-10-22 01:00:00       Feedline level lowering/105TK01 Inerting   \n",
       "2020-10-22 10:00:00               Feed Line Blinding/105TK01 inlet   \n",
       "2020-10-22 12:00:00                             Feed Line Draining   \n",
       "...                                                            ...   \n",
       "2020-10-31 17:00:00  Conditioning (Chemical dosing with heat load)   \n",
       "2020-11-02 08:00:00     525CP01AB PMS Activity (1 compressor/ day)   \n",
       "2020-11-02 08:00:00                           KV valves inspection   \n",
       "2020-11-02 08:00:00              525NG01 Adsorber Renewal (6 days)   \n",
       "2020-11-08 08:00:00                       50% Plant Load Operation   \n",
       "\n",
       "                             START_plan          FINISH_plan  \\\n",
       "DATETIME                                                       \n",
       "2020-10-22 00:00:00 2020-10-22 00:00:00  2020-10-22 01:00:00   \n",
       "2020-10-22 01:00:00 2020-10-22 01:00:00  2020-10-22 03:00:00   \n",
       "2020-10-22 01:00:00 2020-10-22 01:00:00  2020-10-22 10:00:00   \n",
       "2020-10-22 10:00:00 2020-10-22 10:00:00  2020-10-22 12:00:00   \n",
       "2020-10-22 12:00:00 2020-10-22 12:00:00  2020-10-22 20:00:00   \n",
       "...                                 ...                  ...   \n",
       "2020-10-31 17:00:00 2020-10-31 17:00:00  2020-11-01 17:00:00   \n",
       "2020-11-02 08:00:00 2020-11-02 08:00:00  2020-11-05 08:00:00   \n",
       "2020-11-02 08:00:00 2020-11-02 08:00:00  2020-11-06 08:00:00   \n",
       "2020-11-02 08:00:00 2020-11-02 08:00:00  2020-11-08 08:00:00   \n",
       "2020-11-08 08:00:00 2020-11-08 08:00:00  2020-11-09 18:00:00   \n",
       "\n",
       "                    Duration_hrs_plan         START_actual  \\\n",
       "DATETIME                                                     \n",
       "2020-10-22 00:00:00   0 days 01:00:00  2020-10-22 01:00:00   \n",
       "2020-10-22 01:00:00   0 days 02:00:00  2020-10-22 02:00:00   \n",
       "2020-10-22 01:00:00   0 days 09:00:00  2020-10-22 02:00:00   \n",
       "2020-10-22 10:00:00   0 days 02:00:00  2020-10-22 12:00:00   \n",
       "2020-10-22 12:00:00   0 days 08:00:00  2020-10-22 14:00:00   \n",
       "...                               ...                  ...   \n",
       "2020-10-31 17:00:00   1 days 00:00:00                  NaN   \n",
       "2020-11-02 08:00:00   3 days 00:00:00                  NaN   \n",
       "2020-11-02 08:00:00   4 days 00:00:00                  NaN   \n",
       "2020-11-02 08:00:00   6 days 00:00:00                  NaN   \n",
       "2020-11-08 08:00:00   1 days 10:00:00                  NaN   \n",
       "\n",
       "                           FINISH_actual Duration_hrs_ETA  \\\n",
       "DATETIME                                                    \n",
       "2020-10-22 00:00:00  2020-10-22 02:00:00  0 days 03:00:00   \n",
       "2020-10-22 01:00:00  2020-10-22 05:00:00  0 days 05:00:00   \n",
       "2020-10-22 01:00:00  2020-10-22 12:00:00  0 days 12:00:00   \n",
       "2020-10-22 10:00:00  2020-10-22 14:00:00  0 days 05:00:00   \n",
       "2020-10-22 12:00:00  2020-10-22 20:00:00  0 days 08:00:00   \n",
       "...                                  ...              ...   \n",
       "2020-10-31 17:00:00                  NaN  1 days 00:00:00   \n",
       "2020-11-02 08:00:00                  NaN  3 days 00:00:00   \n",
       "2020-11-02 08:00:00                  NaN  4 days 00:00:00   \n",
       "2020-11-02 08:00:00                  NaN  6 days 00:00:00   \n",
       "2020-11-08 08:00:00                  NaN  1 days 10:00:00   \n",
       "\n",
       "                                Reference_time         hours_since_start  \\\n",
       "DATETIME                                                                   \n",
       "2020-10-22 00:00:00 2020-10-22 02:00:00.000000           0 days 02:00:00   \n",
       "2020-10-22 01:00:00 2020-10-22 05:00:00.000000           0 days 04:00:00   \n",
       "2020-10-22 01:00:00 2020-10-22 12:00:00.000000           0 days 11:00:00   \n",
       "2020-10-22 10:00:00 2020-10-22 14:00:00.000000           0 days 04:00:00   \n",
       "2020-10-22 12:00:00 2020-10-22 20:00:00.000000           0 days 08:00:00   \n",
       "...                                        ...                       ...   \n",
       "2020-10-31 17:00:00 2020-10-15 16:18:41.316768 -17 days +23:18:41.316768   \n",
       "2020-11-02 08:00:00 2020-10-15 16:18:41.316768 -18 days +08:18:41.316768   \n",
       "2020-11-02 08:00:00 2020-10-15 16:18:41.316768 -18 days +08:18:41.316768   \n",
       "2020-11-02 08:00:00 2020-10-15 16:18:41.316768 -18 days +08:18:41.316768   \n",
       "2020-11-08 08:00:00 2020-10-15 16:18:41.316768 -24 days +08:18:41.316768   \n",
       "\n",
       "                     2020-10-15 16:18:41.420881  \n",
       "DATETIME                                         \n",
       "2020-10-22 00:00:00                   66.666667  \n",
       "2020-10-22 01:00:00                   80.000000  \n",
       "2020-10-22 01:00:00                   91.666667  \n",
       "2020-10-22 10:00:00                   80.000000  \n",
       "2020-10-22 12:00:00                  100.000000  \n",
       "...                                         ...  \n",
       "2020-10-31 17:00:00                    0.000000  \n",
       "2020-11-02 08:00:00                    0.000000  \n",
       "2020-11-02 08:00:00                    0.000000  \n",
       "2020-11-02 08:00:00                    0.000000  \n",
       "2020-11-08 08:00:00                    0.000000  \n",
       "\n",
       "[820 rows x 11 columns]"
      ]
     },
     "execution_count": 285,
     "metadata": {},
     "output_type": "execute_result"
    }
   ],
   "source": [
    "shutdown_sched_3['Equipment']"
   ]
  },
  {
   "cell_type": "code",
   "execution_count": null,
   "metadata": {},
   "outputs": [],
   "source": []
  },
  {
   "cell_type": "code",
   "execution_count": null,
   "metadata": {},
   "outputs": [],
   "source": []
  },
  {
   "cell_type": "code",
   "execution_count": 257,
   "metadata": {},
   "outputs": [],
   "source": [
    "\n",
    "# Compute the average %progress per area\n",
    "actual_MS_progress_plan_MAINTE = np.mean(df_equipment_Grouped[columns_MS], axis=1)\n",
    "actual_DeZn_progress_plan_MAINTE = np.mean(df_equipment_Grouped[columns_dezn], axis=1)\n",
    "actual_FNTRL_chem_progress_plan_MAINTE = np.mean(df_equipment_Grouped[columns_108_chem], axis=1)\n",
    "actual_LS_CT_progress_plan_MAINTE = np.mean(df_equipment_Grouped[columns_111_ls], axis=1)\n",
    "\n",
    "# Create a column for the %progress values per area\n",
    "df_equipment_Grouped['MS_progress_plan'] = actual_MS_progress_plan_MAINTE\n",
    "df_equipment_Grouped['DeZn_progress_plan'] = actual_DeZn_progress_plan_MAINTE\n",
    "df_equipment_Grouped['FNTRL_chem_progress_plan'] = actual_FNTRL_chem_progress_plan_MAINTE\n",
    "df_equipment_Grouped['LS_CT_progress_plan'] = actual_LS_CT_progress_plan_MAINTE\n",
    "\n",
    "\n",
    "\n",
    "\n"
   ]
  },
  {
   "cell_type": "code",
   "execution_count": 259,
   "metadata": {},
   "outputs": [],
   "source": [
    "def hour_rounder(t):\n",
    "    # Rounds to nearest hour by adding a timedelta hour if minute >= 30\n",
    "    return (t.replace(second=0, microsecond=0, minute=0, hour=t.hour)\n",
    "               +timedelta(hours=t.minute//30))"
   ]
  },
  {
   "cell_type": "markdown",
   "metadata": {},
   "source": [
    "#### Create the Plot"
   ]
  },
  {
   "cell_type": "code",
   "execution_count": 258,
   "metadata": {},
   "outputs": [
    {
     "data": {
      "application/vnd.plotly.v1+json": {
       "config": {
        "plotlyServerURL": "https://plot.ly"
       },
       "data": [
        {
         "name": "MS_progress_plan",
         "type": "scatter",
         "x": [
          "2020-10-15 16:18:41.420881"
         ],
         "xaxis": "x",
         "y": [
          1.864431396509433
         ],
         "yaxis": "y"
        },
        {
         "name": "DeZn_progress_plan",
         "type": "scatter",
         "x": [
          "2020-10-15 16:18:41.420881"
         ],
         "xaxis": "x",
         "y": [
          5.730634229000242
         ],
         "yaxis": "y"
        },
        {
         "name": "FNTRL_chem_progress_plan",
         "type": "scatter",
         "x": [
          "2020-10-15 16:18:41.420881"
         ],
         "xaxis": "x",
         "y": [
          0
         ],
         "yaxis": "y"
        },
        {
         "name": "LS_CT_progress_plan",
         "type": "scatter",
         "x": [
          "2020-10-15 16:18:41.420881"
         ],
         "xaxis": "x",
         "y": [
          0
         ],
         "yaxis": "y"
        }
       ],
       "layout": {
        "annotations": [
         {
          "ax": 20,
          "ay": -30,
          "font": {
           "color": "#8e2800",
           "family": "Courier New, monospace",
           "size": 16
          },
          "opacity": 0.5,
          "showarrow": false,
          "text": "Power Limitation",
          "textangle": -90,
          "x": "2020-10-24 10:00:00",
          "xref": "x",
          "yanchor": "middle",
          "yref": "paper"
         },
         {
          "ax": 20,
          "ay": -30,
          "font": {
           "color": "#8e2800",
           "family": "Courier New, monospace",
           "size": 16
          },
          "opacity": 0.5,
          "showarrow": false,
          "text": "Power Limitation",
          "textangle": -90,
          "x": "2020-11-09 05:00:00",
          "xref": "x",
          "yanchor": "middle",
          "yref": "paper"
         },
         {
          "ax": 20,
          "ay": -30,
          "font": {
           "color": "#850017",
           "family": "Courier New, monospace",
           "size": 16
          },
          "opacity": 0.5,
          "showarrow": false,
          "text": "E&I Blackout Activity",
          "textangle": -90,
          "x": "2020-11-01 12:00:00",
          "xref": "x",
          "yanchor": "middle",
          "yref": "paper"
         }
        ],
        "font": {
         "size": 10
        },
        "hoverdistance": 100,
        "hovermode": "x",
        "shapes": [
         {
          "fillcolor": "pink",
          "layer": "below",
          "line": {
           "width": 0
          },
          "opacity": 0.5,
          "type": "rect",
          "x0": "2020-11-01 04:30:00",
          "x1": "2020-11-01 19:00:00",
          "xref": "x",
          "y0": 0,
          "y1": 100,
          "yref": "y"
         },
         {
          "fillcolor": "LightSalmon",
          "layer": "below",
          "line": {
           "width": 0
          },
          "opacity": 0.5,
          "type": "rect",
          "x0": "2020-11-08 16:00:00",
          "x1": "2020-11-09 18:00:00",
          "xref": "x",
          "y0": 0,
          "y1": 100,
          "yref": "y"
         },
         {
          "fillcolor": "LightSalmon",
          "layer": "below",
          "line": {
           "width": 0
          },
          "opacity": 0.5,
          "type": "rect",
          "x0": "2020-10-23 14:00:00",
          "x1": "2020-10-25 08:00:00",
          "xref": "x",
          "y0": 0,
          "y1": 100,
          "yref": "y"
         },
         {
          "fillcolor": "pink",
          "layer": "below",
          "line": {
           "width": 0
          },
          "opacity": 0.5,
          "type": "rect",
          "x0": "2020-11-01 04:30:00",
          "x1": "2020-11-01 19:00:00",
          "xref": "x",
          "y0": 0,
          "y1": 100,
          "yref": "y"
         },
         {
          "fillcolor": "LightSalmon",
          "layer": "below",
          "line": {
           "width": 0
          },
          "opacity": 0.5,
          "type": "rect",
          "x0": "2020-11-08 16:00:00",
          "x1": "2020-11-09 18:00:00",
          "xref": "x",
          "y0": 0,
          "y1": 100,
          "yref": "y"
         },
         {
          "fillcolor": "LightSalmon",
          "layer": "below",
          "line": {
           "width": 0
          },
          "opacity": 0.5,
          "type": "rect",
          "x0": "2020-10-23 14:00:00",
          "x1": "2020-10-25 08:00:00",
          "xref": "x",
          "y0": 0,
          "y1": 100,
          "yref": "y"
         }
        ],
        "spikedistance": 1000,
        "template": {
         "data": {
          "bar": [
           {
            "error_x": {
             "color": "#2a3f5f"
            },
            "error_y": {
             "color": "#2a3f5f"
            },
            "marker": {
             "line": {
              "color": "#E5ECF6",
              "width": 0.5
             }
            },
            "type": "bar"
           }
          ],
          "barpolar": [
           {
            "marker": {
             "line": {
              "color": "#E5ECF6",
              "width": 0.5
             }
            },
            "type": "barpolar"
           }
          ],
          "carpet": [
           {
            "aaxis": {
             "endlinecolor": "#2a3f5f",
             "gridcolor": "white",
             "linecolor": "white",
             "minorgridcolor": "white",
             "startlinecolor": "#2a3f5f"
            },
            "baxis": {
             "endlinecolor": "#2a3f5f",
             "gridcolor": "white",
             "linecolor": "white",
             "minorgridcolor": "white",
             "startlinecolor": "#2a3f5f"
            },
            "type": "carpet"
           }
          ],
          "choropleth": [
           {
            "colorbar": {
             "outlinewidth": 0,
             "ticks": ""
            },
            "type": "choropleth"
           }
          ],
          "contour": [
           {
            "colorbar": {
             "outlinewidth": 0,
             "ticks": ""
            },
            "colorscale": [
             [
              0,
              "#0d0887"
             ],
             [
              0.1111111111111111,
              "#46039f"
             ],
             [
              0.2222222222222222,
              "#7201a8"
             ],
             [
              0.3333333333333333,
              "#9c179e"
             ],
             [
              0.4444444444444444,
              "#bd3786"
             ],
             [
              0.5555555555555556,
              "#d8576b"
             ],
             [
              0.6666666666666666,
              "#ed7953"
             ],
             [
              0.7777777777777778,
              "#fb9f3a"
             ],
             [
              0.8888888888888888,
              "#fdca26"
             ],
             [
              1,
              "#f0f921"
             ]
            ],
            "type": "contour"
           }
          ],
          "contourcarpet": [
           {
            "colorbar": {
             "outlinewidth": 0,
             "ticks": ""
            },
            "type": "contourcarpet"
           }
          ],
          "heatmap": [
           {
            "colorbar": {
             "outlinewidth": 0,
             "ticks": ""
            },
            "colorscale": [
             [
              0,
              "#0d0887"
             ],
             [
              0.1111111111111111,
              "#46039f"
             ],
             [
              0.2222222222222222,
              "#7201a8"
             ],
             [
              0.3333333333333333,
              "#9c179e"
             ],
             [
              0.4444444444444444,
              "#bd3786"
             ],
             [
              0.5555555555555556,
              "#d8576b"
             ],
             [
              0.6666666666666666,
              "#ed7953"
             ],
             [
              0.7777777777777778,
              "#fb9f3a"
             ],
             [
              0.8888888888888888,
              "#fdca26"
             ],
             [
              1,
              "#f0f921"
             ]
            ],
            "type": "heatmap"
           }
          ],
          "heatmapgl": [
           {
            "colorbar": {
             "outlinewidth": 0,
             "ticks": ""
            },
            "colorscale": [
             [
              0,
              "#0d0887"
             ],
             [
              0.1111111111111111,
              "#46039f"
             ],
             [
              0.2222222222222222,
              "#7201a8"
             ],
             [
              0.3333333333333333,
              "#9c179e"
             ],
             [
              0.4444444444444444,
              "#bd3786"
             ],
             [
              0.5555555555555556,
              "#d8576b"
             ],
             [
              0.6666666666666666,
              "#ed7953"
             ],
             [
              0.7777777777777778,
              "#fb9f3a"
             ],
             [
              0.8888888888888888,
              "#fdca26"
             ],
             [
              1,
              "#f0f921"
             ]
            ],
            "type": "heatmapgl"
           }
          ],
          "histogram": [
           {
            "marker": {
             "colorbar": {
              "outlinewidth": 0,
              "ticks": ""
             }
            },
            "type": "histogram"
           }
          ],
          "histogram2d": [
           {
            "colorbar": {
             "outlinewidth": 0,
             "ticks": ""
            },
            "colorscale": [
             [
              0,
              "#0d0887"
             ],
             [
              0.1111111111111111,
              "#46039f"
             ],
             [
              0.2222222222222222,
              "#7201a8"
             ],
             [
              0.3333333333333333,
              "#9c179e"
             ],
             [
              0.4444444444444444,
              "#bd3786"
             ],
             [
              0.5555555555555556,
              "#d8576b"
             ],
             [
              0.6666666666666666,
              "#ed7953"
             ],
             [
              0.7777777777777778,
              "#fb9f3a"
             ],
             [
              0.8888888888888888,
              "#fdca26"
             ],
             [
              1,
              "#f0f921"
             ]
            ],
            "type": "histogram2d"
           }
          ],
          "histogram2dcontour": [
           {
            "colorbar": {
             "outlinewidth": 0,
             "ticks": ""
            },
            "colorscale": [
             [
              0,
              "#0d0887"
             ],
             [
              0.1111111111111111,
              "#46039f"
             ],
             [
              0.2222222222222222,
              "#7201a8"
             ],
             [
              0.3333333333333333,
              "#9c179e"
             ],
             [
              0.4444444444444444,
              "#bd3786"
             ],
             [
              0.5555555555555556,
              "#d8576b"
             ],
             [
              0.6666666666666666,
              "#ed7953"
             ],
             [
              0.7777777777777778,
              "#fb9f3a"
             ],
             [
              0.8888888888888888,
              "#fdca26"
             ],
             [
              1,
              "#f0f921"
             ]
            ],
            "type": "histogram2dcontour"
           }
          ],
          "mesh3d": [
           {
            "colorbar": {
             "outlinewidth": 0,
             "ticks": ""
            },
            "type": "mesh3d"
           }
          ],
          "parcoords": [
           {
            "line": {
             "colorbar": {
              "outlinewidth": 0,
              "ticks": ""
             }
            },
            "type": "parcoords"
           }
          ],
          "pie": [
           {
            "automargin": true,
            "type": "pie"
           }
          ],
          "scatter": [
           {
            "marker": {
             "colorbar": {
              "outlinewidth": 0,
              "ticks": ""
             }
            },
            "type": "scatter"
           }
          ],
          "scatter3d": [
           {
            "line": {
             "colorbar": {
              "outlinewidth": 0,
              "ticks": ""
             }
            },
            "marker": {
             "colorbar": {
              "outlinewidth": 0,
              "ticks": ""
             }
            },
            "type": "scatter3d"
           }
          ],
          "scattercarpet": [
           {
            "marker": {
             "colorbar": {
              "outlinewidth": 0,
              "ticks": ""
             }
            },
            "type": "scattercarpet"
           }
          ],
          "scattergeo": [
           {
            "marker": {
             "colorbar": {
              "outlinewidth": 0,
              "ticks": ""
             }
            },
            "type": "scattergeo"
           }
          ],
          "scattergl": [
           {
            "marker": {
             "colorbar": {
              "outlinewidth": 0,
              "ticks": ""
             }
            },
            "type": "scattergl"
           }
          ],
          "scattermapbox": [
           {
            "marker": {
             "colorbar": {
              "outlinewidth": 0,
              "ticks": ""
             }
            },
            "type": "scattermapbox"
           }
          ],
          "scatterpolar": [
           {
            "marker": {
             "colorbar": {
              "outlinewidth": 0,
              "ticks": ""
             }
            },
            "type": "scatterpolar"
           }
          ],
          "scatterpolargl": [
           {
            "marker": {
             "colorbar": {
              "outlinewidth": 0,
              "ticks": ""
             }
            },
            "type": "scatterpolargl"
           }
          ],
          "scatterternary": [
           {
            "marker": {
             "colorbar": {
              "outlinewidth": 0,
              "ticks": ""
             }
            },
            "type": "scatterternary"
           }
          ],
          "surface": [
           {
            "colorbar": {
             "outlinewidth": 0,
             "ticks": ""
            },
            "colorscale": [
             [
              0,
              "#0d0887"
             ],
             [
              0.1111111111111111,
              "#46039f"
             ],
             [
              0.2222222222222222,
              "#7201a8"
             ],
             [
              0.3333333333333333,
              "#9c179e"
             ],
             [
              0.4444444444444444,
              "#bd3786"
             ],
             [
              0.5555555555555556,
              "#d8576b"
             ],
             [
              0.6666666666666666,
              "#ed7953"
             ],
             [
              0.7777777777777778,
              "#fb9f3a"
             ],
             [
              0.8888888888888888,
              "#fdca26"
             ],
             [
              1,
              "#f0f921"
             ]
            ],
            "type": "surface"
           }
          ],
          "table": [
           {
            "cells": {
             "fill": {
              "color": "#EBF0F8"
             },
             "line": {
              "color": "white"
             }
            },
            "header": {
             "fill": {
              "color": "#C8D4E3"
             },
             "line": {
              "color": "white"
             }
            },
            "type": "table"
           }
          ]
         },
         "layout": {
          "annotationdefaults": {
           "arrowcolor": "#2a3f5f",
           "arrowhead": 0,
           "arrowwidth": 1
          },
          "coloraxis": {
           "colorbar": {
            "outlinewidth": 0,
            "ticks": ""
           }
          },
          "colorscale": {
           "diverging": [
            [
             0,
             "#8e0152"
            ],
            [
             0.1,
             "#c51b7d"
            ],
            [
             0.2,
             "#de77ae"
            ],
            [
             0.3,
             "#f1b6da"
            ],
            [
             0.4,
             "#fde0ef"
            ],
            [
             0.5,
             "#f7f7f7"
            ],
            [
             0.6,
             "#e6f5d0"
            ],
            [
             0.7,
             "#b8e186"
            ],
            [
             0.8,
             "#7fbc41"
            ],
            [
             0.9,
             "#4d9221"
            ],
            [
             1,
             "#276419"
            ]
           ],
           "sequential": [
            [
             0,
             "#0d0887"
            ],
            [
             0.1111111111111111,
             "#46039f"
            ],
            [
             0.2222222222222222,
             "#7201a8"
            ],
            [
             0.3333333333333333,
             "#9c179e"
            ],
            [
             0.4444444444444444,
             "#bd3786"
            ],
            [
             0.5555555555555556,
             "#d8576b"
            ],
            [
             0.6666666666666666,
             "#ed7953"
            ],
            [
             0.7777777777777778,
             "#fb9f3a"
            ],
            [
             0.8888888888888888,
             "#fdca26"
            ],
            [
             1,
             "#f0f921"
            ]
           ],
           "sequentialminus": [
            [
             0,
             "#0d0887"
            ],
            [
             0.1111111111111111,
             "#46039f"
            ],
            [
             0.2222222222222222,
             "#7201a8"
            ],
            [
             0.3333333333333333,
             "#9c179e"
            ],
            [
             0.4444444444444444,
             "#bd3786"
            ],
            [
             0.5555555555555556,
             "#d8576b"
            ],
            [
             0.6666666666666666,
             "#ed7953"
            ],
            [
             0.7777777777777778,
             "#fb9f3a"
            ],
            [
             0.8888888888888888,
             "#fdca26"
            ],
            [
             1,
             "#f0f921"
            ]
           ]
          },
          "colorway": [
           "#636efa",
           "#EF553B",
           "#00cc96",
           "#ab63fa",
           "#FFA15A",
           "#19d3f3",
           "#FF6692",
           "#B6E880",
           "#FF97FF",
           "#FECB52"
          ],
          "font": {
           "color": "#2a3f5f"
          },
          "geo": {
           "bgcolor": "white",
           "lakecolor": "white",
           "landcolor": "#E5ECF6",
           "showlakes": true,
           "showland": true,
           "subunitcolor": "white"
          },
          "hoverlabel": {
           "align": "left"
          },
          "hovermode": "closest",
          "mapbox": {
           "style": "light"
          },
          "paper_bgcolor": "white",
          "plot_bgcolor": "#E5ECF6",
          "polar": {
           "angularaxis": {
            "gridcolor": "white",
            "linecolor": "white",
            "ticks": ""
           },
           "bgcolor": "#E5ECF6",
           "radialaxis": {
            "gridcolor": "white",
            "linecolor": "white",
            "ticks": ""
           }
          },
          "scene": {
           "xaxis": {
            "backgroundcolor": "#E5ECF6",
            "gridcolor": "white",
            "gridwidth": 2,
            "linecolor": "white",
            "showbackground": true,
            "ticks": "",
            "zerolinecolor": "white"
           },
           "yaxis": {
            "backgroundcolor": "#E5ECF6",
            "gridcolor": "white",
            "gridwidth": 2,
            "linecolor": "white",
            "showbackground": true,
            "ticks": "",
            "zerolinecolor": "white"
           },
           "zaxis": {
            "backgroundcolor": "#E5ECF6",
            "gridcolor": "white",
            "gridwidth": 2,
            "linecolor": "white",
            "showbackground": true,
            "ticks": "",
            "zerolinecolor": "white"
           }
          },
          "shapedefaults": {
           "line": {
            "color": "#2a3f5f"
           }
          },
          "ternary": {
           "aaxis": {
            "gridcolor": "white",
            "linecolor": "white",
            "ticks": ""
           },
           "baxis": {
            "gridcolor": "white",
            "linecolor": "white",
            "ticks": ""
           },
           "bgcolor": "#E5ECF6",
           "caxis": {
            "gridcolor": "white",
            "linecolor": "white",
            "ticks": ""
           }
          },
          "title": {
           "x": 0.05
          },
          "xaxis": {
           "automargin": true,
           "gridcolor": "white",
           "linecolor": "white",
           "ticks": "",
           "title": {
            "standoff": 15
           },
           "zerolinecolor": "white",
           "zerolinewidth": 2
          },
          "yaxis": {
           "automargin": true,
           "gridcolor": "white",
           "linecolor": "white",
           "ticks": "",
           "title": {
            "standoff": 15
           },
           "zerolinecolor": "white",
           "zerolinewidth": 2
          }
         }
        },
        "title": {
         "text": "<b>MS PLANT Shutdown Progress</b> Hourly Tracker"
        },
        "xaxis": {
         "anchor": "y",
         "domain": [
          0,
          1
         ],
         "linecolor": "#BCCCDC",
         "showspikes": true,
         "spikecolor": "#999999",
         "spikedash": "dot",
         "spikemode": "across",
         "spikethickness": 2,
         "title": {
          "text": "Datetime"
         }
        },
        "yaxis": {
         "anchor": "x",
         "domain": [
          0,
          1
         ],
         "title": {
          "text": "ShutDown Progress %"
         }
        }
       }
      },
      "text/html": [
       "<div>\n",
       "        \n",
       "        \n",
       "            <div id=\"0d5a5742-03d8-436f-b572-393a535c15f4\" class=\"plotly-graph-div\" style=\"height:525px; width:100%;\"></div>\n",
       "            <script type=\"text/javascript\">\n",
       "                require([\"plotly\"], function(Plotly) {\n",
       "                    window.PLOTLYENV=window.PLOTLYENV || {};\n",
       "                    \n",
       "                if (document.getElementById(\"0d5a5742-03d8-436f-b572-393a535c15f4\")) {\n",
       "                    Plotly.newPlot(\n",
       "                        '0d5a5742-03d8-436f-b572-393a535c15f4',\n",
       "                        [{\"name\": \"MS_progress_plan\", \"type\": \"scatter\", \"x\": [\"2020-10-15 16:18:41.420881\"], \"xaxis\": \"x\", \"y\": [1.864431396509433], \"yaxis\": \"y\"}, {\"name\": \"DeZn_progress_plan\", \"type\": \"scatter\", \"x\": [\"2020-10-15 16:18:41.420881\"], \"xaxis\": \"x\", \"y\": [5.730634229000242], \"yaxis\": \"y\"}, {\"name\": \"FNTRL_chem_progress_plan\", \"type\": \"scatter\", \"x\": [\"2020-10-15 16:18:41.420881\"], \"xaxis\": \"x\", \"y\": [0.0], \"yaxis\": \"y\"}, {\"name\": \"LS_CT_progress_plan\", \"type\": \"scatter\", \"x\": [\"2020-10-15 16:18:41.420881\"], \"xaxis\": \"x\", \"y\": [0.0], \"yaxis\": \"y\"}],\n",
       "                        {\"annotations\": [{\"ax\": 20, \"ay\": -30, \"font\": {\"color\": \"#8e2800\", \"family\": \"Courier New, monospace\", \"size\": 16}, \"opacity\": 0.5, \"showarrow\": false, \"text\": \"Power Limitation\", \"textangle\": -90, \"x\": \"2020-10-24 10:00:00\", \"xref\": \"x\", \"yanchor\": \"middle\", \"yref\": \"paper\"}, {\"ax\": 20, \"ay\": -30, \"font\": {\"color\": \"#8e2800\", \"family\": \"Courier New, monospace\", \"size\": 16}, \"opacity\": 0.5, \"showarrow\": false, \"text\": \"Power Limitation\", \"textangle\": -90, \"x\": \"2020-11-09 05:00:00\", \"xref\": \"x\", \"yanchor\": \"middle\", \"yref\": \"paper\"}, {\"ax\": 20, \"ay\": -30, \"font\": {\"color\": \"#850017\", \"family\": \"Courier New, monospace\", \"size\": 16}, \"opacity\": 0.5, \"showarrow\": false, \"text\": \"E&I Blackout Activity\", \"textangle\": -90, \"x\": \"2020-11-01 12:00:00\", \"xref\": \"x\", \"yanchor\": \"middle\", \"yref\": \"paper\"}], \"font\": {\"size\": 10}, \"hoverdistance\": 100, \"hovermode\": \"x\", \"shapes\": [{\"fillcolor\": \"pink\", \"layer\": \"below\", \"line\": {\"width\": 0}, \"opacity\": 0.5, \"type\": \"rect\", \"x0\": \"2020-11-01 04:30:00\", \"x1\": \"2020-11-01 19:00:00\", \"xref\": \"x\", \"y0\": 0, \"y1\": 100, \"yref\": \"y\"}, {\"fillcolor\": \"LightSalmon\", \"layer\": \"below\", \"line\": {\"width\": 0}, \"opacity\": 0.5, \"type\": \"rect\", \"x0\": \"2020-11-08 16:00:00\", \"x1\": \"2020-11-09 18:00:00\", \"xref\": \"x\", \"y0\": 0, \"y1\": 100, \"yref\": \"y\"}, {\"fillcolor\": \"LightSalmon\", \"layer\": \"below\", \"line\": {\"width\": 0}, \"opacity\": 0.5, \"type\": \"rect\", \"x0\": \"2020-10-23 14:00:00\", \"x1\": \"2020-10-25 08:00:00\", \"xref\": \"x\", \"y0\": 0, \"y1\": 100, \"yref\": \"y\"}, {\"fillcolor\": \"pink\", \"layer\": \"below\", \"line\": {\"width\": 0}, \"opacity\": 0.5, \"type\": \"rect\", \"x0\": \"2020-11-01 04:30:00\", \"x1\": \"2020-11-01 19:00:00\", \"xref\": \"x\", \"y0\": 0, \"y1\": 100, \"yref\": \"y\"}, {\"fillcolor\": \"LightSalmon\", \"layer\": \"below\", \"line\": {\"width\": 0}, \"opacity\": 0.5, \"type\": \"rect\", \"x0\": \"2020-11-08 16:00:00\", \"x1\": \"2020-11-09 18:00:00\", \"xref\": \"x\", \"y0\": 0, \"y1\": 100, \"yref\": \"y\"}, {\"fillcolor\": \"LightSalmon\", \"layer\": \"below\", \"line\": {\"width\": 0}, \"opacity\": 0.5, \"type\": \"rect\", \"x0\": \"2020-10-23 14:00:00\", \"x1\": \"2020-10-25 08:00:00\", \"xref\": \"x\", \"y0\": 0, \"y1\": 100, \"yref\": \"y\"}], \"spikedistance\": 1000, \"template\": {\"data\": {\"bar\": [{\"error_x\": {\"color\": \"#2a3f5f\"}, \"error_y\": {\"color\": \"#2a3f5f\"}, \"marker\": {\"line\": {\"color\": \"#E5ECF6\", \"width\": 0.5}}, \"type\": \"bar\"}], \"barpolar\": [{\"marker\": {\"line\": {\"color\": \"#E5ECF6\", \"width\": 0.5}}, \"type\": \"barpolar\"}], \"carpet\": [{\"aaxis\": {\"endlinecolor\": \"#2a3f5f\", \"gridcolor\": \"white\", \"linecolor\": \"white\", \"minorgridcolor\": \"white\", \"startlinecolor\": \"#2a3f5f\"}, \"baxis\": {\"endlinecolor\": \"#2a3f5f\", \"gridcolor\": \"white\", \"linecolor\": \"white\", \"minorgridcolor\": \"white\", \"startlinecolor\": \"#2a3f5f\"}, \"type\": \"carpet\"}], \"choropleth\": [{\"colorbar\": {\"outlinewidth\": 0, \"ticks\": \"\"}, \"type\": \"choropleth\"}], \"contour\": [{\"colorbar\": {\"outlinewidth\": 0, \"ticks\": \"\"}, \"colorscale\": [[0.0, \"#0d0887\"], [0.1111111111111111, \"#46039f\"], [0.2222222222222222, \"#7201a8\"], [0.3333333333333333, \"#9c179e\"], [0.4444444444444444, \"#bd3786\"], [0.5555555555555556, \"#d8576b\"], [0.6666666666666666, \"#ed7953\"], [0.7777777777777778, \"#fb9f3a\"], [0.8888888888888888, \"#fdca26\"], [1.0, \"#f0f921\"]], \"type\": \"contour\"}], \"contourcarpet\": [{\"colorbar\": {\"outlinewidth\": 0, \"ticks\": \"\"}, \"type\": \"contourcarpet\"}], \"heatmap\": [{\"colorbar\": {\"outlinewidth\": 0, \"ticks\": \"\"}, \"colorscale\": [[0.0, \"#0d0887\"], [0.1111111111111111, \"#46039f\"], [0.2222222222222222, \"#7201a8\"], [0.3333333333333333, \"#9c179e\"], [0.4444444444444444, \"#bd3786\"], [0.5555555555555556, \"#d8576b\"], [0.6666666666666666, \"#ed7953\"], [0.7777777777777778, \"#fb9f3a\"], [0.8888888888888888, \"#fdca26\"], [1.0, \"#f0f921\"]], \"type\": \"heatmap\"}], \"heatmapgl\": [{\"colorbar\": {\"outlinewidth\": 0, \"ticks\": \"\"}, \"colorscale\": [[0.0, \"#0d0887\"], [0.1111111111111111, \"#46039f\"], [0.2222222222222222, \"#7201a8\"], [0.3333333333333333, \"#9c179e\"], [0.4444444444444444, \"#bd3786\"], [0.5555555555555556, \"#d8576b\"], [0.6666666666666666, \"#ed7953\"], [0.7777777777777778, \"#fb9f3a\"], [0.8888888888888888, \"#fdca26\"], [1.0, \"#f0f921\"]], \"type\": \"heatmapgl\"}], \"histogram\": [{\"marker\": {\"colorbar\": {\"outlinewidth\": 0, \"ticks\": \"\"}}, \"type\": \"histogram\"}], \"histogram2d\": [{\"colorbar\": {\"outlinewidth\": 0, \"ticks\": \"\"}, \"colorscale\": [[0.0, \"#0d0887\"], [0.1111111111111111, \"#46039f\"], [0.2222222222222222, \"#7201a8\"], [0.3333333333333333, \"#9c179e\"], [0.4444444444444444, \"#bd3786\"], [0.5555555555555556, \"#d8576b\"], [0.6666666666666666, \"#ed7953\"], [0.7777777777777778, \"#fb9f3a\"], [0.8888888888888888, \"#fdca26\"], [1.0, \"#f0f921\"]], \"type\": \"histogram2d\"}], \"histogram2dcontour\": [{\"colorbar\": {\"outlinewidth\": 0, \"ticks\": \"\"}, \"colorscale\": [[0.0, \"#0d0887\"], [0.1111111111111111, \"#46039f\"], [0.2222222222222222, \"#7201a8\"], [0.3333333333333333, \"#9c179e\"], [0.4444444444444444, \"#bd3786\"], [0.5555555555555556, \"#d8576b\"], [0.6666666666666666, \"#ed7953\"], [0.7777777777777778, \"#fb9f3a\"], [0.8888888888888888, \"#fdca26\"], [1.0, \"#f0f921\"]], \"type\": \"histogram2dcontour\"}], \"mesh3d\": [{\"colorbar\": {\"outlinewidth\": 0, \"ticks\": \"\"}, \"type\": \"mesh3d\"}], \"parcoords\": [{\"line\": {\"colorbar\": {\"outlinewidth\": 0, \"ticks\": \"\"}}, \"type\": \"parcoords\"}], \"pie\": [{\"automargin\": true, \"type\": \"pie\"}], \"scatter\": [{\"marker\": {\"colorbar\": {\"outlinewidth\": 0, \"ticks\": \"\"}}, \"type\": \"scatter\"}], \"scatter3d\": [{\"line\": {\"colorbar\": {\"outlinewidth\": 0, \"ticks\": \"\"}}, \"marker\": {\"colorbar\": {\"outlinewidth\": 0, \"ticks\": \"\"}}, \"type\": \"scatter3d\"}], \"scattercarpet\": [{\"marker\": {\"colorbar\": {\"outlinewidth\": 0, \"ticks\": \"\"}}, \"type\": \"scattercarpet\"}], \"scattergeo\": [{\"marker\": {\"colorbar\": {\"outlinewidth\": 0, \"ticks\": \"\"}}, \"type\": \"scattergeo\"}], \"scattergl\": [{\"marker\": {\"colorbar\": {\"outlinewidth\": 0, \"ticks\": \"\"}}, \"type\": \"scattergl\"}], \"scattermapbox\": [{\"marker\": {\"colorbar\": {\"outlinewidth\": 0, \"ticks\": \"\"}}, \"type\": \"scattermapbox\"}], \"scatterpolar\": [{\"marker\": {\"colorbar\": {\"outlinewidth\": 0, \"ticks\": \"\"}}, \"type\": \"scatterpolar\"}], \"scatterpolargl\": [{\"marker\": {\"colorbar\": {\"outlinewidth\": 0, \"ticks\": \"\"}}, \"type\": \"scatterpolargl\"}], \"scatterternary\": [{\"marker\": {\"colorbar\": {\"outlinewidth\": 0, \"ticks\": \"\"}}, \"type\": \"scatterternary\"}], \"surface\": [{\"colorbar\": {\"outlinewidth\": 0, \"ticks\": \"\"}, \"colorscale\": [[0.0, \"#0d0887\"], [0.1111111111111111, \"#46039f\"], [0.2222222222222222, \"#7201a8\"], [0.3333333333333333, \"#9c179e\"], [0.4444444444444444, \"#bd3786\"], [0.5555555555555556, \"#d8576b\"], [0.6666666666666666, \"#ed7953\"], [0.7777777777777778, \"#fb9f3a\"], [0.8888888888888888, \"#fdca26\"], [1.0, \"#f0f921\"]], \"type\": \"surface\"}], \"table\": [{\"cells\": {\"fill\": {\"color\": \"#EBF0F8\"}, \"line\": {\"color\": \"white\"}}, \"header\": {\"fill\": {\"color\": \"#C8D4E3\"}, \"line\": {\"color\": \"white\"}}, \"type\": \"table\"}]}, \"layout\": {\"annotationdefaults\": {\"arrowcolor\": \"#2a3f5f\", \"arrowhead\": 0, \"arrowwidth\": 1}, \"coloraxis\": {\"colorbar\": {\"outlinewidth\": 0, \"ticks\": \"\"}}, \"colorscale\": {\"diverging\": [[0, \"#8e0152\"], [0.1, \"#c51b7d\"], [0.2, \"#de77ae\"], [0.3, \"#f1b6da\"], [0.4, \"#fde0ef\"], [0.5, \"#f7f7f7\"], [0.6, \"#e6f5d0\"], [0.7, \"#b8e186\"], [0.8, \"#7fbc41\"], [0.9, \"#4d9221\"], [1, \"#276419\"]], \"sequential\": [[0.0, \"#0d0887\"], [0.1111111111111111, \"#46039f\"], [0.2222222222222222, \"#7201a8\"], [0.3333333333333333, \"#9c179e\"], [0.4444444444444444, \"#bd3786\"], [0.5555555555555556, \"#d8576b\"], [0.6666666666666666, \"#ed7953\"], [0.7777777777777778, \"#fb9f3a\"], [0.8888888888888888, \"#fdca26\"], [1.0, \"#f0f921\"]], \"sequentialminus\": [[0.0, \"#0d0887\"], [0.1111111111111111, \"#46039f\"], [0.2222222222222222, \"#7201a8\"], [0.3333333333333333, \"#9c179e\"], [0.4444444444444444, \"#bd3786\"], [0.5555555555555556, \"#d8576b\"], [0.6666666666666666, \"#ed7953\"], [0.7777777777777778, \"#fb9f3a\"], [0.8888888888888888, \"#fdca26\"], [1.0, \"#f0f921\"]]}, \"colorway\": [\"#636efa\", \"#EF553B\", \"#00cc96\", \"#ab63fa\", \"#FFA15A\", \"#19d3f3\", \"#FF6692\", \"#B6E880\", \"#FF97FF\", \"#FECB52\"], \"font\": {\"color\": \"#2a3f5f\"}, \"geo\": {\"bgcolor\": \"white\", \"lakecolor\": \"white\", \"landcolor\": \"#E5ECF6\", \"showlakes\": true, \"showland\": true, \"subunitcolor\": \"white\"}, \"hoverlabel\": {\"align\": \"left\"}, \"hovermode\": \"closest\", \"mapbox\": {\"style\": \"light\"}, \"paper_bgcolor\": \"white\", \"plot_bgcolor\": \"#E5ECF6\", \"polar\": {\"angularaxis\": {\"gridcolor\": \"white\", \"linecolor\": \"white\", \"ticks\": \"\"}, \"bgcolor\": \"#E5ECF6\", \"radialaxis\": {\"gridcolor\": \"white\", \"linecolor\": \"white\", \"ticks\": \"\"}}, \"scene\": {\"xaxis\": {\"backgroundcolor\": \"#E5ECF6\", \"gridcolor\": \"white\", \"gridwidth\": 2, \"linecolor\": \"white\", \"showbackground\": true, \"ticks\": \"\", \"zerolinecolor\": \"white\"}, \"yaxis\": {\"backgroundcolor\": \"#E5ECF6\", \"gridcolor\": \"white\", \"gridwidth\": 2, \"linecolor\": \"white\", \"showbackground\": true, \"ticks\": \"\", \"zerolinecolor\": \"white\"}, \"zaxis\": {\"backgroundcolor\": \"#E5ECF6\", \"gridcolor\": \"white\", \"gridwidth\": 2, \"linecolor\": \"white\", \"showbackground\": true, \"ticks\": \"\", \"zerolinecolor\": \"white\"}}, \"shapedefaults\": {\"line\": {\"color\": \"#2a3f5f\"}}, \"ternary\": {\"aaxis\": {\"gridcolor\": \"white\", \"linecolor\": \"white\", \"ticks\": \"\"}, \"baxis\": {\"gridcolor\": \"white\", \"linecolor\": \"white\", \"ticks\": \"\"}, \"bgcolor\": \"#E5ECF6\", \"caxis\": {\"gridcolor\": \"white\", \"linecolor\": \"white\", \"ticks\": \"\"}}, \"title\": {\"x\": 0.05}, \"xaxis\": {\"automargin\": true, \"gridcolor\": \"white\", \"linecolor\": \"white\", \"ticks\": \"\", \"title\": {\"standoff\": 15}, \"zerolinecolor\": \"white\", \"zerolinewidth\": 2}, \"yaxis\": {\"automargin\": true, \"gridcolor\": \"white\", \"linecolor\": \"white\", \"ticks\": \"\", \"title\": {\"standoff\": 15}, \"zerolinecolor\": \"white\", \"zerolinewidth\": 2}}}, \"title\": {\"text\": \"<b>MS PLANT Shutdown Progress</b> Hourly Tracker\"}, \"xaxis\": {\"anchor\": \"y\", \"domain\": [0.0, 1.0], \"linecolor\": \"#BCCCDC\", \"showspikes\": true, \"spikecolor\": \"#999999\", \"spikedash\": \"dot\", \"spikemode\": \"across\", \"spikethickness\": 2, \"title\": {\"text\": \"Datetime\"}}, \"yaxis\": {\"anchor\": \"x\", \"domain\": [0.0, 1.0], \"title\": {\"text\": \"ShutDown Progress %\"}}},\n",
       "                        {\"responsive\": true}\n",
       "                    ).then(function(){\n",
       "                            \n",
       "var gd = document.getElementById('0d5a5742-03d8-436f-b572-393a535c15f4');\n",
       "var x = new MutationObserver(function (mutations, observer) {{\n",
       "        var display = window.getComputedStyle(gd).display;\n",
       "        if (!display || display === 'none') {{\n",
       "            console.log([gd, 'removed!']);\n",
       "            Plotly.purge(gd);\n",
       "            observer.disconnect();\n",
       "        }}\n",
       "}});\n",
       "\n",
       "// Listen for the removal of the full notebook cells\n",
       "var notebookContainer = gd.closest('#notebook-container');\n",
       "if (notebookContainer) {{\n",
       "    x.observe(notebookContainer, {childList: true});\n",
       "}}\n",
       "\n",
       "// Listen for the clearing of the current output cell\n",
       "var outputEl = gd.closest('.output');\n",
       "if (outputEl) {{\n",
       "    x.observe(outputEl, {childList: true});\n",
       "}}\n",
       "\n",
       "                        })\n",
       "                };\n",
       "                });\n",
       "            </script>\n",
       "        </div>"
      ]
     },
     "metadata": {},
     "output_type": "display_data"
    }
   ],
   "source": [
    "#### Plotting the SD progress including the maintenance activities\n",
    "#\n",
    "fig_SD_MAINTE_actual = make_subplots(\n",
    "    rows=1, cols=1,\n",
    "    specs=[[{\"type\": \"scatter\"}]])\n",
    "fig_SD_MAINTE_actual.add_trace(go.Scatter(x=df_equipment_Grouped['MS_progress_plan'].index, y=df_equipment_Grouped['MS_progress_plan'], name='MS_progress_plan'), secondary_y=False,)\n",
    "fig_SD_MAINTE_actual.add_trace(go.Scatter(x=df_equipment_Grouped['DeZn_progress_plan'].index, y=df_equipment_Grouped['DeZn_progress_plan'], name='DeZn_progress_plan'), secondary_y=False,)     \n",
    "fig_SD_MAINTE_actual.add_trace(go.Scatter(x=df_equipment_Grouped['FNTRL_chem_progress_plan'].index, y=df_equipment_Grouped['FNTRL_chem_progress_plan'], name='FNTRL_chem_progress_plan'), secondary_y=False,)    \n",
    "fig_SD_MAINTE_actual.add_trace(go.Scatter(x=df_equipment_Grouped['LS_CT_progress_plan'].index, y=df_equipment_Grouped['LS_CT_progress_plan'], name='LS_CT_progress_plan'), secondary_y=False,)    \n",
    "# adding a range slider below the graph in plotly\n",
    "#Example:\n",
    "#title_plotAcid = 'SD Progress 2020'\n",
    "#fig_SD.update_layout(title_text=title_plotAcid,xaxis=dict(rangeslider=dict(visible = True),type='date'))\n",
    "fig_SD_MAINTE_actual.update_xaxes(title_text=\"Datetime\") # Set x-axis title\n",
    "fig_SD_MAINTE_actual.update_yaxes(title_text=\"ShutDown Progress %\",secondary_y=False) # Set y-axes titles primary axis\n",
    "\n",
    "\n",
    "title_plot_SD = \"<b>MS PLANT Shutdown Progress</b> Hourly Tracker\"\n",
    "fig_SD_MAINTE_actual.update_layout(title_text=title_plot_SD ,hovermode=\"x\",\n",
    "                       hoverdistance=100, # Distance to show hover label of data point\n",
    "                       spikedistance=1000, # Distance to show spike\n",
    "                       xaxis=dict(linecolor=\"#BCCCDC\",\n",
    "                                   showspikes=True, # Show spike line for X-axis\n",
    "                                   # Format spike\n",
    "                                   spikethickness=2,\n",
    "                                   spikedash=\"dot\",\n",
    "                                   spikecolor=\"#999999\",\n",
    "                                   spikemode=\"across\"), font=dict(size=10)\n",
    "                               )\n",
    "\n",
    "# Mark the datetime of power limitation by shading these regions with light color\n",
    "fig_SD_MAINTE_actual.add_shape(\n",
    "        # filled Rectangle\n",
    "            type=\"rect\",\n",
    "            x0='2020-11-01 04:30:00',\n",
    "            y0=0,\n",
    "            x1='2020-11-01 19:00:00',\n",
    "            y1=100,\n",
    "            fillcolor=\"pink\",\n",
    "            opacity=0.5,\n",
    "            layer=\"below\",\n",
    "            line_width=0,\n",
    "        )\n",
    "fig_SD_MAINTE_actual.add_shape(\n",
    "        # filled Rectangle\n",
    "            type=\"rect\",\n",
    "            x0='2020-11-08 16:00:00',\n",
    "            y0=0,\n",
    "            x1='2020-11-09 18:00:00',\n",
    "            y1=100,\n",
    "            fillcolor=\"LightSalmon\",\n",
    "            opacity=0.5,\n",
    "            layer=\"below\",\n",
    "            line_width=0,\n",
    "        )\n",
    "\n",
    "fig_SD_MAINTE_actual.add_shape(\n",
    "        # filled Rectangle\n",
    "            type=\"rect\",\n",
    "            x0='2020-10-23 14:00:00',\n",
    "            y0=0,\n",
    "            x1='2020-10-25 08:00:00',\n",
    "            y1=100,\n",
    "            fillcolor=\"LightSalmon\",\n",
    "            opacity=0.5,\n",
    "            layer=\"below\",\n",
    "            line_width=0,\n",
    "        )\n",
    "\n",
    "\n",
    "fig_SD_MAINTE_actual.update_shapes(dict(xref='x', yref='y'))\n",
    "\n",
    "# Mark the datetime of power limitation by shading these regions with light color\n",
    "fig_SD_MAINTE_actual.add_shape(\n",
    "        # filled Rectangle\n",
    "            type=\"rect\",\n",
    "            x0='2020-11-01 04:30:00',\n",
    "            y0=0,\n",
    "            x1='2020-11-01 19:00:00',\n",
    "            y1=100,\n",
    "            fillcolor=\"pink\",\n",
    "            opacity=0.5,\n",
    "            layer=\"below\",\n",
    "            line_width=0,\n",
    "        )\n",
    "fig_SD_MAINTE_actual.add_shape(\n",
    "        # filled Rectangle\n",
    "            type=\"rect\",\n",
    "            x0='2020-11-08 16:00:00',\n",
    "            y0=0,\n",
    "            x1='2020-11-09 18:00:00',\n",
    "            y1=100,\n",
    "            fillcolor=\"LightSalmon\",\n",
    "            opacity=0.5,\n",
    "            layer=\"below\",\n",
    "            line_width=0,\n",
    "        )\n",
    "\n",
    "fig_SD_MAINTE_actual.add_shape(\n",
    "        # filled Rectangle\n",
    "            type=\"rect\",\n",
    "            x0='2020-10-23 14:00:00',\n",
    "            y0=0,\n",
    "            x1='2020-10-25 08:00:00',\n",
    "            y1=100,\n",
    "            fillcolor=\"LightSalmon\",\n",
    "            opacity=0.5,\n",
    "            layer=\"below\",\n",
    "            line_width=0,\n",
    "        )\n",
    "\n",
    "\n",
    "fig_SD_MAINTE_actual.update_shapes(dict(xref='x', yref='y'))\n",
    "\n",
    "fig_SD_MAINTE_actual.add_annotation(\n",
    "        x='2020-10-24 10:00:00',\n",
    "        xref=\"x\",\n",
    "        yref=\"paper\",\n",
    "        text=\"Power Limitation\",\n",
    "        textangle=-90,\n",
    "        yanchor=\"middle\",\n",
    "        showarrow=False,\n",
    "        font=dict(\n",
    "            family=\"Courier New, monospace\",\n",
    "            size=16,\n",
    "            color=\"#8e2800\",\n",
    "            \n",
    "            ),\n",
    "        ax=20,\n",
    "        ay=-30,\n",
    "        opacity=0.5\n",
    "        )\n",
    "\n",
    "fig_SD_MAINTE_actual.add_annotation(\n",
    "        x='2020-11-09 05:00:00',\n",
    "        xref=\"x\",\n",
    "        yref=\"paper\",\n",
    "        text=\"Power Limitation\",\n",
    "        textangle=-90,\n",
    "        yanchor=\"middle\",\n",
    "        showarrow=False,\n",
    "        font=dict(\n",
    "            family=\"Courier New, monospace\",\n",
    "            size=16,\n",
    "            color=\"#8e2800\",\n",
    "            \n",
    "            ),\n",
    "        ax=20,\n",
    "        ay=-30,\n",
    "        opacity=0.5\n",
    "        )\n",
    "\n",
    "fig_SD_MAINTE_actual.add_annotation(\n",
    "        x='2020-11-01 12:00:00',\n",
    "        xref=\"x\",\n",
    "        yref=\"paper\",\n",
    "        text=\"E&I Blackout Activity\",\n",
    "        textangle=-90,\n",
    "        yanchor=\"middle\",\n",
    "        showarrow=False,\n",
    "        font=dict(\n",
    "            family=\"Courier New, monospace\",\n",
    "            size=16,\n",
    "            color=\"#850017\",\n",
    "            \n",
    "            ),\n",
    "        ax=20,\n",
    "        ay=-30,\n",
    "        opacity=0.5\n",
    "        )"
   ]
  },
  {
   "cell_type": "markdown",
   "metadata": {},
   "source": [
    "#### Export the chart as HTML"
   ]
  },
  {
   "cell_type": "code",
   "execution_count": null,
   "metadata": {},
   "outputs": [],
   "source": [
    "plt.close()\n",
    "with open(r'\\\\THGOBNA002\\thpal\\05 Production\\150 DCS\\Miscellaneous\\MS_Progress_of_Equipment_Handover_Tracker.html', 'w') as f:\n",
    "    f.write(fig_SD_MAINTE.to_html(fig_SD_MAINTE, full_html=True, include_plotlyjs='cdn'))\n",
    "    \n"
   ]
  },
  {
   "cell_type": "code",
   "execution_count": null,
   "metadata": {},
   "outputs": [],
   "source": []
  },
  {
   "cell_type": "code",
   "execution_count": null,
   "metadata": {},
   "outputs": [],
   "source": []
  },
  {
   "cell_type": "code",
   "execution_count": null,
   "metadata": {},
   "outputs": [],
   "source": []
  },
  {
   "cell_type": "markdown",
   "metadata": {},
   "source": [
    "#### Temporary Code"
   ]
  },
  {
   "cell_type": "code",
   "execution_count": null,
   "metadata": {},
   "outputs": [],
   "source": [
    "# TEMPORARY CODE FOR GETTING THE ACTIVITIES PER EQUIPMENT PER AREA\n",
    "\"\"\"\n",
    "progress_plan_columns = shutdown_sched_4.columns[-504:] # the list of columns containing the %progress per activity as planned\n",
    "\n",
    "List_equiments = shutdown_sched_4['Equipment'].unique() # list of the unique activities in the shutdown_sched_4 dataframe\n",
    "List_equiments_rshp = List_equiments.reshape(len(List_equiments), 1) # array of all equipments shaped to fit in one column\n",
    "\n",
    "# Initiallize the variables with zeros\n",
    "SUM_percent_progress_of_activity_array = 0 #np.zeros((1, len(progress_plan_columns))) # the array containing all the %progress for a single equipment for the entire duration of the shutdown\n",
    "SUM_percent_progress_of_equipment_array = np.zeros((len(List_equiments), len(progress_plan_columns))) # the array containing all the %progress for all the equipments for the entire duration of the shutdown\n",
    "\n",
    "\n",
    "for eqpmnt_index in range(len(List_equiments_rshp)): #loop through the list of equipments\n",
    "    eq = List_equiments_rshp[eqpmnt_index][0] # get a single name of the equipment from the list of equipments\n",
    "    print(eq) # Print the equipment taken the list and check it in the output for confirmation\n",
    "    count = shutdown_sched_4[(shutdown_sched_4['Equipment'] == eq)].count() # this counts the total number of activities under the same equipment. this includes the maintenance activities\n",
    "    \n",
    "    total_activities_count = 0 # initiallize the total_activities counter to zero. this counts all the activities prior to maintenance handover or inspection. so this counts the prodn activts leading up to handover\n",
    "    percent_progress_of_activity_array = 0 # initiallize to zero. this will store an array of activity progress for the entire shutdown daterange\n",
    "    SUM_percent_progress_of_activity_array = 0 # initiallize to zero. this will store an array of the percent progress of all the activities for the same equipment for the entire shutdown daterange\n",
    "    for act in range(0, len(shutdown_sched_4[shutdown_sched_4['Equipment'] == eq])): # loop thru all the rows with the same equipment name eq\n",
    "        \n",
    "        activity_name = shutdown_sched_4[shutdown_sched_4['Equipment'] == eq]['Activities'].iloc[act]   # get the activity name one by one\n",
    "        percent_progress_of_activity_array = shutdown_sched_4[shutdown_sched_4['Equipment'] == eq][progress_plan_columns].iloc[act]   # get the entire array of the progress for entire SD daterange\n",
    "        # np.array() = activity_names\n",
    "        # percent_progress_\n",
    "        \n",
    "        SUM_percent_progress_of_activity_array = SUM_percent_progress_of_activity_array + percent_progress_of_activity_array # add up all the progress of all the activities for the same equipment\n",
    "\n",
    "        print(activity_name)\n",
    "        match = re.search(r'\\binspection\\b',activity_name.lower()) # check the activity for the keyword 'inspection'\n",
    "        match1 = re.search(r'\\bmaintenance\\b',activity_name.lower()) # check the activity for the keyword 'maintenance'\n",
    "        if (not match) and (not match1) : # check if there is no match\n",
    "            #print(activity_name)\n",
    "            total_activities_count+=1\n",
    "        else:\n",
    "            print(\"index: {}, activitiy: {}\".format(total_activities_count, activity_name))\n",
    "            break # stop looping on the same equipment if the activity matches the keywords 'inspection' or 'maintenance'\n",
    "    \n",
    "    equipment_percent_progress_total = 100*total_activities_count\n",
    "    SUM_percent_progress_of_equipment_array[eqpmnt_index] = 100*SUM_percent_progress_of_activity_array/equipment_percent_progress_total\n",
    "       \n",
    "df_prcnt_progress = pd.DataFrame(SUM_percent_progress_of_equipment_array)\n",
    "df_prcnt_progress['equipment'] = List_equiments_rshp\n",
    "\n",
    "\"\"\"\n",
    "# END OF TEMPORARY CODE"
   ]
  },
  {
   "cell_type": "markdown",
   "metadata": {},
   "source": [
    "#### End of Temporary code"
   ]
  },
  {
   "cell_type": "code",
   "execution_count": null,
   "metadata": {},
   "outputs": [],
   "source": []
  },
  {
   "cell_type": "code",
   "execution_count": null,
   "metadata": {},
   "outputs": [],
   "source": []
  },
  {
   "cell_type": "code",
   "execution_count": null,
   "metadata": {},
   "outputs": [],
   "source": []
  },
  {
   "cell_type": "code",
   "execution_count": 369,
   "metadata": {},
   "outputs": [],
   "source": []
  },
  {
   "cell_type": "code",
   "execution_count": 423,
   "metadata": {},
   "outputs": [],
   "source": []
  },
  {
   "cell_type": "code",
   "execution_count": 434,
   "metadata": {},
   "outputs": [],
   "source": []
  },
  {
   "cell_type": "code",
   "execution_count": 457,
   "metadata": {},
   "outputs": [],
   "source": []
  },
  {
   "cell_type": "code",
   "execution_count": null,
   "metadata": {},
   "outputs": [],
   "source": []
  },
  {
   "cell_type": "markdown",
   "metadata": {},
   "source": [
    "### Annex codes"
   ]
  },
  {
   "cell_type": "code",
   "execution_count": null,
   "metadata": {},
   "outputs": [],
   "source": [
    "# Spare code\n",
    "# DO NOT EXECUTE. This code block is for continuation\n",
    "# This code block is non vectorized.\n",
    "# For use in handling the input data for the actual progress which takes in the datetime when the activity is completed. DCS controller inputs this data manually.\n",
    "#\n",
    "#\n",
    "\"\"\"\n",
    "reference_datetime = parse('2020-10-31 02:00:00')#datetime.datetime.now()\n",
    "\n",
    "# Initiallize the variables with zeros\n",
    "\n",
    "equipment_percent_complte = np.zeros((len(List_equiments_rshp),1))\n",
    "\n",
    "activities_arr = np.zeros((len(shutdown_sched_4['Activities']),1))\n",
    "percent_prog_act_Plan_arr = np.zeros((len(shutdown_sched_4['Activities']),1))\n",
    "reference_datetime_arr = np.zeros((len(shutdown_sched_4['Activities']),1))\n",
    "\n",
    "for eqpmnt_index in range(len(List_equiments_rshp)):\n",
    "    eq = List_equiments_rshp[eqpmnt_index][0]\n",
    "    print(eq)\n",
    "    count = shutdown_sched_4[(shutdown_sched_4['Equipment'] == eq) & (shutdown_sched_4['Complete_or_Not'] == 'Completed')].count()['Complete_or_Not']\n",
    "    \n",
    "    #total_act_per_eqpmnt = len(shutdown_sched_4[shutdown_sched_4['Equipment'] == eq])\n",
    "    total_activities_count = 0\n",
    "    for act in range(0, len(shutdown_sched_4[shutdown_sched_4['Equipment'] == eq])):\n",
    "        \n",
    "        activity_name = shutdown_sched_4[shutdown_sched_4['Equipment'] == eq]['Activities'].iloc[act]\n",
    "        time_start = shutdown_sched_4[shutdown_sched_4['Equipment'] == eq]['START_plan'].iloc[act]\n",
    "        duration = shutdown_sched_4[shutdown_sched_4['Equipment'] == eq]['Duration_hrs_plan'].iloc[act]\n",
    "        \n",
    "        #Calculate the time difference in hours\n",
    "        print(\"time start: {}, reference time: {}\".format(time_start, reference_datetime))\n",
    "        diff = reference_datetime - parse(str(time_start))\n",
    "        diff_hours = diff.days*24 + diff.seconds/3600\n",
    "        \n",
    "        #(datetime_diff/duration).days/24 + (datetime_diff/duration).seconds/3600\n",
    "        print(diff_hours)\n",
    "        # Calculate the planned progress per activity\n",
    "        #\n",
    "        # \n",
    "        # Compute the planned shutdown progress\n",
    "        if duration != 0: # check if the duration is not set to zero\n",
    "        \n",
    "            planned_progress_per_act = 100*diff_hours/duration\n",
    "            if planned_progress_per_act > 0:\n",
    "                if planned_progress_per_act >= 100:\n",
    "                    planned_progress_per_act = 100\n",
    "                    print(\"ref_time: {}, time start {}, activity: {}, %Progress {} %, duration:{}, index: {}\".format(reference_datetime, time_start, activity_name, round(planned_progress_per_act, 2), duration, act))\n",
    "                    percent_prog_act_Plan_arr[act] = round(planned_progress_per_act, 2) #store the calculated percent progress into the array called percent_prog_act_Plan_arr\n",
    "                elif planned_progress_per_act < 100:\n",
    "                    print(\"ref_time: {}, time start {}, activity: {}, %Progress {} %, duration:{}, index: {}\".format(reference_datetime, time_start, activity_name, round(planned_progress_per_act, 2), duration, act))\n",
    "                    percent_prog_act_Plan_arr[act] = round(planned_progress_per_act, 2) #store the calculated percent progress into the array called percent_prog_act_Plan_arr\n",
    "                    \n",
    "            else:\n",
    "                planned_progress_per_act = 0\n",
    "                print(\"ref_time: {}, time start {}, activity: {}, %Progress {} %, duration:{}, index: {}\".format(reference_datetime, time_start, activity_name, round(planned_progress_per_act, 2), duration, act))\n",
    "                percent_prog_act_Plan_arr[act] = planned_progress_per_act #store the calculated percent progress into the array called percent_prog_act_Plan_arr\n",
    "        else:\n",
    "            planned_progress_per_act = 0\n",
    "            percent_prog_act_Plan_arr[act] = planned_progress_per_act #store the calculated percent progress into the array called percent_prog_act_Plan_arr\n",
    "        #\n",
    "        # End code for the percent progress calculation\n",
    "        \n",
    "        \n",
    "        match = re.search(r'\\binspection\\b',activity_name.lower())\n",
    "        if not match:\n",
    "            print(activity_name)\n",
    "            total_activities_count+=1\n",
    "        else:\n",
    "            #print(\"activity start: {}\".format(shutdown_sched_4[['Activities','START_plan']].iloc[act]))\n",
    "            break\n",
    "    \n",
    "    equipment_percent_progress = round(100*count/total_activities_count, 2)\n",
    "    equipment_percent_complte[eqpmnt_index] = equipment_percent_progress\n",
    "    #print(eq+ \" count: {}. total_prg_to_H_over: {}, tot_act_count: {}\".format(count, equipment_percent_progress, total_activities_count))\n",
    "    \n",
    "df_prcnt_progress = pd.DataFrame(equipment_percent_complte)\n",
    "df_prcnt_progress['equipment'] = List_equiments_rshp\n",
    "df_prcnt_progress = df_prcnt_progress.rename(columns={0:'Percent_Progress_to_HandOver', 'equipment':'Equipment_Tag'})\n",
    "df_prcnt_progress = df_prcnt_progress[['Equipment_Tag','Percent_Progress_to_HandOver']]\n",
    "\"\"\"\n"
   ]
  },
  {
   "cell_type": "code",
   "execution_count": null,
   "metadata": {},
   "outputs": [],
   "source": [
    "# spare code\n",
    "\"\"\"\n",
    "diff = reference_datetime - parse(str(time_start))\n",
    "diff_hours = diff.days*24 + diff.seconds/3600\n",
    "print(diff_hours)\n",
    "\"\"\""
   ]
  },
  {
   "cell_type": "code",
   "execution_count": null,
   "metadata": {},
   "outputs": [],
   "source": [
    "# Spare code\n",
    "\"\"\"\n",
    "df_Shutdown_date_range = pd.DataFrame(Shutdown_date_range) # Create dataframe from Shutdown_date_range array\n",
    "df_prcnt_progress_transposed = df_prcnt_progress.T # Transpose the df_prcnt_progress dataframe\n",
    "equiment_list = df_prcnt_progress_transposed.iloc[-1] # get the list of equipments by slicing the last row of the df_prcnt_progress_transposed dataframe\n",
    "df_prcnt_progress_transposed = df_prcnt_progress_transposed.drop('equipment')  # drop the row with equipment\n",
    "df_prcnt_progress_transposed['DATETIME'] = df_Shutdown_date_range[0] # Create a column called the DATETIME using the values from df_Shutdown_date_range\n",
    "df_prcnt_progress_transposed = df_prcnt_progress_transposed.set_index('DATETIME') # set the DATETIME as the index\n",
    "df_prcnt_progress_transposed.columns = equiment_list # rename the columns with the equipment list using the equipment_list variable\n",
    "\n",
    "\n",
    "# replace the values in the df_prcnt_progress_transposed to a range 0 to 100\n",
    "for col in range(len(df_prcnt_progress_transposed.columns)):\n",
    "    column = df_prcnt_progress_transposed.columns[col]\n",
    "    df_prcnt_progress_transposed[column] = np.where(df_prcnt_progress_transposed[column]>=100, 100, np.where(df_prcnt_progress_transposed[column]<0, 0, df_prcnt_progress_transposed[column]))\n",
    "\n",
    "columns_dezn = ['De-Zn Feedline', '105TK01', '105TK02', '105TK03', '105TK05',\n",
    "                '105SP01/02', '105PU01ABCDEFG', '105FT01A', '105FT01B', '105FT01C',\n",
    "                '105FT01D', '105FT01E', '105FT01F', '105TK13', '105TK08']\n",
    "\n",
    "columns_MS = ['106TK01', 'MS FEEDLINE', '106VE01', '106VE02', '106VE03', \n",
    "              '106VE04', '106VE05', '106HX02', '106VB01AB', '106CP01AB', \n",
    "              '106TH01', '106FT02A', '106FT02B', '106TK08', '106TK04',\n",
    "              '106TK05', '106TK18', '106TK14', '106SP02', 'MS Common Vent/ 106SP01',\n",
    "              '106SR00/02\\n106SP03/04', '106SR03', '106SR04', '106TK15/ NaOH header line']\n",
    "\n",
    "columns_108_chem = [ '108TK01', '108TK04','24\" SPT tie in', 'VSLC RHL Line', '112TK00',\n",
    "                    '112TK01', '114HP/FD01', '114TK01', '114TK02', '114 Pumps', \n",
    "                    '115TK01','115TK02']\n",
    "columns_111_ls = ['111 Belt Conveyors\\n111VS01\\n111CR01AB', '111ML01','111TK01', '111PU01/\\n111CY01', '111TK02', \n",
    "                  '530CT31', '525NG01']\n",
    "\n",
    "MS_progress_plan = np.sum(df_prcnt_progress_transposed[columns_MS], axis=1)/len(columns_MS)\n",
    "DeZn_progress_plan = np.sum(df_prcnt_progress_transposed[columns_dezn], axis=1)/len(columns_dezn)\n",
    "FNTRL_chem_progress_plan = np.sum(df_prcnt_progress_transposed[columns_108_chem], axis=1)/len(columns_108_chem)\n",
    "LS_CT_progress_plan = np.sum(df_prcnt_progress_transposed[columns_111_ls], axis=1)/len(columns_111_ls)\n",
    "\n",
    "df_prcnt_progress_transposed['MS_progress_plan'] = MS_progress_plan\n",
    "df_prcnt_progress_transposed['DeZn_progress_plan'] = DeZn_progress_plan\n",
    "df_prcnt_progress_transposed['FNTRL_chem_progress_plan'] = FNTRL_chem_progress_plan\n",
    "df_prcnt_progress_transposed['LS_CT_progress_plan'] = LS_CT_progress_plan\n",
    "\"\"\""
   ]
  }
 ],
 "metadata": {
  "kernelspec": {
   "display_name": "Python 3",
   "language": "python",
   "name": "python3"
  },
  "language_info": {
   "codemirror_mode": {
    "name": "ipython",
    "version": 3
   },
   "file_extension": ".py",
   "mimetype": "text/x-python",
   "name": "python",
   "nbconvert_exporter": "python",
   "pygments_lexer": "ipython3",
   "version": "3.7.4"
  }
 },
 "nbformat": 4,
 "nbformat_minor": 2
}
