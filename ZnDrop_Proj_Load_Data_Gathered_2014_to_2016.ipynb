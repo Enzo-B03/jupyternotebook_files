{
 "cells": [
  {
   "cell_type": "code",
   "execution_count": 4,
   "metadata": {},
   "outputs": [],
   "source": [
    "#import libraries\n",
    "import pandas as pd\n",
    "import numpy as np\n",
    "import matplotlib.pyplot as plt\n",
    "%matplotlib inline\n",
    "from dateutil.parser import parse\n",
    "from itertools import compress\n",
    "from collections import OrderedDict\n",
    "from datetime import date\n",
    "import datetime\n",
    "import re\n",
    "from datetime import timedelta\n",
    "import openpyxl\n",
    "from sklearn.metrics import mean_squared_error\n",
    "import plotly.express as px\n",
    "\n",
    "import os\n",
    "import re\n",
    "import seaborn as sns\n",
    "\n",
    "from matplotlib.pylab import rcParams\n",
    "rcParams['figure.figsize'] = 12, 10"
   ]
  },
  {
   "cell_type": "code",
   "execution_count": 5,
   "metadata": {},
   "outputs": [],
   "source": [
    "for root, dirs, files in os.walk(r'D:'):\n",
    "    for filename in files:\n",
    "        if filename.endswith('.xlsx'):\n",
    "            print (os.path.join(root, filename))"
   ]
  },
  {
   "cell_type": "code",
   "execution_count": 130,
   "metadata": {},
   "outputs": [],
   "source": [
    "filepath_TO = r'\\\\THGOBNA002\\thpal\\05 Production\\302 Management - Report\\TNH-302-101 Shift Turnover (THPAL)\\Production Daily Report\\Process B\\2020\\07 July\\000 Shift Turnover'"
   ]
  },
  {
   "cell_type": "code",
   "execution_count": 6,
   "metadata": {},
   "outputs": [],
   "source": [
    "columns = ['A', 'B', 'C','D','E','F','G','H','R','S','T','U','V','W','X','Y','Z','AA','AB','AC','AD','AE','AF','AP','AQ','AR','AS','AT','AU','AV','AW','AX','AY','AZ','BA','BB','BC','BM','BN','BO','BP','BQ','BR','BS']\n",
    "def find_specific_cellTO(theFile, sheetname, keyword, date_activity):\n",
    "    for row in range(70, 100):\n",
    "        for column in columns:  # Here you can add or reduce the columns\n",
    "            cell_name = \"{}{}\".format(column, row)\n",
    "            #regex block. cellkeywords_regex contains the rules on which characters to match.\n",
    "            #------------ keyword contains the word in string that we want to find in the excel file\n",
    "            #------------ cellvalue contains the word in string from the cell in the excel file\n",
    "            #------------ keywordLike is a list of all the individual character that matches the rules set in cellkeywords_regex\n",
    "            #------------ newpumplike is the resulting string from the combined characters of keywordLike\n",
    "            \n",
    "            cellkeywords_regex = re.compile(r'[hole]', re.IGNORECASE| re.VERBOSE|re.DOTALL)\n",
    "            keyword = keyword\n",
    "            cell_value = str(theFile[sheetname][cell_name].value)\n",
    "            keywordLike = cellkeywords_regex.findall(cell_value)\n",
    "            newpumpLike = ''.join(keywordLike)\n",
    "            if keyword in newpumpLike:\n",
    "                print(\"{} : {}\".format(date_activity, theFile[sheetname][cell_name].value))\n",
    "            \n",
    "def find_IN_xlsx_files(filepathfolder):\n",
    "    #filepath is the folder where we will do the search. example r'D:\\Data Science Training\\spreadsheets'\n",
    "    #keywordtoFind is the string regex pattern of the word we want to find\n",
    "    for root, dirs, files in os.walk(filepathfolder): #input the folder filepath here\n",
    "        for filename in files:\n",
    "            if filename.endswith('.xlsx') or filename.endswith('.xlsm'): #if statement checking if the file type is excel\n",
    "                #print (os.path.join(root, filename))\n",
    "                theFile = openpyxl.load_workbook(os.path.join(root, filename), read_only=True)\n",
    "                df.append(dfsListmonthly[i], ignore_index=True)\n",
    "                \n",
    "#used in the analysis results data. cleans up the sampling time entry\n",
    "#------------------------------------------------------------function convert df to numeric--------------------------------------------\n",
    "#This function converts the df to numeric. Returns nothing. Just executes the script\n",
    "def convert_to_numeric(df):\n",
    "    for i in df.columns:\n",
    "        try:\n",
    "            df[i] = pd.to_numeric(df[i], errors='coerce')\n",
    "        except:\n",
    "            print(i, \" has error.\")\n",
    "#            \n",
    "#--------------------------------------------------------------End-----------------------------------------------------------------------                  "
   ]
  },
  {
   "cell_type": "markdown",
   "metadata": {},
   "source": [
    "#### Code for loading the excel files with common starting titles for ZnDrop_Proj_DataGather_Mont[h]ly for NTRL, 105TK13 and 106TK01"
   ]
  },
  {
   "cell_type": "code",
   "execution_count": 52,
   "metadata": {},
   "outputs": [
    {
     "name": "stdout",
     "output_type": "stream",
     "text": [
      "Empty DataFrame\n",
      "Columns: [DATETIME, 104_Pb, 104_Zn, 104_Cu, 104_Ni, 104_Co, 104_Fe, 104_Mn, 104_Cr, 104_Ca, 104_Si, 104_Al, 104_Mg, 104_Fe2, 104_pH60, 104_ORP, 104_NTU, 104_Ft, tk13_Zn, tk13_solids%, Zn_drop]\n",
      "Index: []\n",
      "\n",
      "[0 rows x 21 columns]\n"
     ]
    }
   ],
   "source": [
    "blank_data_2 = {'DATETIME': np.nan, '104_Pb': np.nan, '104_Zn': np.nan, '104_Cu': np.nan, '104_Ni': np.nan, '104_Co': np.nan, '104_Fe': np.nan,\n",
    "       '104_Mn': np.nan, '104_Cr': np.nan, '104_Ca': np.nan, '104_Si': np.nan, '104_Al': np.nan, '104_Mg': np.nan, '104_Fe2': np.nan,\n",
    "       '104_pH60': np.nan, '104_ORP': np.nan, '104_NTU': np.nan, '104_Ft': np.nan, 'tk13_Zn': np.nan, 'tk13_solids%': np.nan,'Zn_drop': np.nan}\n",
    "\n",
    "columnNames = ['DATETIME', '104_Pb', '104_Zn', '104_Cu', '104_Ni', '104_Co', '104_Fe',\n",
    "       '104_Mn', '104_Cr', '104_Ca', '104_Si', '104_Al', '104_Mg', '104_Fe2',\n",
    "       '104_pH60', '104_ORP', '104_NTU', '104_Ft', 'tk13_Zn', 'tk13_solids%',\n",
    "       'Zn_drop']\n",
    "\n",
    "df_ZnDrop_project_2014_2016 = pd.DataFrame (blank_data_2, columns = columnNames)\n",
    "\n",
    "print (df_ZnDrop_project_2014_2016)\n",
    "filepath_mydocs = r'C:\\Users\\v.t.flores\\Documents'\n",
    "df_length = 0\n",
    "for root, dirs, files in os.walk(filepath_mydocs): #input the folder filepath here\n",
    "        for filename in files:\n",
    "            if filename.startswith('ZnDrop_Proj_DataGather_Montly_2014') or filename.startswith('ZnDrop_Proj_DataGather_Montly_2015') or filename.startswith('ZnDrop_Proj_DataGather_Montly_2016'): #if statement that checks if the file starts with ZnDrop_Proj_DataGather_Montly\n",
    "                #print (os.path.join(root, filename))\n",
    "                theFile = pd.read_excel(os.path.join(root, filename)) \n",
    "                #os.path.join(root, filename) means the complete path to the file including the excel file\n",
    "                #-------------------------------------------------allSheetNames = theFile.sheetnames\n",
    "                #print(filename)\n",
    "                #df_length += 1\n",
    "                #print(df_length)\n",
    "                df_ZnDrop_project_2014_2016 = df_ZnDrop_project_2014_2016.append(theFile, sort=True)\n",
    "                #print(theFile)\n",
    "\n",
    "df_ZnDrop_project_2014_2016 = df_ZnDrop_project_2014_2016.set_index('DATETIME')\n",
    "df_ZnDrop_project_2014_2016 = df_ZnDrop_project_2014_2016.drop('Zn_drop', axis=1)\n",
    "#arrange the column orders to be closer to the order in the laboratory analysis results\n",
    "columnsOrdered = ['104_Pb', '104_Zn', '104_Cu', '104_Ni', '104_Co', '104_Fe',\n",
    "       '104_Mn', '104_Cr', '104_Ca', '104_Si', '104_Al', '104_Mg', '104_Fe2',\n",
    "       '104_pH60', '104_ORP', '104_NTU', '104_Ft', 'tk13_Zn', 'tk13_solids%','105_Zn', '106_Zn'\n",
    "       ]\n",
    "\n",
    "df_ZnDrop_project_2014_2016 = df_ZnDrop_project_2014_2016[columnsOrdered]\n",
    "#df_ZnDrop_project_2014_2016.to_excel(r'C:\\Users\\v.t.flores\\Documents\\ZnDrop_project_2014_2016_dataset.xlsx')"
   ]
  },
  {
   "cell_type": "code",
   "execution_count": 53,
   "metadata": {
    "collapsed": true
   },
   "outputs": [
    {
     "data": {
      "text/html": [
       "<div>\n",
       "<style scoped>\n",
       "    .dataframe tbody tr th:only-of-type {\n",
       "        vertical-align: middle;\n",
       "    }\n",
       "\n",
       "    .dataframe tbody tr th {\n",
       "        vertical-align: top;\n",
       "    }\n",
       "\n",
       "    .dataframe thead th {\n",
       "        text-align: right;\n",
       "    }\n",
       "</style>\n",
       "<table border=\"1\" class=\"dataframe\">\n",
       "  <thead>\n",
       "    <tr style=\"text-align: right;\">\n",
       "      <th></th>\n",
       "      <th>104_Pb</th>\n",
       "      <th>104_Zn</th>\n",
       "      <th>104_Cu</th>\n",
       "      <th>104_Ni</th>\n",
       "      <th>104_Co</th>\n",
       "      <th>104_Fe</th>\n",
       "      <th>104_Mn</th>\n",
       "      <th>104_Cr</th>\n",
       "      <th>104_Ca</th>\n",
       "      <th>104_Si</th>\n",
       "      <th>...</th>\n",
       "      <th>104_Mg</th>\n",
       "      <th>104_Fe2</th>\n",
       "      <th>104_pH60</th>\n",
       "      <th>104_ORP</th>\n",
       "      <th>104_NTU</th>\n",
       "      <th>104_Ft</th>\n",
       "      <th>tk13_Zn</th>\n",
       "      <th>tk13_solids%</th>\n",
       "      <th>105_Zn</th>\n",
       "      <th>106_Zn</th>\n",
       "    </tr>\n",
       "    <tr>\n",
       "      <th>DATETIME</th>\n",
       "      <th></th>\n",
       "      <th></th>\n",
       "      <th></th>\n",
       "      <th></th>\n",
       "      <th></th>\n",
       "      <th></th>\n",
       "      <th></th>\n",
       "      <th></th>\n",
       "      <th></th>\n",
       "      <th></th>\n",
       "      <th></th>\n",
       "      <th></th>\n",
       "      <th></th>\n",
       "      <th></th>\n",
       "      <th></th>\n",
       "      <th></th>\n",
       "      <th></th>\n",
       "      <th></th>\n",
       "      <th></th>\n",
       "      <th></th>\n",
       "      <th></th>\n",
       "    </tr>\n",
       "  </thead>\n",
       "  <tbody>\n",
       "    <tr>\n",
       "      <td>2014-01-01 06:00:00</td>\n",
       "      <td>NaN</td>\n",
       "      <td>NaN</td>\n",
       "      <td>NaN</td>\n",
       "      <td>NaN</td>\n",
       "      <td>NaN</td>\n",
       "      <td>NaN</td>\n",
       "      <td>NaN</td>\n",
       "      <td>NaN</td>\n",
       "      <td>NaN</td>\n",
       "      <td>NaN</td>\n",
       "      <td>...</td>\n",
       "      <td>NaN</td>\n",
       "      <td>NaN</td>\n",
       "      <td>2.7700</td>\n",
       "      <td>369.3</td>\n",
       "      <td>63.4</td>\n",
       "      <td>13</td>\n",
       "      <td>NaN</td>\n",
       "      <td>NaN</td>\n",
       "      <td>NaN</td>\n",
       "      <td>NaN</td>\n",
       "    </tr>\n",
       "    <tr>\n",
       "      <td>2014-01-01 07:00:00</td>\n",
       "      <td>0.0009</td>\n",
       "      <td>0.0822</td>\n",
       "      <td>0.0173</td>\n",
       "      <td>2.958</td>\n",
       "      <td>0.2622</td>\n",
       "      <td>2.2030</td>\n",
       "      <td>2.848</td>\n",
       "      <td>0.1862</td>\n",
       "      <td>0.6841</td>\n",
       "      <td>0.2513</td>\n",
       "      <td>...</td>\n",
       "      <td>8.062</td>\n",
       "      <td>1.612</td>\n",
       "      <td>2.8100</td>\n",
       "      <td>371.5</td>\n",
       "      <td>78.7</td>\n",
       "      <td>12</td>\n",
       "      <td>NaN</td>\n",
       "      <td>NaN</td>\n",
       "      <td>0.0011</td>\n",
       "      <td>0.0001</td>\n",
       "    </tr>\n",
       "    <tr>\n",
       "      <td>2014-01-01 08:00:00</td>\n",
       "      <td>NaN</td>\n",
       "      <td>NaN</td>\n",
       "      <td>NaN</td>\n",
       "      <td>NaN</td>\n",
       "      <td>NaN</td>\n",
       "      <td>NaN</td>\n",
       "      <td>NaN</td>\n",
       "      <td>NaN</td>\n",
       "      <td>NaN</td>\n",
       "      <td>NaN</td>\n",
       "      <td>...</td>\n",
       "      <td>NaN</td>\n",
       "      <td>NaN</td>\n",
       "      <td>2.7600</td>\n",
       "      <td>370.9</td>\n",
       "      <td>128</td>\n",
       "      <td>15</td>\n",
       "      <td>NaN</td>\n",
       "      <td>NaN</td>\n",
       "      <td>NaN</td>\n",
       "      <td>NaN</td>\n",
       "    </tr>\n",
       "    <tr>\n",
       "      <td>2014-01-01 09:00:00</td>\n",
       "      <td>NaN</td>\n",
       "      <td>NaN</td>\n",
       "      <td>NaN</td>\n",
       "      <td>2.769</td>\n",
       "      <td>NaN</td>\n",
       "      <td>NaN</td>\n",
       "      <td>NaN</td>\n",
       "      <td>NaN</td>\n",
       "      <td>NaN</td>\n",
       "      <td>NaN</td>\n",
       "      <td>...</td>\n",
       "      <td>NaN</td>\n",
       "      <td>NaN</td>\n",
       "      <td>2.7700</td>\n",
       "      <td>372.4</td>\n",
       "      <td>242</td>\n",
       "      <td>16</td>\n",
       "      <td>NaN</td>\n",
       "      <td>0.022</td>\n",
       "      <td>0.0010</td>\n",
       "      <td>0.0002</td>\n",
       "    </tr>\n",
       "    <tr>\n",
       "      <td>2014-01-01 09:30:00</td>\n",
       "      <td>NaN</td>\n",
       "      <td>NaN</td>\n",
       "      <td>NaN</td>\n",
       "      <td>NaN</td>\n",
       "      <td>NaN</td>\n",
       "      <td>NaN</td>\n",
       "      <td>NaN</td>\n",
       "      <td>NaN</td>\n",
       "      <td>NaN</td>\n",
       "      <td>NaN</td>\n",
       "      <td>...</td>\n",
       "      <td>NaN</td>\n",
       "      <td>NaN</td>\n",
       "      <td>NaN</td>\n",
       "      <td>NaN</td>\n",
       "      <td>342</td>\n",
       "      <td>13</td>\n",
       "      <td>NaN</td>\n",
       "      <td>NaN</td>\n",
       "      <td>NaN</td>\n",
       "      <td>NaN</td>\n",
       "    </tr>\n",
       "    <tr>\n",
       "      <td>...</td>\n",
       "      <td>...</td>\n",
       "      <td>...</td>\n",
       "      <td>...</td>\n",
       "      <td>...</td>\n",
       "      <td>...</td>\n",
       "      <td>...</td>\n",
       "      <td>...</td>\n",
       "      <td>...</td>\n",
       "      <td>...</td>\n",
       "      <td>...</td>\n",
       "      <td>...</td>\n",
       "      <td>...</td>\n",
       "      <td>...</td>\n",
       "      <td>...</td>\n",
       "      <td>...</td>\n",
       "      <td>...</td>\n",
       "      <td>...</td>\n",
       "      <td>...</td>\n",
       "      <td>...</td>\n",
       "      <td>...</td>\n",
       "      <td>...</td>\n",
       "    </tr>\n",
       "    <tr>\n",
       "      <td>2017-01-01 01:00:00</td>\n",
       "      <td>NaN</td>\n",
       "      <td>0.0837</td>\n",
       "      <td>NaN</td>\n",
       "      <td>3.9192</td>\n",
       "      <td>NaN</td>\n",
       "      <td>NaN</td>\n",
       "      <td>NaN</td>\n",
       "      <td>NaN</td>\n",
       "      <td>NaN</td>\n",
       "      <td>NaN</td>\n",
       "      <td>...</td>\n",
       "      <td>NaN</td>\n",
       "      <td>NaN</td>\n",
       "      <td>2.8016</td>\n",
       "      <td>383.5</td>\n",
       "      <td>47.7</td>\n",
       "      <td>12</td>\n",
       "      <td>0.0162</td>\n",
       "      <td>0.108</td>\n",
       "      <td>0.0046</td>\n",
       "      <td>0.0011</td>\n",
       "    </tr>\n",
       "    <tr>\n",
       "      <td>2017-01-01 02:00:00</td>\n",
       "      <td>NaN</td>\n",
       "      <td>NaN</td>\n",
       "      <td>NaN</td>\n",
       "      <td>NaN</td>\n",
       "      <td>NaN</td>\n",
       "      <td>NaN</td>\n",
       "      <td>NaN</td>\n",
       "      <td>NaN</td>\n",
       "      <td>NaN</td>\n",
       "      <td>NaN</td>\n",
       "      <td>...</td>\n",
       "      <td>NaN</td>\n",
       "      <td>NaN</td>\n",
       "      <td>2.8012</td>\n",
       "      <td>384.2</td>\n",
       "      <td>43.5</td>\n",
       "      <td>12</td>\n",
       "      <td>NaN</td>\n",
       "      <td>NaN</td>\n",
       "      <td>0.0044</td>\n",
       "      <td>0.001</td>\n",
       "    </tr>\n",
       "    <tr>\n",
       "      <td>2017-01-01 03:00:00</td>\n",
       "      <td>0.0004</td>\n",
       "      <td>0.0869</td>\n",
       "      <td>0.0149</td>\n",
       "      <td>3.892</td>\n",
       "      <td>0.335</td>\n",
       "      <td>0.4949</td>\n",
       "      <td>3.518</td>\n",
       "      <td>0.0957</td>\n",
       "      <td>0.6463</td>\n",
       "      <td>0.3016</td>\n",
       "      <td>...</td>\n",
       "      <td>7.277</td>\n",
       "      <td>0.444</td>\n",
       "      <td>2.8014</td>\n",
       "      <td>385.7</td>\n",
       "      <td>39.3</td>\n",
       "      <td>12</td>\n",
       "      <td>0.012</td>\n",
       "      <td>0.095</td>\n",
       "      <td>0.0072</td>\n",
       "      <td>0.0012</td>\n",
       "    </tr>\n",
       "    <tr>\n",
       "      <td>2017-01-01 04:00:00</td>\n",
       "      <td>NaN</td>\n",
       "      <td>NaN</td>\n",
       "      <td>NaN</td>\n",
       "      <td>NaN</td>\n",
       "      <td>NaN</td>\n",
       "      <td>NaN</td>\n",
       "      <td>NaN</td>\n",
       "      <td>NaN</td>\n",
       "      <td>NaN</td>\n",
       "      <td>NaN</td>\n",
       "      <td>...</td>\n",
       "      <td>NaN</td>\n",
       "      <td>NaN</td>\n",
       "      <td>2.7956</td>\n",
       "      <td>385.1</td>\n",
       "      <td>36.6</td>\n",
       "      <td>12</td>\n",
       "      <td>NaN</td>\n",
       "      <td>NaN</td>\n",
       "      <td>0.0074</td>\n",
       "      <td>0.0012</td>\n",
       "    </tr>\n",
       "    <tr>\n",
       "      <td>2017-01-01 05:00:00</td>\n",
       "      <td>NaN</td>\n",
       "      <td>0.0849</td>\n",
       "      <td>NaN</td>\n",
       "      <td>3.9809</td>\n",
       "      <td>NaN</td>\n",
       "      <td>NaN</td>\n",
       "      <td>NaN</td>\n",
       "      <td>NaN</td>\n",
       "      <td>NaN</td>\n",
       "      <td>NaN</td>\n",
       "      <td>...</td>\n",
       "      <td>NaN</td>\n",
       "      <td>NaN</td>\n",
       "      <td>2.7886</td>\n",
       "      <td>385.3</td>\n",
       "      <td>35.8</td>\n",
       "      <td>12</td>\n",
       "      <td>0.0112</td>\n",
       "      <td>0.108</td>\n",
       "      <td>0.0082</td>\n",
       "      <td>0.0013</td>\n",
       "    </tr>\n",
       "  </tbody>\n",
       "</table>\n",
       "<p>21446 rows × 21 columns</p>\n",
       "</div>"
      ],
      "text/plain": [
       "                     104_Pb  104_Zn  104_Cu  104_Ni  104_Co  104_Fe 104_Mn  \\\n",
       "DATETIME                                                                     \n",
       "2014-01-01 06:00:00     NaN     NaN     NaN     NaN     NaN     NaN    NaN   \n",
       "2014-01-01 07:00:00  0.0009  0.0822  0.0173   2.958  0.2622  2.2030  2.848   \n",
       "2014-01-01 08:00:00     NaN     NaN     NaN     NaN     NaN     NaN    NaN   \n",
       "2014-01-01 09:00:00     NaN     NaN     NaN   2.769     NaN     NaN    NaN   \n",
       "2014-01-01 09:30:00     NaN     NaN     NaN     NaN     NaN     NaN    NaN   \n",
       "...                     ...     ...     ...     ...     ...     ...    ...   \n",
       "2017-01-01 01:00:00     NaN  0.0837     NaN  3.9192     NaN     NaN    NaN   \n",
       "2017-01-01 02:00:00     NaN     NaN     NaN     NaN     NaN     NaN    NaN   \n",
       "2017-01-01 03:00:00  0.0004  0.0869  0.0149   3.892   0.335  0.4949  3.518   \n",
       "2017-01-01 04:00:00     NaN     NaN     NaN     NaN     NaN     NaN    NaN   \n",
       "2017-01-01 05:00:00     NaN  0.0849     NaN  3.9809     NaN     NaN    NaN   \n",
       "\n",
       "                     104_Cr  104_Ca  104_Si  ... 104_Mg  104_Fe2 104_pH60  \\\n",
       "DATETIME                                     ...                            \n",
       "2014-01-01 06:00:00     NaN     NaN     NaN  ...    NaN      NaN   2.7700   \n",
       "2014-01-01 07:00:00  0.1862  0.6841  0.2513  ...  8.062    1.612   2.8100   \n",
       "2014-01-01 08:00:00     NaN     NaN     NaN  ...    NaN      NaN   2.7600   \n",
       "2014-01-01 09:00:00     NaN     NaN     NaN  ...    NaN      NaN   2.7700   \n",
       "2014-01-01 09:30:00     NaN     NaN     NaN  ...    NaN      NaN      NaN   \n",
       "...                     ...     ...     ...  ...    ...      ...      ...   \n",
       "2017-01-01 01:00:00     NaN     NaN     NaN  ...    NaN      NaN   2.8016   \n",
       "2017-01-01 02:00:00     NaN     NaN     NaN  ...    NaN      NaN   2.8012   \n",
       "2017-01-01 03:00:00  0.0957  0.6463  0.3016  ...  7.277    0.444   2.8014   \n",
       "2017-01-01 04:00:00     NaN     NaN     NaN  ...    NaN      NaN   2.7956   \n",
       "2017-01-01 05:00:00     NaN     NaN     NaN  ...    NaN      NaN   2.7886   \n",
       "\n",
       "                     104_ORP 104_NTU 104_Ft tk13_Zn tk13_solids%  105_Zn  \\\n",
       "DATETIME                                                                   \n",
       "2014-01-01 06:00:00    369.3    63.4     13     NaN          NaN     NaN   \n",
       "2014-01-01 07:00:00    371.5    78.7     12     NaN          NaN  0.0011   \n",
       "2014-01-01 08:00:00    370.9     128     15     NaN          NaN     NaN   \n",
       "2014-01-01 09:00:00    372.4     242     16     NaN        0.022  0.0010   \n",
       "2014-01-01 09:30:00      NaN     342     13     NaN          NaN     NaN   \n",
       "...                      ...     ...    ...     ...          ...     ...   \n",
       "2017-01-01 01:00:00    383.5    47.7     12  0.0162        0.108  0.0046   \n",
       "2017-01-01 02:00:00    384.2    43.5     12     NaN          NaN  0.0044   \n",
       "2017-01-01 03:00:00    385.7    39.3     12   0.012        0.095  0.0072   \n",
       "2017-01-01 04:00:00    385.1    36.6     12     NaN          NaN  0.0074   \n",
       "2017-01-01 05:00:00    385.3    35.8     12  0.0112        0.108  0.0082   \n",
       "\n",
       "                     106_Zn  \n",
       "DATETIME                     \n",
       "2014-01-01 06:00:00     NaN  \n",
       "2014-01-01 07:00:00  0.0001  \n",
       "2014-01-01 08:00:00     NaN  \n",
       "2014-01-01 09:00:00  0.0002  \n",
       "2014-01-01 09:30:00     NaN  \n",
       "...                     ...  \n",
       "2017-01-01 01:00:00  0.0011  \n",
       "2017-01-01 02:00:00   0.001  \n",
       "2017-01-01 03:00:00  0.0012  \n",
       "2017-01-01 04:00:00  0.0012  \n",
       "2017-01-01 05:00:00  0.0013  \n",
       "\n",
       "[21446 rows x 21 columns]"
      ]
     },
     "execution_count": 53,
     "metadata": {},
     "output_type": "execute_result"
    }
   ],
   "source": [
    "df_ZnDrop_project_2014_2016"
   ]
  },
  {
   "cell_type": "markdown",
   "metadata": {},
   "source": [
    "#### Code for loading the excel files with common starting titles for ZnDrop_Proj_DataGather_Mont[h]ly for 105TK05"
   ]
  },
  {
   "cell_type": "code",
   "execution_count": null,
   "metadata": {},
   "outputs": [],
   "source": [
    "# ZnDrop_Proj_DataGather_Monthly_105TK052014-01-01"
   ]
  },
  {
   "cell_type": "code",
   "execution_count": 54,
   "metadata": {
    "collapsed": true
   },
   "outputs": [
    {
     "name": "stdout",
     "output_type": "stream",
     "text": [
      "Empty DataFrame\n",
      "Columns: [tk05_Pb, tk05_Zn, tk05_Cu, tk05_Ni, tk05_Co, tk05_Fe, tk05_Mn, tk05_Cr, tk05_Ca, tk05_Si, tk05_Al, tk05_Mg]\n",
      "Index: []\n",
      "ZnDrop_Proj_DataGather_Monthly_105TK052014-01-01.xlsx\n",
      "1\n",
      "ZnDrop_Proj_DataGather_Monthly_105TK052014-02-01.xlsx\n",
      "2\n",
      "ZnDrop_Proj_DataGather_Monthly_105TK052014-03-01.xlsx\n",
      "3\n",
      "ZnDrop_Proj_DataGather_Monthly_105TK052014-04-01.xlsx\n",
      "4\n",
      "ZnDrop_Proj_DataGather_Monthly_105TK052014-05-01.xlsx\n",
      "5\n",
      "ZnDrop_Proj_DataGather_Monthly_105TK052014-06-01.xlsx\n",
      "6\n",
      "ZnDrop_Proj_DataGather_Monthly_105TK052014-07-01.xlsx\n",
      "7\n",
      "ZnDrop_Proj_DataGather_Monthly_105TK052014-08-01.xlsx\n",
      "8\n",
      "ZnDrop_Proj_DataGather_Monthly_105TK052014-09-01.xlsx\n",
      "9\n",
      "ZnDrop_Proj_DataGather_Monthly_105TK052014-10-01.xlsx\n",
      "10\n",
      "ZnDrop_Proj_DataGather_Monthly_105TK052014-11-01.xlsx\n",
      "11\n",
      "ZnDrop_Proj_DataGather_Monthly_105TK052014-12-01.xlsx\n",
      "12\n",
      "ZnDrop_Proj_DataGather_Monthly_105TK052015-01-01.xlsx\n",
      "13\n",
      "ZnDrop_Proj_DataGather_Monthly_105TK052015-02-01.xlsx\n",
      "14\n",
      "ZnDrop_Proj_DataGather_Monthly_105TK052015-03-01.xlsx\n",
      "15\n",
      "ZnDrop_Proj_DataGather_Monthly_105TK052015-04-01.xlsx\n",
      "16\n",
      "ZnDrop_Proj_DataGather_Monthly_105TK052015-05-01.xlsx\n",
      "17\n",
      "ZnDrop_Proj_DataGather_Monthly_105TK052015-06-01.xlsx\n",
      "18\n",
      "ZnDrop_Proj_DataGather_Monthly_105TK052015-07-01.xlsx\n",
      "19\n",
      "ZnDrop_Proj_DataGather_Monthly_105TK052015-08-01.xlsx\n",
      "20\n",
      "ZnDrop_Proj_DataGather_Monthly_105TK052015-09-01.xlsx\n",
      "21\n",
      "ZnDrop_Proj_DataGather_Monthly_105TK052015-10-01.xlsx\n",
      "22\n",
      "ZnDrop_Proj_DataGather_Monthly_105TK052015-11-01.xlsx\n",
      "23\n",
      "ZnDrop_Proj_DataGather_Monthly_105TK052015-12-01.xlsx\n",
      "24\n",
      "ZnDrop_Proj_DataGather_Monthly_105TK052016-01-01.xlsx\n",
      "25\n",
      "ZnDrop_Proj_DataGather_Monthly_105TK052016-02-01.xlsx\n",
      "26\n",
      "ZnDrop_Proj_DataGather_Monthly_105TK052016-03-01.xlsx\n",
      "27\n",
      "ZnDrop_Proj_DataGather_Monthly_105TK052016-04-01.xlsx\n",
      "28\n",
      "ZnDrop_Proj_DataGather_Monthly_105TK052016-05-01.xlsx\n",
      "29\n",
      "ZnDrop_Proj_DataGather_Monthly_105TK052016-06-01.xlsx\n",
      "30\n",
      "ZnDrop_Proj_DataGather_Monthly_105TK052016-07-01.xlsx\n",
      "31\n",
      "ZnDrop_Proj_DataGather_Monthly_105TK052016-08-01.xlsx\n",
      "32\n",
      "ZnDrop_Proj_DataGather_Monthly_105TK052016-09-01.xlsx\n",
      "33\n",
      "ZnDrop_Proj_DataGather_Monthly_105TK052016-10-01.xlsx\n",
      "34\n",
      "ZnDrop_Proj_DataGather_Monthly_105TK052016-11-01.xlsx\n",
      "35\n",
      "ZnDrop_Proj_DataGather_Monthly_105TK052016-12-01.xlsx\n",
      "36\n"
     ]
    }
   ],
   "source": [
    "blank_data_tk05 = {'DATETIME': np.nan, 'tk05_Pb': np.nan, 'tk05_Zn': np.nan, 'tk05_Cu': np.nan, 'tk05_Ni': np.nan, 'tk05_Co': np.nan, 'tk05_Fe': np.nan,\n",
    "       'tk05_Mn': np.nan, 'tk05_Cr': np.nan, 'tk05_Ca': np.nan, 'tk05_Si': np.nan, 'tk05_Al': np.nan, 'tk05_Mg': np.nan}\n",
    "\n",
    "columnNames_tk05 = ['tk05_Pb', 'tk05_Zn', 'tk05_Cu', 'tk05_Ni', 'tk05_Co',\n",
    "       'tk05_Fe', 'tk05_Mn', 'tk05_Cr', 'tk05_Ca', 'tk05_Si', 'tk05_Al',\n",
    "       'tk05_Mg']\n",
    "\n",
    "df_ZnDrop_project_105TK05_2014_2016 = pd.DataFrame (blank_data_tk05, columns = columnNames_tk05)\n",
    "\n",
    "print (df_ZnDrop_project_105TK05_2014_2016)\n",
    "filepath_mydocs = r'C:\\Users\\v.t.flores\\Documents'\n",
    "df_length = 0\n",
    "for root, dirs, files in os.walk(filepath_mydocs): #input the folder filepath here\n",
    "        for filename in files:\n",
    "            if filename.startswith('ZnDrop_Proj_DataGather_Monthly_105TK052014') or filename.startswith('ZnDrop_Proj_DataGather_Monthly_105TK052015') or filename.startswith('ZnDrop_Proj_DataGather_Monthly_105TK052016'): #if statement that checks if the file starts with ZnDrop_Proj_DataGather_Montly\n",
    "                #print (os.path.join(root, filename))\n",
    "                theFile_tk05 = pd.read_excel(os.path.join(root, filename)) \n",
    "                #os.path.join(root, filename) means the complete path to the file including the excel file\n",
    "                #-------------------------------------------------allSheetNames = theFile.sheetnames\n",
    "                print(filename)\n",
    "                df_length += 1\n",
    "                print(df_length)\n",
    "                df_ZnDrop_project_105TK05_2014_2016 = df_ZnDrop_project_105TK05_2014_2016.append(theFile_tk05, sort=True)\n",
    "                #print(theFile)\n"
   ]
  },
  {
   "cell_type": "code",
   "execution_count": 55,
   "metadata": {},
   "outputs": [],
   "source": [
    "df_ZnDrop_project_105TK05_2014_2016_1 = df_ZnDrop_project_105TK05_2014_2016.set_index('DATETIME')\n",
    "\n",
    "df_ZnDrop_project_105TK05_2014_2016_1.to_excel(r'C:\\Users\\v.t.flores\\Documents\\df_ZnDrop_project_105TK05_2014_2016.xlsx')\n",
    "\n",
    "# join the 105TK05 data with the ntrl, etc. data\n",
    "df_ntrl_tk13_mstk01_2014_2016 = df_ZnDrop_project_2014_2016.join(df_ZnDrop_project_105TK05_2014_2016_1, how='outer')\n"
   ]
  },
  {
   "cell_type": "code",
   "execution_count": 56,
   "metadata": {},
   "outputs": [],
   "source": [
    "#Load the Pi data for ZnDrop Project\n",
    "df_PI_zndrop_proj2015_2016 = pd.read_excel(r'C:\\Users\\v.t.flores\\Documents\\ZnDrop_Project_Pi_2015Sept_2016.xlsx')\n",
    "df_PI_zndrop_proj_1 = df_PI_zndrop_proj2015_2016.drop(df_PI_zndrop_proj2015_2016.index[0], axis=0)\n",
    "df_PI_zndrop_proj_2 = df_PI_zndrop_proj_1.set_index('DATETIME')\n",
    "\n",
    "#Convert each column to numeric to handle nan values and other comments like 'No data...'. Convering to numeric\n",
    "#------ converts them into a NaN value that pandas understands.\n",
    "for i in df_PI_zndrop_proj_2.columns:\n",
    "    df_PI_zndrop_proj_2[i] = pd.to_numeric(df_PI_zndrop_proj_2[i], errors='coerce')\n",
    "    \n",
    "#Creating a column for the correct H2S flowrate\n",
    "df_PI_zndrop_proj_2['H2S_tk01'] = np.where(df_PI_zndrop_proj_2['H2S_FT_TK01_A']>df_PI_zndrop_proj_2['H2S_FT_TK01_B'],\\\n",
    "                                    df_PI_zndrop_proj_2['H2S_FT_TK01_A'], df_PI_zndrop_proj_2['H2S_FT_TK01_B'])\n",
    "\n",
    "df_PI_zndrop_proj_2['H2S_tk02'] = np.where(df_PI_zndrop_proj_2['H2S_FT_TK02_A']>df_PI_zndrop_proj_2['H2S_FT_TK02_B'],\\\n",
    "                                    df_PI_zndrop_proj_2['H2S_FT_TK02_A'], df_PI_zndrop_proj_2['H2S_FT_TK02_B'])    "
   ]
  },
  {
   "cell_type": "code",
   "execution_count": 57,
   "metadata": {},
   "outputs": [],
   "source": [
    "# DF_NTRL_TK0513_MSTK01 => is the combined data of NTRL, TK05, TK13, 106TK01 and the PI data on dezn flowrate, temperature and H2S flowrate\n",
    "\n",
    "DF_NTRL_TK0513_MSTK01_2015_2016 = df_ntrl_tk13_mstk01_2014_2016.join(df_PI_zndrop_proj_2, how='outer')\n",
    "\n",
    "#convert the df to numeric\n",
    "for i in DF_NTRL_TK0513_MSTK01_2015_2016.columns:\n",
    "    DF_NTRL_TK0513_MSTK01_2015_2016[i] = pd.to_numeric(DF_NTRL_TK0513_MSTK01_2015_2016[i], errors='coerce')"
   ]
  },
  {
   "cell_type": "code",
   "execution_count": 94,
   "metadata": {},
   "outputs": [],
   "source": [
    "#testing. use the interpolate to fill the missing values. then adjust for the retention time"
   ]
  },
  {
   "cell_type": "code",
   "execution_count": 58,
   "metadata": {},
   "outputs": [],
   "source": [
    "\n",
    "DF_NTRL_TK0513_MSTK01_intrpltd_2015_2016 = DF_NTRL_TK0513_MSTK01_2015_2016.interpolate(method='linear', limit_direction='forward', axis=0)"
   ]
  },
  {
   "cell_type": "code",
   "execution_count": 59,
   "metadata": {},
   "outputs": [
    {
     "data": {
      "text/plain": [
       "Index(['104_Pb', '104_Zn', '104_Cu', '104_Ni', '104_Co', '104_Fe', '104_Mn',\n",
       "       '104_Cr', '104_Ca', '104_Si', '104_Al', '104_Mg', '104_Fe2', '104_pH60',\n",
       "       '104_ORP', '104_NTU', '104_Ft', 'tk13_Zn', 'tk13_solids%', '105_Zn',\n",
       "       '106_Zn', 'tk05_Al', 'tk05_Ca', 'tk05_Co', 'tk05_Cr', 'tk05_Cu',\n",
       "       'tk05_Fe', 'tk05_Mg', 'tk05_Mn', 'tk05_Ni', 'tk05_Pb', 'tk05_Si',\n",
       "       'tk05_Zn', 'DeZn_Feed_Flow', 'DeZn_Feed_T', 'H2S_FT_TK01_A',\n",
       "       'H2S_FT_TK01_B', 'H2S_FT_TK02_A', 'H2S_FT_TK02_B', 'DeZn_Seed_Flow',\n",
       "       'DeZn_TK05_T', 'H2S_tk01', 'H2S_tk02'],\n",
       "      dtype='object')"
      ]
     },
     "execution_count": 59,
     "metadata": {},
     "output_type": "execute_result"
    }
   ],
   "source": [
    "DF_NTRL_TK0513_MSTK01_intrpltd_2015_2016.columns"
   ]
  },
  {
   "cell_type": "code",
   "execution_count": 61,
   "metadata": {},
   "outputs": [],
   "source": [
    "DF_NTRL_TK0513_MSTK01_intrpltd_2015_2016['Zn_drop'] = 100*(1-(DF_NTRL_TK0513_MSTK01_intrpltd_2015_2016['106_Zn']/DF_NTRL_TK0513_MSTK01_intrpltd_2015_2016['105_Zn']))"
   ]
  },
  {
   "cell_type": "code",
   "execution_count": 71,
   "metadata": {},
   "outputs": [],
   "source": [
    "DF_NTRL_TK0513_MSTK01_intrpltd_2015_2016.to_excel(r'C:\\Users\\v.t.flores\\Documents\\df_ZnDrop_project_105TK05_2014_2016_PIdata.xlsx')\n",
    "\n",
    "#this project is continued in ZnDrop_Project_RidgeReg.ipynb file"
   ]
  },
  {
   "cell_type": "code",
   "execution_count": 72,
   "metadata": {},
   "outputs": [
    {
     "data": {
      "text/html": [
       "<div>\n",
       "<style scoped>\n",
       "    .dataframe tbody tr th:only-of-type {\n",
       "        vertical-align: middle;\n",
       "    }\n",
       "\n",
       "    .dataframe tbody tr th {\n",
       "        vertical-align: top;\n",
       "    }\n",
       "\n",
       "    .dataframe thead th {\n",
       "        text-align: right;\n",
       "    }\n",
       "</style>\n",
       "<table border=\"1\" class=\"dataframe\">\n",
       "  <thead>\n",
       "    <tr style=\"text-align: right;\">\n",
       "      <th></th>\n",
       "      <th>104_Pb</th>\n",
       "      <th>104_Zn</th>\n",
       "      <th>104_Cu</th>\n",
       "      <th>104_Ni</th>\n",
       "      <th>104_Co</th>\n",
       "      <th>104_Fe</th>\n",
       "      <th>104_Mn</th>\n",
       "      <th>104_Cr</th>\n",
       "      <th>104_Ca</th>\n",
       "      <th>104_Si</th>\n",
       "      <th>...</th>\n",
       "      <th>DeZn_Feed_T</th>\n",
       "      <th>H2S_FT_TK01_A</th>\n",
       "      <th>H2S_FT_TK01_B</th>\n",
       "      <th>H2S_FT_TK02_A</th>\n",
       "      <th>H2S_FT_TK02_B</th>\n",
       "      <th>DeZn_Seed_Flow</th>\n",
       "      <th>DeZn_TK05_T</th>\n",
       "      <th>H2S_tk01</th>\n",
       "      <th>H2S_tk02</th>\n",
       "      <th>Zn_drop</th>\n",
       "    </tr>\n",
       "    <tr>\n",
       "      <th>DATETIME</th>\n",
       "      <th></th>\n",
       "      <th></th>\n",
       "      <th></th>\n",
       "      <th></th>\n",
       "      <th></th>\n",
       "      <th></th>\n",
       "      <th></th>\n",
       "      <th></th>\n",
       "      <th></th>\n",
       "      <th></th>\n",
       "      <th></th>\n",
       "      <th></th>\n",
       "      <th></th>\n",
       "      <th></th>\n",
       "      <th></th>\n",
       "      <th></th>\n",
       "      <th></th>\n",
       "      <th></th>\n",
       "      <th></th>\n",
       "      <th></th>\n",
       "      <th></th>\n",
       "    </tr>\n",
       "  </thead>\n",
       "  <tbody>\n",
       "    <tr>\n",
       "      <td>2017-01-01 01:00:00</td>\n",
       "      <td>0.000550</td>\n",
       "      <td>0.0837</td>\n",
       "      <td>0.014850</td>\n",
       "      <td>3.91920</td>\n",
       "      <td>0.3342</td>\n",
       "      <td>0.48240</td>\n",
       "      <td>3.48050</td>\n",
       "      <td>0.09400</td>\n",
       "      <td>0.639950</td>\n",
       "      <td>0.30150</td>\n",
       "      <td>...</td>\n",
       "      <td>56.318002</td>\n",
       "      <td>27.6945</td>\n",
       "      <td>7.76175</td>\n",
       "      <td>65.1695</td>\n",
       "      <td>0.0</td>\n",
       "      <td>2.597606</td>\n",
       "      <td>67.032</td>\n",
       "      <td>27.6945</td>\n",
       "      <td>65.1695</td>\n",
       "      <td>76.086957</td>\n",
       "    </tr>\n",
       "    <tr>\n",
       "      <td>2017-01-01 02:00:00</td>\n",
       "      <td>0.000475</td>\n",
       "      <td>0.0853</td>\n",
       "      <td>0.014875</td>\n",
       "      <td>3.90560</td>\n",
       "      <td>0.3346</td>\n",
       "      <td>0.48865</td>\n",
       "      <td>3.49925</td>\n",
       "      <td>0.09485</td>\n",
       "      <td>0.643125</td>\n",
       "      <td>0.30155</td>\n",
       "      <td>...</td>\n",
       "      <td>56.318002</td>\n",
       "      <td>27.6945</td>\n",
       "      <td>7.76175</td>\n",
       "      <td>65.1695</td>\n",
       "      <td>0.0</td>\n",
       "      <td>2.597606</td>\n",
       "      <td>67.032</td>\n",
       "      <td>27.6945</td>\n",
       "      <td>65.1695</td>\n",
       "      <td>77.272727</td>\n",
       "    </tr>\n",
       "    <tr>\n",
       "      <td>2017-01-01 03:00:00</td>\n",
       "      <td>0.000400</td>\n",
       "      <td>0.0869</td>\n",
       "      <td>0.014900</td>\n",
       "      <td>3.89200</td>\n",
       "      <td>0.3350</td>\n",
       "      <td>0.49490</td>\n",
       "      <td>3.51800</td>\n",
       "      <td>0.09570</td>\n",
       "      <td>0.646300</td>\n",
       "      <td>0.30160</td>\n",
       "      <td>...</td>\n",
       "      <td>56.318002</td>\n",
       "      <td>27.6945</td>\n",
       "      <td>7.76175</td>\n",
       "      <td>65.1695</td>\n",
       "      <td>0.0</td>\n",
       "      <td>2.597606</td>\n",
       "      <td>67.032</td>\n",
       "      <td>27.6945</td>\n",
       "      <td>65.1695</td>\n",
       "      <td>83.333333</td>\n",
       "    </tr>\n",
       "    <tr>\n",
       "      <td>2017-01-01 04:00:00</td>\n",
       "      <td>0.000400</td>\n",
       "      <td>0.0859</td>\n",
       "      <td>0.014900</td>\n",
       "      <td>3.93645</td>\n",
       "      <td>0.3350</td>\n",
       "      <td>0.49490</td>\n",
       "      <td>3.51800</td>\n",
       "      <td>0.09570</td>\n",
       "      <td>0.646300</td>\n",
       "      <td>0.30160</td>\n",
       "      <td>...</td>\n",
       "      <td>56.318002</td>\n",
       "      <td>27.6945</td>\n",
       "      <td>7.76175</td>\n",
       "      <td>65.1695</td>\n",
       "      <td>0.0</td>\n",
       "      <td>2.597606</td>\n",
       "      <td>67.032</td>\n",
       "      <td>27.6945</td>\n",
       "      <td>65.1695</td>\n",
       "      <td>83.783784</td>\n",
       "    </tr>\n",
       "    <tr>\n",
       "      <td>2017-01-01 05:00:00</td>\n",
       "      <td>0.000400</td>\n",
       "      <td>0.0849</td>\n",
       "      <td>0.014900</td>\n",
       "      <td>3.98090</td>\n",
       "      <td>0.3350</td>\n",
       "      <td>0.49490</td>\n",
       "      <td>3.51800</td>\n",
       "      <td>0.09570</td>\n",
       "      <td>0.646300</td>\n",
       "      <td>0.30160</td>\n",
       "      <td>...</td>\n",
       "      <td>56.318002</td>\n",
       "      <td>27.6945</td>\n",
       "      <td>7.76175</td>\n",
       "      <td>65.1695</td>\n",
       "      <td>0.0</td>\n",
       "      <td>2.597606</td>\n",
       "      <td>67.032</td>\n",
       "      <td>27.6945</td>\n",
       "      <td>65.1695</td>\n",
       "      <td>84.146341</td>\n",
       "    </tr>\n",
       "  </tbody>\n",
       "</table>\n",
       "<p>5 rows × 44 columns</p>\n",
       "</div>"
      ],
      "text/plain": [
       "                       104_Pb  104_Zn    104_Cu   104_Ni  104_Co   104_Fe  \\\n",
       "DATETIME                                                                    \n",
       "2017-01-01 01:00:00  0.000550  0.0837  0.014850  3.91920  0.3342  0.48240   \n",
       "2017-01-01 02:00:00  0.000475  0.0853  0.014875  3.90560  0.3346  0.48865   \n",
       "2017-01-01 03:00:00  0.000400  0.0869  0.014900  3.89200  0.3350  0.49490   \n",
       "2017-01-01 04:00:00  0.000400  0.0859  0.014900  3.93645  0.3350  0.49490   \n",
       "2017-01-01 05:00:00  0.000400  0.0849  0.014900  3.98090  0.3350  0.49490   \n",
       "\n",
       "                      104_Mn   104_Cr    104_Ca   104_Si  ...  DeZn_Feed_T  \\\n",
       "DATETIME                                                  ...                \n",
       "2017-01-01 01:00:00  3.48050  0.09400  0.639950  0.30150  ...    56.318002   \n",
       "2017-01-01 02:00:00  3.49925  0.09485  0.643125  0.30155  ...    56.318002   \n",
       "2017-01-01 03:00:00  3.51800  0.09570  0.646300  0.30160  ...    56.318002   \n",
       "2017-01-01 04:00:00  3.51800  0.09570  0.646300  0.30160  ...    56.318002   \n",
       "2017-01-01 05:00:00  3.51800  0.09570  0.646300  0.30160  ...    56.318002   \n",
       "\n",
       "                     H2S_FT_TK01_A  H2S_FT_TK01_B  H2S_FT_TK02_A  \\\n",
       "DATETIME                                                           \n",
       "2017-01-01 01:00:00        27.6945        7.76175        65.1695   \n",
       "2017-01-01 02:00:00        27.6945        7.76175        65.1695   \n",
       "2017-01-01 03:00:00        27.6945        7.76175        65.1695   \n",
       "2017-01-01 04:00:00        27.6945        7.76175        65.1695   \n",
       "2017-01-01 05:00:00        27.6945        7.76175        65.1695   \n",
       "\n",
       "                     H2S_FT_TK02_B  DeZn_Seed_Flow  DeZn_TK05_T  H2S_tk01  \\\n",
       "DATETIME                                                                    \n",
       "2017-01-01 01:00:00            0.0        2.597606       67.032   27.6945   \n",
       "2017-01-01 02:00:00            0.0        2.597606       67.032   27.6945   \n",
       "2017-01-01 03:00:00            0.0        2.597606       67.032   27.6945   \n",
       "2017-01-01 04:00:00            0.0        2.597606       67.032   27.6945   \n",
       "2017-01-01 05:00:00            0.0        2.597606       67.032   27.6945   \n",
       "\n",
       "                     H2S_tk02    Zn_drop  \n",
       "DATETIME                                  \n",
       "2017-01-01 01:00:00   65.1695  76.086957  \n",
       "2017-01-01 02:00:00   65.1695  77.272727  \n",
       "2017-01-01 03:00:00   65.1695  83.333333  \n",
       "2017-01-01 04:00:00   65.1695  83.783784  \n",
       "2017-01-01 05:00:00   65.1695  84.146341  \n",
       "\n",
       "[5 rows x 44 columns]"
      ]
     },
     "execution_count": 72,
     "metadata": {},
     "output_type": "execute_result"
    }
   ],
   "source": [
    "DF_NTRL_TK0513_MSTK01_intrpltd_2015_2016.tail()"
   ]
  },
  {
   "cell_type": "code",
   "execution_count": 70,
   "metadata": {},
   "outputs": [
    {
     "data": {
      "text/plain": [
       "11327"
      ]
     },
     "execution_count": 70,
     "metadata": {},
     "output_type": "execute_result"
    }
   ],
   "source": [
    "len(DF_NTRL_TK0513_MSTK01_intrpltd_2015_2016.dropna())"
   ]
  },
  {
   "cell_type": "code",
   "execution_count": null,
   "metadata": {},
   "outputs": [],
   "source": []
  },
  {
   "cell_type": "code",
   "execution_count": 393,
   "metadata": {
    "collapsed": true
   },
   "outputs": [
    {
     "name": "stdout",
     "output_type": "stream",
     "text": [
      "The pH60 range 2.75 to 3.0 in NTRL make up 18.96% of the dataset when Redissolution occurred\n",
      "The pH60 range 2.75 to 3.0 in NTRL make up 19.35% of the dataset when Redissolution did NOT occur\n"
     ]
    },
    {
     "data": {
      "image/png": "[encoded data removed]",
      "text/plain": [
       "<Figure size 432x288 with 1 Axes>"
      ]
     },
     "metadata": {
      "needs_background": "light"
     },
     "output_type": "display_data"
    }
   ],
   "source": [
    "from sklearn.neighbors import KernelDensity\n",
    "\n",
    "#convert the FeZn_104_withRedissoltn data to a form acceptable by the sklearn by doing this:\n",
    "pH60_104_withRedissoltn_data = np.array(pH60_104_withRedissoltn.dropna()).reshape(-1,1)\n",
    "pH60_104_withOutRedissoltn_data = np.array(pH60_104_withOutRedissoltn.dropna()).reshape(-1,1)\n",
    "\n",
    "#create a KernelDensity using the sklearn\n",
    "kd_pH60_104_withRedissoltn = KernelDensity(kernel='gaussian', bandwidth=0.5).fit(pH60_104_withRedissoltn_data)\n",
    "kd_pH60_104_withOutRedissoltn = KernelDensity(kernel='gaussian', bandwidth=0.5).fit(pH60_104_withOutRedissoltn_data)    \n",
    "\n",
    "def get_probability(start_value, end_value, eval_points, kd): #-----------------------------------function that computes the probability under a kernel density curve from a given KernelDensity\n",
    "    \n",
    "    # Number of evaluation points \n",
    "    N = eval_points                                      \n",
    "    step = (end_value - start_value) / (N - 1)  # Step size\n",
    "\n",
    "    x = np.linspace(start_value, end_value, N)[:, np.newaxis]  # Generate values in the range\n",
    "    kd_vals = np.exp(kd.score_samples(x))  # Get PDF values for each x\n",
    "    probability = np.sum(kd_vals * step)  # Approximate the integral of the PDF\n",
    "    return probability.round(4)\n",
    "\n",
    "\n",
    "#print out the results\n",
    "print('The pH60 range 2.75 to 3.0 in NTRL make up {}% of the dataset when Redissolution occurred'.format(get_probability(2.75,3.0, 200,kd_pH60_104_withRedissoltn)*100))\n",
    "print('The pH60 range 2.75 to 3.0 in NTRL make up {}% of the dataset when Redissolution did NOT occur'.format(get_probability(2.75,3.0, 200,kd_pH60_104_withOutRedissoltn)*100))\n",
    "\n",
    "\n",
    "plt.close('all')\n",
    "#plot for withRedissoltn\n",
    "ax = sns.kdeplot(pH60_104_withRedissoltn, clip=(2,4), shade=False)\n",
    "line = ax.get_lines()[-1]\n",
    "x, y = line.get_data()\n",
    "mask = (x <= 3.0) & ( x > 2.75)\n",
    "x, y = x[mask], y[mask]\n",
    "ax.fill_between(x, y1=y, alpha=0.5, facecolor='lightblue')\n",
    "\n",
    "#plot for withOutRedissoltn\n",
    "ax1 = sns.kdeplot(pH60_104_withOutRedissoltn, clip=(2,4), shade=False)\n",
    "line = ax1.get_lines()[-1]\n",
    "x, y = line.get_data()\n",
    "mask = (x <= 3.0) & ( x > 2.75)\n",
    "x, y = x[mask], y[mask]\n",
    "ax1.fill_between(x, y1=y, alpha=0.5, facecolor='orange')\n",
    "\n",
    "#\n",
    "plt.legend(labels=['pH60_104_withRedissoltn','pH60_104_withOutRedissoltn'])\n",
    "plt.xlabel('pH60 at NTRL')\n",
    "plt.savefig(r'C:\\Users\\v.t.flores\\Documents\\pH60_104_Distribution_with_and_withOut_Redissolution_shaded_2.75to3.0.png')\n",
    "plt.show()\n",
    "\n",
    "\n",
    "\n"
   ]
  },
  {
   "cell_type": "code",
   "execution_count": 394,
   "metadata": {},
   "outputs": [
    {
     "name": "stdout",
     "output_type": "stream",
     "text": [
      "The probability that redissolution will occur for pH range 2.75 to 3.0 is: 0.1675247696101761\n"
     ]
    }
   ],
   "source": [
    "pH60_104_range275_3 = DF_NTRL_TK0513_MSTK01_intrpltd[(DF_NTRL_TK0513_MSTK01_intrpltd['104_pH60']>2.75) & (DF_NTRL_TK0513_MSTK01_intrpltd['104_pH60']<=3.0)]\n",
    "pH60_104_range275_3_with_RD = pH60_104_range2_29[pH60_104_range2_29['Zn_drop_act']<=0]\n",
    "print('The probability that redissolution will occur for pH range 2.75 to 3.0 is: {}'.format(pH60_104_range275_3_with_RD.count()[-1]/pH60_104_range275_3.count()[-1]))\n",
    "#print('')\n",
    "      \n",
    "#pH60_104_range2_25_withOut_RD = pH60_104_range2_25[pH60_104_range2_25['Zn_drop_act']>0]\n",
    "#print(pH60_104_range2_25_withOut_RD.count()[-1])"
   ]
  },
  {
   "cell_type": "code",
   "execution_count": 381,
   "metadata": {},
   "outputs": [],
   "source": [
    "listOfpHRange = np.linspace(2,4, 21)"
   ]
  },
  {
   "cell_type": "code",
   "execution_count": 389,
   "metadata": {
    "collapsed": true
   },
   "outputs": [
    {
     "name": "stdout",
     "output_type": "stream",
     "text": [
      "The probability that redissolution will occur for pH range 2.0 to 2.1 is: 0.0\n",
      "The probability that redissolution will occur for pH range 2.1 to 2.2 is: 0.0\n",
      "The probability that redissolution will occur for pH range 2.2 to 2.3 is: 0.5\n",
      "The probability that redissolution will occur for pH range 2.3 to 2.4 is: 0.1\n",
      "The probability that redissolution will occur for pH range 2.4 to 2.5 is: 0.8733624454148472\n",
      "The probability that redissolution will occur for pH range 2.5 to 2.6 is: 0.5490196078431373\n",
      "The probability that redissolution will occur for pH range 2.6 to 2.7 is: 0.5611111111111111\n",
      "The probability that redissolution will occur for pH range 2.7 to 2.8 is: 0.4689989608590232\n",
      "The probability that redissolution will occur for pH range 2.8 to 2.9 is: 0.163209992929531\n",
      "The probability that redissolution will occur for pH range 2.9 to 3.0 is: 0.1254396248534584\n",
      "The probability that redissolution will occur for pH range 3.0 to 3.1 is: 0.17085773337926283\n",
      "The probability that redissolution will occur for pH range 3.1 to 3.2 is: 0.18225419664268586\n",
      "The probability that redissolution will occur for pH range 3.2 to 3.3 is: 0.25\n",
      "The probability that redissolution will occur for pH range 3.3 to 3.4 is: 0.0\n",
      "The probability that redissolution will occur for pH range 3.4 to 3.5 is: 0.0\n",
      "The probability that redissolution will occur for pH range 3.5 to 3.6 is: nan\n",
      "The probability that redissolution will occur for pH range 3.6 to 3.7 is: 0.0\n",
      "The probability that redissolution will occur for pH range 3.7 to 3.8 is: nan\n",
      "The probability that redissolution will occur for pH range 3.8 to 3.9 is: 0.0\n",
      "The probability that redissolution will occur for pH range 3.9 to 4.0 is: 0.0\n",
      "The probability that redissolution will occur for pH range 4.0 to 4.1 is: nan\n"
     ]
    },
    {
     "name": "stderr",
     "output_type": "stream",
     "text": [
      "C:\\ProgramData\\Anaconda3\\lib\\site-packages\\ipykernel_launcher.py:4: RuntimeWarning: invalid value encountered in longlong_scalars\n",
      "  after removing the cwd from sys.path.\n"
     ]
    }
   ],
   "source": [
    "# computing the probabilities of redissolution based on number of occurrence [pH60]\n",
    "\n",
    "for pH in listOfpHRange:\n",
    "    pH60_104_range = DF_NTRL_TK0513_MSTK01_intrpltd[(DF_NTRL_TK0513_MSTK01_intrpltd['104_pH60']> pH) & (DF_NTRL_TK0513_MSTK01_intrpltd['104_pH60']<=pH+0.1)]\n",
    "    pH60_104_range_with_RD = pH60_104_range[pH60_104_range['Zn_drop_act']<=0]\n",
    "    print('The probability that redissolution will occur for pH range {} to {} is: {}'.format(pH.round(2), (pH+0.1).round(2), pH60_104_range_with_RD.count()[-1]/pH60_104_range.count()[-1].round(4)))\n",
    "    pHList.append(pH)\n",
    "    "
   ]
  },
  {
   "cell_type": "code",
   "execution_count": 504,
   "metadata": {
    "collapsed": true
   },
   "outputs": [
    {
     "data": {
      "text/plain": [
       "Index(['104_Pb', '104_Zn', '104_Cu', '104_Ni', '104_Co', '104_Fe', '104_Mn',\n",
       "       '104_Cr', '104_Ca', '104_Si', '104_Al', '104_Mg', '104_Fe2', '104_pH60',\n",
       "       '104_ORP', '104_NTU', '104_Ft', 'tk13_Zn', 'tk13_solids%', 'Zn_drop',\n",
       "       'tk05_Al', 'tk05_Ca', 'tk05_Co', 'tk05_Cr', 'tk05_Cu', 'tk05_Fe',\n",
       "       'tk05_Mg', 'tk05_Mn', 'tk05_Ni', 'tk05_Pb', 'tk05_Si', 'tk05_Zn',\n",
       "       'DeZn_Feed_Flow', 'DeZn_Feed_T', 'H2S_FT_TK01_A', 'H2S_FT_TK01_B',\n",
       "       'H2S_FT_TK02_A', 'H2S_FT_TK02_B', 'DeZn_Seed_Flow', 'DeZn_TK05_T',\n",
       "       'H2S_tk01', 'H2S_tk02', 'Zn_drop_act', '104_AlMg_ratio',\n",
       "       '104_FeNi_ratio', '104_FeZn_ratio'],\n",
       "      dtype='object')"
      ]
     },
     "execution_count": 504,
     "metadata": {},
     "output_type": "execute_result"
    }
   ],
   "source": [
    "DF_NTRL_TK0513_MSTK01_intrpltd.columns"
   ]
  },
  {
   "cell_type": "code",
   "execution_count": 516,
   "metadata": {
    "collapsed": true
   },
   "outputs": [
    {
     "name": "stdout",
     "output_type": "stream",
     "text": [
      "The probability that redissolution will occur for pH range 0.0 to 0.2 is: 0.0\n",
      "The probability that redissolution will occur for pH range 0.2 to 0.4 is: 0.040281579976535004\n",
      "The probability that redissolution will occur for pH range 0.4 to 0.6 is: 0.20362072055924002\n",
      "The probability that redissolution will occur for pH range 0.6 to 0.8 is: 0.207223113964687\n",
      "The probability that redissolution will occur for pH range 0.8 to 1.0 is: 0.31905195989061075\n",
      "The probability that redissolution will occur for pH range 1.0 to 1.2 is: 0.2051220679751077\n",
      "The probability that redissolution will occur for pH range 1.2 to 1.4 is: 0.10850286906624934\n",
      "The probability that redissolution will occur for pH range 1.4 to 1.6 is: 0.080370942812983\n",
      "The probability that redissolution will occur for pH range 1.6 to 1.8 is: 0.06493506493506493\n",
      "The probability that redissolution will occur for pH range 1.8 to 2.0 is: 0.0\n",
      "The probability that redissolution will occur for pH range 2.0 to 2.2 is: 0.0\n"
     ]
    }
   ],
   "source": [
    "# computing the probabilities of redissolution based on number of occurrence [AlMg]\n",
    "listOfAlMg = np.linspace(0,2, 11)\n",
    "AlMgList = []\n",
    "for AlMg in listOfAlMg:\n",
    "    AlMg_104_range = DF_NTRL_TK0513_MSTK01_intrpltd[(DF_NTRL_TK0513_MSTK01_intrpltd['104_AlMg_ratio']> AlMg) & (DF_NTRL_TK0513_MSTK01_intrpltd['104_AlMg_ratio']<=AlMg+0.2)]\n",
    "    AlMg_104_range_with_RD = AlMg_104_range[AlMg_104_range['Zn_drop_act']<=0]\n",
    "    print('The probability that redissolution will occur for pH range {} to {} is: {}'.format(AlMg.round(2), (AlMg+0.2).round(2), AlMg_104_range_with_RD.count()[-1]/AlMg_104_range.count()[-1].round(4)))\n",
    "    AlMgList.append(AlMg)   "
   ]
  },
  {
   "cell_type": "code",
   "execution_count": 537,
   "metadata": {
    "collapsed": true
   },
   "outputs": [
    {
     "data": {
      "text/plain": [
       "array([0.  , 0.05, 0.1 , 0.15, 0.2 , 0.25, 0.3 , 0.35, 0.4 , 0.45, 0.5 ,\n",
       "       0.55, 0.6 ])"
      ]
     },
     "execution_count": 537,
     "metadata": {},
     "output_type": "execute_result"
    }
   ],
   "source": [
    "listOfFeNi = np.linspace(0,0.6, 13)\n",
    "listOfFeNi"
   ]
  },
  {
   "cell_type": "code",
   "execution_count": 538,
   "metadata": {
    "collapsed": true
   },
   "outputs": [
    {
     "name": "stdout",
     "output_type": "stream",
     "text": [
      "The probability that redissolution will occur for FeNi range 0.0 to 0.05 is: 0.0\n",
      "The probability that redissolution will occur for FeNi range 0.05 to 0.1 is: 0.8785046728971962\n",
      "The probability that redissolution will occur for FeNi range 0.1 to 0.15 is: 0.41275797373358347\n",
      "The probability that redissolution will occur for FeNi range 0.15 to 0.2 is: 0.4671726755218216\n",
      "The probability that redissolution will occur for FeNi range 0.2 to 0.25 is: 0.20637979019481908\n",
      "The probability that redissolution will occur for FeNi range 0.25 to 0.3 is: 0.06659447753113157\n",
      "The probability that redissolution will occur for FeNi range 0.3 to 0.35 is: 0.16484607745779542\n",
      "The probability that redissolution will occur for FeNi range 0.35 to 0.4 is: 0.29030154849225753\n",
      "The probability that redissolution will occur for FeNi range 0.4 to 0.45 is: 0.16718266253869968\n",
      "The probability that redissolution will occur for FeNi range 0.45 to 0.5 is: 0.16163349347975292\n",
      "The probability that redissolution will occur for FeNi range 0.5 to 0.55 is: 0.03115264797507788\n",
      "The probability that redissolution will occur for FeNi range 0.55 to 0.6 is: 0.017377567140600316\n",
      "The probability that redissolution will occur for FeNi range 0.6 to 0.65 is: 0.019672131147540985\n"
     ]
    }
   ],
   "source": [
    "# computing the probabilities of redissolution based on number of occurrence [FeNi]\n",
    "FeNiList = []\n",
    "for FeNi in listOfFeNi:\n",
    "    FeNi_104_range = DF_NTRL_TK0513_MSTK01_intrpltd[(DF_NTRL_TK0513_MSTK01_intrpltd['104_FeNi_ratio']> FeNi) & (DF_NTRL_TK0513_MSTK01_intrpltd['104_FeNi_ratio']<=FeNi+0.05)]\n",
    "    FeNi_104_range_with_RD = FeNi_104_range[FeNi_104_range['Zn_drop_act']<=0]\n",
    "    print('The probability that redissolution will occur for FeNi range {} to {} is: {}'.format(FeNi.round(2), (FeNi+0.05).round(2), FeNi_104_range_with_RD.count()[-1]/FeNi_104_range.count()[-1].round(4)))\n",
    "    FeNiList.append(FeNi)   "
   ]
  },
  {
   "cell_type": "code",
   "execution_count": null,
   "metadata": {},
   "outputs": [],
   "source": []
  },
  {
   "cell_type": "code",
   "execution_count": null,
   "metadata": {},
   "outputs": [],
   "source": [
    "from sklearn.neighbors import KernelDensity\n",
    "\n",
    "#convert the FeZn_104_withRedissoltn data to a form acceptable by the sklearn by doing this:\n",
    "pH60_104_withRedissoltn_data = np.array(pH60_104_withRedissoltn.dropna()).reshape(-1,1)\n",
    "pH60_104_withOutRedissoltn_data = np.array(pH60_104_withOutRedissoltn.dropna()).reshape(-1,1)\n",
    "\n",
    "#create a KernelDensity using the sklearn\n",
    "kd_pH60_104_withRedissoltn = KernelDensity(kernel='gaussian', bandwidth=0.5).fit(pH60_104_withRedissoltn_data)\n",
    "kd_pH60_104_withOutRedissoltn = KernelDensity(kernel='gaussian', bandwidth=0.5).fit(pH60_104_withOutRedissoltn_data)    \n",
    "\n",
    "def get_probability(start_value, end_value, eval_points, kd): #-----------------------------------function that computes the probability under a kernel density curve from a given KernelDensity\n",
    "    \n",
    "    # Number of evaluation points \n",
    "    N = eval_points                                      \n",
    "    step = (end_value - start_value) / (N - 1)  # Step size\n",
    "\n",
    "    x = np.linspace(start_value, end_value, N)[:, np.newaxis]  # Generate values in the range\n",
    "    kd_vals = np.exp(kd.score_samples(x))  # Get PDF values for each x\n",
    "    probability = np.sum(kd_vals * step)  # Approximate the integral of the PDF\n",
    "    return probability.round(4)\n",
    "\n",
    "\n",
    "#print out the results\n",
    "print('The pH60 range 2.75 to 3.0 in NTRL make up {}% of the dataset when Redissolution occurred'.format(get_probability(2.75,3.0, 200,kd_pH60_104_withRedissoltn)*100))\n",
    "print('The pH60 range 2.75 to 3.0 in NTRL make up {}% of the dataset when Redissolution did NOT occur'.format(get_probability(2.75,3.0, 200,kd_pH60_104_withOutRedissoltn)*100))\n",
    "\n",
    "\n",
    "plt.close('all')\n",
    "#plot for withRedissoltn\n",
    "ax = sns.kdeplot(pH60_104_withRedissoltn, clip=(2,4), shade=False)\n",
    "line = ax.get_lines()[-1]\n",
    "x, y = line.get_data()\n",
    "mask = (x <= 3.0) & ( x > 2.75)\n",
    "x, y = x[mask], y[mask]\n",
    "ax.fill_between(x, y1=y, alpha=0.5, facecolor='lightblue')\n",
    "\n",
    "#plot for withOutRedissoltn\n",
    "ax1 = sns.kdeplot(pH60_104_withOutRedissoltn, clip=(2,4), shade=False)\n",
    "line = ax1.get_lines()[-1]\n",
    "x, y = line.get_data()\n",
    "mask = (x <= 3.0) & ( x > 2.75)\n",
    "x, y = x[mask], y[mask]\n",
    "ax1.fill_between(x, y1=y, alpha=0.5, facecolor='orange')\n",
    "\n",
    "#\n",
    "plt.legend(labels=['pH60_104_withRedissoltn','pH60_104_withOutRedissoltn'])\n",
    "plt.xlabel('pH60 at NTRL')\n",
    "plt.savefig(r'C:\\Users\\v.t.flores\\Documents\\pH60_104_Distribution_with_and_withOut_Redissolution_shaded_2.75to3.0.png')\n",
    "plt.show()\n",
    "\n",
    "\n",
    "\n"
   ]
  },
  {
   "cell_type": "code",
   "execution_count": 395,
   "metadata": {},
   "outputs": [],
   "source": []
  },
  {
   "cell_type": "code",
   "execution_count": 397,
   "metadata": {
    "collapsed": true
   },
   "outputs": [
    {
     "name": "stdout",
     "output_type": "stream",
     "text": [
      "The probability that redissolution will occur for pH range 0.0 to 1.0 is: 0.0\n",
      "The probability that redissolution will occur for pH range 1.0 to 2.0 is: 0.0\n",
      "The probability that redissolution will occur for pH range 2.0 to 3.0 is: 0.4444444444444444\n",
      "The probability that redissolution will occur for pH range 3.0 to 4.0 is: 0.8666666666666667\n",
      "The probability that redissolution will occur for pH range 4.0 to 5.0 is: 0.6301369863013698\n",
      "The probability that redissolution will occur for pH range 5.0 to 6.0 is: 0.3893129770992366\n",
      "The probability that redissolution will occur for pH range 6.0 to 7.0 is: 0.32432432432432434\n",
      "The probability that redissolution will occur for pH range 7.0 to 8.0 is: 0.35568862275449104\n",
      "The probability that redissolution will occur for pH range 8.0 to 9.0 is: 0.45938864628820963\n",
      "The probability that redissolution will occur for pH range 9.0 to 10.0 is: 0.258147512864494\n",
      "The probability that redissolution will occur for pH range 10.0 to 11.0 is: 0.09813084112149532\n",
      "The probability that redissolution will occur for pH range 11.0 to 12.0 is: 0.08416075650118203\n",
      "The probability that redissolution will occur for pH range 12.0 to 13.0 is: 0.18128368446839785\n",
      "The probability that redissolution will occur for pH range 13.0 to 14.0 is: 0.2446351931330472\n",
      "The probability that redissolution will occur for pH range 14.0 to 15.0 is: 0.15940870954854175\n",
      "The probability that redissolution will occur for pH range 15.0 to 16.0 is: 0.2862440997977074\n",
      "The probability that redissolution will occur for pH range 16.0 to 17.0 is: 0.17401215805471124\n",
      "The probability that redissolution will occur for pH range 17.0 to 18.0 is: 0.2780454232622161\n",
      "The probability that redissolution will occur for pH range 18.0 to 19.0 is: 0.08270676691729323\n",
      "The probability that redissolution will occur for pH range 19.0 to 20.0 is: 0.0546875\n",
      "The probability that redissolution will occur for pH range 20.0 to 21.0 is: 0.04535398230088496\n",
      "The probability that redissolution will occur for pH range 21.0 to 22.0 is: 0.01579778830963665\n",
      "The probability that redissolution will occur for pH range 22.0 to 23.0 is: 0.015424164524421594\n",
      "The probability that redissolution will occur for pH range 23.0 to 24.0 is: 0.014792899408284023\n",
      "The probability that redissolution will occur for pH range 24.0 to 25.0 is: 0.009852216748768473\n",
      "The probability that redissolution will occur for pH range 25.0 to 26.0 is: 0.01904761904761905\n",
      "The probability that redissolution will occur for pH range 26.0 to 27.0 is: 0.015151515151515152\n",
      "The probability that redissolution will occur for pH range 27.0 to 28.0 is: 0.06\n",
      "The probability that redissolution will occur for pH range 28.0 to 29.0 is: 0.06\n",
      "The probability that redissolution will occur for pH range 29.0 to 30.0 is: 0.045454545454545456\n",
      "The probability that redissolution will occur for pH range 30.0 to 31.0 is: 0.0\n"
     ]
    }
   ],
   "source": [
    "listOfFeZn = np.linspace(0,30, 31)\n",
    "for FeZn in listOfFeZn:\n",
    "    FeZn_104_range = DF_NTRL_TK0513_MSTK01_intrpltd[(DF_NTRL_TK0513_MSTK01_intrpltd['104_FeZn_ratio']> FeZn) & (DF_NTRL_TK0513_MSTK01_intrpltd['104_FeZn_ratio']<=FeZn+1.0)]\n",
    "    FeZn_104_range_with_RD = FeZn_104_range[FeZn_104_range['Zn_drop_act']<=0]\n",
    "    print('The probability that redissolution will occur for pH range {} to {} is: {}'.format(FeZn.round(2), (FeZn+1.0).round(2), FeZn_104_range_with_RD.count()[-1]/FeZn_104_range.count()[-1].round(4)))\n",
    "    "
   ]
  },
  {
   "cell_type": "code",
   "execution_count": 406,
   "metadata": {},
   "outputs": [
    {
     "name": "stdout",
     "output_type": "stream",
     "text": [
      "The probability that redissolution will occur for FeZn_104_range 10 to 13 is: 0.12039390088945362\n"
     ]
    }
   ],
   "source": [
    "# Compute the probability of redissolution by counting the total number of redissolution occurence while under the specific FeZn ratio divided  by the total number of \n",
    "# occurence when the FeZn ration values where in the specific range\n",
    "\n",
    "FeZn_104_range = DF_NTRL_TK0513_MSTK01_intrpltd[(DF_NTRL_TK0513_MSTK01_intrpltd['104_FeZn_ratio']> 10) & (DF_NTRL_TK0513_MSTK01_intrpltd['104_FeZn_ratio']<= 13)]\n",
    "FeZn_104_range_with_RD = FeZn_104_range[FeZn_104_range['Zn_drop_act']<=0]\n",
    "print('The probability that redissolution will occur for FeZn_104_range {} to {} is: {}'.format(10, 13, FeZn_104_range_with_RD.count()[-1]/FeZn_104_range.count()[-1].round(4)))\n",
    "    "
   ]
  },
  {
   "cell_type": "code",
   "execution_count": 407,
   "metadata": {
    "collapsed": true
   },
   "outputs": [
    {
     "name": "stdout",
     "output_type": "stream",
     "text": [
      "The number of instances FeZn_104_withRedissoltn : 6546\n",
      "The number of instances FeZN_104_withOutRedissoltn : 25821\n"
     ]
    },
    {
     "name": "stderr",
     "output_type": "stream",
     "text": [
      "C:\\ProgramData\\Anaconda3\\lib\\site-packages\\statsmodels\\nonparametric\\kde.py:447: RuntimeWarning: invalid value encountered in greater\n",
      "  X = X[np.logical_and(X > clip[0], X < clip[1])] # won't work for two columns.\n",
      "C:\\ProgramData\\Anaconda3\\lib\\site-packages\\statsmodels\\nonparametric\\kde.py:447: RuntimeWarning: invalid value encountered in less\n",
      "  X = X[np.logical_and(X > clip[0], X < clip[1])] # won't work for two columns.\n"
     ]
    },
    {
     "data": {
      "image/png": "[encoded data removed]",
      "text/plain": [
       "<Figure size 432x288 with 1 Axes>"
      ]
     },
     "metadata": {
      "needs_background": "light"
     },
     "output_type": "display_data"
    },
    {
     "name": "stdout",
     "output_type": "stream",
     "text": [
      "The FeZn ratio range 10 to 13 in NTRL make up 13.950000000000001% of the dataset when Redissolution occurred\n",
      "The FeZn ratio range 10 to 13 in NTRL make up 21.46% of the dataset when Redissolution did NOT occur\n"
     ]
    }
   ],
   "source": [
    "FeZn_104_withRedissoltn = DF_NTRL_TK0513_MSTK01_intrpltd[DF_NTRL_TK0513_MSTK01_intrpltd['Zn_drop_act']<=0]['104_FeZn_ratio']\n",
    "FeZn_104_withOutRedissoltn = DF_NTRL_TK0513_MSTK01_intrpltd[DF_NTRL_TK0513_MSTK01_intrpltd['Zn_drop_act']>0]['104_FeZn_ratio']\n",
    "\n",
    "print('The number of instances FeZn_104_withRedissoltn : {}'.format(FeZn_104_withRedissoltn.count()))\n",
    "print('The number of instances FeZN_104_withOutRedissoltn : {}'.format(FeZn_104_withOutRedissoltn.count()))\n",
    "\n",
    "\n",
    "#convert the FeZn_104_withRedissoltn data to a form acceptable by the sklearn by doing this:\n",
    "FeZn_104_withRedissoltn_data = np.array(FeZn_104_withRedissoltn.dropna()).reshape(-1,1)\n",
    "FeZn_104_withOutRedissoltn_data = np.array(FeZn_104_withOutRedissoltn.dropna()).reshape(-1,1)\n",
    "\n",
    "#create a KernelDensity using the sklearn\n",
    "kd_FeZn_104_withRedissoltn = KernelDensity(kernel='gaussian', bandwidth=0.5).fit(FeZn_104_withRedissoltn_data)\n",
    "kd_FeZn_104_withOutRedissoltn = KernelDensity(kernel='gaussian', bandwidth=0.5).fit(FeZn_104_withOutRedissoltn_data)    \n",
    "\n",
    "\n",
    "def get_probability(start_value, end_value, eval_points, kd): #-----------------------------------function that computes the probability under a kernel density curve from a given KernelDensity\n",
    "    \n",
    "    # Number of evaluation points \n",
    "    N = eval_points                                      \n",
    "    step = (end_value - start_value) / (N - 1)  # Step size\n",
    "\n",
    "    x = np.linspace(start_value, end_value, N)[:, np.newaxis]  # Generate values in the range\n",
    "    kd_vals = np.exp(kd.score_samples(x))  # Get PDF values for each x\n",
    "    probability = np.sum(kd_vals * step)  # Approximate the integral of the PDF\n",
    "    return probability.round(4)\n",
    "\n",
    "plt.close('all')\n",
    "\n",
    "ax = sns.kdeplot(FeZn_104_withRedissoltn, clip=(0,50), shade=False)\n",
    "\n",
    "line = ax.get_lines()[-1]\n",
    "x, y = line.get_data()\n",
    "mask = (x > 10) & (x <= 13)\n",
    "x, y = x[mask], y[mask]\n",
    "ax.fill_between(x, y1=y, alpha=0.5, facecolor='lightblue')\n",
    "\n",
    "ax = sns.kdeplot(FeZn_104_withOutRedissoltn, clip=(0,50), shade=False)\n",
    "line = ax.get_lines()[-1]\n",
    "x, y = line.get_data()\n",
    "mask = (x > 10) & (x <= 13)\n",
    "x, y = x[mask], y[mask]\n",
    "ax.fill_between(x, y1=y, alpha=0.5, facecolor='orange')\n",
    "\n",
    "#\n",
    "plt.legend(labels=['FeZn_104_withRedissoltn','FeZn_104_withOutRedissoltn'])\n",
    "plt.xlabel('Fe/Zn at NTRL')\n",
    "plt.title('FeZn_104_Distribution_with_and_\\nwithOut_Redissolution 2017 to 2020')\n",
    "plt.savefig(r'C:\\Users\\v.t.flores\\Documents\\FeZn_104_Distribution_with_and_withOut_Redissolution_shaded10to13.png')\n",
    "plt.show()\n",
    "\n",
    "print('The FeZn ratio range 10 to 13 in NTRL make up {}% of the dataset when Redissolution occurred'.format(get_probability(10,13, 200,kd_FeZn_104_withRedissoltn)*100))\n",
    "print('The FeZn ratio range 10 to 13 in NTRL make up {}% of the dataset when Redissolution did NOT occur'.format(get_probability(10,13, 200,kd_FeZn_104_withOutRedissoltn)*100))"
   ]
  },
  {
   "cell_type": "code",
   "execution_count": 473,
   "metadata": {},
   "outputs": [],
   "source": [
    "def createDistPlotShaded(df_column1, df_column2, clipStart, clipEnd, x_rangeStart, x_rangeEnd, kde1_name, kde2_name, xLabel, pltTitle, fileAddress):\n",
    "\n",
    "    #create the distplot and the shaded area\n",
    "    plt.close('all')\n",
    "    #create the first kde plot\n",
    "    rcParams['figure.figsize'] = 10, 7\n",
    "    ax = sns.kdeplot(df_column1, clip=(clipStart,clipEnd), shade=False)\n",
    "\n",
    "    line = ax.get_lines()[-1]\n",
    "    x, y = line.get_data()\n",
    "    mask = (x > x_rangeStart) & (x <= x_rangeEnd)\n",
    "    x, y = x[mask], y[mask]\n",
    "    ax.fill_between(x, y1=y, alpha=0.5, facecolor='lightblue')\n",
    "\n",
    "    #create the second kde plot on the same chart as the first kde plot\n",
    "    ax = sns.kdeplot(df_column2, clip=(clipStart,clipEnd), shade=False)\n",
    "    line = ax.get_lines()[-1]\n",
    "    x, y = line.get_data()\n",
    "    mask = (x > x_rangeStart) & (x <= x_rangeEnd)\n",
    "    x, y = x[mask], y[mask]\n",
    "    ax.fill_between(x, y1=y, alpha=0.3, facecolor='orange')\n",
    "    #\n",
    "    plt.legend(labels=[kde1_name,kde2_name])\n",
    "    plt.xlabel(xLabel)\n",
    "    plt.title(pltTitle)\n",
    "    \n",
    "    if fileAddress == None:\n",
    "        pass\n",
    "    else:\n",
    "        plt.savefig(fileAddress)\n"
   ]
  },
  {
   "cell_type": "code",
   "execution_count": 484,
   "metadata": {},
   "outputs": [],
   "source": [
    "def get_probability(start_value, end_value, eval_points, kd): #-----------------------------------function that computes the probability under a kernel density curve from a given KernelDensity\n",
    "    \n",
    "    # Number of evaluation points \n",
    "    N = eval_points                                      \n",
    "    step = (end_value - start_value) / (N - 1)  # Step size\n",
    "\n",
    "    x = np.linspace(start_value, end_value, N)[:, np.newaxis]  # Generate values in the range\n",
    "    kd_vals = np.exp(kd.score_samples(x))  # Get PDF values for each x\n",
    "    probability = np.sum(kd_vals * step)  # Approximate the integral of the PDF\n",
    "    return probability.round(4)\n",
    "\n",
    "def reportPercentOfTheDataSet(df_column1, rangeStart, rangeEnd, ParameterName):\n",
    "        #convert the FeZn_104_withRedissoltn data to a form acceptable by the sklearn by doing this:\n",
    "    df_column1_data = np.array(df_column1.dropna()).reshape(-1,1)\n",
    "\n",
    "    #create a KernelDensity using the sklearn\n",
    "    kd_column1_data = KernelDensity(kernel='gaussian', bandwidth=0.5).fit(df_column1_data)\n",
    "    \n",
    "    print('The {} range {} to {} in NTRL make up {}% of the dataset'.format(ParameterName, rangeStart, rangeEnd, (get_probability(rangeStart,rangeEnd, 1000,kd_column1_data)*100).round(4)))"
   ]
  },
  {
   "cell_type": "code",
   "execution_count": 474,
   "metadata": {
    "collapsed": true
   },
   "outputs": [
    {
     "data": {
      "image/png": "[encoded data removed]",
      "text/plain": [
       "<Figure size 720x504 with 1 Axes>"
      ]
     },
     "metadata": {
      "needs_background": "light"
     },
     "output_type": "display_data"
    }
   ],
   "source": [
    "#Create a distplot for FeZn Ratio for with and without Zn redissolution cases\n",
    "\n",
    "df_column1 = FeZn_104_withRedissoltn\n",
    "df_column2 = FeZn_104_withOutRedissoltn\n",
    "clipStart = 0\n",
    "clipEnd = 50\n",
    "x_rangeStart = 10\n",
    "x_rangeEnd = 13\n",
    "kde1_name = 'FeZn_104_withRedissoltn'\n",
    "kde2_name = 'FeZn_104_withOutRedissoltn'\n",
    "xLabel = 'Fe/Zn at NTRL'\n",
    "pltTitle = 'FeZn_104_Distribution_with_and_\\nwithOut_Redissolution 2017 to 2020'\n",
    "#fileAddress = r'C:\\Users\\v.t.flores\\Documents\\testPlot2.png'\n",
    "fileAddress = None\n",
    "    \n",
    "createDistPlotShaded(df_column1, df_column2, clipStart, clipEnd, x_rangeStart, x_rangeEnd, kde1_name, kde2_name, xLabel, pltTitle, fileAddress)"
   ]
  },
  {
   "cell_type": "code",
   "execution_count": 460,
   "metadata": {
    "collapsed": true
   },
   "outputs": [
    {
     "name": "stdout",
     "output_type": "stream",
     "text": [
      "The FeZn ratio range 10 to 13 in NTRL make up 13.95% of the dataset\n",
      "The FeZn ratio range 0 to 20 in NTRL make up 98.86% of the dataset\n"
     ]
    }
   ],
   "source": [
    "x_rangeStart = 10\n",
    "x_rangeEnd = 13\n",
    "\n",
    "\n",
    "#Report the fraction of the data inside the shaded region. In this case, the entire dataset for FeZn ratio where zinc redissolution occurred and the shaded region is the range 10 to 13 of the x-axis\n",
    "reportPercentOfTheDataSet(FeZn_104_withRedissoltn, x_rangeStart, x_rangeEnd, 'FeZn ratio')\n",
    "reportPercentOfTheDataSet(FeZn_104_withRedissoltn, 0, 20, 'FeZn ratio')"
   ]
  },
  {
   "cell_type": "code",
   "execution_count": 462,
   "metadata": {
    "collapsed": true
   },
   "outputs": [
    {
     "name": "stdout",
     "output_type": "stream",
     "text": [
      "The probability that redissolution will occur for AlMg_104_range 10 to 13 is: 0.0\n"
     ]
    }
   ],
   "source": [
    "# Compute the probability of redissolution by counting the total number of redissolution occurence while under the specific AlMg ratio divided  by the total number of \n",
    "# occurence when the AlMg ration values where in the specific range\n",
    "\n",
    "AlMg_104_range = DF_NTRL_TK0513_MSTK01_intrpltd[(DF_NTRL_TK0513_MSTK01_intrpltd['104_AlMg_ratio']> 10) & (DF_NTRL_TK0513_MSTK01_intrpltd['104_AlMg_ratio']<= 13)]\n",
    "AlMg_104_range_with_RD = AlMg_104_range[AlMg_104_range['Zn_drop_act']<=0]\n",
    "print('The probability that redissolution will occur for AlMg_104_range {} to {} is: {}'.format(10, 13, AlMg_104_range_with_RD.count()[-1]/AlMg_104_range.count()[-1].round(4)))\n",
    "    "
   ]
  },
  {
   "cell_type": "code",
   "execution_count": 539,
   "metadata": {
    "collapsed": true
   },
   "outputs": [
    {
     "data": {
      "text/plain": [
       "Index(['104_Pb', '104_Zn', '104_Cu', '104_Ni', '104_Co', '104_Fe', '104_Mn',\n",
       "       '104_Cr', '104_Ca', '104_Si', '104_Al', '104_Mg', '104_Fe2', '104_pH60',\n",
       "       '104_ORP', '104_NTU', '104_Ft', 'tk13_Zn', 'tk13_solids%', 'Zn_drop',\n",
       "       'tk05_Al', 'tk05_Ca', 'tk05_Co', 'tk05_Cr', 'tk05_Cu', 'tk05_Fe',\n",
       "       'tk05_Mg', 'tk05_Mn', 'tk05_Ni', 'tk05_Pb', 'tk05_Si', 'tk05_Zn',\n",
       "       'DeZn_Feed_Flow', 'DeZn_Feed_T', 'H2S_FT_TK01_A', 'H2S_FT_TK01_B',\n",
       "       'H2S_FT_TK02_A', 'H2S_FT_TK02_B', 'DeZn_Seed_Flow', 'DeZn_TK05_T',\n",
       "       'H2S_tk01', 'H2S_tk02', 'Zn_drop_act', '104_AlMg_ratio',\n",
       "       '104_FeNi_ratio', '104_FeZn_ratio'],\n",
       "      dtype='object')"
      ]
     },
     "execution_count": 539,
     "metadata": {},
     "output_type": "execute_result"
    }
   ],
   "source": [
    "DF_NTRL_TK0513_MSTK01_intrpltd.columns"
   ]
  },
  {
   "cell_type": "code",
   "execution_count": 579,
   "metadata": {
    "collapsed": true
   },
   "outputs": [
    {
     "name": "stdout",
     "output_type": "stream",
     "text": [
      "The probability that redissolution will occur for Fe range 0.0 to 0.25 is: 0.2. This range occurred 30 times\n",
      "The probability that redissolution will occur for Fe range 0.25 to 0.5 is: 0.0118. This range occurred 507 times\n",
      "The probability that redissolution will occur for Fe range 0.5 to 0.75 is: 0.0015. This range occurred 4036 times\n",
      "The probability that redissolution will occur for Fe range 0.75 to 1.0 is: 0.0009. This range occurred 6319 times\n",
      "The probability that redissolution will occur for Fe range 1.0 to 1.25 is: 0.0009. This range occurred 6868 times\n",
      "The probability that redissolution will occur for Fe range 1.25 to 1.5 is: 0.0008. This range occurred 7297 times\n",
      "The probability that redissolution will occur for Fe range 1.5 to 1.75 is: 0.0013. This range occurred 4510 times\n",
      "The probability that redissolution will occur for Fe range 1.75 to 2.0 is: 0.0037. This range occurred 1634 times\n",
      "The probability that redissolution will occur for Fe range 2.0 to 2.25 is: 0.0104. This range occurred 577 times\n",
      "The probability that redissolution will occur for Fe range 2.25 to 2.5 is: 0.0319. This range occurred 188 times\n",
      "The probability that redissolution will occur for Fe range 2.5 to 2.75 is: 0.0541. This range occurred 111 times\n"
     ]
    }
   ],
   "source": [
    "#Create a distplot for AlMg Ratio for with and without Zn redissolution cases\n",
    "Fe_104_withRedissoltn = DF_NTRL_TK0513_MSTK01_intrpltd[DF_NTRL_TK0513_MSTK01_intrpltd['Zn_drop_act']<=0]['104_Fe']\n",
    "Fe_104_withOutRedissoltn = DF_NTRL_TK0513_MSTK01_intrpltd[DF_NTRL_TK0513_MSTK01_intrpltd['Zn_drop_act']>0]['104_Fe']\n",
    "\n",
    "df_column1 = Fe_104_withRedissoltn\n",
    "df_column2 = Fe_104_withOutRedissoltn\n",
    "clipStart = 0\n",
    "clipEnd = 2.5\n",
    "x_rangeStart = 0.0\n",
    "x_rangeEnd = 0.0\n",
    "kde1_name = 'Fe_104_withRedissoltn'\n",
    "kde2_name = 'Fe_104_withOutRedissoltn'\n",
    "xLabel = 'Fe at NTRL'\n",
    "pltTitle = 'Fe_104_Distribution_with_and_\\nwithOut_Redissolution 2017 to 2020'\n",
    "fileAddress = r'C:\\Users\\v.t.flores\\Documents\\Fe_104_Distribution_with_and_withOut_Redissolution_test.png'\n",
    "#fileAddress = None \n",
    "    \n",
    "createDistPlotShaded(Fe_104_withRedissoltn, Fe_104_withOutRedissoltn, clipStart, clipEnd, x_rangeStart, x_rangeEnd, kde1_name, kde2_name, xLabel, pltTitle, fileAddress)\n",
    "\n",
    "\n",
    "\n",
    "# computing the probabilities of redissolution based on number of occurrence [Fe]\n",
    "listOfFe = np.linspace(0,2.5, 11)\n",
    "FeList = []\n",
    "Fe_redissltn_prob = []\n",
    "for Fe in listOfFe:\n",
    "    Fe_104_range = DF_NTRL_TK0513_MSTK01_intrpltd[(DF_NTRL_TK0513_MSTK01_intrpltd['104_Fe']> Fe) & (DF_NTRL_TK0513_MSTK01_intrpltd['104_Fe']<=Fe+0.25)]\n",
    "    Fe_104_range_with_RD = FeNi_104_range[FeNi_104_range['Zn_drop_act']<=0]\n",
    "    probability = (Fe_104_range_with_RD.count()[-1]/Fe_104_range.count()[-1]).round(4)\n",
    "    print('The probability that redissolution will occur for Fe range {} to {} is: {}. This range occurred {} times'.format(Fe.round(2), (Fe+0.25).round(2), \\\n",
    "                                                                                                                     probability, \\\n",
    "                                                                                                                      Fe_104_range.count()[-1]))\n",
    "    FeList.append(str(Fe) +\" to \"+str(Fe+.05))\n",
    "    Fe_redissltn_prob.append(probability)"
   ]
  },
  {
   "cell_type": "code",
   "execution_count": 581,
   "metadata": {},
   "outputs": [],
   "source": [
    "Fe_probability_list_pair = list(zip(FeList, Fe_redissltn_prob))\n",
    "Fe_probability_list_pair_df = pd.DataFrame(Fe_probability_list_pair)\n",
    "Fe_probability_list_pair_df_1 = Fe_probability_list_pair_df.drop(Fe_probability_list_pair_df.index[0])\n",
    "\n",
    "fileAddress = r'C:\\Users\\v.t.flores\\Documents\\Fe_104_Redissolution_probability.png'\n",
    "\n",
    "rcParams['figure.figsize'] = 12, 8\n",
    "Fe_probability_list_pair_df_1.columns = ['104_Fe_Range', 'Probability_to_Redissolve']\n",
    "ax_Fe = sns.lineplot(data=Fe_probability_list_pair_df_1, x=\"104_Fe_Range\", y=\"Probability_to_Redissolve\", marker='o')\n",
    "plt.title('Probability of Redissolution for a given Fe Range at NTRL')\n",
    "\n",
    "ax_Fe.set_xticklabels(Fe_probability_list_pair_df_1['104_Fe_Range'], rotation=45)\n",
    "plt.savefig(fileAddress)"
   ]
  },
  {
   "cell_type": "code",
   "execution_count": 585,
   "metadata": {},
   "outputs": [],
   "source": [
    "\n",
    "\n",
    "\n",
    "def createAProbabilityplot(df, colname, interval_List, increment, plot_title, columntitles, fileAddress):\n",
    "    # this creates a plot for the probability of redissolution from a range of values of parameters like pH or FeNi ratio\n",
    "    # df is the dataframe of containing all the parameters including the zn drop values. This the dataframe that will be sliced and filtered for the specific range that we're interested in\n",
    "    # colname is a string value of the column name like '104_Fe'. This will be the name used to select the column from the df.\n",
    "    # interval_List is the list of values of the parameter of interest. We will loop through this list and added by the increment value to compute the probability over a range of parameter value\n",
    "    #\n",
    "    #\n",
    "    rcParams['figure.figsize'] = 12, 8\n",
    "    listOf = interval_List\n",
    "    ParamList = []\n",
    "    Param_redissltn_prob = []\n",
    "    for Param in interval_List:\n",
    "        _104_range = df[(df[colname]> Param) & (df[colname]<=Param+increment)]\n",
    "        _104_range_with_RD = _104_range[_104_range['Zn_drop_act']<=0]\n",
    "        probability = (_104_range_with_RD.count()[-1]/_104_range.count()[-1]).round(4)\n",
    "        print('The probability that redissolution will occur for range {} to {} is: {}. This range occurred {} times'.format(Param.round(2), (Param+increment).round(2), \\\n",
    "                                                                                                                         probability, \\\n",
    "                                                                                                                          _104_range.count()[-1]))\n",
    "        ParamList.append(str(Param) +\" to \"+str(Param+increment))\n",
    "        Param_redissltn_prob.append(probability)\n",
    "                \n",
    "        _probability_list_pair = list(zip(ParamList, Param_redissltn_prob))\n",
    "    \n",
    "    probability_list_pair_df = pd.DataFrame(_probability_list_pair) #Convert the zipped list pair to a dataframe\n",
    "    probability_list_pair_df.columns = columntitles # Assign names to the columns\n",
    "    \n",
    "    ax_ = sns.lineplot(data=  probability_list_pair_df, x= columntitles[0], y= columntitles[1], marker='o')\n",
    "    plt.title(plot_title)\n",
    "\n",
    "    ax_.set_xticklabels(probability_list_pair_df[columntitles[0]], rotation=45)\n",
    "    plt.savefig(fileAddress)\n"
   ]
  },
  {
   "cell_type": "code",
   "execution_count": 595,
   "metadata": {
    "collapsed": true
   },
   "outputs": [
    {
     "name": "stdout",
     "output_type": "stream",
     "text": [
      "The probability that redissolution will occur for range 0.0 to 50.0 is: 0.1536. This range occurred 2968 times\n",
      "The probability that redissolution will occur for range 100.0 to 150.0 is: 0.2091. This range occurred 4654 times\n",
      "The probability that redissolution will occur for range 200.0 to 250.0 is: 0.4625. This range occurred 813 times\n",
      "The probability that redissolution will occur for range 300.0 to 350.0 is: 0.6645. This range occurred 465 times\n",
      "The probability that redissolution will occur for range 400.0 to 450.0 is: 0.3855. This range occurred 454 times\n",
      "The probability that redissolution will occur for range 500.0 to 550.0 is: 0.632. This range occurred 250 times\n",
      "The probability that redissolution will occur for range 600.0 to 650.0 is: 0.5035. This range occurred 141 times\n",
      "The probability that redissolution will occur for range 700.0 to 750.0 is: 0.5656. This range occurred 122 times\n",
      "The probability that redissolution will occur for range 800.0 to 850.0 is: 0.4819. This range occurred 83 times\n",
      "The probability that redissolution will occur for range 900.0 to 950.0 is: 0.5. This range occurred 32 times\n",
      "The probability that redissolution will occur for range 1000.0 to 1050.0 is: nan. This range occurred 0 times\n",
      "The probability that redissolution will occur for range 1100.0 to 1150.0 is: 0.0. This range occurred 1 times\n",
      "The probability that redissolution will occur for range 1200.0 to 1250.0 is: nan. This range occurred 0 times\n",
      "The probability that redissolution will occur for range 1300.0 to 1350.0 is: nan. This range occurred 0 times\n",
      "The probability that redissolution will occur for range 1400.0 to 1450.0 is: nan. This range occurred 0 times\n"
     ]
    },
    {
     "name": "stderr",
     "output_type": "stream",
     "text": [
      "C:\\ProgramData\\Anaconda3\\lib\\site-packages\\ipykernel_launcher.py:15: RuntimeWarning: invalid value encountered in longlong_scalars\n",
      "  from ipykernel import kernelapp as app\n"
     ]
    },
    {
     "data": {
      "image/png": "[encoded data removed]",
      "text/plain": [
       "<Figure size 864x576 with 1 Axes>"
      ]
     },
     "metadata": {
      "needs_background": "light"
     },
     "output_type": "display_data"
    }
   ],
   "source": [
    "df = DF_NTRL_TK0513_MSTK01_intrpltd\n",
    "colname = '104_NTU'\n",
    "interval_List = np.linspace(0,1400, 15)\n",
    "increment = 50\n",
    "plot_title = 'Probability of Redissolution for a given NTU Range at NTRL'\n",
    "columntitles = ['104_NTU_Range', 'Probability_to_Redissolve']\n",
    "fileAddress = r'C:\\Users\\v.t.flores\\Documents\\NTU_104_Redissolution_probability.png'\n",
    "\n",
    "createAProbabilityplot(df,colname, interval_List, increment, plot_title, columntitles,fileAddress)"
   ]
  },
  {
   "cell_type": "code",
   "execution_count": 597,
   "metadata": {
    "collapsed": true
   },
   "outputs": [
    {
     "data": {
      "image/png": "[encoded data removed]",
      "text/plain": [
       "<Figure size 720x504 with 1 Axes>"
      ]
     },
     "metadata": {
      "needs_background": "light"
     },
     "output_type": "display_data"
    }
   ],
   "source": [
    "#Create a distplot for NTU for with and without Zn redissolution cases\n",
    "\n",
    "NTU_104_withRedissoltn = DF_NTRL_TK0513_MSTK01_intrpltd[DF_NTRL_TK0513_MSTK01_intrpltd['Zn_drop_act']<=0]['104_NTU']\n",
    "NTU_104_withOutRedissoltn = DF_NTRL_TK0513_MSTK01_intrpltd[DF_NTRL_TK0513_MSTK01_intrpltd['Zn_drop_act']>0]['104_NTU']\n",
    "\n",
    "df_column1 = NTU_104_withRedissoltn\n",
    "df_column2 = NTU_104_withOutRedissoltn\n",
    "clipStart = 0\n",
    "clipEnd = 1000\n",
    "x_rangeStart = 0\n",
    "x_rangeEnd = 0.1\n",
    "kde1_name = 'NTU_104_withRedissoltn'\n",
    "kde2_name = 'NTU_104_withOutRedissoltn'\n",
    "xLabel = 'NTU at NTRL'\n",
    "pltTitle = 'NTU_104_Distribution_with_and_\\nwithOut_Redissolution 2017 to 2020'\n",
    "fileAddress = r'C:\\Users\\v.t.flores\\Documents\\NTU_104_Distribution_with_and_withOut_Redissolution.png'\n",
    "#fileAddress = None\n",
    "    \n",
    "createDistPlotShaded(df_column1, df_column2, clipStart, clipEnd, x_rangeStart, x_rangeEnd, kde1_name, kde2_name, xLabel, pltTitle, fileAddress)"
   ]
  },
  {
   "cell_type": "code",
   "execution_count": 503,
   "metadata": {
    "collapsed": true
   },
   "outputs": [
    {
     "name": "stdout",
     "output_type": "stream",
     "text": [
      "The number of instances AlMg_104_withRedissoltn : 6546\n",
      "The number of instances AlMg_104_withOutRedissoltn : 25821\n"
     ]
    },
    {
     "name": "stderr",
     "output_type": "stream",
     "text": [
      "C:\\ProgramData\\Anaconda3\\lib\\site-packages\\statsmodels\\nonparametric\\kde.py:447: RuntimeWarning: invalid value encountered in greater\n",
      "  X = X[np.logical_and(X > clip[0], X < clip[1])] # won't work for two columns.\n",
      "C:\\ProgramData\\Anaconda3\\lib\\site-packages\\statsmodels\\nonparametric\\kde.py:447: RuntimeWarning: invalid value encountered in less\n",
      "  X = X[np.logical_and(X > clip[0], X < clip[1])] # won't work for two columns.\n"
     ]
    },
    {
     "data": {
      "image/png": "[encoded data removed]",
      "text/plain": [
       "<Figure size 720x504 with 1 Axes>"
      ]
     },
     "metadata": {
      "needs_background": "light"
     },
     "output_type": "display_data"
    },
    {
     "name": "stdout",
     "output_type": "stream",
     "text": [
      "The AlMg ratio range 0 to 1 in NTRL make up 24.15% of the dataset when Redissolution occurred\n",
      "The AlMg ratio range 0 to 1 in NTRL make up 24.87% of the dataset when Redissolution did NOT occur\n"
     ]
    }
   ],
   "source": [
    "AlMg_104_withRedissoltn = DF_NTRL_TK0513_MSTK01_intrpltd[DF_NTRL_TK0513_MSTK01_intrpltd['Zn_drop_act']<=0]['104_AlMg_ratio']\n",
    "AlMg_104_withOutRedissoltn = DF_NTRL_TK0513_MSTK01_intrpltd[DF_NTRL_TK0513_MSTK01_intrpltd['Zn_drop_act']>0]['104_AlMg_ratio']\n",
    "\n",
    "print('The number of instances AlMg_104_withRedissoltn : {}'.format(AlMg_104_withRedissoltn.count()))\n",
    "print('The number of instances AlMg_104_withOutRedissoltn : {}'.format(AlMg_104_withOutRedissoltn.count()))\n",
    "\n",
    "\n",
    "#convert the FeZn_104_withRedissoltn data to a form acceptable by the sklearn by doing this:\n",
    "AlMg_104_withRedissoltn_data = np.array(AlMg_104_withRedissoltn.dropna()).reshape(-1,1)\n",
    "AlMg_104_withOutRedissoltn_data = np.array(AlMg_104_withOutRedissoltn.dropna()).reshape(-1,1)\n",
    "\n",
    "#create a KernelDensity using the sklearn\n",
    "kd_AlMg_104_withRedissoltn = KernelDensity(kernel='gaussian', bandwidth=0.5).fit(AlMg_104_withRedissoltn_data)\n",
    "kd_AlMg_104_withOutRedissoltn = KernelDensity(kernel='gaussian', bandwidth=0.5).fit(AlMg_104_withOutRedissoltn_data)    \n",
    "\n",
    "\n",
    "\n",
    "\n",
    "ax = sns.kdeplot(AlMg_104_withRedissoltn, clip=(0,2), shade=False)\n",
    "\n",
    "line = ax.get_lines()[-1]\n",
    "x, y = line.get_data()\n",
    "mask = (x > 0) & (x <= .5)\n",
    "x, y = x[mask], y[mask]\n",
    "ax.fill_between(x, y1=y, alpha=0.5, facecolor='lightblue')\n",
    "\n",
    "ax = sns.kdeplot(AlMg_104_withOutRedissoltn, clip=(0,2), shade=False)\n",
    "line = ax.get_lines()[-1]\n",
    "x, y = line.get_data()\n",
    "mask = (x > 0) & (x <= .5)\n",
    "x, y = x[mask], y[mask]\n",
    "ax.fill_between(x, y1=y, alpha=0.5, facecolor='orange')\n",
    "\n",
    "#\n",
    "plt.legend(labels=['AlMg_104_withRedissoltn','AlMg_104_withOutRedissoltn'])\n",
    "plt.xlabel('Al/Mg at NTRL')\n",
    "plt.title('AlMg_104_Distribution_with_and_\\nwithOut_Redissolution 2017 to 2020')\n",
    "#plt.savefig(r'C:\\Users\\v.t.flores\\Documents\\FeZn_104_Distribution_with_and_withOut_Redissolution_shaded10to13.png')\n",
    "plt.show()\n",
    "\n",
    "print('The AlMg ratio range {} to {} in NTRL make up {}% of the dataset when Redissolution occurred'.format(0,1,get_probability(0,.5, 200,kd_AlMg_104_withRedissoltn)*100))\n",
    "print('The AlMg ratio range {} to {} in NTRL make up {}% of the dataset when Redissolution did NOT occur'.format(0,1,get_probability(0,.5, 200,kd_AlMg_104_withOutRedissoltn)*100))\n",
    "\n",
    "\n"
   ]
  },
  {
   "cell_type": "code",
   "execution_count": null,
   "metadata": {},
   "outputs": [],
   "source": []
  },
  {
   "cell_type": "code",
   "execution_count": null,
   "metadata": {},
   "outputs": [],
   "source": [
    "#Create a distplot for AlMg Ratio for with and without Zn redissolution cases\n",
    "\n",
    "df_column1 = AlMg_104_withRedissoltn\n",
    "df_column2 = AlMg_104_withOutRedissoltn\n",
    "clipStart = 0\n",
    "clipEnd = 3\n",
    "x_rangeStart = 0.0\n",
    "x_rangeEnd = .3\n",
    "kde1_name = 'AlMg_104_withRedissoltn'\n",
    "kde2_name = 'AlMg_104_withOutRedissoltn'\n",
    "xLabel = 'Al/Mg at NTRL'\n",
    "pltTitle = 'AlMg_104_Distribution_with_and_\\nwithOut_Redissolution 2017 to 2020'\n",
    "#fileAddress = r'C:\\Users\\v.t.flores\\Documents\\testPlot3AlMg.png'\n",
    "fileAddress = None \n",
    "    \n",
    "createDistPlotShaded(AlMg_104_withRedissoltn, AlMg_104_withOutRedissoltn, clipStart, clipEnd, x_rangeStart, x_rangeEnd, kde1_name, kde2_name, xLabel, pltTitle, fileAddress)\n",
    "\n",
    "#Report the fraction of the data inside the shaded region. In this case, the entire dataset for FeZn ratio where zinc redissolution occurred and the shaded region is the range 10 to 13 of the x-axis\n",
    "reportPercentOfTheDataSet(AlMg_104_withRedissoltn, x_rangeStart, x_rangeEnd, 'AlMg ratio')\n",
    "reportPercentOfTheDataSet(AlMg_104_withOutRedissoltn, x_rangeStart, x_rangeEnd, 'AlMg ratio')"
   ]
  }
 ],
 "metadata": {
  "kernelspec": {
   "display_name": "Python 3",
   "language": "python",
   "name": "python3"
  },
  "language_info": {
   "codemirror_mode": {
    "name": "ipython",
    "version": 3
   },
   "file_extension": ".py",
   "mimetype": "text/x-python",
   "name": "python",
   "nbconvert_exporter": "python",
   "pygments_lexer": "ipython3",
   "version": "3.7.4"
  }
 },
 "nbformat": 4,
 "nbformat_minor": 2
}
