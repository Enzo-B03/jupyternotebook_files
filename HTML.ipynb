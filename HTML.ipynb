{
 "cells": [
  {
   "cell_type": "markdown",
   "metadata": {},
   "source": []
  },
  {
   "cell_type": "code",
   "execution_count": 1,
   "metadata": {},
   "outputs": [
    {
     "data": {
      "text/html": [
       "<!DOCTYPE html>\n",
       "<html>\n",
       "<head>\n",
       "  <title>Ship To It - Company Packing List</title>\n",
       "  <link href=\"https://fonts.googleapis.com/css?family=Lato: 100,300,400,700|Luckiest+Guy|Oxygen:300,400\" rel=\"stylesheet\">\n",
       "  <link href=\"style.css\" type=\"text/css\" rel=\"stylesheet\">\n",
       "</head>\n",
       "<body>\n",
       "\n",
       "  <ul class=\"navigation\">\n",
       "    <li><img src=\"https://s3.amazonaws.com/codecademy-content/courses/web-101/unit-9/htmlcss1-img_logo-shiptoit.png\" height=\"20px;\"></li>\n",
       "    <li class=\"active\">Action List</li>\n",
       "    <li>Profiles</li>\n",
       "    <li>Settings</li>\n",
       "  </ul>\n",
       "\n",
       "  <div class=\"search\">Search the table</div>\n",
       "  <table>\n",
       "    <tr>\n",
       "      <td>Adam's Greenworks</td>\n",
       "      <td>14</td>\n",
       "      <td>Package Items</td>\n",
       "    </tr>\n",
       "    <tr>\n",
       "    </tr>\n",
       "\n",
       "  </table>\n",
       "\n",
       "\n",
       "</body>\n",
       "</html>\n",
       "\n"
      ],
      "text/plain": [
       "<IPython.core.display.HTML object>"
      ]
     },
     "metadata": {},
     "output_type": "display_data"
    }
   ],
   "source": [
    "%%html\n",
    "<!DOCTYPE html>\n",
    "<html>\n",
    "<head>\n",
    "  <title>Ship To It - Company Packing List</title>\n",
    "  <link href=\"https://fonts.googleapis.com/css?family=Lato: 100,300,400,700|Luckiest+Guy|Oxygen:300,400\" rel=\"stylesheet\">\n",
    "  <link href=\"style.css\" type=\"text/css\" rel=\"stylesheet\">\n",
    "</head>\n",
    "<body>\n",
    "\n",
    "  <ul class=\"navigation\">\n",
    "    <li><img src=\"https://s3.amazonaws.com/codecademy-content/courses/web-101/unit-9/htmlcss1-img_logo-shiptoit.png\" height=\"20px;\"></li>\n",
    "    <li class=\"active\">Action List</li>\n",
    "    <li>Profiles</li>\n",
    "    <li>Settings</li>\n",
    "  </ul>\n",
    "\n",
    "  <div class=\"search\">Search the table</div>\n",
    "  <table>\n",
    "    <tr>\n",
    "      <td>Adam's Greenworks</td>\n",
    "      <td>14</td>\n",
    "      <td>Package Items</td>\n",
    "    </tr>\n",
    "    <tr>\n",
    "    </tr>\n",
    "\n",
    "  </table>\n",
    "\n",
    "\n",
    "</body>\n",
    "</html>\n",
    "\n"
   ]
  },
  {
   "cell_type": "code",
   "execution_count": null,
   "metadata": {},
   "outputs": [],
   "source": []
  }
 ],
 "metadata": {
  "kernelspec": {
   "display_name": "Python 3",
   "language": "python",
   "name": "python3"
  },
  "language_info": {
   "codemirror_mode": {
    "name": "ipython",
    "version": 3
   },
   "file_extension": ".py",
   "mimetype": "text/x-python",
   "name": "python",
   "nbconvert_exporter": "python",
   "pygments_lexer": "ipython3",
   "version": "3.7.4"
  }
 },
 "nbformat": 4,
 "nbformat_minor": 2
}
