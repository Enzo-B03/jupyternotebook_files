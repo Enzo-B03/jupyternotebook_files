{
 "cells": [
  {
   "cell_type": "code",
   "execution_count": 4,
   "metadata": {},
   "outputs": [
    {
     "name": "stdout",
     "output_type": "stream",
     "text": [
      "* Warning... no image specified in Image Element! *\n",
      "Window will be a boring gray. Try adding call to change_look_and_feel('Dark Blue 3') before your layout definition\n",
      " If you seriously want this gray window and no more nagging, add  change_look_and_feel('DefaultNoMoreNagging') \n"
     ]
    }
   ],
   "source": [
    "import PySimpleGUI as sg\n",
    "\n",
    "# Very basic form.  Return values as a list\n",
    "form = sg.FlexForm('Simple data entry form')  # begin with a blank form\n",
    "\n",
    "layout = [\n",
    "          [sg.Text('Please enter your Name, Address, Phone')],\n",
    "          [sg.Text('Name', size=(15, 1)), sg.InputText('name')],\n",
    "          [sg.Text('Address', size=(15, 1)), sg.InputText('address')],\n",
    "          [sg.Text('Phone', size=(15, 1)), sg.InputText('phone')],\n",
    "          [sg.Submit(), sg.Cancel()]\n",
    "         ]\n",
    "\n",
    "button, values = form.LayoutAndRead(layout)\n",
    "\n",
    "print(button, values[0], values[1], values[2])"
   ]
  },
  {
   "cell_type": "code",
   "execution_count": 5,
   "metadata": {},
   "outputs": [
    {
     "name": "stdout",
     "output_type": "stream",
     "text": [
      "*ERROR laying out form.... Image Element has no image specified*\n"
     ]
    },
    {
     "ename": "AttributeError",
     "evalue": "module 'PySimpleGUI' has no attribute 'WIN_CLOSED'",
     "output_type": "error",
     "traceback": [
      "\u001b[1;31m---------------------------------------------------------------------------\u001b[0m",
      "\u001b[1;31mAttributeError\u001b[0m                            Traceback (most recent call last)",
      "\u001b[1;32m<ipython-input-5-f52552fed3c4>\u001b[0m in \u001b[0;36m<module>\u001b[1;34m\u001b[0m\n\u001b[0;32m      2\u001b[0m \u001b[1;32mwhile\u001b[0m \u001b[1;32mTrue\u001b[0m\u001b[1;33m:\u001b[0m\u001b[1;33m\u001b[0m\u001b[1;33m\u001b[0m\u001b[0m\n\u001b[0;32m      3\u001b[0m     \u001b[0mevent\u001b[0m\u001b[1;33m,\u001b[0m \u001b[0mvalues\u001b[0m \u001b[1;33m=\u001b[0m \u001b[0mwindow\u001b[0m\u001b[1;33m.\u001b[0m\u001b[0mread\u001b[0m\u001b[1;33m(\u001b[0m\u001b[1;33m)\u001b[0m\u001b[1;33m\u001b[0m\u001b[1;33m\u001b[0m\u001b[0m\n\u001b[1;32m----> 4\u001b[1;33m     \u001b[1;32mif\u001b[0m \u001b[0mevent\u001b[0m \u001b[1;33m==\u001b[0m \u001b[1;34m\"Exit\"\u001b[0m \u001b[1;32mor\u001b[0m \u001b[0mevent\u001b[0m \u001b[1;33m==\u001b[0m \u001b[0msg\u001b[0m\u001b[1;33m.\u001b[0m\u001b[0mWIN_CLOSED\u001b[0m\u001b[1;33m:\u001b[0m\u001b[1;33m\u001b[0m\u001b[1;33m\u001b[0m\u001b[0m\n\u001b[0m\u001b[0;32m      5\u001b[0m         \u001b[1;32mbreak\u001b[0m\u001b[1;33m\u001b[0m\u001b[1;33m\u001b[0m\u001b[0m\n\u001b[0;32m      6\u001b[0m     \u001b[1;31m# Folder name was filled in, make a list of files in the folder\u001b[0m\u001b[1;33m\u001b[0m\u001b[1;33m\u001b[0m\u001b[1;33m\u001b[0m\u001b[0m\n",
      "\u001b[1;31mAttributeError\u001b[0m: module 'PySimpleGUI' has no attribute 'WIN_CLOSED'"
     ]
    }
   ],
   "source": [
    "# Run the Event Loop\n",
    "while True:\n",
    "    event, values = window.read()\n",
    "    if event == \"Exit\" or event == sg.WIN_CLOSED:\n",
    "        break\n",
    "    # Folder name was filled in, make a list of files in the folder\n",
    "    if event == \"-FOLDER-\":\n",
    "        folder = values[\"-FOLDER-\"]\n",
    "        try:\n",
    "            # Get list of files in folder\n",
    "            file_list = os.listdir(folder)\n",
    "        except:\n",
    "            file_list = []\n",
    "\n",
    "        fnames = [\n",
    "            f\n",
    "            for f in file_list\n",
    "            if os.path.isfile(os.path.join(folder, f))\n",
    "            and f.lower().endswith((\".png\", \".gif\"))\n",
    "        ]\n",
    "        window[\"-FILE LIST-\"].update(fnames)\n",
    "    elif event == \"-FILE LIST-\":  # A file was chosen from the listbox\n",
    "        try:\n",
    "            filename = os.path.join(\n",
    "                values[\"-FOLDER-\"], values[\"-FILE LIST-\"][0]\n",
    "            )\n",
    "            window[\"-TOUT-\"].update(filename)\n",
    "            window[\"-IMAGE-\"].update(filename=filename)\n",
    "\n",
    "        except:\n",
    "            pass\n",
    "\n",
    "window.close()"
   ]
  },
  {
   "cell_type": "code",
   "execution_count": null,
   "metadata": {},
   "outputs": [],
   "source": [
    "import PySimpleGUI as sg\n",
    "\n",
    "sg.ChangeLookAndFeel('GreenTan')\n",
    "\n",
    "form = sg.FlexForm('Everything bagel', default_element_size=(40, 1))\n",
    "\n",
    "column1 = [[sg.Text('Column 1', background_color='#d3dfda', justification='center', size=(10,1))],\n",
    "           [sg.Spin(values=('Spin Box 1', '2', '3'), initial_value='Spin Box 1')],\n",
    "           [sg.Spin(values=('Spin Box 1', '2', '3'), initial_value='Spin Box 2')],\n",
    "           [sg.Spin(values=('Spin Box 1', '2', '3'), initial_value='Spin Box 3')]]\n",
    "layout = [\n",
    "    [sg.Text('All graphic widgets in one form!', size=(30, 1), font=(\"Helvetica\", 25))],\n",
    "    [sg.Text('Here is some text.... and a place to enter text')],\n",
    "    [sg.InputText('This is my text')],\n",
    "    [sg.Checkbox('My first checkbox!'), sg.Checkbox('My second checkbox!', default=True)],\n",
    "    [sg.Radio('My first Radio!     ', \"RADIO1\", default=True), sg.Radio('My second Radio!', \"RADIO1\")],\n",
    "    [sg.Multiline(default_text='This is the default Text should you decide not to type anything', size=(35, 3)),\n",
    "     sg.Multiline(default_text='A second multi-line', size=(35, 3))],\n",
    "    [sg.InputCombo(('Combobox 1', 'Combobox 2'), size=(20, 3)),\n",
    "     sg.Slider(range=(1, 100), orientation='h', size=(34, 20), default_value=85)],\n",
    "    [sg.Listbox(values=('Listbox 1', 'Listbox 2', 'Listbox 3'), size=(30, 3)),\n",
    "     sg.Slider(range=(1, 100), orientation='v', size=(5, 20), default_value=25),\n",
    "     sg.Slider(range=(1, 100), orientation='v', size=(5, 20), default_value=75),\n",
    "     sg.Slider(range=(1, 100), orientation='v', size=(5, 20), default_value=10),\n",
    "     sg.Column(column1, background_color='#d3dfda')],\n",
    "    [sg.Text('_'  * 80)],\n",
    "    [sg.Text('Choose A Folder', size=(35, 1))],\n",
    "    [sg.Text('Your Folder', size=(15, 1), auto_size_text=False, justification='right'),\n",
    "     sg.InputText('Default Folder'), sg.FolderBrowse()],\n",
    "    [sg.Submit(), sg.Cancel()]\n",
    "     ]\n",
    "\n",
    "button, values = form.Layout(layout).Read()\n",
    "#sg.MsgBox(button, values)\n",
    "sg.PopUp(button, values)"
   ]
  },
  {
   "cell_type": "code",
   "execution_count": 1,
   "metadata": {},
   "outputs": [
    {
     "name": "stdout",
     "output_type": "stream",
     "text": [
      "Window will be a boring gray. Try adding call to change_look_and_feel('Dark Blue 3') before your layout definition\n",
      " If you seriously want this gray window and no more nagging, add  change_look_and_feel('DefaultNoMoreNagging') \n",
      "Pressed button 1\n",
      "Pressed button 2\n"
     ]
    }
   ],
   "source": [
    "import PySimpleGUI as sg\n",
    "\n",
    "def func(message):\n",
    "    print(message)\n",
    "\n",
    "layout = [[sg.Button('Check Filter time Parameter'), sg.Button('2'), sg.Exit()] ]\n",
    "\n",
    "window = sg.Window('ORIGINAL').Layout(layout)\n",
    "\n",
    "while True:             # Event Loop\n",
    "    event, values = window.Read()\n",
    "    if event in (None, 'Exit'):\n",
    "        break\n",
    "    if event == '1':\n",
    "        func('Pressed button 1')\n",
    "    elif event == '2':\n",
    "        func('Pressed button 2')\n",
    "window.Close()"
   ]
  },
  {
   "cell_type": "code",
   "execution_count": null,
   "metadata": {},
   "outputs": [],
   "source": []
  }
 ],
 "metadata": {
  "kernelspec": {
   "display_name": "Python 3",
   "language": "python",
   "name": "python3"
  },
  "language_info": {
   "codemirror_mode": {
    "name": "ipython",
    "version": 3
   },
   "file_extension": ".py",
   "mimetype": "text/x-python",
   "name": "python",
   "nbconvert_exporter": "python",
   "pygments_lexer": "ipython3",
   "version": "3.7.4"
  }
 },
 "nbformat": 4,
 "nbformat_minor": 2
}
